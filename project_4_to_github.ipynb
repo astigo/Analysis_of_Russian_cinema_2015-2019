{
 "cells": [
  {
   "cell_type": "markdown",
   "metadata": {
    "id": "sIfNaMOxgFyK"
   },
   "source": [
    "## Исследование данных о российском кинопрокате\n",
    "### Введение.\n",
    "В данном проекте исследуются данные о россиском кинопрокате. В рамках проекта мы рассмотрим основные параметры кинолент, влияющие на их коммерческий успех, такие как возрастные категории фильмов, жанры, длительность фильмов. Также, отдельно будет рассмотрена категория фильмов, снятых с государственной поддержкой - насколько они успешны и востребованны рынком.\n"
   ]
  },
  {
   "cell_type": "markdown",
   "metadata": {
    "id": "3bSlkCsbgFyL"
   },
   "source": [
    "### Изучение файлов и объединение датафреймов. \n"
   ]
  },
  {
   "cell_type": "markdown",
   "metadata": {},
   "source": [
    "__!!!   NB   !!!__\n",
    "\n",
    "В проекте используются датасеты из открытых источников, они подгружаются с гугл таблиц"
   ]
  },
  {
   "cell_type": "code",
   "execution_count": 1,
   "metadata": {
    "id": "dw87FlzMgFyM"
   },
   "outputs": [],
   "source": [
    "import pandas as pd\n",
    "import seaborn as sns\n",
    "import matplotlib.pyplot as plt\n",
    "import numpy as np\n",
    "import json\n",
    "from io import BytesIO\n",
    "import requests\n",
    "#Изменение ограничений на длину вывода информации\n",
    "pd.set_option('display.max_rows', 50)\n",
    "pd.set_option('display.max_columns', 50)\n",
    "pd.set_option('display.max_colwidth', 50)\n",
    "pd.options.display.float_format = '{:,.1f}'.format\n",
    "import warnings\n",
    "warnings.filterwarnings('ignore') #Много предупреждений о копировании датасетов через .loc, отключил"
   ]
  },
  {
   "cell_type": "code",
   "execution_count": 2,
   "metadata": {
    "scrolled": true
   },
   "outputs": [
    {
     "data": {
      "text/plain": [
       "'Данные о '"
      ]
     },
     "metadata": {},
     "output_type": "display_data"
    },
    {
     "data": {
      "text/html": [
       "<div>\n",
       "<style scoped>\n",
       "    .dataframe tbody tr th:only-of-type {\n",
       "        vertical-align: middle;\n",
       "    }\n",
       "\n",
       "    .dataframe tbody tr th {\n",
       "        vertical-align: top;\n",
       "    }\n",
       "\n",
       "    .dataframe thead th {\n",
       "        text-align: right;\n",
       "    }\n",
       "</style>\n",
       "<table border=\"1\" class=\"dataframe\">\n",
       "  <thead>\n",
       "    <tr style=\"text-align: right;\">\n",
       "      <th></th>\n",
       "      <th>title</th>\n",
       "      <th>puNumber</th>\n",
       "      <th>show_start_date</th>\n",
       "      <th>type</th>\n",
       "      <th>film_studio</th>\n",
       "      <th>production_country</th>\n",
       "      <th>director</th>\n",
       "      <th>producer</th>\n",
       "      <th>age_restriction</th>\n",
       "      <th>refundable_support</th>\n",
       "      <th>nonrefundable_support</th>\n",
       "      <th>budget</th>\n",
       "      <th>financing_source</th>\n",
       "      <th>ratings</th>\n",
       "      <th>genres</th>\n",
       "    </tr>\n",
       "  </thead>\n",
       "  <tbody>\n",
       "    <tr>\n",
       "      <td>0</td>\n",
       "      <td>Открытый простор</td>\n",
       "      <td>221048915</td>\n",
       "      <td>2015-11-27T12:00:00.000Z</td>\n",
       "      <td>Художественный</td>\n",
       "      <td>Тачстоун Пикчерз, Кобальт Пикчерз, Бикон Пикче...</td>\n",
       "      <td>США</td>\n",
       "      <td>Кевин Костнер</td>\n",
       "      <td>Дэвид Валдес, Кевин Костнер, Джейк Эбертс</td>\n",
       "      <td>«18+» - запрещено для детей</td>\n",
       "      <td>nan</td>\n",
       "      <td>nan</td>\n",
       "      <td>nan</td>\n",
       "      <td>NaN</td>\n",
       "      <td>7.2</td>\n",
       "      <td>боевик,драма,мелодрама</td>\n",
       "    </tr>\n",
       "    <tr>\n",
       "      <td>1</td>\n",
       "      <td>Особо важное задание</td>\n",
       "      <td>111013716</td>\n",
       "      <td>2016-09-13T12:00:00.000Z</td>\n",
       "      <td>Художественный</td>\n",
       "      <td>Киностудия \"Мосфильм\"</td>\n",
       "      <td>СССР</td>\n",
       "      <td>Е.Матвеев</td>\n",
       "      <td>NaN</td>\n",
       "      <td>«6+» - для детей старше 6 лет</td>\n",
       "      <td>nan</td>\n",
       "      <td>nan</td>\n",
       "      <td>nan</td>\n",
       "      <td>NaN</td>\n",
       "      <td>6.6</td>\n",
       "      <td>драма,военный</td>\n",
       "    </tr>\n",
       "    <tr>\n",
       "      <td>2</td>\n",
       "      <td>Особо опасен</td>\n",
       "      <td>221038416</td>\n",
       "      <td>2016-10-10T12:00:00.000Z</td>\n",
       "      <td>Художественный</td>\n",
       "      <td>Юниверсал Пикчерз, Кикстарт Продакшнз, Марк Пл...</td>\n",
       "      <td>США</td>\n",
       "      <td>Тимур Бекмамбетов</td>\n",
       "      <td>Джим Лемли, Джейсон Нетер, Марк Е.Платт, Яйн Смит</td>\n",
       "      <td>«18+» - запрещено для детей</td>\n",
       "      <td>nan</td>\n",
       "      <td>nan</td>\n",
       "      <td>nan</td>\n",
       "      <td>NaN</td>\n",
       "      <td>6.8</td>\n",
       "      <td>фантастика,боевик,триллер</td>\n",
       "    </tr>\n",
       "    <tr>\n",
       "      <td>3</td>\n",
       "      <td>Особо опасен</td>\n",
       "      <td>221026916</td>\n",
       "      <td>2016-06-10T12:00:00.000Z</td>\n",
       "      <td>Художественный</td>\n",
       "      <td>Юниверсал Пикчерз, Кикстарт Продакшнз, Марк Пл...</td>\n",
       "      <td>США</td>\n",
       "      <td>Тимур Бекмамбетов</td>\n",
       "      <td>Джим Лемли, Джейсон Нетер, Марк Е.Платт, Яйн Смит</td>\n",
       "      <td>«18+» - запрещено для детей</td>\n",
       "      <td>nan</td>\n",
       "      <td>nan</td>\n",
       "      <td>nan</td>\n",
       "      <td>NaN</td>\n",
       "      <td>6.8</td>\n",
       "      <td>фантастика,боевик,триллер</td>\n",
       "    </tr>\n",
       "    <tr>\n",
       "      <td>4</td>\n",
       "      <td>Особо опасен</td>\n",
       "      <td>221030815</td>\n",
       "      <td>2015-07-29T12:00:00.000Z</td>\n",
       "      <td>Художественный</td>\n",
       "      <td>Юниверсал Пикчерз, Кикстарт Продакшнз, Марк Пл...</td>\n",
       "      <td>США</td>\n",
       "      <td>Тимур Бекмамбетов</td>\n",
       "      <td>Джим Лемли, Джейсон Нетер, Марк Е.Платт, Яйн Смит</td>\n",
       "      <td>«18+» - запрещено для детей</td>\n",
       "      <td>nan</td>\n",
       "      <td>nan</td>\n",
       "      <td>nan</td>\n",
       "      <td>NaN</td>\n",
       "      <td>6.8</td>\n",
       "      <td>фантастика,боевик,триллер</td>\n",
       "    </tr>\n",
       "  </tbody>\n",
       "</table>\n",
       "</div>"
      ],
      "text/plain": [
       "                  title   puNumber           show_start_date            type  \\\n",
       "0      Открытый простор  221048915  2015-11-27T12:00:00.000Z  Художественный   \n",
       "1  Особо важное задание  111013716  2016-09-13T12:00:00.000Z  Художественный   \n",
       "2          Особо опасен  221038416  2016-10-10T12:00:00.000Z  Художественный   \n",
       "3          Особо опасен  221026916  2016-06-10T12:00:00.000Z  Художественный   \n",
       "4          Особо опасен  221030815  2015-07-29T12:00:00.000Z  Художественный   \n",
       "\n",
       "                                         film_studio production_country  \\\n",
       "0  Тачстоун Пикчерз, Кобальт Пикчерз, Бикон Пикче...                США   \n",
       "1                              Киностудия \"Мосфильм\"               СССР   \n",
       "2  Юниверсал Пикчерз, Кикстарт Продакшнз, Марк Пл...                США   \n",
       "3  Юниверсал Пикчерз, Кикстарт Продакшнз, Марк Пл...                США   \n",
       "4  Юниверсал Пикчерз, Кикстарт Продакшнз, Марк Пл...                США   \n",
       "\n",
       "            director                                           producer  \\\n",
       "0      Кевин Костнер          Дэвид Валдес, Кевин Костнер, Джейк Эбертс   \n",
       "1          Е.Матвеев                                                NaN   \n",
       "2  Тимур Бекмамбетов  Джим Лемли, Джейсон Нетер, Марк Е.Платт, Яйн Смит   \n",
       "3  Тимур Бекмамбетов  Джим Лемли, Джейсон Нетер, Марк Е.Платт, Яйн Смит   \n",
       "4  Тимур Бекмамбетов  Джим Лемли, Джейсон Нетер, Марк Е.Платт, Яйн Смит   \n",
       "\n",
       "                 age_restriction  refundable_support  nonrefundable_support  \\\n",
       "0    «18+» - запрещено для детей                 nan                    nan   \n",
       "1  «6+» - для детей старше 6 лет                 nan                    nan   \n",
       "2    «18+» - запрещено для детей                 nan                    nan   \n",
       "3    «18+» - запрещено для детей                 nan                    nan   \n",
       "4    «18+» - запрещено для детей                 nan                    nan   \n",
       "\n",
       "   budget financing_source ratings                     genres  \n",
       "0     nan              NaN     7.2     боевик,драма,мелодрама  \n",
       "1     nan              NaN     6.6              драма,военный  \n",
       "2     nan              NaN     6.8  фантастика,боевик,триллер  \n",
       "3     nan              NaN     6.8  фантастика,боевик,триллер  \n",
       "4     nan              NaN     6.8  фантастика,боевик,триллер  "
      ]
     },
     "metadata": {},
     "output_type": "display_data"
    },
    {
     "data": {
      "text/html": [
       "<div>\n",
       "<style scoped>\n",
       "    .dataframe tbody tr th:only-of-type {\n",
       "        vertical-align: middle;\n",
       "    }\n",
       "\n",
       "    .dataframe tbody tr th {\n",
       "        vertical-align: top;\n",
       "    }\n",
       "\n",
       "    .dataframe thead th {\n",
       "        text-align: right;\n",
       "    }\n",
       "</style>\n",
       "<table border=\"1\" class=\"dataframe\">\n",
       "  <thead>\n",
       "    <tr style=\"text-align: right;\">\n",
       "      <th></th>\n",
       "      <th>puNumber</th>\n",
       "      <th>box_office</th>\n",
       "    </tr>\n",
       "  </thead>\n",
       "  <tbody>\n",
       "    <tr>\n",
       "      <td>0</td>\n",
       "      <td>111000113</td>\n",
       "      <td>2,450.0</td>\n",
       "    </tr>\n",
       "    <tr>\n",
       "      <td>1</td>\n",
       "      <td>111000115</td>\n",
       "      <td>61,040.0</td>\n",
       "    </tr>\n",
       "    <tr>\n",
       "      <td>2</td>\n",
       "      <td>111000116</td>\n",
       "      <td>153,030,013.4</td>\n",
       "    </tr>\n",
       "    <tr>\n",
       "      <td>3</td>\n",
       "      <td>111000117</td>\n",
       "      <td>12,260,956.0</td>\n",
       "    </tr>\n",
       "    <tr>\n",
       "      <td>4</td>\n",
       "      <td>111000118</td>\n",
       "      <td>163,684,057.8</td>\n",
       "    </tr>\n",
       "  </tbody>\n",
       "</table>\n",
       "</div>"
      ],
      "text/plain": [
       "    puNumber    box_office\n",
       "0  111000113       2,450.0\n",
       "1  111000115      61,040.0\n",
       "2  111000116 153,030,013.4\n",
       "3  111000117  12,260,956.0\n",
       "4  111000118 163,684,057.8"
      ]
     },
     "metadata": {},
     "output_type": "display_data"
    }
   ],
   "source": [
    "try:\n",
    "    films = pd.read_csv('mkrf_movies.csv')#, sep=None, engine='python', encoding='utf-8')\n",
    "    box_office = pd.read_csv('mkrf_shows.csv')#, sep=None, engine='python', encoding='utf-8')\n",
    "except:\n",
    "    films = pd.read_csv('/datasets/mkrf_movies.csv', sep=None, engine='python', encoding='utf-8')\n",
    "    box_office = pd.read_csv('/datasets/mkrf_shows.csv', sep=None, engine='python', encoding='utf-8')\n",
    "    #Проверим правильно ли считались данные\n",
    "display('Данные о ',films.head())\n",
    "display(box_office.head())"
   ]
  },
  {
   "cell_type": "markdown",
   "metadata": {},
   "source": [
    "На первый взгляд данные считались без ошибок."
   ]
  },
  {
   "cell_type": "code",
   "execution_count": 3,
   "metadata": {},
   "outputs": [
    {
     "name": "stdout",
     "output_type": "stream",
     "text": [
      "<class 'pandas.core.frame.DataFrame'>\n",
      "RangeIndex: 7486 entries, 0 to 7485\n",
      "Data columns (total 15 columns):\n",
      "title                    7486 non-null object\n",
      "puNumber                 7486 non-null object\n",
      "show_start_date          7486 non-null object\n",
      "type                     7486 non-null object\n",
      "film_studio              7468 non-null object\n",
      "production_country       7484 non-null object\n",
      "director                 7477 non-null object\n",
      "producer                 6918 non-null object\n",
      "age_restriction          7486 non-null object\n",
      "refundable_support       332 non-null float64\n",
      "nonrefundable_support    332 non-null float64\n",
      "budget                   332 non-null float64\n",
      "financing_source         332 non-null object\n",
      "ratings                  6519 non-null object\n",
      "genres                   6510 non-null object\n",
      "dtypes: float64(3), object(12)\n",
      "memory usage: 877.4+ KB\n",
      "None\n",
      "<class 'pandas.core.frame.DataFrame'>\n",
      "RangeIndex: 3158 entries, 0 to 3157\n",
      "Data columns (total 2 columns):\n",
      "puNumber      3158 non-null int64\n",
      "box_office    3158 non-null float64\n",
      "dtypes: float64(1), int64(1)\n",
      "memory usage: 49.5 KB\n",
      "None\n"
     ]
    }
   ],
   "source": [
    "print(films.info())\n",
    "print(box_office.info())"
   ]
  },
  {
   "cell_type": "markdown",
   "metadata": {},
   "source": [
    "Сравним предоставленные данные по прокату с данными с сайта министерства культуры."
   ]
  },
  {
   "cell_type": "code",
   "execution_count": 4,
   "metadata": {},
   "outputs": [],
   "source": [
    "prokat_2019 = pd.read_csv(BytesIO(requests.get('https://docs.google.com/spreadsheets/d/1je170KN9vY-7dadlBGeu_weVOZg_3rgvWL9mjcddZ-E/export?format=csv').content))"
   ]
  },
  {
   "cell_type": "code",
   "execution_count": 5,
   "metadata": {},
   "outputs": [],
   "source": [
    "prokat_2018 = pd.read_csv(BytesIO(requests.get('https://docs.google.com/spreadsheets/d/12dzg4ZzFcEA1ApDxkF3MzIN5lP2t9pq_JKVfc-gVbeA/export?format=csv').content))"
   ]
  },
  {
   "cell_type": "code",
   "execution_count": 6,
   "metadata": {},
   "outputs": [],
   "source": [
    "prokat_2017 = pd.read_csv(BytesIO(requests.get('https://docs.google.com/spreadsheets/d/1WQyuadeFgrhcvxlKTVJF60ZDrkGLAIkuQwFywXBOeCI/export?format=csv').content))"
   ]
  },
  {
   "cell_type": "code",
   "execution_count": 7,
   "metadata": {},
   "outputs": [],
   "source": [
    "prokat_2016 = pd.read_csv(BytesIO(requests.get('https://docs.google.com/spreadsheets/d/1wxTq627W9CfALT0WIV07swH0E9n0sq4ltDWMZspSauE/export?format=csv').content))"
   ]
  },
  {
   "cell_type": "code",
   "execution_count": 8,
   "metadata": {},
   "outputs": [],
   "source": [
    "prokat_2015 = pd.read_csv(BytesIO(requests.get('https://docs.google.com/spreadsheets/d/1PBbIoq_LzoAsOUcatK2-AJV-mjYMGodILXyjMTI41EU/export?format=csv').content))"
   ]
  },
  {
   "cell_type": "code",
   "execution_count": 9,
   "metadata": {
    "scrolled": true
   },
   "outputs": [
    {
     "name": "stdout",
     "output_type": "stream",
     "text": [
      "Дублированные номера прокатных удостоверений:\n"
     ]
    },
    {
     "data": {
      "text/html": [
       "<div>\n",
       "<style scoped>\n",
       "    .dataframe tbody tr th:only-of-type {\n",
       "        vertical-align: middle;\n",
       "    }\n",
       "\n",
       "    .dataframe tbody tr th {\n",
       "        vertical-align: top;\n",
       "    }\n",
       "\n",
       "    .dataframe thead th {\n",
       "        text-align: right;\n",
       "    }\n",
       "</style>\n",
       "<table border=\"1\" class=\"dataframe\">\n",
       "  <thead>\n",
       "    <tr style=\"text-align: right;\">\n",
       "      <th></th>\n",
       "      <th>Возрастное ограничение</th>\n",
       "      <th>Дата релиза</th>\n",
       "      <th>Название</th>\n",
       "      <th>Сборы, руб.</th>\n",
       "      <th>Тип</th>\n",
       "      <th>№ ПУ</th>\n",
       "    </tr>\n",
       "  </thead>\n",
       "  <tbody>\n",
       "    <tr>\n",
       "      <td>567</td>\n",
       "      <td>«16+» для детей старше 16 лет</td>\n",
       "      <td>Mon May 11 2015 00:00:00 GMT+0300 (MSK)</td>\n",
       "      <td>Экспириенс</td>\n",
       "      <td>33,900.0</td>\n",
       "      <td>художественный</td>\n",
       "      <td>111000315</td>\n",
       "    </tr>\n",
       "    <tr>\n",
       "      <td>3859</td>\n",
       "      <td>«16+» для детей старше 16 лет</td>\n",
       "      <td>Mon May 11 2015 00:00:00 GMT+0300 (MSK)</td>\n",
       "      <td>Экспириенс</td>\n",
       "      <td>2,650.0</td>\n",
       "      <td>Кино</td>\n",
       "      <td>111000315</td>\n",
       "    </tr>\n",
       "    <tr>\n",
       "      <td>556</td>\n",
       "      <td>«18+» запрещено для детей</td>\n",
       "      <td>NaN</td>\n",
       "      <td>Что творят мужчины!</td>\n",
       "      <td>778,307.6</td>\n",
       "      <td>художественный</td>\n",
       "      <td>111000513</td>\n",
       "    </tr>\n",
       "    <tr>\n",
       "      <td>3484</td>\n",
       "      <td>«18+» запрещено для детей</td>\n",
       "      <td>NaN</td>\n",
       "      <td>Что творят мужчины</td>\n",
       "      <td>720.0</td>\n",
       "      <td>Кино</td>\n",
       "      <td>111000513</td>\n",
       "    </tr>\n",
       "    <tr>\n",
       "      <td>505</td>\n",
       "      <td>«12+» для детей старше 12 лет</td>\n",
       "      <td>NaN</td>\n",
       "      <td>Территория</td>\n",
       "      <td>72,486,787.4</td>\n",
       "      <td>художественный</td>\n",
       "      <td>111000515</td>\n",
       "    </tr>\n",
       "    <tr>\n",
       "      <td>4029</td>\n",
       "      <td>«12+» для детей старше 12 лет</td>\n",
       "      <td>NaN</td>\n",
       "      <td>Территория</td>\n",
       "      <td>91,530.0</td>\n",
       "      <td>Кино</td>\n",
       "      <td>111000515</td>\n",
       "    </tr>\n",
       "    <tr>\n",
       "      <td>4036</td>\n",
       "      <td>«12+» для детей старше 12 лет</td>\n",
       "      <td>NaN</td>\n",
       "      <td>Батальонъ</td>\n",
       "      <td>3,540.0</td>\n",
       "      <td>Кино</td>\n",
       "      <td>111000715</td>\n",
       "    </tr>\n",
       "    <tr>\n",
       "      <td>39</td>\n",
       "      <td>«12+» для детей старше 12 лет</td>\n",
       "      <td>NaN</td>\n",
       "      <td>Батальонъ</td>\n",
       "      <td>451,808,681.7</td>\n",
       "      <td>художественный</td>\n",
       "      <td>111000715</td>\n",
       "    </tr>\n",
       "    <tr>\n",
       "      <td>148</td>\n",
       "      <td>«12+» для детей старше 12 лет</td>\n",
       "      <td>Sun Jul 05 2015 00:00:00 GMT+0300 (MSK)</td>\n",
       "      <td>Дорога на Берлин</td>\n",
       "      <td>22,690,690.0</td>\n",
       "      <td>художественный</td>\n",
       "      <td>111001315</td>\n",
       "    </tr>\n",
       "    <tr>\n",
       "      <td>4040</td>\n",
       "      <td>«12+» для детей старше 12 лет</td>\n",
       "      <td>Sun Jul 05 2015 00:00:00 GMT+0300 (MSK)</td>\n",
       "      <td>Дорога на Берлин</td>\n",
       "      <td>32,885.0</td>\n",
       "      <td>Кино</td>\n",
       "      <td>111001315</td>\n",
       "    </tr>\n",
       "  </tbody>\n",
       "</table>\n",
       "</div>"
      ],
      "text/plain": [
       "             Возрастное ограничение                              Дата релиза  \\\n",
       "567   «16+» для детей старше 16 лет  Mon May 11 2015 00:00:00 GMT+0300 (MSK)   \n",
       "3859  «16+» для детей старше 16 лет  Mon May 11 2015 00:00:00 GMT+0300 (MSK)   \n",
       "556       «18+» запрещено для детей                                      NaN   \n",
       "3484      «18+» запрещено для детей                                      NaN   \n",
       "505   «12+» для детей старше 12 лет                                      NaN   \n",
       "4029  «12+» для детей старше 12 лет                                      NaN   \n",
       "4036  «12+» для детей старше 12 лет                                      NaN   \n",
       "39    «12+» для детей старше 12 лет                                      NaN   \n",
       "148   «12+» для детей старше 12 лет  Sun Jul 05 2015 00:00:00 GMT+0300 (MSK)   \n",
       "4040  «12+» для детей старше 12 лет  Sun Jul 05 2015 00:00:00 GMT+0300 (MSK)   \n",
       "\n",
       "                 Название   Сборы, руб.             Тип       № ПУ  \n",
       "567            Экспириенс      33,900.0  художественный  111000315  \n",
       "3859           Экспириенс       2,650.0            Кино  111000315  \n",
       "556   Что творят мужчины!     778,307.6  художественный  111000513  \n",
       "3484   Что творят мужчины         720.0            Кино  111000513  \n",
       "505            Территория  72,486,787.4  художественный  111000515  \n",
       "4029           Территория      91,530.0            Кино  111000515  \n",
       "4036            Батальонъ       3,540.0            Кино  111000715  \n",
       "39              Батальонъ 451,808,681.7  художественный  111000715  \n",
       "148      Дорога на Берлин  22,690,690.0  художественный  111001315  \n",
       "4040     Дорога на Берлин      32,885.0            Кино  111001315  "
      ]
     },
     "metadata": {},
     "output_type": "display_data"
    },
    {
     "name": "stdout",
     "output_type": "stream",
     "text": [
      "\n",
      " Датафрейм минкульта 2015-2019 года \n",
      "\n",
      "<class 'pandas.core.frame.DataFrame'>\n",
      "RangeIndex: 6146 entries, 0 to 6145\n",
      "Data columns (total 2 columns):\n",
      "№ ПУ           6134 non-null float64\n",
      "Сборы, руб.    6146 non-null float64\n",
      "dtypes: float64(2)\n",
      "memory usage: 96.2 KB\n",
      "\n",
      " Датафрейм ЯП \n",
      "\n",
      "<class 'pandas.core.frame.DataFrame'>\n",
      "RangeIndex: 3158 entries, 0 to 3157\n",
      "Data columns (total 2 columns):\n",
      "puNumber      3158 non-null int64\n",
      "box_office    3158 non-null float64\n",
      "dtypes: float64(1), int64(1)\n",
      "memory usage: 49.5 KB\n",
      "\n",
      " Объединенный датафрейм \n",
      "\n",
      "<class 'pandas.core.frame.DataFrame'>\n",
      "RangeIndex: 6129 entries, 0 to 6128\n",
      "Data columns (total 2 columns):\n",
      "№ ПУ           6129 non-null float64\n",
      "Сборы, руб.    6129 non-null float64\n",
      "dtypes: float64(2)\n",
      "memory usage: 95.9 KB\n"
     ]
    }
   ],
   "source": [
    "box_office_total = pd.concat([prokat_2015, \n",
    "                              prokat_2016,\n",
    "                              prokat_2017,\n",
    "                              prokat_2018,\n",
    "                              prokat_2019], axis=0, sort=True, ignore_index=True)\n",
    "\n",
    "#Проверим, почему в данных задвоенность, и что с ней делать\n",
    "print('Дублированные номера прокатных удостоверений:')\n",
    "display(box_office_total[box_office_total['№ ПУ'].duplicated(keep=False)].sort_values('№ ПУ').head(10))\n",
    "#объединим данные по сборам\n",
    "box_office_total = box_office_total.groupby('№ ПУ').sum().reset_index()#\n",
    "print('\\n Датафрейм минкульта 2015-2019 года \\n')\n",
    "box_office_total['№ ПУ'] = pd.to_numeric(box_office_total['№ ПУ'], errors='coerce')\n",
    "box_office['puNumber'] = pd.to_numeric(box_office['puNumber'], errors='coerce')\n",
    "box_office_total.info()\n",
    "print('\\n Датафрейм ЯП \\n')\n",
    "box_office.info()\n",
    "#Объединим эти два датафрейма\n",
    "box_office_total = pd.merge(left=box_office_total, \n",
    "         right=box_office, \n",
    "         left_on='№ ПУ', \n",
    "         right_on='puNumber',\n",
    "         how='left'\n",
    "           ).drop(axis='columns', labels='puNumber')\n",
    "print('\\n Объединенный датафрейм \\n')\n",
    "box_office_total.loc[box_office_total['Сборы, руб.']==box_office_total['box_office'], ['box_office']] = None\n",
    "box_office_total = box_office_total.query('box_office.isna()').drop(axis=1, labels= 'box_office')\n",
    "box_office_total = box_office_total.groupby('№ ПУ').sum().reset_index()#\n",
    "box_office_total['№ ПУ'].duplicated(keep=False).sum()\n",
    "box_office_total.info()"
   ]
  },
  {
   "cell_type": "markdown",
   "metadata": {},
   "source": [
    "Выведем процент None-значений для столбцов"
   ]
  },
  {
   "cell_type": "code",
   "execution_count": 10,
   "metadata": {},
   "outputs": [
    {
     "name": "stdout",
     "output_type": "stream",
     "text": [
      "title                          0.00%\n",
      "puNumber                       0.01%\n",
      "show_start_date                0.00%\n",
      "type                           0.00%\n",
      "film_studio                    0.24%\n",
      "production_country             0.03%\n",
      "director                       0.12%\n",
      "producer                       7.59%\n",
      "age_restriction                0.00%\n",
      "refundable_support             95.57%\n",
      "nonrefundable_support          95.57%\n",
      "budget                         95.57%\n",
      "financing_source               95.57%\n",
      "ratings                        12.92%\n",
      "genres                         13.04%\n"
     ]
    }
   ],
   "source": [
    "films['puNumber'] = pd.to_numeric(films['puNumber'], errors='coerce')\n",
    "for column in films:\n",
    "    print('{0:30} {1:.2%}'.format(column, films[column].isna().mean()))"
   ]
  },
  {
   "cell_type": "markdown",
   "metadata": {},
   "source": [
    "Дополнительная информация из открытых источников позволила расширить изначальные данные. Если большинство столбцов не влияют на выполнение поставленной в проекте задачи, то \"Название фильма на иностранном языке\" и \"Возрастная категория.1\" могут быть использованы в работе для удаления дубликатов. Также, в нем 94420 строк против 7486 в приложенном к проекту."
   ]
  },
  {
   "cell_type": "code",
   "execution_count": 11,
   "metadata": {
    "scrolled": true
   },
   "outputs": [
    {
     "name": "stdout",
     "output_type": "stream",
     "text": [
      "<class 'pandas.core.frame.DataFrame'>\n",
      "RangeIndex: 94420 entries, 0 to 94419\n",
      "Data columns (total 48 columns):\n",
      "Название фильма                                          94420 non-null object\n",
      "Hаименование на иностранном языке                        48715 non-null object\n",
      "Номер удостоверения                                      94420 non-null object\n",
      "Дата регистрации удостоверения                           94418 non-null object\n",
      "Дата начала показа фильма                                94093 non-null object\n",
      "Примечание                                               29182 non-null object\n",
      "Идентификатор записи реестра                             94420 non-null int64\n",
      "Аннотация                                                88553 non-null object\n",
      "Вид Фильма                                               94415 non-null object\n",
      "Категория                                                94420 non-null object\n",
      "Язык оригинала                                           4 non-null float64\n",
      "Формат кадра                                             13345 non-null object\n",
      "Количество серий                                         36641 non-null float64\n",
      "Метраж (для фильмов на кинопленке)                       12610 non-null object\n",
      "Количество частей/рулонов (для фильмов на кинопленке)    14246 non-null object\n",
      "Цвет                                                     94412 non-null object\n",
      "Продолжительность демонстрации, часы                     77828 non-null float64\n",
      "Продолжительность демонстрации, минуты                   91901 non-null float64\n",
      "Формат носителя                                          8196 non-null object\n",
      "Объем носителя                                           3679 non-null object\n",
      "Единица измерения                                        3640 non-null object\n",
      "Студия-производитель                                     94297 non-null object\n",
      "Страна производства                                      94353 non-null object\n",
      "Год производства                                         94209 non-null object\n",
      "Режиссер                                                 91806 non-null object\n",
      "Художник                                                 35152 non-null object\n",
      "Сценарист                                                82396 non-null object\n",
      "Оператор                                                 51613 non-null object\n",
      "Композитор                                               60165 non-null object\n",
      "Продюсер                                                 57504 non-null object\n",
      "Права на использование фильма                            94414 non-null object\n",
      "Категория прав на использование фильма                   87696 non-null object\n",
      "Срок действия прав на использование фильма               10 non-null object\n",
      "Срок действия прав на способ использования фильма        88408 non-null object\n",
      "Возрастная категория                                     94419 non-null object\n",
      "Возрастная категория.1                                   94411 non-null float64\n",
      "Дубляж (где дублирован)                                  656 non-null object\n",
      "Срок действия прав проката до                            28 non-null object\n",
      "Код                                                      94420 non-null object\n",
      "Права проката переданы                                   433 non-null object\n",
      "Порядковый номер переоформления/продления                6 non-null object\n",
      "Должность подписанта                                     9766 non-null object\n",
      "ФИО подписанта                                           9766 non-null object\n",
      "Запись удалена                                           0 non-null float64\n",
      "Дата удаления записи                                     1 non-null object\n",
      "Не показывать на сайте mkrf.ru                           0 non-null float64\n",
      "дата создания объекта                                    94420 non-null object\n",
      "дата обновления объекта                                  94420 non-null object\n",
      "dtypes: float64(7), int64(1), object(40)\n",
      "memory usage: 34.6+ MB\n"
     ]
    }
   ],
   "source": [
    "#films_mk = pd.read_csv('procat_2021.csv', low_memory=False)\n",
    "#https://docs.google.com/spreadsheets/d/1QP-GQJ_5_WTn8rdhab4aEY7E_TlbFf2CQis1C31WokU/edit?usp=sharing\n",
    "films_mk = pd.read_csv(BytesIO(requests.get('https://docs.google.com/spreadsheets/d/1QP-GQJ_5_WTn8rdhab4aEY7E_TlbFf2CQis1C31WokU/export?format=csv').content))\n",
    "films_mk.info()"
   ]
  },
  {
   "cell_type": "markdown",
   "metadata": {},
   "source": [
    "Считаем датасет заново, указав только нужные нам столбцы, и указав типы данных:"
   ]
  },
  {
   "cell_type": "code",
   "execution_count": 12,
   "metadata": {},
   "outputs": [],
   "source": [
    "#Чтобы руками не переписывать, возьмем отсюда список названий столбцов\n",
    "#films_mk.columns.tolist() "
   ]
  },
  {
   "cell_type": "code",
   "execution_count": 13,
   "metadata": {
    "scrolled": true
   },
   "outputs": [
    {
     "data": {
      "text/html": [
       "<div>\n",
       "<style scoped>\n",
       "    .dataframe tbody tr th:only-of-type {\n",
       "        vertical-align: middle;\n",
       "    }\n",
       "\n",
       "    .dataframe tbody tr th {\n",
       "        vertical-align: top;\n",
       "    }\n",
       "\n",
       "    .dataframe thead th {\n",
       "        text-align: right;\n",
       "    }\n",
       "</style>\n",
       "<table border=\"1\" class=\"dataframe\">\n",
       "  <thead>\n",
       "    <tr style=\"text-align: right;\">\n",
       "      <th></th>\n",
       "      <th>Название фильма</th>\n",
       "      <th>Hаименование на иностранном языке</th>\n",
       "      <th>Номер удостоверения</th>\n",
       "      <th>Дата регистрации удостоверения</th>\n",
       "      <th>Дата начала показа фильма</th>\n",
       "      <th>Примечание</th>\n",
       "      <th>Идентификатор записи реестра</th>\n",
       "      <th>Аннотация</th>\n",
       "      <th>Вид Фильма</th>\n",
       "      <th>Категория</th>\n",
       "      <th>Язык оригинала</th>\n",
       "      <th>Формат кадра</th>\n",
       "      <th>Количество серий</th>\n",
       "      <th>Метраж (для фильмов на кинопленке)</th>\n",
       "      <th>Количество частей/рулонов (для фильмов на кинопленке)</th>\n",
       "      <th>Цвет</th>\n",
       "      <th>Продолжительность демонстрации, часы</th>\n",
       "      <th>Продолжительность демонстрации, минуты</th>\n",
       "      <th>Формат носителя</th>\n",
       "      <th>Объем носителя</th>\n",
       "      <th>Единица измерения</th>\n",
       "      <th>Студия-производитель</th>\n",
       "      <th>Страна производства</th>\n",
       "      <th>Год производства</th>\n",
       "      <th>Режиссер</th>\n",
       "      <th>Художник</th>\n",
       "      <th>Сценарист</th>\n",
       "      <th>Оператор</th>\n",
       "      <th>Композитор</th>\n",
       "      <th>Продюсер</th>\n",
       "      <th>Права на использование фильма</th>\n",
       "      <th>Категория прав на использование фильма</th>\n",
       "      <th>Срок действия прав на использование фильма</th>\n",
       "      <th>Срок действия прав на способ использования фильма</th>\n",
       "      <th>Возрастная категория</th>\n",
       "      <th>Возрастная категория.1</th>\n",
       "      <th>Дубляж (где дублирован)</th>\n",
       "      <th>Срок действия прав проката до</th>\n",
       "      <th>Код</th>\n",
       "      <th>Права проката переданы</th>\n",
       "      <th>Порядковый номер переоформления/продления</th>\n",
       "      <th>Должность подписанта</th>\n",
       "      <th>ФИО подписанта</th>\n",
       "      <th>Запись удалена</th>\n",
       "      <th>Дата удаления записи</th>\n",
       "      <th>Не показывать на сайте mkrf.ru</th>\n",
       "      <th>дата создания объекта</th>\n",
       "      <th>дата обновления объекта</th>\n",
       "    </tr>\n",
       "  </thead>\n",
       "  <tbody>\n",
       "    <tr>\n",
       "      <td>0</td>\n",
       "      <td>Почти знаменит</td>\n",
       "      <td>Almost Famous</td>\n",
       "      <td>221006316</td>\n",
       "      <td>2016-02-09T12:00:00.000Z</td>\n",
       "      <td>2016-02-09T12:00:00.000Z</td>\n",
       "      <td>NaN</td>\n",
       "      <td>2157027</td>\n",
       "      <td>В ролях: Фрэнсис МакДорманд, Кейт Хадсон. Исто...</td>\n",
       "      <td>Художественный</td>\n",
       "      <td>Видео</td>\n",
       "      <td>nan</td>\n",
       "      <td>NaN</td>\n",
       "      <td>nan</td>\n",
       "      <td>NaN</td>\n",
       "      <td>NaN</td>\n",
       "      <td>Цветной</td>\n",
       "      <td>2.0</td>\n",
       "      <td>3.0</td>\n",
       "      <td>NaN</td>\n",
       "      <td>NaN</td>\n",
       "      <td>NaN</td>\n",
       "      <td>Коламбиа Пикчерз</td>\n",
       "      <td>США</td>\n",
       "      <td>2000</td>\n",
       "      <td>Кемерон Кроу</td>\n",
       "      <td>NaN</td>\n",
       "      <td>Кемерон Кроу</td>\n",
       "      <td>NaN</td>\n",
       "      <td>Джон Бонхэм</td>\n",
       "      <td>NaN</td>\n",
       "      <td>ЗАО \"ФЕЛИСТА\"</td>\n",
       "      <td>Телевидение (неисключительные права)</td>\n",
       "      <td>NaN</td>\n",
       "      <td>01.01.2020</td>\n",
       "      <td>«18+» запрещено для детей</td>\n",
       "      <td>18.0</td>\n",
       "      <td>NaN</td>\n",
       "      <td>NaN</td>\n",
       "      <td>[]</td>\n",
       "      <td>NaN</td>\n",
       "      <td>NaN</td>\n",
       "      <td>NaN</td>\n",
       "      <td>NaN</td>\n",
       "      <td>nan</td>\n",
       "      <td>NaN</td>\n",
       "      <td>nan</td>\n",
       "      <td>2017-07-05T14:10:11+03:00</td>\n",
       "      <td>2018-04-09T09:12:02+03:00</td>\n",
       "    </tr>\n",
       "    <tr>\n",
       "      <td>1</td>\n",
       "      <td>Открытое окно.</td>\n",
       "      <td>Open Window</td>\n",
       "      <td>221027814</td>\n",
       "      <td>2014-06-30T12:00:00.000Z</td>\n",
       "      <td>2014-06-30T12:00:00.000Z</td>\n",
       "      <td>NaN</td>\n",
       "      <td>2157028</td>\n",
       "      <td>В главных ролях: Робин Тюннин, Джоэль Эдгертон...</td>\n",
       "      <td>Художественный</td>\n",
       "      <td>Видео</td>\n",
       "      <td>nan</td>\n",
       "      <td>NaN</td>\n",
       "      <td>nan</td>\n",
       "      <td>NaN</td>\n",
       "      <td>NaN</td>\n",
       "      <td>Цветной</td>\n",
       "      <td>1.0</td>\n",
       "      <td>37.0</td>\n",
       "      <td>NaN</td>\n",
       "      <td>NaN</td>\n",
       "      <td>NaN</td>\n",
       "      <td>Кард Интертейнмент, Имэйдж Интертейнмент</td>\n",
       "      <td>США</td>\n",
       "      <td>2006</td>\n",
       "      <td>Миа Голдмен</td>\n",
       "      <td>NaN</td>\n",
       "      <td>Миа Голдмен</td>\n",
       "      <td>NaN</td>\n",
       "      <td>Клифф Эйдельман</td>\n",
       "      <td>NaN</td>\n",
       "      <td>ООО \"Люксор Дистрибьюшн\"</td>\n",
       "      <td>Коммерческое видео, Домашнее видео, Телевидение</td>\n",
       "      <td>NaN</td>\n",
       "      <td>01.12.2018</td>\n",
       "      <td>«16+» для детей старше 16 лет</td>\n",
       "      <td>16.0</td>\n",
       "      <td>NaN</td>\n",
       "      <td>NaN</td>\n",
       "      <td>[]</td>\n",
       "      <td>NaN</td>\n",
       "      <td>NaN</td>\n",
       "      <td>NaN</td>\n",
       "      <td>NaN</td>\n",
       "      <td>nan</td>\n",
       "      <td>NaN</td>\n",
       "      <td>nan</td>\n",
       "      <td>2017-07-05T14:10:11+03:00</td>\n",
       "      <td>2018-04-09T09:12:02+03:00</td>\n",
       "    </tr>\n",
       "    <tr>\n",
       "      <td>2</td>\n",
       "      <td>Открытый простор</td>\n",
       "      <td>Open Range</td>\n",
       "      <td>221048915</td>\n",
       "      <td>2015-11-27T12:00:00.000Z</td>\n",
       "      <td>2015-11-27T12:00:00.000Z</td>\n",
       "      <td>NaN</td>\n",
       "      <td>2157029</td>\n",
       "      <td>Драма-вестерн. В ролях: Роберт Дюволл, Кевин К...</td>\n",
       "      <td>Художественный</td>\n",
       "      <td>Кино</td>\n",
       "      <td>nan</td>\n",
       "      <td>ш/э</td>\n",
       "      <td>1.0</td>\n",
       "      <td>2923</td>\n",
       "      <td>7 рулонов</td>\n",
       "      <td>Цветной</td>\n",
       "      <td>2.0</td>\n",
       "      <td>23.0</td>\n",
       "      <td>NaN</td>\n",
       "      <td>NaN</td>\n",
       "      <td>NaN</td>\n",
       "      <td>Тачстоун Пикчерз, Кобальт Пикчерз, Бикон Пикче...</td>\n",
       "      <td>США</td>\n",
       "      <td>2003</td>\n",
       "      <td>Кевин Костнер</td>\n",
       "      <td>Гэй С.Бакли</td>\n",
       "      <td>Лоран Пэйн, Крейг Сторпер</td>\n",
       "      <td>Джеймс М.Муро</td>\n",
       "      <td>Майкл Кэмен</td>\n",
       "      <td>Дэвид Валдес, Кевин Костнер, Джейк Эбертс</td>\n",
       "      <td>ООО \"Дистрибуционная кинокомпания \"Парадиз\"</td>\n",
       "      <td>Телевидение</td>\n",
       "      <td>NaN</td>\n",
       "      <td>31.08.2017</td>\n",
       "      <td>«18+» запрещено для детей</td>\n",
       "      <td>18.0</td>\n",
       "      <td>NaN</td>\n",
       "      <td>NaN</td>\n",
       "      <td>[]</td>\n",
       "      <td>NaN</td>\n",
       "      <td>NaN</td>\n",
       "      <td>NaN</td>\n",
       "      <td>NaN</td>\n",
       "      <td>nan</td>\n",
       "      <td>NaN</td>\n",
       "      <td>nan</td>\n",
       "      <td>2017-07-05T14:10:11+03:00</td>\n",
       "      <td>2018-04-09T09:12:02+03:00</td>\n",
       "    </tr>\n",
       "    <tr>\n",
       "      <td>3</td>\n",
       "      <td>Особо важное задание</td>\n",
       "      <td>NaN</td>\n",
       "      <td>111013716</td>\n",
       "      <td>2016-09-13T12:00:00.000Z</td>\n",
       "      <td>2016-09-13T12:00:00.000Z</td>\n",
       "      <td>Показ фильма в кинозале и прокат фильма на мат...</td>\n",
       "      <td>2157030</td>\n",
       "      <td>В ролях - В.Заклунная, Н.Крючков, Е.Матвеев   ...</td>\n",
       "      <td>Художественный</td>\n",
       "      <td>Кино</td>\n",
       "      <td>nan</td>\n",
       "      <td>ш/э</td>\n",
       "      <td>2.0</td>\n",
       "      <td>3782</td>\n",
       "      <td>14</td>\n",
       "      <td>Цветной</td>\n",
       "      <td>2.0</td>\n",
       "      <td>4.0</td>\n",
       "      <td>NaN</td>\n",
       "      <td>NaN</td>\n",
       "      <td>NaN</td>\n",
       "      <td>Киностудия \"Мосфильм\"</td>\n",
       "      <td>СССР</td>\n",
       "      <td>1980</td>\n",
       "      <td>Е.Матвеев</td>\n",
       "      <td>С.Валюшок</td>\n",
       "      <td>Б.Добродеев, П.Попогребский</td>\n",
       "      <td>И.Черных</td>\n",
       "      <td>Е.Птичкин</td>\n",
       "      <td>NaN</td>\n",
       "      <td>ФГУП \"Киноконцерн \"Мосфильм\"</td>\n",
       "      <td>Показ фильма в кинозале и прокат фильма на мат...</td>\n",
       "      <td>NaN</td>\n",
       "      <td>на срок действия авторского права на фильм</td>\n",
       "      <td>«6+» для детей старше шести лет</td>\n",
       "      <td>6.0</td>\n",
       "      <td>NaN</td>\n",
       "      <td>NaN</td>\n",
       "      <td>[]</td>\n",
       "      <td>NaN</td>\n",
       "      <td>NaN</td>\n",
       "      <td>NaN</td>\n",
       "      <td>NaN</td>\n",
       "      <td>nan</td>\n",
       "      <td>NaN</td>\n",
       "      <td>nan</td>\n",
       "      <td>2017-07-05T14:10:11+03:00</td>\n",
       "      <td>2018-04-09T09:12:02+03:00</td>\n",
       "    </tr>\n",
       "    <tr>\n",
       "      <td>4</td>\n",
       "      <td>Особо опасен</td>\n",
       "      <td>Wanted</td>\n",
       "      <td>221038416</td>\n",
       "      <td>2016-10-10T12:00:00.000Z</td>\n",
       "      <td>2016-10-10T12:00:00.000Z</td>\n",
       "      <td>NaN</td>\n",
       "      <td>2157031</td>\n",
       "      <td>В ролях: Джеймс МакЭвой, Анджелина Джоли. Тайн...</td>\n",
       "      <td>Художественный</td>\n",
       "      <td>Кино</td>\n",
       "      <td>nan</td>\n",
       "      <td>ш/э</td>\n",
       "      <td>1.0</td>\n",
       "      <td>3014</td>\n",
       "      <td>6 рулонов</td>\n",
       "      <td>Цветной</td>\n",
       "      <td>1.0</td>\n",
       "      <td>50.0</td>\n",
       "      <td>NaN</td>\n",
       "      <td>NaN</td>\n",
       "      <td>NaN</td>\n",
       "      <td>Юниверсал Пикчерз, Кикстарт Продакшнз, Марк Пл...</td>\n",
       "      <td>США</td>\n",
       "      <td>2008</td>\n",
       "      <td>Тимур Бекмамбетов</td>\n",
       "      <td>Джон Майр</td>\n",
       "      <td>Майкл Брандт, Крис Морган, Дерек Хаас</td>\n",
       "      <td>Митчелл Амундсен</td>\n",
       "      <td>Дэнни Эльфман</td>\n",
       "      <td>Джим Лемли, Джейсон Нетер, Марк Е.Платт, Яйн Смит</td>\n",
       "      <td>ООО \"НД Плэй\"</td>\n",
       "      <td>прокат фильма на материальном носителе</td>\n",
       "      <td>NaN</td>\n",
       "      <td>31.12.2020</td>\n",
       "      <td>«18+» запрещено для детей</td>\n",
       "      <td>18.0</td>\n",
       "      <td>NaN</td>\n",
       "      <td>NaN</td>\n",
       "      <td>[]</td>\n",
       "      <td>NaN</td>\n",
       "      <td>NaN</td>\n",
       "      <td>NaN</td>\n",
       "      <td>NaN</td>\n",
       "      <td>nan</td>\n",
       "      <td>NaN</td>\n",
       "      <td>nan</td>\n",
       "      <td>2017-07-05T14:10:11+03:00</td>\n",
       "      <td>2021-04-06T12:16:16+03:00</td>\n",
       "    </tr>\n",
       "  </tbody>\n",
       "</table>\n",
       "</div>"
      ],
      "text/plain": [
       "        Название фильма Hаименование на иностранном языке Номер удостоверения  \\\n",
       "0        Почти знаменит                     Almost Famous           221006316   \n",
       "1        Открытое окно.                       Open Window           221027814   \n",
       "2      Открытый простор                        Open Range           221048915   \n",
       "3  Особо важное задание                               NaN           111013716   \n",
       "4          Особо опасен                            Wanted           221038416   \n",
       "\n",
       "  Дата регистрации удостоверения Дата начала показа фильма  \\\n",
       "0       2016-02-09T12:00:00.000Z  2016-02-09T12:00:00.000Z   \n",
       "1       2014-06-30T12:00:00.000Z  2014-06-30T12:00:00.000Z   \n",
       "2       2015-11-27T12:00:00.000Z  2015-11-27T12:00:00.000Z   \n",
       "3       2016-09-13T12:00:00.000Z  2016-09-13T12:00:00.000Z   \n",
       "4       2016-10-10T12:00:00.000Z  2016-10-10T12:00:00.000Z   \n",
       "\n",
       "                                          Примечание  \\\n",
       "0                                                NaN   \n",
       "1                                                NaN   \n",
       "2                                                NaN   \n",
       "3  Показ фильма в кинозале и прокат фильма на мат...   \n",
       "4                                                NaN   \n",
       "\n",
       "   Идентификатор записи реестра  \\\n",
       "0                       2157027   \n",
       "1                       2157028   \n",
       "2                       2157029   \n",
       "3                       2157030   \n",
       "4                       2157031   \n",
       "\n",
       "                                           Аннотация      Вид Фильма  \\\n",
       "0  В ролях: Фрэнсис МакДорманд, Кейт Хадсон. Исто...  Художественный   \n",
       "1  В главных ролях: Робин Тюннин, Джоэль Эдгертон...  Художественный   \n",
       "2  Драма-вестерн. В ролях: Роберт Дюволл, Кевин К...  Художественный   \n",
       "3  В ролях - В.Заклунная, Н.Крючков, Е.Матвеев   ...  Художественный   \n",
       "4  В ролях: Джеймс МакЭвой, Анджелина Джоли. Тайн...  Художественный   \n",
       "\n",
       "  Категория  Язык оригинала Формат кадра  Количество серий  \\\n",
       "0     Видео             nan          NaN               nan   \n",
       "1     Видео             nan          NaN               nan   \n",
       "2      Кино             nan          ш/э               1.0   \n",
       "3      Кино             nan          ш/э               2.0   \n",
       "4      Кино             nan          ш/э               1.0   \n",
       "\n",
       "  Метраж (для фильмов на кинопленке)  \\\n",
       "0                                NaN   \n",
       "1                                NaN   \n",
       "2                               2923   \n",
       "3                               3782   \n",
       "4                               3014   \n",
       "\n",
       "  Количество частей/рулонов (для фильмов на кинопленке)     Цвет  \\\n",
       "0                                                NaN     Цветной   \n",
       "1                                                NaN     Цветной   \n",
       "2                                          7 рулонов     Цветной   \n",
       "3                                                 14     Цветной   \n",
       "4                                          6 рулонов     Цветной   \n",
       "\n",
       "   Продолжительность демонстрации, часы  \\\n",
       "0                                   2.0   \n",
       "1                                   1.0   \n",
       "2                                   2.0   \n",
       "3                                   2.0   \n",
       "4                                   1.0   \n",
       "\n",
       "   Продолжительность демонстрации, минуты Формат носителя Объем носителя  \\\n",
       "0                                     3.0             NaN            NaN   \n",
       "1                                    37.0             NaN            NaN   \n",
       "2                                    23.0             NaN            NaN   \n",
       "3                                     4.0             NaN            NaN   \n",
       "4                                    50.0             NaN            NaN   \n",
       "\n",
       "  Единица измерения                               Студия-производитель  \\\n",
       "0               NaN                                   Коламбиа Пикчерз   \n",
       "1               NaN           Кард Интертейнмент, Имэйдж Интертейнмент   \n",
       "2               NaN  Тачстоун Пикчерз, Кобальт Пикчерз, Бикон Пикче...   \n",
       "3               NaN                              Киностудия \"Мосфильм\"   \n",
       "4               NaN  Юниверсал Пикчерз, Кикстарт Продакшнз, Марк Пл...   \n",
       "\n",
       "  Страна производства Год производства           Режиссер     Художник  \\\n",
       "0                 США             2000       Кемерон Кроу          NaN   \n",
       "1                 США             2006        Миа Голдмен          NaN   \n",
       "2                 США             2003      Кевин Костнер  Гэй С.Бакли   \n",
       "3                СССР             1980          Е.Матвеев    С.Валюшок   \n",
       "4                 США             2008  Тимур Бекмамбетов    Джон Майр   \n",
       "\n",
       "                               Сценарист          Оператор       Композитор  \\\n",
       "0                           Кемерон Кроу               NaN      Джон Бонхэм   \n",
       "1                            Миа Голдмен               NaN  Клифф Эйдельман   \n",
       "2              Лоран Пэйн, Крейг Сторпер     Джеймс М.Муро      Майкл Кэмен   \n",
       "3            Б.Добродеев, П.Попогребский          И.Черных        Е.Птичкин   \n",
       "4  Майкл Брандт, Крис Морган, Дерек Хаас  Митчелл Амундсен    Дэнни Эльфман   \n",
       "\n",
       "                                            Продюсер  \\\n",
       "0                                                NaN   \n",
       "1                                                NaN   \n",
       "2          Дэвид Валдес, Кевин Костнер, Джейк Эбертс   \n",
       "3                                                NaN   \n",
       "4  Джим Лемли, Джейсон Нетер, Марк Е.Платт, Яйн Смит   \n",
       "\n",
       "                 Права на использование фильма  \\\n",
       "0                                ЗАО \"ФЕЛИСТА\"   \n",
       "1                     ООО \"Люксор Дистрибьюшн\"   \n",
       "2  ООО \"Дистрибуционная кинокомпания \"Парадиз\"   \n",
       "3                 ФГУП \"Киноконцерн \"Мосфильм\"   \n",
       "4                                ООО \"НД Плэй\"   \n",
       "\n",
       "              Категория прав на использование фильма  \\\n",
       "0               Телевидение (неисключительные права)   \n",
       "1    Коммерческое видео, Домашнее видео, Телевидение   \n",
       "2                                        Телевидение   \n",
       "3  Показ фильма в кинозале и прокат фильма на мат...   \n",
       "4             прокат фильма на материальном носителе   \n",
       "\n",
       "  Срок действия прав на использование фильма  \\\n",
       "0                                        NaN   \n",
       "1                                        NaN   \n",
       "2                                        NaN   \n",
       "3                                        NaN   \n",
       "4                                        NaN   \n",
       "\n",
       "  Срок действия прав на способ использования фильма  \\\n",
       "0                                        01.01.2020   \n",
       "1                                        01.12.2018   \n",
       "2                                        31.08.2017   \n",
       "3        на срок действия авторского права на фильм   \n",
       "4                                        31.12.2020   \n",
       "\n",
       "              Возрастная категория  Возрастная категория.1  \\\n",
       "0        «18+» запрещено для детей                    18.0   \n",
       "1    «16+» для детей старше 16 лет                    16.0   \n",
       "2        «18+» запрещено для детей                    18.0   \n",
       "3  «6+» для детей старше шести лет                     6.0   \n",
       "4        «18+» запрещено для детей                    18.0   \n",
       "\n",
       "  Дубляж (где дублирован) Срок действия прав проката до Код  \\\n",
       "0                     NaN                           NaN  []   \n",
       "1                     NaN                           NaN  []   \n",
       "2                     NaN                           NaN  []   \n",
       "3                     NaN                           NaN  []   \n",
       "4                     NaN                           NaN  []   \n",
       "\n",
       "  Права проката переданы Порядковый номер переоформления/продления  \\\n",
       "0                    NaN                                       NaN   \n",
       "1                    NaN                                       NaN   \n",
       "2                    NaN                                       NaN   \n",
       "3                    NaN                                       NaN   \n",
       "4                    NaN                                       NaN   \n",
       "\n",
       "  Должность подписанта ФИО подписанта  Запись удалена Дата удаления записи  \\\n",
       "0                  NaN            NaN             nan                  NaN   \n",
       "1                  NaN            NaN             nan                  NaN   \n",
       "2                  NaN            NaN             nan                  NaN   \n",
       "3                  NaN            NaN             nan                  NaN   \n",
       "4                  NaN            NaN             nan                  NaN   \n",
       "\n",
       "   Не показывать на сайте mkrf.ru      дата создания объекта  \\\n",
       "0                             nan  2017-07-05T14:10:11+03:00   \n",
       "1                             nan  2017-07-05T14:10:11+03:00   \n",
       "2                             nan  2017-07-05T14:10:11+03:00   \n",
       "3                             nan  2017-07-05T14:10:11+03:00   \n",
       "4                             nan  2017-07-05T14:10:11+03:00   \n",
       "\n",
       "     дата обновления объекта  \n",
       "0  2018-04-09T09:12:02+03:00  \n",
       "1  2018-04-09T09:12:02+03:00  \n",
       "2  2018-04-09T09:12:02+03:00  \n",
       "3  2018-04-09T09:12:02+03:00  \n",
       "4  2021-04-06T12:16:16+03:00  "
      ]
     },
     "execution_count": 13,
     "metadata": {},
     "output_type": "execute_result"
    }
   ],
   "source": [
    "films_mk.head()"
   ]
  },
  {
   "cell_type": "code",
   "execution_count": 14,
   "metadata": {
    "scrolled": true
   },
   "outputs": [
    {
     "name": "stdout",
     "output_type": "stream",
     "text": [
      "<class 'pandas.core.frame.DataFrame'>\n",
      "RangeIndex: 94420 entries, 0 to 94419\n",
      "Data columns (total 19 columns):\n",
      "Название фильма                           94420 non-null object\n",
      "Hаименование на иностранном языке         48715 non-null object\n",
      "Номер удостоверения                       94420 non-null object\n",
      "Дата регистрации удостоверения            94418 non-null object\n",
      "Дата начала показа фильма                 94093 non-null object\n",
      "Идентификатор записи реестра              94420 non-null int64\n",
      "Вид Фильма                                94415 non-null object\n",
      "Категория                                 94420 non-null object\n",
      "Количество серий                          36641 non-null float64\n",
      "Продолжительность демонстрации, часы      77828 non-null float64\n",
      "Продолжительность демонстрации, минуты    91901 non-null float64\n",
      "Студия-производитель                      94297 non-null object\n",
      "Страна производства                       94353 non-null object\n",
      "Год производства                          94209 non-null object\n",
      "Режиссер                                  91806 non-null object\n",
      "Сценарист                                 82396 non-null object\n",
      "Продюсер                                  57504 non-null object\n",
      "Категория прав на использование фильма    87696 non-null object\n",
      "Возрастная категория.1                    94411 non-null float64\n",
      "dtypes: float64(4), int64(1), object(14)\n",
      "memory usage: 13.7+ MB\n"
     ]
    }
   ],
   "source": [
    "films_mk = pd.read_csv(BytesIO(requests.get('https://docs.google.com/spreadsheets/d/1QP-GQJ_5_WTn8rdhab4aEY7E_TlbFf2CQis1C31WokU/export?format=csv').content),\n",
    "                       low_memory=False,\n",
    "                      usecols = ['Название фильма',\n",
    " 'Hаименование на иностранном языке',\n",
    " 'Номер удостоверения',\n",
    " 'Дата регистрации удостоверения',\n",
    " 'Дата начала показа фильма',\n",
    " 'Идентификатор записи реестра',\n",
    " 'Вид Фильма',\n",
    " 'Категория',\n",
    " 'Количество серий',\n",
    " 'Продолжительность демонстрации, часы',\n",
    " 'Продолжительность демонстрации, минуты',\n",
    " 'Студия-производитель',\n",
    " 'Страна производства',\n",
    " 'Год производства',\n",
    " 'Категория прав на использование фильма',                               \n",
    " 'Режиссер', \n",
    " 'Сценарист',\n",
    " 'Продюсер',\n",
    " 'Возрастная категория.1'])\n",
    "films_mk.info()"
   ]
  },
  {
   "cell_type": "markdown",
   "metadata": {},
   "source": [
    "Переименуем столбцы"
   ]
  },
  {
   "cell_type": "code",
   "execution_count": 15,
   "metadata": {
    "scrolled": false
   },
   "outputs": [],
   "source": [
    "films_mk.rename(columns={'Название фильма':'name',\n",
    " 'Hаименование на иностранном языке':'name_foreign',\n",
    " 'Номер удостоверения':'pu_number',\n",
    " 'Дата регистрации удостоверения':'date_pu_reg',\n",
    " 'Дата начала показа фильма':'date_show_film',\n",
    " 'Идентификатор записи реестра':'id_reestr',\n",
    " 'Вид Фильма':'type_film',\n",
    " 'Категория':'category_film',\n",
    " 'Количество серий':'episodes',\n",
    " 'Продолжительность демонстрации, часы':'duration',\n",
    " 'Продолжительность демонстрации, минуты':'duration_m',\n",
    " 'Студия-производитель':'studio',\n",
    " 'Страна производства':'country',\n",
    " 'Категория прав на использование фильма':'category_use',                     \n",
    " 'Год производства':'year_production',\n",
    " 'Режиссер':'director', \n",
    " 'Сценарист':'screenwriter',\n",
    " 'Продюсер':'producer',\n",
    " 'Возрастная категория.1':'age_restriction'}, inplace=True)\n",
    "#films_mk.info() #проверим"
   ]
  },
  {
   "cell_type": "code",
   "execution_count": 16,
   "metadata": {},
   "outputs": [],
   "source": [
    "#Преобразуем типы\n",
    "films_mk['pu_number'] = pd.to_numeric(films_mk['pu_number'], errors='coerce')\n",
    "films_mk['age_restriction'] = pd.to_numeric(films_mk['age_restriction'], errors='coerce')\n",
    "\n",
    "#films_mk.info() #проверим"
   ]
  },
  {
   "cell_type": "code",
   "execution_count": 17,
   "metadata": {
    "scrolled": true
   },
   "outputs": [
    {
     "name": "stdout",
     "output_type": "stream",
     "text": [
      "<class 'pandas.core.frame.DataFrame'>\n",
      "Int64Index: 94424 entries, 0 to 94423\n",
      "Data columns (total 25 columns):\n",
      "name                     94424 non-null object\n",
      "name_foreign             48719 non-null object\n",
      "pu_number                92610 non-null float64\n",
      "date_pu_reg              94422 non-null object\n",
      "date_show_film           94097 non-null object\n",
      "id_reestr                94424 non-null int64\n",
      "type_film                94419 non-null object\n",
      "category_film            94424 non-null object\n",
      "episodes                 36645 non-null float64\n",
      "duration                 77832 non-null float64\n",
      "duration_m               91905 non-null float64\n",
      "studio                   94301 non-null object\n",
      "country                  94357 non-null object\n",
      "year_production          94213 non-null object\n",
      "director                 91810 non-null object\n",
      "screenwriter             82400 non-null object\n",
      "producer                 57508 non-null object\n",
      "category_use             87700 non-null object\n",
      "age_restriction          94415 non-null float64\n",
      "nonrefundable_support    332 non-null float64\n",
      "financing_source         332 non-null object\n",
      "budget                   332 non-null float64\n",
      "genres                   6516 non-null object\n",
      "refundable_support       332 non-null float64\n",
      "box_office               5838 non-null float64\n",
      "dtypes: float64(9), int64(1), object(15)\n",
      "memory usage: 18.7+ MB\n"
     ]
    }
   ],
   "source": [
    "#Соединяем \"родной\" датасет и скачанный с минкульта\n",
    "films_total = pd.merge(left=films_mk, \n",
    "         right=films[{'puNumber','refundable_support', 'nonrefundable_support','budget','financing_source', 'genres'}], \n",
    "         left_on='pu_number', \n",
    "         right_on='puNumber',\n",
    "         how='left'\n",
    "           ).drop(axis='columns', labels='puNumber')\n",
    "#Добавляем датасет со сборами\n",
    "films_total = films_total.merge(\n",
    "        right=box_office_total, \n",
    "         left_on='pu_number', \n",
    "         right_on='№ ПУ',\n",
    "         how='left'\n",
    "           ).drop(axis='columns', labels='№ ПУ')\n",
    "films_total.rename(columns={'Сборы, руб.':'box_office'}, inplace=True)\n",
    "films_total.info()"
   ]
  },
  {
   "cell_type": "markdown",
   "metadata": {},
   "source": [
    "Проверим полноту данных для фильмов с положительными данными о сборах"
   ]
  },
  {
   "cell_type": "code",
   "execution_count": 18,
   "metadata": {},
   "outputs": [
    {
     "name": "stdout",
     "output_type": "stream",
     "text": [
      "<class 'pandas.core.frame.DataFrame'>\n",
      "Int64Index: 5739 entries, 9 to 89936\n",
      "Data columns (total 25 columns):\n",
      "name                     5739 non-null object\n",
      "name_foreign             3111 non-null object\n",
      "pu_number                5739 non-null float64\n",
      "date_pu_reg              5739 non-null object\n",
      "date_show_film           5735 non-null object\n",
      "id_reestr                5739 non-null int64\n",
      "type_film                5739 non-null object\n",
      "category_film            5739 non-null object\n",
      "episodes                 2155 non-null float64\n",
      "duration                 5373 non-null float64\n",
      "duration_m               5675 non-null float64\n",
      "studio                   5732 non-null object\n",
      "country                  5738 non-null object\n",
      "year_production          5734 non-null object\n",
      "director                 5735 non-null object\n",
      "screenwriter             5606 non-null object\n",
      "producer                 4492 non-null object\n",
      "category_use             5287 non-null object\n",
      "age_restriction          5739 non-null float64\n",
      "nonrefundable_support    316 non-null float64\n",
      "financing_source         316 non-null object\n",
      "budget                   316 non-null float64\n",
      "genres                   2887 non-null object\n",
      "refundable_support       316 non-null float64\n",
      "box_office               5739 non-null float64\n",
      "dtypes: float64(9), int64(1), object(15)\n",
      "memory usage: 1.1+ MB\n"
     ]
    }
   ],
   "source": [
    "films_total.query('box_office>0').info()"
   ]
  },
  {
   "cell_type": "markdown",
   "metadata": {},
   "source": [
    "В целях расширения набора данных о софинансировании фильмов, добавим данные о государственной поддержке кинематографа(Источник - ЕАИС)"
   ]
  },
  {
   "cell_type": "code",
   "execution_count": 19,
   "metadata": {
    "scrolled": true
   },
   "outputs": [
    {
     "name": "stdout",
     "output_type": "stream",
     "text": [
      "<class 'pandas.core.frame.DataFrame'>\n",
      "RangeIndex: 449 entries, 0 to 448\n",
      "Data columns (total 10 columns):\n",
      "index                    447 non-null float64\n",
      "source                   447 non-null object\n",
      "name                     447 non-null object\n",
      "film_studio              447 non-null object\n",
      "show_start_date          447 non-null object\n",
      "refundable_support       145 non-null float64\n",
      "nonrefundable_support    437 non-null float64\n",
      "budget                   425 non-null float64\n",
      "box_office               448 non-null object\n",
      "viewer_state             444 non-null float64\n",
      "dtypes: float64(5), object(5)\n",
      "memory usage: 35.2+ KB\n"
     ]
    }
   ],
   "source": [
    "gos_support = pd.read_excel(BytesIO(requests.get('https://docs.google.com/spreadsheets/d/1CQG5G0FN1heCNeSRKOp4QXEaaERh3qz0fH992_mqUV0/export?format=xlsx').content))\n",
    "            \n",
    "gos_support.rename(columns={'film_studio ':'film_studio',\n",
    " 'nonrefundable_support\\xa0':'nonrefundable_support',\n",
    " 'budget\\xa0':'budget'}, inplace=True)\n",
    "#Преобразуем типы\n",
    "gos_support['refundable_support'] = pd.to_numeric(gos_support['refundable_support'], errors='coerce')\n",
    "gos_support['nonrefundable_support'] = pd.to_numeric(gos_support['nonrefundable_support'], errors='coerce')\n",
    "gos_support['budget'] = pd.to_numeric(gos_support['budget'], errors='coerce')\n",
    "gos_support['viewer_state'] = pd.to_numeric(gos_support['viewer_state'], errors='coerce')\n",
    "gos_support.drop(axis='columns', labels='procent_of_budget', inplace=True)\n",
    "#Проверим данные \n",
    "gos_support.info()"
   ]
  },
  {
   "cell_type": "code",
   "execution_count": 20,
   "metadata": {
    "scrolled": true
   },
   "outputs": [
    {
     "name": "stdout",
     "output_type": "stream",
     "text": [
      "<class 'pandas.core.frame.DataFrame'>\n",
      "Int64Index: 94424 entries, 0 to 94423\n",
      "Data columns (total 33 columns):\n",
      "name                        94424 non-null object\n",
      "name_foreign                48719 non-null object\n",
      "pu_number                   92610 non-null float64\n",
      "date_pu_reg                 94422 non-null object\n",
      "date_show_film              94097 non-null object\n",
      "id_reestr                   94424 non-null int64\n",
      "type_film                   94419 non-null object\n",
      "category_film               94424 non-null object\n",
      "episodes                    36645 non-null float64\n",
      "duration                    77832 non-null float64\n",
      "duration_m                  91905 non-null float64\n",
      "studio                      94301 non-null object\n",
      "country                     94357 non-null object\n",
      "year_production             94213 non-null object\n",
      "director                    91810 non-null object\n",
      "screenwriter                82400 non-null object\n",
      "producer                    57508 non-null object\n",
      "category_use                87700 non-null object\n",
      "age_restriction             94415 non-null float64\n",
      "nonrefundable_support_yp    332 non-null float64\n",
      "financing_source            332 non-null object\n",
      "budget_yp                   332 non-null float64\n",
      "genres                      6516 non-null object\n",
      "refundable_support_yp       332 non-null float64\n",
      "box_office_yp               5838 non-null float64\n",
      "source                      448 non-null object\n",
      "film_studio                 448 non-null object\n",
      "show_start_date             448 non-null object\n",
      "refundable_support_mk       146 non-null float64\n",
      "nonrefundable_support_mk    441 non-null float64\n",
      "budget_mk                   425 non-null float64\n",
      "box_office_mk               448 non-null object\n",
      "viewer_state                446 non-null float64\n",
      "dtypes: float64(13), int64(1), object(19)\n",
      "memory usage: 24.5+ MB\n"
     ]
    }
   ],
   "source": [
    "#Очистим датафрейм от пустых строк\n",
    "gos_support = gos_support.query('not name.isna()')\n",
    "gos_support.drop(axis=1, labels='index', inplace=True)\n",
    "#Добавим эти данные в итоговую таблицу\n",
    "films_total = films_total.merge(\n",
    "        right=gos_support, \n",
    "         left_on='name', \n",
    "         right_on='name',\n",
    "         how='left', suffixes=('_yp', '_mk'))\n",
    "sorted(films_total.columns.tolist())\n",
    "films_total.info()"
   ]
  },
  {
   "cell_type": "code",
   "execution_count": 21,
   "metadata": {
    "scrolled": false
   },
   "outputs": [
    {
     "name": "stdout",
     "output_type": "stream",
     "text": [
      "<class 'pandas.core.frame.DataFrame'>\n",
      "Int64Index: 94424 entries, 0 to 94423\n",
      "Data columns (total 29 columns):\n",
      "name                        94424 non-null object\n",
      "name_foreign                48719 non-null object\n",
      "pu_number                   92610 non-null float64\n",
      "date_pu_reg                 94422 non-null object\n",
      "date_show_film              94097 non-null object\n",
      "id_reestr                   94424 non-null int64\n",
      "type_film                   94419 non-null object\n",
      "category_film               94424 non-null object\n",
      "episodes                    36645 non-null float64\n",
      "duration                    77832 non-null float64\n",
      "duration_m                  91905 non-null float64\n",
      "studio                      94301 non-null object\n",
      "country                     94357 non-null object\n",
      "year_production             94213 non-null object\n",
      "director                    91810 non-null object\n",
      "screenwriter                82400 non-null object\n",
      "producer                    57508 non-null object\n",
      "category_use                87700 non-null object\n",
      "age_restriction             94415 non-null float64\n",
      "financing_source            332 non-null object\n",
      "genres                      6516 non-null object\n",
      "source                      448 non-null object\n",
      "film_studio                 448 non-null object\n",
      "show_start_date             448 non-null object\n",
      "refundable_support_mk       408 non-null float64\n",
      "nonrefundable_support_mk    570 non-null float64\n",
      "budget_mk                   558 non-null float64\n",
      "box_office_mk               6059 non-null float64\n",
      "viewer_state                446 non-null float64\n",
      "dtypes: float64(10), int64(1), object(18)\n",
      "memory usage: 21.6+ MB\n"
     ]
    }
   ],
   "source": [
    "#При объединении датафремов образовались столбцы с однотипными данными из двух разных источников\n",
    "#Нужна функция, которая объединит эти значения без потери данных\n",
    "#\n",
    "#Функция clear_merge объединяет два столбца по принципу outer, взяв среднее для разных значений\n",
    "# сохраняет в левый столбец и удаляет правый\n",
    "def clear_merge(data, column_1, column_2):\n",
    "    #преобразуем обе колонки в численный вид\n",
    "    data[column_1] = pd.to_numeric(data[column_1], errors='coerce') \n",
    "    data[column_2] = pd.to_numeric(data[column_2], errors='coerce')\n",
    "    #обнуляем те ячейки во второй колонке, которые есть в первой\n",
    "    data.loc[data[column_1]==data[column_2], column_2] = None \n",
    "    #переносим из второй колонки те данные, которых нет в первой\n",
    "    data.loc[(data[column_1].isna())&(data[column_2]>=0), column_1] = data.loc[(data[column_1].isna())&(data[column_2]>=0), column_2]\n",
    "    #Если данные есть и там и там, присваиваем первой колонке среднее\n",
    "    data.loc[(~data[column_1].isna())&(~data[column_2].isna()), {column_1, column_2}] = data.loc[\n",
    "    (~data[column_1].isna())&(~data[column_2].isna()), {column_1, column_2}].mean(axis=1)\n",
    "    #Проверяем display(data.loc[(~data[column_1].isna())&(~data[column_2].isna()), {column_1, column_2}].head())\n",
    "    #обнуляем получившиеся дубли\n",
    "    data.loc[data[column_1]==data[column_2], column_2] = None \n",
    "    if data[column_2].isna().mean()<1:\n",
    "        #Если остались данные во втором столбце\n",
    "        print('ACHTUNG! PARTIZANEN!', (~data[column_2].isna()).sum(), 'SHCHTUKOFF!') #Партизаны дело такое\n",
    "        print(data[{column_1,column_2}].describe())\n",
    "    else:\n",
    "        #если все успешно, удаляем второй столбец\n",
    "        data.drop(axis=1, labels=column_2, inplace=True)\n",
    "#films_total.info()\n",
    "clear_merge(films_total, 'budget_mk', 'budget_yp')\n",
    "clear_merge(films_total, 'box_office_mk', 'box_office_yp')\n",
    "clear_merge(films_total, 'nonrefundable_support_mk', 'nonrefundable_support_yp')\n",
    "clear_merge(films_total, 'refundable_support_mk', 'refundable_support_yp')\n",
    "\n",
    "#display(films_total[{'budget_mk', 'budget_yp'}].sort_values('budget_mk').head(10))\n",
    "films_total.info() #Проверяем результат работы функции очистки\n",
    "#films_total['budget_yp'].merge(right='budget_mk', how='outer').describe()\n"
   ]
  },
  {
   "cell_type": "markdown",
   "metadata": {},
   "source": [
    "#### Вывод"
   ]
  },
  {
   "cell_type": "markdown",
   "metadata": {},
   "source": [
    "Мы объединили исходные и сторонние датасеты по фильмам, которые получили прокатные удостоверения в РФ. Сейчас необходимо закончить предобработку данных:\n",
    "- проверить на дубликаты (полные и неполные)\n",
    "- разделить составные строковые данные \n",
    "- преобразовать столбцы duration в один столбец\n",
    "- категоризировать type_film и category_film\n",
    "- изменить типы данных"
   ]
  },
  {
   "cell_type": "markdown",
   "metadata": {},
   "source": [
    "- разделить продюссеров на списки из фамилий и имен\n",
    "- жанры разделить на списки\n",
    "- переименовать столбец puNumber в pu_number\n",
    "- преобразовать в целочисленные следующие столбцы:\n",
    "- - pu_number\n",
    "- преобразовать в формат даты-времени столбцы:\n",
    "- - show_start_date\n",
    "- Длительность пересчитать в минуты, убрать столбец с часами.\n",
    "- преобразовать в формат категорий:\n",
    "    - production_country\n",
    "    - age_restriction\n",
    "- изучить пропуски и принять решение по их заполнению или удалению. При этом, будем ориентироваься на фильмы с господдержкой при определении действий по работе с пропусками.\n",
    "- проверить количественные данные на выбросы и аномальные значения\n",
    "- привести текстовые данные к одному форматированию.\n",
    "- проверить на дубликаты по прокатным удостоверениям/названиям фильмов\n",
    "- проверить на неявные дубликаты фильмов для различного перевода названий."
   ]
  },
  {
   "cell_type": "markdown",
   "metadata": {
    "id": "KLDGpPG0gFyM"
   },
   "source": [
    "### Предобработка данных\n",
    "В процессе предобработки данных будут выполнены следующие задачи:\n",
    "- Изменение типов данных\n",
    "- Анализ пропусков в датафрейме\n",
    "- Очистка дубликатов\n",
    "- Преобразование строковых значений\n",
    "- Очистка категориальных значений\n",
    "- Приведение данных о длительности фильмов к единому образцу"
   ]
  },
  {
   "cell_type": "markdown",
   "metadata": {
    "id": "ssWwKXsxgFyO"
   },
   "source": [
    "#### Изменение типов данных\n",
    "При использовании категориальных типов данных нужно быть осторожным, так как последующее добавление новых строк в датафрейм может вызывать ошибки, при наличии там неучтенных категориальных значений. В нашем случае дальнейшее пополнение таблицы не планируется, и категориальный тип данных представляется весьма удобным способом оптимизации работы."
   ]
  },
  {
   "cell_type": "code",
   "execution_count": 22,
   "metadata": {
    "scrolled": true
   },
   "outputs": [],
   "source": [
    "#films_total.columns.to_list() #- используем для удобства копирования названий столбцов"
   ]
  },
  {
   "cell_type": "code",
   "execution_count": 23,
   "metadata": {
    "id": "kVGSplJOgFyO"
   },
   "outputs": [
    {
     "name": "stdout",
     "output_type": "stream",
     "text": [
      "<class 'pandas.core.frame.DataFrame'>\n",
      "Int64Index: 94424 entries, 0 to 94423\n",
      "Data columns (total 29 columns):\n",
      "name                        94424 non-null object\n",
      "name_foreign                48719 non-null object\n",
      "pu_number                   92610 non-null float64\n",
      "date_pu_reg                 94422 non-null datetime64[ns]\n",
      "date_show_film              94097 non-null datetime64[ns]\n",
      "id_reestr                   94424 non-null int64\n",
      "type_film                   94419 non-null category\n",
      "category_film               94424 non-null category\n",
      "episodes                    36645 non-null float64\n",
      "duration                    77832 non-null float64\n",
      "duration_m                  91905 non-null float64\n",
      "studio                      94301 non-null object\n",
      "country                     94357 non-null object\n",
      "year_production             94213 non-null object\n",
      "director                    91810 non-null object\n",
      "screenwriter                82400 non-null object\n",
      "producer                    57508 non-null object\n",
      "category_use                87700 non-null category\n",
      "age_restriction             94415 non-null float64\n",
      "financing_source            332 non-null category\n",
      "genres                      6516 non-null object\n",
      "source                      448 non-null object\n",
      "film_studio                 448 non-null object\n",
      "show_start_date             445 non-null datetime64[ns]\n",
      "refundable_support_mk       408 non-null float64\n",
      "nonrefundable_support_mk    570 non-null float64\n",
      "budget_mk                   558 non-null float64\n",
      "box_office_mk               6059 non-null float64\n",
      "viewer_state                446 non-null float64\n",
      "dtypes: category(4), datetime64[ns](3), float64(10), int64(1), object(11)\n",
      "memory usage: 19.2+ MB\n"
     ]
    }
   ],
   "source": [
    "category_col={'type_film':'category',\n",
    "    'category_film':'category',\n",
    "    'category_use':'category',\n",
    "    'financing_source':'category'}\n",
    "films_total = films_total.astype(category_col)\n",
    "films_total[['date_pu_reg', 'date_show_film']] = films_total[\n",
    "    {'date_pu_reg', 'date_show_film'}].apply(pd.to_datetime, format='%Y-%m-%dT%H:%M:%S.%fZ')\n",
    "films_total['show_start_date'] = pd.to_datetime(films_total['show_start_date'], format='%Y-%m-%d %H:%M:%S', \n",
    "                                                errors='coerce')\n",
    "films_total.info() #Проверим"
   ]
  },
  {
   "cell_type": "markdown",
   "metadata": {},
   "source": [
    "##### Вывод"
   ]
  },
  {
   "cell_type": "markdown",
   "metadata": {},
   "source": [
    "За счет изменения типа данных мы уменьшили размер датафрейса с 21.6 до 17.7 мегабайта (на 18 процентов)."
   ]
  },
  {
   "cell_type": "markdown",
   "metadata": {
    "id": "i0MOLbF-gFyP"
   },
   "source": [
    "#### Пропуски в датафрейме\n",
    "У получившегося датафрейма очень большое количество пропусков, за счет интеграции нескольких источников данных. В рамках цели нашего исследования в ходе работы для отдельных подзадач будут использоваться срезы датафрейма, с минимальным количеством пропусков. Какие-либо манипуляции с заполнением пропусков на данный момент нецелесообразны."
   ]
  },
  {
   "cell_type": "markdown",
   "metadata": {
    "id": "4c6k1t9ygFyQ"
   },
   "source": [
    "####  Очистка дубликатов\n",
    "Проверим дубликаты в датафрейме. Сначала рассмотрим наличие полных дубликатов, потом найдем дубликаты по ключевым идентификаторам - номерам прокатных удостоверений, связкам название фильма - режиссер. Отсортируем данные по столбцу box_office, чтобы аргумент keep='firts' метода drop_duplicates при удалении дубликатов оставил строку с данными по сборам фильма(если они различаются по этому признаку)"
   ]
  },
  {
   "cell_type": "code",
   "execution_count": 24,
   "metadata": {
    "id": "aKck8RIdgFyQ"
   },
   "outputs": [
    {
     "name": "stdout",
     "output_type": "stream",
     "text": [
      "Было до очистки 94424\n",
      "Стало после очистки 92506\n"
     ]
    }
   ],
   "source": [
    "films_total = films_total.sort_values('box_office_mk', ascending=False)\n",
    "print('Было до очистки', len(films_total.pu_number))\n",
    "films_total.drop_duplicates(inplace=True)\n",
    "films_total.drop_duplicates('pu_number', inplace=True)\n",
    "print('Стало после очистки',len(films_total.pu_number))\n"
   ]
  },
  {
   "cell_type": "markdown",
   "metadata": {},
   "source": [
    "Теперь проверим связки название фильма-имя режиссера"
   ]
  },
  {
   "cell_type": "code",
   "execution_count": 25,
   "metadata": {
    "scrolled": true
   },
   "outputs": [
    {
     "data": {
      "text/html": [
       "<div>\n",
       "<style scoped>\n",
       "    .dataframe tbody tr th:only-of-type {\n",
       "        vertical-align: middle;\n",
       "    }\n",
       "\n",
       "    .dataframe tbody tr th {\n",
       "        vertical-align: top;\n",
       "    }\n",
       "\n",
       "    .dataframe thead th {\n",
       "        text-align: right;\n",
       "    }\n",
       "</style>\n",
       "<table border=\"1\" class=\"dataframe\">\n",
       "  <thead>\n",
       "    <tr style=\"text-align: right;\">\n",
       "      <th></th>\n",
       "      <th>name</th>\n",
       "      <th>name_foreign</th>\n",
       "      <th>pu_number</th>\n",
       "      <th>date_pu_reg</th>\n",
       "      <th>date_show_film</th>\n",
       "      <th>id_reestr</th>\n",
       "      <th>type_film</th>\n",
       "      <th>category_film</th>\n",
       "      <th>episodes</th>\n",
       "      <th>duration</th>\n",
       "      <th>duration_m</th>\n",
       "      <th>studio</th>\n",
       "      <th>country</th>\n",
       "      <th>year_production</th>\n",
       "      <th>director</th>\n",
       "      <th>screenwriter</th>\n",
       "      <th>producer</th>\n",
       "      <th>category_use</th>\n",
       "      <th>age_restriction</th>\n",
       "      <th>financing_source</th>\n",
       "      <th>genres</th>\n",
       "      <th>source</th>\n",
       "      <th>film_studio</th>\n",
       "      <th>show_start_date</th>\n",
       "      <th>refundable_support_mk</th>\n",
       "      <th>nonrefundable_support_mk</th>\n",
       "      <th>budget_mk</th>\n",
       "      <th>box_office_mk</th>\n",
       "      <th>viewer_state</th>\n",
       "    </tr>\n",
       "  </thead>\n",
       "  <tbody>\n",
       "    <tr>\n",
       "      <td>65702</td>\n",
       "      <td>\" 50 лет-Министерство культуры\"</td>\n",
       "      <td>NaN</td>\n",
       "      <td>21,225,103.0</td>\n",
       "      <td>2003-10-22 12:00:00</td>\n",
       "      <td>2003-10-22 12:00:00</td>\n",
       "      <td>2227023</td>\n",
       "      <td>Документальный</td>\n",
       "      <td>Видео</td>\n",
       "      <td>nan</td>\n",
       "      <td>nan</td>\n",
       "      <td>9.0</td>\n",
       "      <td>ГУП \"Казанская студия кинохроники\"</td>\n",
       "      <td>Россия</td>\n",
       "      <td>2003</td>\n",
       "      <td>С.Литовец</td>\n",
       "      <td>П.Соколовский</td>\n",
       "      <td>NaN</td>\n",
       "      <td>Видеоправа(показ  и прокат), телевидение</td>\n",
       "      <td>0.0</td>\n",
       "      <td>NaN</td>\n",
       "      <td>NaN</td>\n",
       "      <td>NaN</td>\n",
       "      <td>NaN</td>\n",
       "      <td>NaT</td>\n",
       "      <td>nan</td>\n",
       "      <td>nan</td>\n",
       "      <td>nan</td>\n",
       "      <td>nan</td>\n",
       "      <td>nan</td>\n",
       "    </tr>\n",
       "    <tr>\n",
       "      <td>39816</td>\n",
       "      <td>\" 50 лет-Министерство культуры\"</td>\n",
       "      <td>NaN</td>\n",
       "      <td>212,011,804.0</td>\n",
       "      <td>2004-03-15 12:00:00</td>\n",
       "      <td>2004-03-15 12:00:00</td>\n",
       "      <td>2199456</td>\n",
       "      <td>Документальный</td>\n",
       "      <td>Видео</td>\n",
       "      <td>nan</td>\n",
       "      <td>nan</td>\n",
       "      <td>9.0</td>\n",
       "      <td>ГУП \"Казанская студия кинохроники\"</td>\n",
       "      <td>Россия</td>\n",
       "      <td>2003</td>\n",
       "      <td>С.Литовец</td>\n",
       "      <td>П.Соколовский</td>\n",
       "      <td>NaN</td>\n",
       "      <td>Видеоправа (показ и прокат),Телевидение</td>\n",
       "      <td>0.0</td>\n",
       "      <td>NaN</td>\n",
       "      <td>NaN</td>\n",
       "      <td>NaN</td>\n",
       "      <td>NaN</td>\n",
       "      <td>NaT</td>\n",
       "      <td>nan</td>\n",
       "      <td>nan</td>\n",
       "      <td>nan</td>\n",
       "      <td>nan</td>\n",
       "      <td>nan</td>\n",
       "    </tr>\n",
       "    <tr>\n",
       "      <td>39818</td>\n",
       "      <td>\"24 - 25\"  не возвращается</td>\n",
       "      <td>NaN</td>\n",
       "      <td>211,014,405.0</td>\n",
       "      <td>2005-03-14 12:00:00</td>\n",
       "      <td>2005-03-14 12:00:00</td>\n",
       "      <td>2199458</td>\n",
       "      <td>Художественный</td>\n",
       "      <td>Видео</td>\n",
       "      <td>nan</td>\n",
       "      <td>1.0</td>\n",
       "      <td>25.0</td>\n",
       "      <td>Рижская киностудия</td>\n",
       "      <td>СССР</td>\n",
       "      <td>1968</td>\n",
       "      <td>А.Бренч при участии Р.Горяева</td>\n",
       "      <td>Г.Цирулис, А.Иммерманис при участии М.Блеймана</td>\n",
       "      <td>NaN</td>\n",
       "      <td>VHS-домашнее видео</td>\n",
       "      <td>0.0</td>\n",
       "      <td>NaN</td>\n",
       "      <td>NaN</td>\n",
       "      <td>NaN</td>\n",
       "      <td>NaN</td>\n",
       "      <td>NaT</td>\n",
       "      <td>nan</td>\n",
       "      <td>nan</td>\n",
       "      <td>nan</td>\n",
       "      <td>nan</td>\n",
       "      <td>nan</td>\n",
       "    </tr>\n",
       "    <tr>\n",
       "      <td>39817</td>\n",
       "      <td>\"24 - 25\"  не возвращается</td>\n",
       "      <td>NaN</td>\n",
       "      <td>211,011,207.0</td>\n",
       "      <td>2007-02-27 12:00:00</td>\n",
       "      <td>2007-02-27 12:00:00</td>\n",
       "      <td>2199457</td>\n",
       "      <td>Художественный</td>\n",
       "      <td>Видео</td>\n",
       "      <td>nan</td>\n",
       "      <td>1.0</td>\n",
       "      <td>25.0</td>\n",
       "      <td>Рижская киностудия</td>\n",
       "      <td>СССР</td>\n",
       "      <td>1968</td>\n",
       "      <td>А.Бренч при участии Р.Горяева</td>\n",
       "      <td>Г.Цирулис, А.Иммерманис при участии М.Блеймана</td>\n",
       "      <td>NaN</td>\n",
       "      <td>Домашнее видео, публичное видео, демонстрация ...</td>\n",
       "      <td>0.0</td>\n",
       "      <td>NaN</td>\n",
       "      <td>NaN</td>\n",
       "      <td>NaN</td>\n",
       "      <td>NaN</td>\n",
       "      <td>NaT</td>\n",
       "      <td>nan</td>\n",
       "      <td>nan</td>\n",
       "      <td>nan</td>\n",
       "      <td>nan</td>\n",
       "      <td>nan</td>\n",
       "    </tr>\n",
       "    <tr>\n",
       "      <td>32636</td>\n",
       "      <td>\"V\" значит вендетта</td>\n",
       "      <td>V For Vendetta</td>\n",
       "      <td>221,167,310.0</td>\n",
       "      <td>2010-12-25 12:00:00</td>\n",
       "      <td>2010-12-25 12:00:00</td>\n",
       "      <td>2191831</td>\n",
       "      <td>Художественный</td>\n",
       "      <td>Кино</td>\n",
       "      <td>1.0</td>\n",
       "      <td>2.0</td>\n",
       "      <td>12.0</td>\n",
       "      <td>Уорнер Бразерс, Сильвер Пикчерз, Анархоз Прода...</td>\n",
       "      <td>США - Германия - Великобритания</td>\n",
       "      <td>2006</td>\n",
       "      <td>Джеймс МакТэйг</td>\n",
       "      <td>Ларри Вачовски, Энди Вачовски</td>\n",
       "      <td>Ларри Вачовски, Энди Вачовски, Джоэл Сильвер, ...</td>\n",
       "      <td>Домашнее видео - DVD, Blu-Ray</td>\n",
       "      <td>16.0</td>\n",
       "      <td>NaN</td>\n",
       "      <td>фантастика,боевик,триллер</td>\n",
       "      <td>NaN</td>\n",
       "      <td>NaN</td>\n",
       "      <td>NaT</td>\n",
       "      <td>nan</td>\n",
       "      <td>nan</td>\n",
       "      <td>nan</td>\n",
       "      <td>nan</td>\n",
       "      <td>nan</td>\n",
       "    </tr>\n",
       "  </tbody>\n",
       "</table>\n",
       "</div>"
      ],
      "text/plain": [
       "                                  name    name_foreign     pu_number  \\\n",
       "65702  \" 50 лет-Министерство культуры\"             NaN  21,225,103.0   \n",
       "39816  \" 50 лет-Министерство культуры\"             NaN 212,011,804.0   \n",
       "39818       \"24 - 25\"  не возвращается             NaN 211,014,405.0   \n",
       "39817       \"24 - 25\"  не возвращается             NaN 211,011,207.0   \n",
       "32636              \"V\" значит вендетта  V For Vendetta 221,167,310.0   \n",
       "\n",
       "              date_pu_reg      date_show_film  id_reestr       type_film  \\\n",
       "65702 2003-10-22 12:00:00 2003-10-22 12:00:00    2227023  Документальный   \n",
       "39816 2004-03-15 12:00:00 2004-03-15 12:00:00    2199456  Документальный   \n",
       "39818 2005-03-14 12:00:00 2005-03-14 12:00:00    2199458  Художественный   \n",
       "39817 2007-02-27 12:00:00 2007-02-27 12:00:00    2199457  Художественный   \n",
       "32636 2010-12-25 12:00:00 2010-12-25 12:00:00    2191831  Художественный   \n",
       "\n",
       "      category_film  episodes  duration  duration_m  \\\n",
       "65702         Видео       nan       nan         9.0   \n",
       "39816         Видео       nan       nan         9.0   \n",
       "39818         Видео       nan       1.0        25.0   \n",
       "39817         Видео       nan       1.0        25.0   \n",
       "32636          Кино       1.0       2.0        12.0   \n",
       "\n",
       "                                                  studio  \\\n",
       "65702                 ГУП \"Казанская студия кинохроники\"   \n",
       "39816                 ГУП \"Казанская студия кинохроники\"   \n",
       "39818                                 Рижская киностудия   \n",
       "39817                                 Рижская киностудия   \n",
       "32636  Уорнер Бразерс, Сильвер Пикчерз, Анархоз Прода...   \n",
       "\n",
       "                               country year_production  \\\n",
       "65702                           Россия            2003   \n",
       "39816                           Россия            2003   \n",
       "39818                             СССР            1968   \n",
       "39817                             СССР            1968   \n",
       "32636  США - Германия - Великобритания            2006   \n",
       "\n",
       "                            director  \\\n",
       "65702                      С.Литовец   \n",
       "39816                      С.Литовец   \n",
       "39818  А.Бренч при участии Р.Горяева   \n",
       "39817  А.Бренч при участии Р.Горяева   \n",
       "32636                 Джеймс МакТэйг   \n",
       "\n",
       "                                         screenwriter  \\\n",
       "65702                                   П.Соколовский   \n",
       "39816                                   П.Соколовский   \n",
       "39818  Г.Цирулис, А.Иммерманис при участии М.Блеймана   \n",
       "39817  Г.Цирулис, А.Иммерманис при участии М.Блеймана   \n",
       "32636                   Ларри Вачовски, Энди Вачовски   \n",
       "\n",
       "                                                producer  \\\n",
       "65702                                                NaN   \n",
       "39816                                                NaN   \n",
       "39818                                                NaN   \n",
       "39817                                                NaN   \n",
       "32636  Ларри Вачовски, Энди Вачовски, Джоэл Сильвер, ...   \n",
       "\n",
       "                                            category_use  age_restriction  \\\n",
       "65702           Видеоправа(показ  и прокат), телевидение              0.0   \n",
       "39816            Видеоправа (показ и прокат),Телевидение              0.0   \n",
       "39818                                 VHS-домашнее видео              0.0   \n",
       "39817  Домашнее видео, публичное видео, демонстрация ...              0.0   \n",
       "32636                      Домашнее видео - DVD, Blu-Ray             16.0   \n",
       "\n",
       "      financing_source                     genres source film_studio  \\\n",
       "65702              NaN                        NaN    NaN         NaN   \n",
       "39816              NaN                        NaN    NaN         NaN   \n",
       "39818              NaN                        NaN    NaN         NaN   \n",
       "39817              NaN                        NaN    NaN         NaN   \n",
       "32636              NaN  фантастика,боевик,триллер    NaN         NaN   \n",
       "\n",
       "      show_start_date  refundable_support_mk  nonrefundable_support_mk  \\\n",
       "65702             NaT                    nan                       nan   \n",
       "39816             NaT                    nan                       nan   \n",
       "39818             NaT                    nan                       nan   \n",
       "39817             NaT                    nan                       nan   \n",
       "32636             NaT                    nan                       nan   \n",
       "\n",
       "       budget_mk  box_office_mk  viewer_state  \n",
       "65702        nan            nan           nan  \n",
       "39816        nan            nan           nan  \n",
       "39818        nan            nan           nan  \n",
       "39817        nan            nan           nan  \n",
       "32636        nan            nan           nan  "
      ]
     },
     "execution_count": 25,
     "metadata": {},
     "output_type": "execute_result"
    }
   ],
   "source": [
    "films_total.loc[films_total.duplicated(subset=['name','director'], keep=False)].sort_values('name').head()"
   ]
  },
  {
   "cell_type": "markdown",
   "metadata": {},
   "source": [
    "Видим, что в датафрейме есть полностью одинаковые фильмы с разными прокатными удостоверениями. Никакой дополнительной ценности они не несут, тоже удалим их. "
   ]
  },
  {
   "cell_type": "code",
   "execution_count": 26,
   "metadata": {},
   "outputs": [
    {
     "name": "stdout",
     "output_type": "stream",
     "text": [
      "Было до очистки 92506\n",
      "Стало после очистки 79247\n"
     ]
    }
   ],
   "source": [
    "print('Было до очистки', len(films_total))\n",
    "films_total.drop_duplicates(\n",
    "    subset=['name','director'], inplace=True)\n",
    "print('Стало после очистки',len(films_total))"
   ]
  },
  {
   "cell_type": "markdown",
   "metadata": {},
   "source": [
    "Аналогично проверим дубликаты по связкам имя-продюсер и имя-год-студия. "
   ]
  },
  {
   "cell_type": "code",
   "execution_count": 27,
   "metadata": {},
   "outputs": [
    {
     "name": "stdout",
     "output_type": "stream",
     "text": [
      "Было до очистки 79247\n"
     ]
    },
    {
     "data": {
      "text/plain": [
       "'Проверим, одинаковые ли это фильмы'"
      ]
     },
     "metadata": {},
     "output_type": "display_data"
    },
    {
     "data": {
      "text/html": [
       "<div>\n",
       "<style scoped>\n",
       "    .dataframe tbody tr th:only-of-type {\n",
       "        vertical-align: middle;\n",
       "    }\n",
       "\n",
       "    .dataframe tbody tr th {\n",
       "        vertical-align: top;\n",
       "    }\n",
       "\n",
       "    .dataframe thead th {\n",
       "        text-align: right;\n",
       "    }\n",
       "</style>\n",
       "<table border=\"1\" class=\"dataframe\">\n",
       "  <thead>\n",
       "    <tr style=\"text-align: right;\">\n",
       "      <th></th>\n",
       "      <th>name</th>\n",
       "      <th>name_foreign</th>\n",
       "      <th>pu_number</th>\n",
       "      <th>date_pu_reg</th>\n",
       "      <th>date_show_film</th>\n",
       "      <th>id_reestr</th>\n",
       "      <th>type_film</th>\n",
       "      <th>category_film</th>\n",
       "      <th>episodes</th>\n",
       "      <th>duration</th>\n",
       "      <th>duration_m</th>\n",
       "      <th>studio</th>\n",
       "      <th>country</th>\n",
       "      <th>year_production</th>\n",
       "      <th>director</th>\n",
       "      <th>screenwriter</th>\n",
       "      <th>producer</th>\n",
       "      <th>category_use</th>\n",
       "      <th>age_restriction</th>\n",
       "      <th>financing_source</th>\n",
       "      <th>genres</th>\n",
       "      <th>source</th>\n",
       "      <th>film_studio</th>\n",
       "      <th>show_start_date</th>\n",
       "      <th>refundable_support_mk</th>\n",
       "      <th>nonrefundable_support_mk</th>\n",
       "      <th>budget_mk</th>\n",
       "      <th>box_office_mk</th>\n",
       "      <th>viewer_state</th>\n",
       "    </tr>\n",
       "  </thead>\n",
       "  <tbody>\n",
       "    <tr>\n",
       "      <td>10738</td>\n",
       "      <td>100 футов.</td>\n",
       "      <td>100 Feet</td>\n",
       "      <td>221,068,914.0</td>\n",
       "      <td>2014-12-15 12:00:00</td>\n",
       "      <td>2014-12-15 12:00:00</td>\n",
       "      <td>2168223</td>\n",
       "      <td>Художественный</td>\n",
       "      <td>Видео</td>\n",
       "      <td>1.0</td>\n",
       "      <td>1.0</td>\n",
       "      <td>44.0</td>\n",
       "      <td>100 Фит Продакшн, Гранд Иллюжнз Интертейнмент</td>\n",
       "      <td>США</td>\n",
       "      <td>2008</td>\n",
       "      <td>Эрик Ред</td>\n",
       "      <td>Эрик Ред</td>\n",
       "      <td>Сара Блэк, Эд Элберт, Джонатан Сенджер, Крис К...</td>\n",
       "      <td>Телевидение</td>\n",
       "      <td>16.0</td>\n",
       "      <td>NaN</td>\n",
       "      <td>NaN</td>\n",
       "      <td>NaN</td>\n",
       "      <td>NaN</td>\n",
       "      <td>NaT</td>\n",
       "      <td>nan</td>\n",
       "      <td>nan</td>\n",
       "      <td>nan</td>\n",
       "      <td>nan</td>\n",
       "      <td>nan</td>\n",
       "    </tr>\n",
       "    <tr>\n",
       "      <td>16125</td>\n",
       "      <td>100 футов</td>\n",
       "      <td>100 Feet</td>\n",
       "      <td>221,175,408.0</td>\n",
       "      <td>2008-09-03 12:00:00</td>\n",
       "      <td>2008-09-03 12:00:00</td>\n",
       "      <td>2174018</td>\n",
       "      <td>Художественный</td>\n",
       "      <td>Кино</td>\n",
       "      <td>1.0</td>\n",
       "      <td>1.0</td>\n",
       "      <td>45.0</td>\n",
       "      <td>100 Фит Продакшн, Гранд Иллюжнз Интертейнмент</td>\n",
       "      <td>США</td>\n",
       "      <td>2008</td>\n",
       "      <td>Эрик Ред</td>\n",
       "      <td>Эрик Ред</td>\n",
       "      <td>Сара Блэк, Эд Элберт, Джонатан Сенджер, Крис К...</td>\n",
       "      <td>Домашнее видео, публичное видео, демонстрация ...</td>\n",
       "      <td>16.0</td>\n",
       "      <td>NaN</td>\n",
       "      <td>NaN</td>\n",
       "      <td>NaN</td>\n",
       "      <td>NaN</td>\n",
       "      <td>NaT</td>\n",
       "      <td>nan</td>\n",
       "      <td>nan</td>\n",
       "      <td>nan</td>\n",
       "      <td>nan</td>\n",
       "      <td>nan</td>\n",
       "    </tr>\n",
       "    <tr>\n",
       "      <td>65677</td>\n",
       "      <td>101 далматин</td>\n",
       "      <td>101 Dalmatians</td>\n",
       "      <td>224,001,503.0</td>\n",
       "      <td>2003-01-24 12:00:00</td>\n",
       "      <td>2003-01-24 12:00:00</td>\n",
       "      <td>2226997</td>\n",
       "      <td>Анимационный</td>\n",
       "      <td>Видео</td>\n",
       "      <td>nan</td>\n",
       "      <td>1.0</td>\n",
       "      <td>19.0</td>\n",
       "      <td>Уолт Дисней Пикчерз</td>\n",
       "      <td>США</td>\n",
       "      <td>1961</td>\n",
       "      <td>Клайд Джероними, Хамильтон Ласк</td>\n",
       "      <td>Доди Смит</td>\n",
       "      <td>NaN</td>\n",
       "      <td>NaN</td>\n",
       "      <td>0.0</td>\n",
       "      <td>NaN</td>\n",
       "      <td>NaN</td>\n",
       "      <td>NaN</td>\n",
       "      <td>NaN</td>\n",
       "      <td>NaT</td>\n",
       "      <td>nan</td>\n",
       "      <td>nan</td>\n",
       "      <td>nan</td>\n",
       "      <td>nan</td>\n",
       "      <td>nan</td>\n",
       "    </tr>\n",
       "    <tr>\n",
       "      <td>79976</td>\n",
       "      <td>Сто один далматинец /По книге Додди Смита/</td>\n",
       "      <td>101 Dalmatians</td>\n",
       "      <td>224,006,701.0</td>\n",
       "      <td>2001-04-11 12:00:00</td>\n",
       "      <td>2001-04-11 12:00:00</td>\n",
       "      <td>2242175</td>\n",
       "      <td>Анимационный</td>\n",
       "      <td>Видео</td>\n",
       "      <td>nan</td>\n",
       "      <td>1.0</td>\n",
       "      <td>19.0</td>\n",
       "      <td>Уолт Дисней Пикчерз</td>\n",
       "      <td>США</td>\n",
       "      <td>1961</td>\n",
       "      <td>Клайд Джероними, Гамильтон Ласки, Вольфганг Ра...</td>\n",
       "      <td>NaN</td>\n",
       "      <td>NaN</td>\n",
       "      <td>NaN</td>\n",
       "      <td>0.0</td>\n",
       "      <td>NaN</td>\n",
       "      <td>NaN</td>\n",
       "      <td>NaN</td>\n",
       "      <td>NaN</td>\n",
       "      <td>NaT</td>\n",
       "      <td>nan</td>\n",
       "      <td>nan</td>\n",
       "      <td>nan</td>\n",
       "      <td>nan</td>\n",
       "      <td>nan</td>\n",
       "    </tr>\n",
       "    <tr>\n",
       "      <td>79975</td>\n",
       "      <td>Сто один далматинец (на английском языке)</td>\n",
       "      <td>101 Dalmatians</td>\n",
       "      <td>224,003,700.0</td>\n",
       "      <td>2000-04-11 12:00:00</td>\n",
       "      <td>2000-04-11 12:00:00</td>\n",
       "      <td>2242174</td>\n",
       "      <td>Анимационный</td>\n",
       "      <td>Видео</td>\n",
       "      <td>nan</td>\n",
       "      <td>1.0</td>\n",
       "      <td>16.0</td>\n",
       "      <td>Уолт Дисней Пикчерз</td>\n",
       "      <td>США</td>\n",
       "      <td>1961</td>\n",
       "      <td>Клайд Джероними, Гамильтон Ласки, Вольфганг Ра...</td>\n",
       "      <td>NaN</td>\n",
       "      <td>NaN</td>\n",
       "      <td>NaN</td>\n",
       "      <td>0.0</td>\n",
       "      <td>NaN</td>\n",
       "      <td>NaN</td>\n",
       "      <td>NaN</td>\n",
       "      <td>NaN</td>\n",
       "      <td>NaT</td>\n",
       "      <td>nan</td>\n",
       "      <td>nan</td>\n",
       "      <td>nan</td>\n",
       "      <td>nan</td>\n",
       "      <td>nan</td>\n",
       "    </tr>\n",
       "  </tbody>\n",
       "</table>\n",
       "</div>"
      ],
      "text/plain": [
       "                                             name    name_foreign  \\\n",
       "10738                                  100 футов.        100 Feet   \n",
       "16125                                   100 футов        100 Feet   \n",
       "65677                                101 далматин  101 Dalmatians   \n",
       "79976  Сто один далматинец /По книге Додди Смита/  101 Dalmatians   \n",
       "79975   Сто один далматинец (на английском языке)  101 Dalmatians   \n",
       "\n",
       "          pu_number         date_pu_reg      date_show_film  id_reestr  \\\n",
       "10738 221,068,914.0 2014-12-15 12:00:00 2014-12-15 12:00:00    2168223   \n",
       "16125 221,175,408.0 2008-09-03 12:00:00 2008-09-03 12:00:00    2174018   \n",
       "65677 224,001,503.0 2003-01-24 12:00:00 2003-01-24 12:00:00    2226997   \n",
       "79976 224,006,701.0 2001-04-11 12:00:00 2001-04-11 12:00:00    2242175   \n",
       "79975 224,003,700.0 2000-04-11 12:00:00 2000-04-11 12:00:00    2242174   \n",
       "\n",
       "            type_film category_film  episodes  duration  duration_m  \\\n",
       "10738  Художественный         Видео       1.0       1.0        44.0   \n",
       "16125  Художественный          Кино       1.0       1.0        45.0   \n",
       "65677    Анимационный         Видео       nan       1.0        19.0   \n",
       "79976    Анимационный         Видео       nan       1.0        19.0   \n",
       "79975    Анимационный         Видео       nan       1.0        16.0   \n",
       "\n",
       "                                              studio country year_production  \\\n",
       "10738  100 Фит Продакшн, Гранд Иллюжнз Интертейнмент     США            2008   \n",
       "16125  100 Фит Продакшн, Гранд Иллюжнз Интертейнмент     США            2008   \n",
       "65677                            Уолт Дисней Пикчерз     США            1961   \n",
       "79976                            Уолт Дисней Пикчерз     США            1961   \n",
       "79975                            Уолт Дисней Пикчерз     США            1961   \n",
       "\n",
       "                                                director screenwriter  \\\n",
       "10738                                           Эрик Ред     Эрик Ред   \n",
       "16125                                           Эрик Ред     Эрик Ред   \n",
       "65677                    Клайд Джероними, Хамильтон Ласк    Доди Смит   \n",
       "79976  Клайд Джероними, Гамильтон Ласки, Вольфганг Ра...          NaN   \n",
       "79975  Клайд Джероними, Гамильтон Ласки, Вольфганг Ра...          NaN   \n",
       "\n",
       "                                                producer  \\\n",
       "10738  Сара Блэк, Эд Элберт, Джонатан Сенджер, Крис К...   \n",
       "16125  Сара Блэк, Эд Элберт, Джонатан Сенджер, Крис К...   \n",
       "65677                                                NaN   \n",
       "79976                                                NaN   \n",
       "79975                                                NaN   \n",
       "\n",
       "                                            category_use  age_restriction  \\\n",
       "10738                                        Телевидение             16.0   \n",
       "16125  Домашнее видео, публичное видео, демонстрация ...             16.0   \n",
       "65677                                                NaN              0.0   \n",
       "79976                                                NaN              0.0   \n",
       "79975                                                NaN              0.0   \n",
       "\n",
       "      financing_source genres source film_studio show_start_date  \\\n",
       "10738              NaN    NaN    NaN         NaN             NaT   \n",
       "16125              NaN    NaN    NaN         NaN             NaT   \n",
       "65677              NaN    NaN    NaN         NaN             NaT   \n",
       "79976              NaN    NaN    NaN         NaN             NaT   \n",
       "79975              NaN    NaN    NaN         NaN             NaT   \n",
       "\n",
       "       refundable_support_mk  nonrefundable_support_mk  budget_mk  \\\n",
       "10738                    nan                       nan        nan   \n",
       "16125                    nan                       nan        nan   \n",
       "65677                    nan                       nan        nan   \n",
       "79976                    nan                       nan        nan   \n",
       "79975                    nan                       nan        nan   \n",
       "\n",
       "       box_office_mk  viewer_state  \n",
       "10738            nan           nan  \n",
       "16125            nan           nan  \n",
       "65677            nan           nan  \n",
       "79976            nan           nan  \n",
       "79975            nan           nan  "
      ]
     },
     "metadata": {},
     "output_type": "display_data"
    },
    {
     "name": "stdout",
     "output_type": "stream",
     "text": [
      "Стало после очистки 79093\n"
     ]
    }
   ],
   "source": [
    "print('Было до очистки', len(films_total.pu_number))\n",
    "\n",
    "films_total.drop_duplicates(\n",
    "    subset=['name','producer'], inplace=True)\n",
    "films_total.drop_duplicates(subset=['name','studio', 'year_production'], inplace=True)\n",
    "\n",
    "films_total.drop_duplicates(subset=['name','country', 'year_production'], inplace=True)\n",
    "\n",
    "display('Проверим, одинаковые ли это фильмы',films_total.query('not name_foreign.isna()').loc[films_total.duplicated(subset=[\n",
    "    'name_foreign','country', 'year_production'], keep=False)].sort_values('name_foreign').head())\n",
    "\n",
    "films_total.loc[~films_total['name_foreign'].isna()] = films_total.query('not name_foreign.isna()').drop_duplicates(subset=[\n",
    "    'name_foreign','country', 'year_production'])\n",
    "\n",
    "print('Стало после очистки',len(films_total))"
   ]
  },
  {
   "cell_type": "code",
   "execution_count": 28,
   "metadata": {},
   "outputs": [
    {
     "name": "stdout",
     "output_type": "stream",
     "text": [
      "<class 'pandas.core.frame.DataFrame'>\n",
      "Int64Index: 79093 entries, 89758 to 94423\n",
      "Data columns (total 29 columns):\n",
      "name                        76556 non-null object\n",
      "name_foreign                33225 non-null object\n",
      "pu_number                   76556 non-null float64\n",
      "date_pu_reg                 76554 non-null datetime64[ns]\n",
      "date_show_film              76319 non-null datetime64[ns]\n",
      "id_reestr                   76556 non-null float64\n",
      "type_film                   76552 non-null category\n",
      "category_film               76556 non-null category\n",
      "episodes                    29538 non-null float64\n",
      "duration                    60747 non-null float64\n",
      "duration_m                  74158 non-null float64\n",
      "studio                      76440 non-null object\n",
      "country                     76490 non-null object\n",
      "year_production             76352 non-null object\n",
      "director                    74210 non-null object\n",
      "screenwriter                66197 non-null object\n",
      "producer                    47707 non-null object\n",
      "category_use                71832 non-null category\n",
      "age_restriction             76547 non-null float64\n",
      "financing_source            329 non-null category\n",
      "genres                      5465 non-null object\n",
      "source                      396 non-null object\n",
      "film_studio                 396 non-null object\n",
      "show_start_date             393 non-null datetime64[ns]\n",
      "refundable_support_mk       384 non-null float64\n",
      "nonrefundable_support_mk    518 non-null float64\n",
      "budget_mk                   510 non-null float64\n",
      "box_office_mk               5775 non-null float64\n",
      "viewer_state                394 non-null float64\n",
      "dtypes: category(4), datetime64[ns](3), float64(11), object(11)\n",
      "memory usage: 18.6+ MB\n"
     ]
    }
   ],
   "source": [
    "films_total.info()"
   ]
  },
  {
   "cell_type": "markdown",
   "metadata": {},
   "source": [
    "Было удалено более 18000 дублирующих записей, причем показатели господдержки уменьшились только на 5-10 записей, а данные о сборах фильмов всего на 300 записей. Таким образом очистка от дубликатов была проведена без потери ключевых данных."
   ]
  },
  {
   "cell_type": "markdown",
   "metadata": {},
   "source": [
    "#### Преобразование строковых значений\n",
    "Разобьем содержимое строковых столбцов, в которых могут встречаться несколько объектов в одной ячейке."
   ]
  },
  {
   "cell_type": "code",
   "execution_count": 29,
   "metadata": {
    "scrolled": true
   },
   "outputs": [
    {
     "data": {
      "text/html": [
       "<div>\n",
       "<style scoped>\n",
       "    .dataframe tbody tr th:only-of-type {\n",
       "        vertical-align: middle;\n",
       "    }\n",
       "\n",
       "    .dataframe tbody tr th {\n",
       "        vertical-align: top;\n",
       "    }\n",
       "\n",
       "    .dataframe thead th {\n",
       "        text-align: right;\n",
       "    }\n",
       "</style>\n",
       "<table border=\"1\" class=\"dataframe\">\n",
       "  <thead>\n",
       "    <tr style=\"text-align: right;\">\n",
       "      <th></th>\n",
       "      <th>name</th>\n",
       "      <th>name_foreign</th>\n",
       "      <th>pu_number</th>\n",
       "      <th>date_pu_reg</th>\n",
       "      <th>date_show_film</th>\n",
       "      <th>id_reestr</th>\n",
       "      <th>type_film</th>\n",
       "      <th>category_film</th>\n",
       "      <th>episodes</th>\n",
       "      <th>duration</th>\n",
       "      <th>duration_m</th>\n",
       "      <th>studio</th>\n",
       "      <th>country</th>\n",
       "      <th>year_production</th>\n",
       "      <th>director</th>\n",
       "      <th>screenwriter</th>\n",
       "      <th>producer</th>\n",
       "      <th>category_use</th>\n",
       "      <th>age_restriction</th>\n",
       "      <th>financing_source</th>\n",
       "      <th>genres</th>\n",
       "      <th>source</th>\n",
       "      <th>film_studio</th>\n",
       "      <th>show_start_date</th>\n",
       "      <th>refundable_support_mk</th>\n",
       "      <th>nonrefundable_support_mk</th>\n",
       "      <th>budget_mk</th>\n",
       "      <th>box_office_mk</th>\n",
       "      <th>viewer_state</th>\n",
       "    </tr>\n",
       "  </thead>\n",
       "  <tbody>\n",
       "    <tr>\n",
       "      <td>89758</td>\n",
       "      <td>Холоп</td>\n",
       "      <td>NaN</td>\n",
       "      <td>111,021,719.0</td>\n",
       "      <td>2019-12-11 12:00:00</td>\n",
       "      <td>2019-12-19 12:00:00</td>\n",
       "      <td>5,467,435.0</td>\n",
       "      <td>художественный</td>\n",
       "      <td>Кино</td>\n",
       "      <td>1.0</td>\n",
       "      <td>1.0</td>\n",
       "      <td>49.0</td>\n",
       "      <td>[ооо \"мем-медиа\" по заказу ао \"вбд груп\"]</td>\n",
       "      <td>[россия]</td>\n",
       "      <td>2019</td>\n",
       "      <td>[к.шипенко]</td>\n",
       "      <td>[д.грацевич,  а.морозенко,  д.пермяков]</td>\n",
       "      <td>[э.илоян,  д.жалинский,  в.дусмухаметов,  т.ба...</td>\n",
       "      <td>[показ фильма в кинозале,  прокат фильма на ма...</td>\n",
       "      <td>12.0</td>\n",
       "      <td>[фонд кино]</td>\n",
       "      <td>[комедия]</td>\n",
       "      <td>Фонд кино</td>\n",
       "      <td>[ооо \"мем\"]</td>\n",
       "      <td>2019-12-26</td>\n",
       "      <td>25,000,000.0</td>\n",
       "      <td>35,000,000.0</td>\n",
       "      <td>160,000,000.0</td>\n",
       "      <td>3,073,806,945.9</td>\n",
       "      <td>11,639,702.0</td>\n",
       "    </tr>\n",
       "    <tr>\n",
       "      <td>85584</td>\n",
       "      <td>Движение вверх</td>\n",
       "      <td>NaN</td>\n",
       "      <td>111,011,817.0</td>\n",
       "      <td>2017-12-18 12:00:00</td>\n",
       "      <td>2017-12-21 12:00:00</td>\n",
       "      <td>2,450,517.0</td>\n",
       "      <td>художественный</td>\n",
       "      <td>Кино</td>\n",
       "      <td>1.0</td>\n",
       "      <td>2.0</td>\n",
       "      <td>14.0</td>\n",
       "      <td>[ооо \"студия \"тритэ\" никиты михалкова\"]</td>\n",
       "      <td>[россия]</td>\n",
       "      <td>2017</td>\n",
       "      <td>[а.мегердичев]</td>\n",
       "      <td>[н.куликов при участии а.курейчика]</td>\n",
       "      <td>[л.верещагин,  а.златопольский,  н.михалков,  ...</td>\n",
       "      <td>[показ фильма в кинозале,  прокат фильма на ма...</td>\n",
       "      <td>6.0</td>\n",
       "      <td>[фонд кино]</td>\n",
       "      <td>[спорт, драма]</td>\n",
       "      <td>Фонд кино</td>\n",
       "      <td>[ооо \"студия \"тритэ\" никиты михалкова\"]</td>\n",
       "      <td>2017-12-28</td>\n",
       "      <td>0.0</td>\n",
       "      <td>400,000,000.0</td>\n",
       "      <td>590,192,191.0</td>\n",
       "      <td>2,861,667,788.0</td>\n",
       "      <td>11,903,736.0</td>\n",
       "    </tr>\n",
       "    <tr>\n",
       "      <td>88049</td>\n",
       "      <td>Мстители: Финал</td>\n",
       "      <td>Avengers: Endgame</td>\n",
       "      <td>121,005,519.0</td>\n",
       "      <td>2019-03-21 12:00:00</td>\n",
       "      <td>2019-04-29 12:00:00</td>\n",
       "      <td>4,564,640.0</td>\n",
       "      <td>художественный</td>\n",
       "      <td>Кино</td>\n",
       "      <td>nan</td>\n",
       "      <td>3.0</td>\n",
       "      <td>3.0</td>\n",
       "      <td>[марвел студиос]</td>\n",
       "      <td>[сша]</td>\n",
       "      <td>2019</td>\n",
       "      <td>[джо руссо,  энтони руссо]</td>\n",
       "      <td>[стэн ли,  стивен макфили,  кристофер маркус]</td>\n",
       "      <td>[кевин фейги]</td>\n",
       "      <td>[показ фильма в кинозале]</td>\n",
       "      <td>16.0</td>\n",
       "      <td>NaN</td>\n",
       "      <td>[фантастика, боевик, драма]</td>\n",
       "      <td>NaN</td>\n",
       "      <td>NaN</td>\n",
       "      <td>NaT</td>\n",
       "      <td>nan</td>\n",
       "      <td>nan</td>\n",
       "      <td>nan</td>\n",
       "      <td>2,576,613,776.8</td>\n",
       "      <td>nan</td>\n",
       "    </tr>\n",
       "    <tr>\n",
       "      <td>87538</td>\n",
       "      <td>Т-34</td>\n",
       "      <td>NaN</td>\n",
       "      <td>111,024,918.0</td>\n",
       "      <td>2018-12-18 12:00:00</td>\n",
       "      <td>2018-12-21 12:00:00</td>\n",
       "      <td>4,389,523.0</td>\n",
       "      <td>художественный</td>\n",
       "      <td>Кино</td>\n",
       "      <td>1.0</td>\n",
       "      <td>2.0</td>\n",
       "      <td>19.0</td>\n",
       "      <td>[ооо \"кинокомпания марс-фильм\" по заказу ооо \"...</td>\n",
       "      <td>[россия]</td>\n",
       "      <td>2018</td>\n",
       "      <td>[а.сидоров]</td>\n",
       "      <td>[а.сидоров]</td>\n",
       "      <td>[а.златопольский,  р.дишдишян,  л.блаватник,  ...</td>\n",
       "      <td>[показ фильма в кинозале,  прокат фильма на ма...</td>\n",
       "      <td>12.0</td>\n",
       "      <td>[фонд кино]</td>\n",
       "      <td>[драма, военный, боевик]</td>\n",
       "      <td>Фонд кино</td>\n",
       "      <td>[ооо \"марс медиа энтертейнмент\"]</td>\n",
       "      <td>2019-01-01</td>\n",
       "      <td>60,000,000.0</td>\n",
       "      <td>120,000,000.0</td>\n",
       "      <td>563,784,717.0</td>\n",
       "      <td>2,271,595,679.8</td>\n",
       "      <td>8,819,706.0</td>\n",
       "    </tr>\n",
       "    <tr>\n",
       "      <td>14987</td>\n",
       "      <td>Пираты Карибского моря: Мертвецы не рассказыва...</td>\n",
       "      <td>Pirates of the Caribbean: Dead Men Tell No Tales</td>\n",
       "      <td>121,009,217.0</td>\n",
       "      <td>2017-05-17 12:00:00</td>\n",
       "      <td>2017-05-17 12:00:00</td>\n",
       "      <td>2,172,646.0</td>\n",
       "      <td>художественный</td>\n",
       "      <td>Кино</td>\n",
       "      <td>nan</td>\n",
       "      <td>2.0</td>\n",
       "      <td>8.0</td>\n",
       "      <td>[джерри брукхаймер филмз,  уолт дисней пикчерз...</td>\n",
       "      <td>[сша]</td>\n",
       "      <td>2017</td>\n",
       "      <td>[йоаким реннинг,  эспен сандберг]</td>\n",
       "      <td>[джефф натансон]</td>\n",
       "      <td>[джерри брукхаймер]</td>\n",
       "      <td>[показ фильма в кинозале]</td>\n",
       "      <td>16.0</td>\n",
       "      <td>NaN</td>\n",
       "      <td>[фэнтези, боевик, комедия]</td>\n",
       "      <td>NaN</td>\n",
       "      <td>NaN</td>\n",
       "      <td>NaT</td>\n",
       "      <td>nan</td>\n",
       "      <td>nan</td>\n",
       "      <td>nan</td>\n",
       "      <td>2,118,396,119.0</td>\n",
       "      <td>nan</td>\n",
       "    </tr>\n",
       "  </tbody>\n",
       "</table>\n",
       "</div>"
      ],
      "text/plain": [
       "                                                    name  \\\n",
       "89758                                              Холоп   \n",
       "85584                                     Движение вверх   \n",
       "88049                                    Мстители: Финал   \n",
       "87538                                               Т-34   \n",
       "14987  Пираты Карибского моря: Мертвецы не рассказыва...   \n",
       "\n",
       "                                           name_foreign     pu_number  \\\n",
       "89758                                               NaN 111,021,719.0   \n",
       "85584                                               NaN 111,011,817.0   \n",
       "88049                                 Avengers: Endgame 121,005,519.0   \n",
       "87538                                               NaN 111,024,918.0   \n",
       "14987  Pirates of the Caribbean: Dead Men Tell No Tales 121,009,217.0   \n",
       "\n",
       "              date_pu_reg      date_show_film   id_reestr       type_film  \\\n",
       "89758 2019-12-11 12:00:00 2019-12-19 12:00:00 5,467,435.0  художественный   \n",
       "85584 2017-12-18 12:00:00 2017-12-21 12:00:00 2,450,517.0  художественный   \n",
       "88049 2019-03-21 12:00:00 2019-04-29 12:00:00 4,564,640.0  художественный   \n",
       "87538 2018-12-18 12:00:00 2018-12-21 12:00:00 4,389,523.0  художественный   \n",
       "14987 2017-05-17 12:00:00 2017-05-17 12:00:00 2,172,646.0  художественный   \n",
       "\n",
       "      category_film  episodes  duration  duration_m  \\\n",
       "89758          Кино       1.0       1.0        49.0   \n",
       "85584          Кино       1.0       2.0        14.0   \n",
       "88049          Кино       nan       3.0         3.0   \n",
       "87538          Кино       1.0       2.0        19.0   \n",
       "14987          Кино       nan       2.0         8.0   \n",
       "\n",
       "                                                  studio   country  \\\n",
       "89758          [ооо \"мем-медиа\" по заказу ао \"вбд груп\"]  [россия]   \n",
       "85584            [ооо \"студия \"тритэ\" никиты михалкова\"]  [россия]   \n",
       "88049                                   [марвел студиос]     [сша]   \n",
       "87538  [ооо \"кинокомпания марс-фильм\" по заказу ооо \"...  [россия]   \n",
       "14987  [джерри брукхаймер филмз,  уолт дисней пикчерз...     [сша]   \n",
       "\n",
       "      year_production                           director  \\\n",
       "89758            2019                        [к.шипенко]   \n",
       "85584            2017                     [а.мегердичев]   \n",
       "88049            2019         [джо руссо,  энтони руссо]   \n",
       "87538            2018                        [а.сидоров]   \n",
       "14987            2017  [йоаким реннинг,  эспен сандберг]   \n",
       "\n",
       "                                        screenwriter  \\\n",
       "89758        [д.грацевич,  а.морозенко,  д.пермяков]   \n",
       "85584            [н.куликов при участии а.курейчика]   \n",
       "88049  [стэн ли,  стивен макфили,  кристофер маркус]   \n",
       "87538                                    [а.сидоров]   \n",
       "14987                               [джефф натансон]   \n",
       "\n",
       "                                                producer  \\\n",
       "89758  [э.илоян,  д.жалинский,  в.дусмухаметов,  т.ба...   \n",
       "85584  [л.верещагин,  а.златопольский,  н.михалков,  ...   \n",
       "88049                                      [кевин фейги]   \n",
       "87538  [а.златопольский,  р.дишдишян,  л.блаватник,  ...   \n",
       "14987                                [джерри брукхаймер]   \n",
       "\n",
       "                                            category_use  age_restriction  \\\n",
       "89758  [показ фильма в кинозале,  прокат фильма на ма...             12.0   \n",
       "85584  [показ фильма в кинозале,  прокат фильма на ма...              6.0   \n",
       "88049                          [показ фильма в кинозале]             16.0   \n",
       "87538  [показ фильма в кинозале,  прокат фильма на ма...             12.0   \n",
       "14987                          [показ фильма в кинозале]             16.0   \n",
       "\n",
       "      financing_source                       genres     source  \\\n",
       "89758      [фонд кино]                    [комедия]  Фонд кино   \n",
       "85584      [фонд кино]               [спорт, драма]  Фонд кино   \n",
       "88049              NaN  [фантастика, боевик, драма]        NaN   \n",
       "87538      [фонд кино]     [драма, военный, боевик]  Фонд кино   \n",
       "14987              NaN   [фэнтези, боевик, комедия]        NaN   \n",
       "\n",
       "                                   film_studio show_start_date  \\\n",
       "89758                              [ооо \"мем\"]      2019-12-26   \n",
       "85584  [ооо \"студия \"тритэ\" никиты михалкова\"]      2017-12-28   \n",
       "88049                                      NaN             NaT   \n",
       "87538         [ооо \"марс медиа энтертейнмент\"]      2019-01-01   \n",
       "14987                                      NaN             NaT   \n",
       "\n",
       "       refundable_support_mk  nonrefundable_support_mk     budget_mk  \\\n",
       "89758           25,000,000.0              35,000,000.0 160,000,000.0   \n",
       "85584                    0.0             400,000,000.0 590,192,191.0   \n",
       "88049                    nan                       nan           nan   \n",
       "87538           60,000,000.0             120,000,000.0 563,784,717.0   \n",
       "14987                    nan                       nan           nan   \n",
       "\n",
       "        box_office_mk  viewer_state  \n",
       "89758 3,073,806,945.9  11,639,702.0  \n",
       "85584 2,861,667,788.0  11,903,736.0  \n",
       "88049 2,576,613,776.8           nan  \n",
       "87538 2,271,595,679.8   8,819,706.0  \n",
       "14987 2,118,396,119.0           nan  "
      ]
     },
     "execution_count": 29,
     "metadata": {},
     "output_type": "execute_result"
    }
   ],
   "source": [
    "films_total.type_film = films_total.type_film.str.lower()\n",
    "films_total.studio = films_total.studio.str.lower().str.split(pat=',')\n",
    "films_total.producer = films_total.producer.str.lower().str.split(pat=',')\n",
    "films_total.director = films_total.director.str.lower().str.split(pat=',')\n",
    "films_total.screenwriter = films_total.screenwriter.str.lower().str.split(pat=',')\n",
    "films_total.category_use = films_total.category_use.str.lower().str.split(pat=',')\n",
    "films_total.financing_source = films_total.financing_source.str.lower().str.split(pat=',')\n",
    "films_total.film_studio = films_total.film_studio.str.lower().str.split(pat=',')\n",
    "films_total.country = films_total.country.str.lower().str.split(pat=' - ')\n",
    "films_total.genres = films_total.genres.str.lower().str.split(pat=',')\n",
    "#Пробовал рабивать данные сразу в нескольких столбцах, \n",
    "#и через срезы и через словари, ничего не получается,\n",
    "#при присвоении ошибка хеширования, так и не разобрался почему. \n",
    "#Например, пробовал вот так:\n",
    "#films_total[{'studio',\n",
    "#            'producer', \n",
    "#             'director', \n",
    "#             'screenwriter', \n",
    "#              'category_use',\n",
    "#            'financing_source',\n",
    "#            'film_studio'\n",
    "#            }].apply(lambda x: x.str.split(pat=','))\n",
    "films_total.head()\n"
   ]
  },
  {
   "cell_type": "markdown",
   "metadata": {
    "id": "8MJD_lkngFyP"
   },
   "source": [
    "#### Очистка категориальных значений\n",
    "Проверим категориальные значения на неявные дубликаты."
   ]
  },
  {
   "cell_type": "code",
   "execution_count": 30,
   "metadata": {},
   "outputs": [
    {
     "data": {
      "text/plain": [
       "'Уникальные значения в столбце type_film'"
      ]
     },
     "metadata": {},
     "output_type": "display_data"
    },
    {
     "data": {
      "text/plain": [
       "array(['художественный', 'анимационный', 'документальный', 'прочие',\n",
       "       'научно-популярный', 'прочее (учебный, спектакль, …)', nan,\n",
       "       'прочий', 'музыкально-развлекательный', 'кинопериодика'],\n",
       "      dtype=object)"
      ]
     },
     "metadata": {},
     "output_type": "display_data"
    },
    {
     "data": {
      "text/plain": [
       "'type_film'"
      ]
     },
     "metadata": {},
     "output_type": "display_data"
    },
    {
     "data": {
      "text/plain": [
       "array(['художественный', 'анимационный', 'документальный', 'прочие',\n",
       "       'научно-популярный', nan, 'музыкально-развлекательный',\n",
       "       'кинопериодика'], dtype=object)"
      ]
     },
     "metadata": {},
     "output_type": "display_data"
    },
    {
     "data": {
      "text/plain": [
       "'Уникальные значения в столбце age_restriction'"
      ]
     },
     "metadata": {},
     "output_type": "display_data"
    },
    {
     "data": {
      "text/plain": [
       "array([12.,  6., 16., 18., 14.,  0., nan])"
      ]
     },
     "metadata": {},
     "output_type": "display_data"
    }
   ],
   "source": [
    "films_total.type_film = films_total.type_film.str.lower()\n",
    "display('Уникальные значения в столбце type_film', films_total.type_film.unique())\n",
    "films_total.loc[films_total['type_film']==' художественный', 'type_film'] = 'художественный'\n",
    "films_total.loc[films_total['type_film']==' анимационный', 'type_film'] = 'анимационный'\n",
    "films_total.loc[(films_total['type_film']=='прочее (учебный, спектакль, …)')|\n",
    "                (films_total['type_film']=='прочий'), 'type_film'] = 'прочие'\n",
    "films_total.loc[films_total['type_film']=='документальный ', 'type_film'] = 'документальный' \n",
    "\n",
    "display('type_film', films_total.type_film.unique())\n",
    "display('Уникальные значения в столбце age_restriction', films_total.age_restriction.unique())"
   ]
  },
  {
   "cell_type": "markdown",
   "metadata": {},
   "source": [
    "#### Преобразование столбца duration\n",
    "В датафрейме длительность фильма разбита на минуты и часы. Оставим только полную длительность в минутах."
   ]
  },
  {
   "cell_type": "code",
   "execution_count": 31,
   "metadata": {
    "scrolled": false
   },
   "outputs": [],
   "source": [
    "# Если количество минут 60 и более, значит вся длительность уже пересчитана в минутах, и данные из столбца часов не нужны.\n",
    "films_total.loc[films_total['duration_m']>59, 'duration'] = 0\n",
    "films_total.duration_m = films_total.duration_m + films_total['duration']*60\n",
    "films_total.drop(axis='columns', labels='duration', inplace=True)\n"
   ]
  },
  {
   "cell_type": "markdown",
   "metadata": {
    "id": "XFSN5lrEgFyR"
   },
   "source": [
    "#### Анализ количественных значений на предмет выбросов и аномалий"
   ]
  },
  {
   "cell_type": "markdown",
   "metadata": {},
   "source": [
    "##### Анализ длительности ленты"
   ]
  },
  {
   "cell_type": "code",
   "execution_count": 32,
   "metadata": {
    "id": "YbzClBxagFyS"
   },
   "outputs": [
    {
     "data": {
      "text/plain": [
       "count   61,107.0\n",
       "mean       139.5\n",
       "std        290.1\n",
       "min          0.0\n",
       "25%         78.0\n",
       "50%         94.0\n",
       "75%        117.0\n",
       "max     17,333.0\n",
       "Name: duration_m, dtype: float64"
      ]
     },
     "execution_count": 32,
     "metadata": {},
     "output_type": "execute_result"
    }
   ],
   "source": [
    "films_total.duration_m.describe()"
   ]
  },
  {
   "cell_type": "markdown",
   "metadata": {},
   "source": [
    "По описанию основных статистических мер количественных значений видим, что средняя длительность смещена в стороны больших выбросов (медиана в полтора раза меньше среднего). Максимум - 17333 минуты. Скорее всего это связано с наличием в списке сериалов, исключим их из рассмотрения, и посмотрим статистику."
   ]
  },
  {
   "cell_type": "code",
   "execution_count": 33,
   "metadata": {},
   "outputs": [
    {
     "data": {
      "text/html": [
       "<div>\n",
       "<style scoped>\n",
       "    .dataframe tbody tr th:only-of-type {\n",
       "        vertical-align: middle;\n",
       "    }\n",
       "\n",
       "    .dataframe tbody tr th {\n",
       "        vertical-align: top;\n",
       "    }\n",
       "\n",
       "    .dataframe thead th {\n",
       "        text-align: right;\n",
       "    }\n",
       "</style>\n",
       "<table border=\"1\" class=\"dataframe\">\n",
       "  <thead>\n",
       "    <tr style=\"text-align: right;\">\n",
       "      <th></th>\n",
       "      <th>pu_number</th>\n",
       "      <th>id_reestr</th>\n",
       "      <th>episodes</th>\n",
       "      <th>duration_m</th>\n",
       "      <th>age_restriction</th>\n",
       "      <th>refundable_support_mk</th>\n",
       "      <th>nonrefundable_support_mk</th>\n",
       "      <th>budget_mk</th>\n",
       "      <th>box_office_mk</th>\n",
       "      <th>viewer_state</th>\n",
       "    </tr>\n",
       "  </thead>\n",
       "  <tbody>\n",
       "    <tr>\n",
       "      <td>count</td>\n",
       "      <td>17,994.0</td>\n",
       "      <td>17,994.0</td>\n",
       "      <td>17,994.0</td>\n",
       "      <td>16,496.0</td>\n",
       "      <td>17,994.0</td>\n",
       "      <td>245.0</td>\n",
       "      <td>304.0</td>\n",
       "      <td>299.0</td>\n",
       "      <td>1,926.0</td>\n",
       "      <td>231.0</td>\n",
       "    </tr>\n",
       "    <tr>\n",
       "      <td>mean</td>\n",
       "      <td>187,219,875.9</td>\n",
       "      <td>2,763,773.3</td>\n",
       "      <td>1.0</td>\n",
       "      <td>77.9</td>\n",
       "      <td>10.2</td>\n",
       "      <td>14,613,877.6</td>\n",
       "      <td>50,753,918.1</td>\n",
       "      <td>130,673,585.4</td>\n",
       "      <td>43,157,092.3</td>\n",
       "      <td>625,786.5</td>\n",
       "    </tr>\n",
       "    <tr>\n",
       "      <td>std</td>\n",
       "      <td>50,955,731.3</td>\n",
       "      <td>1,297,627.2</td>\n",
       "      <td>0.0</td>\n",
       "      <td>43.5</td>\n",
       "      <td>6.5</td>\n",
       "      <td>26,565,973.1</td>\n",
       "      <td>60,689,526.8</td>\n",
       "      <td>187,110,671.8</td>\n",
       "      <td>188,465,159.1</td>\n",
       "      <td>1,594,289.6</td>\n",
       "    </tr>\n",
       "    <tr>\n",
       "      <td>min</td>\n",
       "      <td>1,101,195.0</td>\n",
       "      <td>2,157,029.0</td>\n",
       "      <td>1.0</td>\n",
       "      <td>0.0</td>\n",
       "      <td>0.0</td>\n",
       "      <td>0.0</td>\n",
       "      <td>0.0</td>\n",
       "      <td>0.0</td>\n",
       "      <td>0.0</td>\n",
       "      <td>94.0</td>\n",
       "    </tr>\n",
       "    <tr>\n",
       "      <td>25%</td>\n",
       "      <td>121,029,617.0</td>\n",
       "      <td>2,171,171.2</td>\n",
       "      <td>1.0</td>\n",
       "      <td>46.0</td>\n",
       "      <td>0.0</td>\n",
       "      <td>0.0</td>\n",
       "      <td>25,000,000.0</td>\n",
       "      <td>46,153,866.5</td>\n",
       "      <td>2,011.2</td>\n",
       "      <td>7,439.5</td>\n",
       "    </tr>\n",
       "    <tr>\n",
       "      <td>50%</td>\n",
       "      <td>212,029,613.0</td>\n",
       "      <td>2,191,211.5</td>\n",
       "      <td>1.0</td>\n",
       "      <td>87.0</td>\n",
       "      <td>12.0</td>\n",
       "      <td>0.0</td>\n",
       "      <td>30,000,000.0</td>\n",
       "      <td>69,883,049.0</td>\n",
       "      <td>51,400.0</td>\n",
       "      <td>75,944.0</td>\n",
       "    </tr>\n",
       "    <tr>\n",
       "      <td>75%</td>\n",
       "      <td>221,020,614.8</td>\n",
       "      <td>2,222,597.2</td>\n",
       "      <td>1.0</td>\n",
       "      <td>100.0</td>\n",
       "      <td>16.0</td>\n",
       "      <td>20,000,000.0</td>\n",
       "      <td>50,000,000.0</td>\n",
       "      <td>152,173,234.5</td>\n",
       "      <td>4,125,629.1</td>\n",
       "      <td>429,477.0</td>\n",
       "    </tr>\n",
       "    <tr>\n",
       "      <td>max</td>\n",
       "      <td>2,170,110,013.0</td>\n",
       "      <td>6,928,803.0</td>\n",
       "      <td>1.0</td>\n",
       "      <td>1,344.0</td>\n",
       "      <td>18.0</td>\n",
       "      <td>180,000,000.0</td>\n",
       "      <td>400,000,000.0</td>\n",
       "      <td>2,305,074,303.0</td>\n",
       "      <td>3,073,806,945.9</td>\n",
       "      <td>11,903,736.0</td>\n",
       "    </tr>\n",
       "  </tbody>\n",
       "</table>\n",
       "</div>"
      ],
      "text/plain": [
       "            pu_number   id_reestr  episodes  duration_m  age_restriction  \\\n",
       "count        17,994.0    17,994.0  17,994.0    16,496.0         17,994.0   \n",
       "mean    187,219,875.9 2,763,773.3       1.0        77.9             10.2   \n",
       "std      50,955,731.3 1,297,627.2       0.0        43.5              6.5   \n",
       "min       1,101,195.0 2,157,029.0       1.0         0.0              0.0   \n",
       "25%     121,029,617.0 2,171,171.2       1.0        46.0              0.0   \n",
       "50%     212,029,613.0 2,191,211.5       1.0        87.0             12.0   \n",
       "75%     221,020,614.8 2,222,597.2       1.0       100.0             16.0   \n",
       "max   2,170,110,013.0 6,928,803.0       1.0     1,344.0             18.0   \n",
       "\n",
       "       refundable_support_mk  nonrefundable_support_mk       budget_mk  \\\n",
       "count                  245.0                     304.0           299.0   \n",
       "mean            14,613,877.6              50,753,918.1   130,673,585.4   \n",
       "std             26,565,973.1              60,689,526.8   187,110,671.8   \n",
       "min                      0.0                       0.0             0.0   \n",
       "25%                      0.0              25,000,000.0    46,153,866.5   \n",
       "50%                      0.0              30,000,000.0    69,883,049.0   \n",
       "75%             20,000,000.0              50,000,000.0   152,173,234.5   \n",
       "max            180,000,000.0             400,000,000.0 2,305,074,303.0   \n",
       "\n",
       "        box_office_mk  viewer_state  \n",
       "count         1,926.0         231.0  \n",
       "mean     43,157,092.3     625,786.5  \n",
       "std     188,465,159.1   1,594,289.6  \n",
       "min               0.0          94.0  \n",
       "25%           2,011.2       7,439.5  \n",
       "50%          51,400.0      75,944.0  \n",
       "75%       4,125,629.1     429,477.0  \n",
       "max   3,073,806,945.9  11,903,736.0  "
      ]
     },
     "execution_count": 33,
     "metadata": {},
     "output_type": "execute_result"
    }
   ],
   "source": [
    "films_total.query('episodes==1').describe()"
   ]
  },
  {
   "cell_type": "markdown",
   "metadata": {},
   "source": [
    "Так и есть, средняя длительность для моноэпизодических картин составляет 77 минут, медианная 87 минут. Проверим этот раздел на выбросы, сделав срез по картине. В рамках нашего исследования нам надо рассматривать влияние параметров картины на ее бюджет. Соответственно можем создать отдельный датафрейм, со значениями сборов и дальше уже работать с ним."
   ]
  },
  {
   "cell_type": "code",
   "execution_count": 34,
   "metadata": {
    "scrolled": true
   },
   "outputs": [
    {
     "data": {
      "text/plain": [
       "<matplotlib.axes._subplots.AxesSubplot at 0x7fc8010fb290>"
      ]
     },
     "execution_count": 34,
     "metadata": {},
     "output_type": "execute_result"
    },
    {
     "data": {
      "image/png": "[encoded data removed]",
      "text/plain": [
       "<Figure size 432x288 with 1 Axes>"
      ]
     },
     "metadata": {
      "needs_background": "light"
     },
     "output_type": "display_data"
    },
    {
     "data": {
      "image/png": "[encoded data removed]",
      "text/plain": [
       "<Figure size 432x288 with 1 Axes>"
      ]
     },
     "metadata": {
      "needs_background": "light"
     },
     "output_type": "display_data"
    }
   ],
   "source": [
    "# Посмотрим значения для лент с 1 эпизодом\n",
    "films_total.query('(episodes==1) and (box_office_mk>0)')['duration_m'].plot(kind='hist', bins=100, grid=True)\n",
    "#Посмотрим распределение длительности для сериалов со средней длиной, до 200 эпизодов\n",
    "films_total.query('box_office_mk>0 and episodes<60').plot(kind='scatter', x='duration_m', y='episodes', grid=True)"
   ]
  },
  {
   "cell_type": "markdown",
   "metadata": {},
   "source": [
    "\n",
    "Видим, что распределение длительности идет без критичных выбросов, идет пик распределения на 90 и 45 минут, что согласуется с длиной полнометражных фильмов и фильмов тв-формата.\n",
    "\n",
    "Создадим отдельный датафрейм со срезом по наличию box_office."
   ]
  },
  {
   "cell_type": "code",
   "execution_count": 35,
   "metadata": {},
   "outputs": [
    {
     "data": {
      "text/html": [
       "<div>\n",
       "<style scoped>\n",
       "    .dataframe tbody tr th:only-of-type {\n",
       "        vertical-align: middle;\n",
       "    }\n",
       "\n",
       "    .dataframe tbody tr th {\n",
       "        vertical-align: top;\n",
       "    }\n",
       "\n",
       "    .dataframe thead th {\n",
       "        text-align: right;\n",
       "    }\n",
       "</style>\n",
       "<table border=\"1\" class=\"dataframe\">\n",
       "  <thead>\n",
       "    <tr style=\"text-align: right;\">\n",
       "      <th></th>\n",
       "      <th>pu_number</th>\n",
       "      <th>id_reestr</th>\n",
       "      <th>episodes</th>\n",
       "      <th>duration_m</th>\n",
       "      <th>age_restriction</th>\n",
       "      <th>refundable_support_mk</th>\n",
       "      <th>nonrefundable_support_mk</th>\n",
       "      <th>budget_mk</th>\n",
       "      <th>box_office_mk</th>\n",
       "      <th>viewer_state</th>\n",
       "    </tr>\n",
       "  </thead>\n",
       "  <tbody>\n",
       "    <tr>\n",
       "      <td>count</td>\n",
       "      <td>5,683.0</td>\n",
       "      <td>5,683.0</td>\n",
       "      <td>2,169.0</td>\n",
       "      <td>5,318.0</td>\n",
       "      <td>5,680.0</td>\n",
       "      <td>381.0</td>\n",
       "      <td>514.0</td>\n",
       "      <td>506.0</td>\n",
       "      <td>5,683.0</td>\n",
       "      <td>394.0</td>\n",
       "    </tr>\n",
       "    <tr>\n",
       "      <td>mean</td>\n",
       "      <td>140,726,299.0</td>\n",
       "      <td>2,673,364.3</td>\n",
       "      <td>1.8</td>\n",
       "      <td>103.3</td>\n",
       "      <td>11.0</td>\n",
       "      <td>16,056,569.9</td>\n",
       "      <td>56,397,698.7</td>\n",
       "      <td>139,271,685.3</td>\n",
       "      <td>47,818,009.6</td>\n",
       "      <td>596,070.6</td>\n",
       "    </tr>\n",
       "    <tr>\n",
       "      <td>std</td>\n",
       "      <td>52,204,070.5</td>\n",
       "      <td>1,016,003.0</td>\n",
       "      <td>6.4</td>\n",
       "      <td>153.2</td>\n",
       "      <td>6.7</td>\n",
       "      <td>29,206,632.1</td>\n",
       "      <td>74,887,457.6</td>\n",
       "      <td>197,469,754.8</td>\n",
       "      <td>193,446,051.4</td>\n",
       "      <td>1,398,571.3</td>\n",
       "    </tr>\n",
       "    <tr>\n",
       "      <td>min</td>\n",
       "      <td>1,101,395.0</td>\n",
       "      <td>2,157,036.0</td>\n",
       "      <td>1.0</td>\n",
       "      <td>3.0</td>\n",
       "      <td>0.0</td>\n",
       "      <td>0.0</td>\n",
       "      <td>0.0</td>\n",
       "      <td>0.0</td>\n",
       "      <td>20.0</td>\n",
       "      <td>30.0</td>\n",
       "    </tr>\n",
       "    <tr>\n",
       "      <td>25%</td>\n",
       "      <td>111,051,455.0</td>\n",
       "      <td>2,170,721.5</td>\n",
       "      <td>1.0</td>\n",
       "      <td>87.0</td>\n",
       "      <td>6.0</td>\n",
       "      <td>0.0</td>\n",
       "      <td>25,000,000.0</td>\n",
       "      <td>46,153,856.2</td>\n",
       "      <td>2,080.0</td>\n",
       "      <td>6,565.0</td>\n",
       "    </tr>\n",
       "    <tr>\n",
       "      <td>50%</td>\n",
       "      <td>121,020,317.0</td>\n",
       "      <td>2,195,478.0</td>\n",
       "      <td>1.0</td>\n",
       "      <td>96.0</td>\n",
       "      <td>12.0</td>\n",
       "      <td>0.0</td>\n",
       "      <td>30,000,000.0</td>\n",
       "      <td>70,043,219.5</td>\n",
       "      <td>51,550.0</td>\n",
       "      <td>65,852.5</td>\n",
       "    </tr>\n",
       "    <tr>\n",
       "      <td>75%</td>\n",
       "      <td>211,028,361.5</td>\n",
       "      <td>2,244,122.5</td>\n",
       "      <td>1.0</td>\n",
       "      <td>110.0</td>\n",
       "      <td>16.0</td>\n",
       "      <td>20,000,000.0</td>\n",
       "      <td>50,000,000.0</td>\n",
       "      <td>150,135,822.0</td>\n",
       "      <td>4,925,187.0</td>\n",
       "      <td>438,990.8</td>\n",
       "    </tr>\n",
       "    <tr>\n",
       "      <td>max</td>\n",
       "      <td>236,001,106.0</td>\n",
       "      <td>6,814,194.0</td>\n",
       "      <td>254.0</td>\n",
       "      <td>10,668.0</td>\n",
       "      <td>18.0</td>\n",
       "      <td>200,000,000.0</td>\n",
       "      <td>613,000,000.0</td>\n",
       "      <td>2,305,074,303.0</td>\n",
       "      <td>3,073,806,945.9</td>\n",
       "      <td>11,903,736.0</td>\n",
       "    </tr>\n",
       "  </tbody>\n",
       "</table>\n",
       "</div>"
      ],
      "text/plain": [
       "          pu_number   id_reestr  episodes  duration_m  age_restriction  \\\n",
       "count       5,683.0     5,683.0   2,169.0     5,318.0          5,680.0   \n",
       "mean  140,726,299.0 2,673,364.3       1.8       103.3             11.0   \n",
       "std    52,204,070.5 1,016,003.0       6.4       153.2              6.7   \n",
       "min     1,101,395.0 2,157,036.0       1.0         3.0              0.0   \n",
       "25%   111,051,455.0 2,170,721.5       1.0        87.0              6.0   \n",
       "50%   121,020,317.0 2,195,478.0       1.0        96.0             12.0   \n",
       "75%   211,028,361.5 2,244,122.5       1.0       110.0             16.0   \n",
       "max   236,001,106.0 6,814,194.0     254.0    10,668.0             18.0   \n",
       "\n",
       "       refundable_support_mk  nonrefundable_support_mk       budget_mk  \\\n",
       "count                  381.0                     514.0           506.0   \n",
       "mean            16,056,569.9              56,397,698.7   139,271,685.3   \n",
       "std             29,206,632.1              74,887,457.6   197,469,754.8   \n",
       "min                      0.0                       0.0             0.0   \n",
       "25%                      0.0              25,000,000.0    46,153,856.2   \n",
       "50%                      0.0              30,000,000.0    70,043,219.5   \n",
       "75%             20,000,000.0              50,000,000.0   150,135,822.0   \n",
       "max            200,000,000.0             613,000,000.0 2,305,074,303.0   \n",
       "\n",
       "        box_office_mk  viewer_state  \n",
       "count         5,683.0         394.0  \n",
       "mean     47,818,009.6     596,070.6  \n",
       "std     193,446,051.4   1,398,571.3  \n",
       "min              20.0          30.0  \n",
       "25%           2,080.0       6,565.0  \n",
       "50%          51,550.0      65,852.5  \n",
       "75%       4,925,187.0     438,990.8  \n",
       "max   3,073,806,945.9  11,903,736.0  "
      ]
     },
     "execution_count": 35,
     "metadata": {},
     "output_type": "execute_result"
    }
   ],
   "source": [
    "films_total_box = films_total.query('box_office_mk>0')\n",
    "films_total_box.describe()"
   ]
  },
  {
   "cell_type": "markdown",
   "metadata": {},
   "source": [
    "Посмотрим есть ли зависимость между длительностью ленты и сборами фильма."
   ]
  },
  {
   "cell_type": "code",
   "execution_count": 36,
   "metadata": {},
   "outputs": [
    {
     "data": {
      "text/plain": [
       "<matplotlib.axes._subplots.AxesSubplot at 0x7fc809d8ee10>"
      ]
     },
     "execution_count": 36,
     "metadata": {},
     "output_type": "execute_result"
    },
    {
     "data": {
      "image/png": "[encoded data removed]",
      "text/plain": [
       "<Figure size 432x288 with 1 Axes>"
      ]
     },
     "metadata": {
      "needs_background": "light"
     },
     "output_type": "display_data"
    }
   ],
   "source": [
    "films_total_box.query('episodes==1 and box_office_mk<1000000000').plot(kind='scatter', x='duration_m', y='box_office_mk', grid=True)"
   ]
  },
  {
   "cell_type": "markdown",
   "metadata": {},
   "source": [
    "Ленты короче 70 минут и длиннее 150 минут не показывают больших сборов. Посмотрим, как менялись количество и средняя длительность вышедших в прокат успешных лент, собравших хотя бы 50 миллионов рублей"
   ]
  },
  {
   "cell_type": "code",
   "execution_count": 37,
   "metadata": {},
   "outputs": [
    {
     "data": {
      "text/html": [
       "<div>\n",
       "<style scoped>\n",
       "    .dataframe tbody tr th:only-of-type {\n",
       "        vertical-align: middle;\n",
       "    }\n",
       "\n",
       "    .dataframe tbody tr th {\n",
       "        vertical-align: top;\n",
       "    }\n",
       "\n",
       "    .dataframe thead th {\n",
       "        text-align: right;\n",
       "    }\n",
       "</style>\n",
       "<table border=\"1\" class=\"dataframe\">\n",
       "  <thead>\n",
       "    <tr style=\"text-align: right;\">\n",
       "      <th></th>\n",
       "      <th>count</th>\n",
       "      <th>mean</th>\n",
       "    </tr>\n",
       "    <tr>\n",
       "      <th>date_show_film</th>\n",
       "      <th></th>\n",
       "      <th></th>\n",
       "    </tr>\n",
       "  </thead>\n",
       "  <tbody>\n",
       "    <tr>\n",
       "      <td>2,006.0</td>\n",
       "      <td>1</td>\n",
       "      <td>82.0</td>\n",
       "    </tr>\n",
       "    <tr>\n",
       "      <td>2,008.0</td>\n",
       "      <td>1</td>\n",
       "      <td>100.0</td>\n",
       "    </tr>\n",
       "    <tr>\n",
       "      <td>2,014.0</td>\n",
       "      <td>10</td>\n",
       "      <td>106.0</td>\n",
       "    </tr>\n",
       "    <tr>\n",
       "      <td>2,015.0</td>\n",
       "      <td>48</td>\n",
       "      <td>103.9</td>\n",
       "    </tr>\n",
       "    <tr>\n",
       "      <td>2,016.0</td>\n",
       "      <td>34</td>\n",
       "      <td>108.6</td>\n",
       "    </tr>\n",
       "    <tr>\n",
       "      <td>2,017.0</td>\n",
       "      <td>29</td>\n",
       "      <td>104.3</td>\n",
       "    </tr>\n",
       "    <tr>\n",
       "      <td>2,018.0</td>\n",
       "      <td>31</td>\n",
       "      <td>97.2</td>\n",
       "    </tr>\n",
       "    <tr>\n",
       "      <td>2,019.0</td>\n",
       "      <td>49</td>\n",
       "      <td>103.0</td>\n",
       "    </tr>\n",
       "    <tr>\n",
       "      <td>2,020.0</td>\n",
       "      <td>8</td>\n",
       "      <td>105.8</td>\n",
       "    </tr>\n",
       "    <tr>\n",
       "      <td>2,021.0</td>\n",
       "      <td>9</td>\n",
       "      <td>98.7</td>\n",
       "    </tr>\n",
       "  </tbody>\n",
       "</table>\n",
       "</div>"
      ],
      "text/plain": [
       "                count  mean\n",
       "date_show_film             \n",
       "2,006.0             1  82.0\n",
       "2,008.0             1 100.0\n",
       "2,014.0            10 106.0\n",
       "2,015.0            48 103.9\n",
       "2,016.0            34 108.6\n",
       "2,017.0            29 104.3\n",
       "2,018.0            31  97.2\n",
       "2,019.0            49 103.0\n",
       "2,020.0             8 105.8\n",
       "2,021.0             9  98.7"
      ]
     },
     "execution_count": 37,
     "metadata": {},
     "output_type": "execute_result"
    },
    {
     "data": {
      "image/png": "[encoded data removed]",
      "text/plain": [
       "<Figure size 648x288 with 1 Axes>"
      ]
     },
     "metadata": {
      "needs_background": "light"
     },
     "output_type": "display_data"
    }
   ],
   "source": [
    "films_total_box.query('episodes==1 and box_office_mk>50000000'              #Нас интересуют только ленты с 1 эпизодом                         \n",
    "                     ).groupby(films_total_box['date_show_film'].dt.year# группируем по году выхода фильма в прокат\n",
    "                     ).aggregate(['count','mean']                     # используем две функции, среднее и количество \n",
    "                     )['duration_m'              # для столбца длительность\n",
    "                     ].plot(kind='bar', \n",
    "                            grid=True, \n",
    "                            figsize=(9,4),\n",
    "                           )\n",
    "films_total_box.query('episodes==1 and box_office_mk>50000000'              #Нас интересуют только ленты с 1 эпизодом                         \n",
    "                     ).groupby(films_total_box['date_show_film'].dt.year# группируем по году выхода фильма в прокат\n",
    "                     ).aggregate(['count','mean']                     # используем две функции, среднее и количество \n",
    "                     )['duration_m'              # для столбца длительность\n",
    "                     ]"
   ]
  },
  {
   "cell_type": "markdown",
   "metadata": {},
   "source": [
    "###### Вывод\n",
    "Видим, что средняя длительность успешных лент в прокате плавно увеличивалась к 2016 году до 110 минут, и потом лежала в диапазоне 95-105 минут до 2019 года. Данные по 2020 и 2021 году менее содержательны (менее 10 успешных картин) поэтому они могут искажать среднее в силу меньшего количества значений."
   ]
  },
  {
   "cell_type": "markdown",
   "metadata": {},
   "source": [
    "##### Анализ количественных показателей бюджета и господдержки\n",
    "В данном разделе проверим, нет ли ошибок в данных о господдержке, "
   ]
  },
  {
   "cell_type": "code",
   "execution_count": 38,
   "metadata": {},
   "outputs": [
    {
     "data": {
      "text/html": [
       "<div>\n",
       "<style scoped>\n",
       "    .dataframe tbody tr th:only-of-type {\n",
       "        vertical-align: middle;\n",
       "    }\n",
       "\n",
       "    .dataframe tbody tr th {\n",
       "        vertical-align: top;\n",
       "    }\n",
       "\n",
       "    .dataframe thead th {\n",
       "        text-align: right;\n",
       "    }\n",
       "</style>\n",
       "<table border=\"1\" class=\"dataframe\">\n",
       "  <thead>\n",
       "    <tr style=\"text-align: right;\">\n",
       "      <th></th>\n",
       "      <th>nonrefundable_support_mk</th>\n",
       "      <th>refundable_support_mk</th>\n",
       "      <th>budget_mk</th>\n",
       "    </tr>\n",
       "  </thead>\n",
       "  <tbody>\n",
       "    <tr>\n",
       "      <td>count</td>\n",
       "      <td>518.0</td>\n",
       "      <td>384.0</td>\n",
       "      <td>510.0</td>\n",
       "    </tr>\n",
       "    <tr>\n",
       "      <td>mean</td>\n",
       "      <td>56,122,426.9</td>\n",
       "      <td>15,931,127.9</td>\n",
       "      <td>138,507,003.4</td>\n",
       "    </tr>\n",
       "    <tr>\n",
       "      <td>std</td>\n",
       "      <td>74,668,213.8</td>\n",
       "      <td>29,126,437.0</td>\n",
       "      <td>196,881,212.2</td>\n",
       "    </tr>\n",
       "    <tr>\n",
       "      <td>min</td>\n",
       "      <td>0.0</td>\n",
       "      <td>0.0</td>\n",
       "      <td>0.0</td>\n",
       "    </tr>\n",
       "    <tr>\n",
       "      <td>25%</td>\n",
       "      <td>25,000,000.0</td>\n",
       "      <td>0.0</td>\n",
       "      <td>45,653,991.2</td>\n",
       "    </tr>\n",
       "    <tr>\n",
       "      <td>50%</td>\n",
       "      <td>30,000,000.0</td>\n",
       "      <td>0.0</td>\n",
       "      <td>69,655,888.5</td>\n",
       "    </tr>\n",
       "    <tr>\n",
       "      <td>75%</td>\n",
       "      <td>50,000,000.0</td>\n",
       "      <td>20,000,000.0</td>\n",
       "      <td>150,077,729.8</td>\n",
       "    </tr>\n",
       "    <tr>\n",
       "      <td>max</td>\n",
       "      <td>613,000,000.0</td>\n",
       "      <td>200,000,000.0</td>\n",
       "      <td>2,305,074,303.0</td>\n",
       "    </tr>\n",
       "  </tbody>\n",
       "</table>\n",
       "</div>"
      ],
      "text/plain": [
       "       nonrefundable_support_mk  refundable_support_mk       budget_mk\n",
       "count                     518.0                  384.0           510.0\n",
       "mean               56,122,426.9           15,931,127.9   138,507,003.4\n",
       "std                74,668,213.8           29,126,437.0   196,881,212.2\n",
       "min                         0.0                    0.0             0.0\n",
       "25%                25,000,000.0                    0.0    45,653,991.2\n",
       "50%                30,000,000.0                    0.0    69,655,888.5\n",
       "75%                50,000,000.0           20,000,000.0   150,077,729.8\n",
       "max               613,000,000.0          200,000,000.0 2,305,074,303.0"
      ]
     },
     "execution_count": 38,
     "metadata": {},
     "output_type": "execute_result"
    }
   ],
   "source": [
    "films_total[{'budget_mk','refundable_support_mk','nonrefundable_support_mk'}].describe()"
   ]
  },
  {
   "cell_type": "markdown",
   "metadata": {},
   "source": [
    "Основные статистические показатели выглядят нормально. В возвратной гос.поддержке идет перекос в сторону верхний децилей, обусловленный большим количеством нулевых значений.\n",
    "\n",
    "Рассмотрим, нет ли ошибок в данных. По умолчанию, объем господдержки не может превышать общего бюджета. Проверим, действует ли это для данного датафрейма."
   ]
  },
  {
   "cell_type": "code",
   "execution_count": 39,
   "metadata": {},
   "outputs": [
    {
     "data": {
      "text/plain": [
       "17"
      ]
     },
     "execution_count": 39,
     "metadata": {},
     "output_type": "execute_result"
    }
   ],
   "source": [
    "_ = films_total['budget_mk']<(films_total['refundable_support_mk']+films_total['nonrefundable_support_mk'])\n",
    "_.sum() "
   ]
  },
  {
   "cell_type": "markdown",
   "metadata": {},
   "source": [
    "Таких значений 17. Выведем их на экран."
   ]
  },
  {
   "cell_type": "code",
   "execution_count": 40,
   "metadata": {
    "scrolled": true
   },
   "outputs": [
    {
     "data": {
      "text/html": [
       "<div>\n",
       "<style scoped>\n",
       "    .dataframe tbody tr th:only-of-type {\n",
       "        vertical-align: middle;\n",
       "    }\n",
       "\n",
       "    .dataframe tbody tr th {\n",
       "        vertical-align: top;\n",
       "    }\n",
       "\n",
       "    .dataframe thead th {\n",
       "        text-align: right;\n",
       "    }\n",
       "</style>\n",
       "<table border=\"1\" class=\"dataframe\">\n",
       "  <thead>\n",
       "    <tr style=\"text-align: right;\">\n",
       "      <th></th>\n",
       "      <th>nonrefundable_support_mk</th>\n",
       "      <th>refundable_support_mk</th>\n",
       "      <th>name</th>\n",
       "      <th>budget_mk</th>\n",
       "    </tr>\n",
       "  </thead>\n",
       "  <tbody>\n",
       "    <tr>\n",
       "      <td>15202</td>\n",
       "      <td>250,000,000.0</td>\n",
       "      <td>0.0</td>\n",
       "      <td>Притяжение (2016)</td>\n",
       "      <td>0.0</td>\n",
       "    </tr>\n",
       "    <tr>\n",
       "      <td>9245</td>\n",
       "      <td>75,000,000.0</td>\n",
       "      <td>0.0</td>\n",
       "      <td>Дуxless 2</td>\n",
       "      <td>0.0</td>\n",
       "    </tr>\n",
       "    <tr>\n",
       "      <td>85647</td>\n",
       "      <td>40,000,000.0</td>\n",
       "      <td>20,000,000.0</td>\n",
       "      <td>Селфи</td>\n",
       "      <td>0.0</td>\n",
       "    </tr>\n",
       "    <tr>\n",
       "      <td>11097</td>\n",
       "      <td>70,000,000.0</td>\n",
       "      <td>10,000,000.0</td>\n",
       "      <td>Воин (2015)</td>\n",
       "      <td>0.0</td>\n",
       "    </tr>\n",
       "    <tr>\n",
       "      <td>11635</td>\n",
       "      <td>100,000,000.0</td>\n",
       "      <td>60,000,000.0</td>\n",
       "      <td>Савва. Сердце воина</td>\n",
       "      <td>0.0</td>\n",
       "    </tr>\n",
       "    <tr>\n",
       "      <td>88054</td>\n",
       "      <td>120,000,000.0</td>\n",
       "      <td>60,000,000.0</td>\n",
       "      <td>Большое путешествие</td>\n",
       "      <td>0.0</td>\n",
       "    </tr>\n",
       "    <tr>\n",
       "      <td>86025</td>\n",
       "      <td>60,000,000.0</td>\n",
       "      <td>10,000,000.0</td>\n",
       "      <td>Два хвоста</td>\n",
       "      <td>0.0</td>\n",
       "    </tr>\n",
       "    <tr>\n",
       "      <td>86549</td>\n",
       "      <td>40,000,000.0</td>\n",
       "      <td>40,000,000.0</td>\n",
       "      <td>Принцесса и дракон</td>\n",
       "      <td>0.0</td>\n",
       "    </tr>\n",
       "    <tr>\n",
       "      <td>12457</td>\n",
       "      <td>35,000,000.0</td>\n",
       "      <td>0.0</td>\n",
       "      <td>Срочно выйду замуж</td>\n",
       "      <td>0.0</td>\n",
       "    </tr>\n",
       "    <tr>\n",
       "      <td>13396</td>\n",
       "      <td>51,000,000.0</td>\n",
       "      <td>19,000,000.0</td>\n",
       "      <td>Любовь с ограничениями</td>\n",
       "      <td>0.0</td>\n",
       "    </tr>\n",
       "    <tr>\n",
       "      <td>11296</td>\n",
       "      <td>0.0</td>\n",
       "      <td>20,000,000.0</td>\n",
       "      <td>Бармен.</td>\n",
       "      <td>0.0</td>\n",
       "    </tr>\n",
       "    <tr>\n",
       "      <td>15506</td>\n",
       "      <td>20,000,000.0</td>\n",
       "      <td>20,000,000.0</td>\n",
       "      <td>Чудо-юдо</td>\n",
       "      <td>0.0</td>\n",
       "    </tr>\n",
       "    <tr>\n",
       "      <td>15765</td>\n",
       "      <td>20,000,000.0</td>\n",
       "      <td>25,000,000.0</td>\n",
       "      <td>Мифы</td>\n",
       "      <td>0.0</td>\n",
       "    </tr>\n",
       "    <tr>\n",
       "      <td>12852</td>\n",
       "      <td>6,000,000.0</td>\n",
       "      <td>0.0</td>\n",
       "      <td>Помню - не помню!</td>\n",
       "      <td>0.0</td>\n",
       "    </tr>\n",
       "    <tr>\n",
       "      <td>9197</td>\n",
       "      <td>23,000,000.0</td>\n",
       "      <td>0.0</td>\n",
       "      <td>14+</td>\n",
       "      <td>0.0</td>\n",
       "    </tr>\n",
       "    <tr>\n",
       "      <td>11904</td>\n",
       "      <td>59,000,000.0</td>\n",
       "      <td>0.0</td>\n",
       "      <td>Тряпичный союз</td>\n",
       "      <td>0.0</td>\n",
       "    </tr>\n",
       "    <tr>\n",
       "      <td>87116</td>\n",
       "      <td>138,969,465.0</td>\n",
       "      <td>0.0</td>\n",
       "      <td>Баба Яга</td>\n",
       "      <td>0.0</td>\n",
       "    </tr>\n",
       "  </tbody>\n",
       "</table>\n",
       "</div>"
      ],
      "text/plain": [
       "       nonrefundable_support_mk  refundable_support_mk  \\\n",
       "15202             250,000,000.0                    0.0   \n",
       "9245               75,000,000.0                    0.0   \n",
       "85647              40,000,000.0           20,000,000.0   \n",
       "11097              70,000,000.0           10,000,000.0   \n",
       "11635             100,000,000.0           60,000,000.0   \n",
       "88054             120,000,000.0           60,000,000.0   \n",
       "86025              60,000,000.0           10,000,000.0   \n",
       "86549              40,000,000.0           40,000,000.0   \n",
       "12457              35,000,000.0                    0.0   \n",
       "13396              51,000,000.0           19,000,000.0   \n",
       "11296                       0.0           20,000,000.0   \n",
       "15506              20,000,000.0           20,000,000.0   \n",
       "15765              20,000,000.0           25,000,000.0   \n",
       "12852               6,000,000.0                    0.0   \n",
       "9197               23,000,000.0                    0.0   \n",
       "11904              59,000,000.0                    0.0   \n",
       "87116             138,969,465.0                    0.0   \n",
       "\n",
       "                         name  budget_mk  \n",
       "15202       Притяжение (2016)        0.0  \n",
       "9245                Дуxless 2        0.0  \n",
       "85647                   Селфи        0.0  \n",
       "11097             Воин (2015)        0.0  \n",
       "11635     Савва. Сердце воина        0.0  \n",
       "88054     Большое путешествие        0.0  \n",
       "86025              Два хвоста        0.0  \n",
       "86549      Принцесса и дракон        0.0  \n",
       "12457      Срочно выйду замуж        0.0  \n",
       "13396  Любовь с ограничениями        0.0  \n",
       "11296                 Бармен.        0.0  \n",
       "15506                Чудо-юдо        0.0  \n",
       "15765                    Мифы        0.0  \n",
       "12852       Помню - не помню!        0.0  \n",
       "9197                      14+        0.0  \n",
       "11904          Тряпичный союз        0.0  \n",
       "87116                Баба Яга        0.0  "
      ]
     },
     "execution_count": 40,
     "metadata": {},
     "output_type": "execute_result"
    }
   ],
   "source": [
    "films_total[_][{'name','budget_mk','refundable_support_mk','nonrefundable_support_mk'}]"
   ]
  },
  {
   "cell_type": "markdown",
   "metadata": {},
   "source": [
    "Для данных фильмов отсутствуют данные о бюджете съемок. Оставим записи об этих лентах в датафрейме, т.к. они содержат информацию об объеме государственной поддержки.\n",
    "\n",
    "Рассмотрим распределения значений в этих признаках в диапазоне 1- 50 млн.руб. (исключим 0, т.к. большое количество значений отсутствует)"
   ]
  },
  {
   "cell_type": "code",
   "execution_count": 41,
   "metadata": {},
   "outputs": [
    {
     "data": {
      "text/plain": [
       "array([[<matplotlib.axes._subplots.AxesSubplot object at 0x7fc8008a13d0>,\n",
       "        <matplotlib.axes._subplots.AxesSubplot object at 0x7fc8008affd0>],\n",
       "       [<matplotlib.axes._subplots.AxesSubplot object at 0x7fc800867810>,\n",
       "        <matplotlib.axes._subplots.AxesSubplot object at 0x7fc800815f90>]],\n",
       "      dtype=object)"
      ]
     },
     "execution_count": 41,
     "metadata": {},
     "output_type": "execute_result"
    },
    {
     "data": {
      "image/png": "[encoded data removed]",
      "text/plain": [
       "<Figure size 720x720 with 4 Axes>"
      ]
     },
     "metadata": {
      "needs_background": "light"
     },
     "output_type": "display_data"
    }
   ],
   "source": [
    "films_total[{'name','budget_mk','refundable_support_mk','nonrefundable_support_mk'}].hist(bins=99, figsize=(10,10), range=(1,100000000))"
   ]
  },
  {
   "cell_type": "markdown",
   "metadata": {},
   "source": [
    "Видим, что если бюджет фильма распределяется относительно монотонно, то объемы господдержки имеют явно дискретную структуру, со стремлением к округлению до пяти и десяти миллионов. Для проверки корректности значений господдержки более 100 миллионов выведем эти данные отдельно"
   ]
  },
  {
   "cell_type": "code",
   "execution_count": 42,
   "metadata": {
    "scrolled": true
   },
   "outputs": [
    {
     "data": {
      "text/plain": [
       "'Топ-5 фильмов по невозвратной поддержке'"
      ]
     },
     "metadata": {},
     "output_type": "display_data"
    },
    {
     "data": {
      "text/html": [
       "<div>\n",
       "<style scoped>\n",
       "    .dataframe tbody tr th:only-of-type {\n",
       "        vertical-align: middle;\n",
       "    }\n",
       "\n",
       "    .dataframe tbody tr th {\n",
       "        vertical-align: top;\n",
       "    }\n",
       "\n",
       "    .dataframe thead th {\n",
       "        text-align: right;\n",
       "    }\n",
       "</style>\n",
       "<table border=\"1\" class=\"dataframe\">\n",
       "  <thead>\n",
       "    <tr style=\"text-align: right;\">\n",
       "      <th></th>\n",
       "      <th>nonrefundable_support_mk</th>\n",
       "      <th>refundable_support_mk</th>\n",
       "      <th>name</th>\n",
       "      <th>budget_mk</th>\n",
       "    </tr>\n",
       "  </thead>\n",
       "  <tbody>\n",
       "    <tr>\n",
       "      <td>45504</td>\n",
       "      <td>613,000,000.0</td>\n",
       "      <td>115,000,000.0</td>\n",
       "      <td>Викинг</td>\n",
       "      <td>1,224,661,889.0</td>\n",
       "    </tr>\n",
       "    <tr>\n",
       "      <td>85584</td>\n",
       "      <td>400,000,000.0</td>\n",
       "      <td>0.0</td>\n",
       "      <td>Движение вверх</td>\n",
       "      <td>590,192,191.0</td>\n",
       "    </tr>\n",
       "    <tr>\n",
       "      <td>89786</td>\n",
       "      <td>400,000,000.0</td>\n",
       "      <td>100,000,000.0</td>\n",
       "      <td>Союз спасения</td>\n",
       "      <td>980,000,000.0</td>\n",
       "    </tr>\n",
       "    <tr>\n",
       "      <td>90907</td>\n",
       "      <td>400,000,000.0</td>\n",
       "      <td>200,000,000.0</td>\n",
       "      <td>Вратарь Галактики</td>\n",
       "      <td>957,522,955.0</td>\n",
       "    </tr>\n",
       "    <tr>\n",
       "      <td>74396</td>\n",
       "      <td>400,000,000.0</td>\n",
       "      <td>nan</td>\n",
       "      <td>Конек-Горбунок</td>\n",
       "      <td>821,157,640.0</td>\n",
       "    </tr>\n",
       "  </tbody>\n",
       "</table>\n",
       "</div>"
      ],
      "text/plain": [
       "       nonrefundable_support_mk  refundable_support_mk               name  \\\n",
       "45504             613,000,000.0          115,000,000.0             Викинг   \n",
       "85584             400,000,000.0                    0.0     Движение вверх   \n",
       "89786             400,000,000.0          100,000,000.0      Союз спасения   \n",
       "90907             400,000,000.0          200,000,000.0  Вратарь Галактики   \n",
       "74396             400,000,000.0                    nan     Конек-Горбунок   \n",
       "\n",
       "            budget_mk  \n",
       "45504 1,224,661,889.0  \n",
       "85584   590,192,191.0  \n",
       "89786   980,000,000.0  \n",
       "90907   957,522,955.0  \n",
       "74396   821,157,640.0  "
      ]
     },
     "metadata": {},
     "output_type": "display_data"
    },
    {
     "data": {
      "text/plain": [
       "'Топ-5 фильмов по возвратной поддержке'"
      ]
     },
     "metadata": {},
     "output_type": "display_data"
    },
    {
     "data": {
      "text/html": [
       "<div>\n",
       "<style scoped>\n",
       "    .dataframe tbody tr th:only-of-type {\n",
       "        vertical-align: middle;\n",
       "    }\n",
       "\n",
       "    .dataframe tbody tr th {\n",
       "        vertical-align: top;\n",
       "    }\n",
       "\n",
       "    .dataframe thead th {\n",
       "        text-align: right;\n",
       "    }\n",
       "</style>\n",
       "<table border=\"1\" class=\"dataframe\">\n",
       "  <thead>\n",
       "    <tr style=\"text-align: right;\">\n",
       "      <th></th>\n",
       "      <th>nonrefundable_support_mk</th>\n",
       "      <th>refundable_support_mk</th>\n",
       "      <th>name</th>\n",
       "      <th>budget_mk</th>\n",
       "    </tr>\n",
       "  </thead>\n",
       "  <tbody>\n",
       "    <tr>\n",
       "      <td>90907</td>\n",
       "      <td>400,000,000.0</td>\n",
       "      <td>200,000,000.0</td>\n",
       "      <td>Вратарь Галактики</td>\n",
       "      <td>957,522,955.0</td>\n",
       "    </tr>\n",
       "    <tr>\n",
       "      <td>88859</td>\n",
       "      <td>90,000,000.0</td>\n",
       "      <td>180,000,000.0</td>\n",
       "      <td>Тайна Печати Дракона</td>\n",
       "      <td>2,305,074,303.0</td>\n",
       "    </tr>\n",
       "    <tr>\n",
       "      <td>14482</td>\n",
       "      <td>300,000,000.0</td>\n",
       "      <td>150,000,000.0</td>\n",
       "      <td>Дуэлянт</td>\n",
       "      <td>684,200,536.0</td>\n",
       "    </tr>\n",
       "    <tr>\n",
       "      <td>91782</td>\n",
       "      <td>nan</td>\n",
       "      <td>120,000,000.0</td>\n",
       "      <td>Конь Юлий и большие скачки</td>\n",
       "      <td>178,952,138.0</td>\n",
       "    </tr>\n",
       "    <tr>\n",
       "      <td>87395</td>\n",
       "      <td>0.0</td>\n",
       "      <td>115,000,000.0</td>\n",
       "      <td>Три богатыря и наследница престола</td>\n",
       "      <td>185,500,705.0</td>\n",
       "    </tr>\n",
       "  </tbody>\n",
       "</table>\n",
       "</div>"
      ],
      "text/plain": [
       "       nonrefundable_support_mk  refundable_support_mk  \\\n",
       "90907             400,000,000.0          200,000,000.0   \n",
       "88859              90,000,000.0          180,000,000.0   \n",
       "14482             300,000,000.0          150,000,000.0   \n",
       "91782                       nan          120,000,000.0   \n",
       "87395                       0.0          115,000,000.0   \n",
       "\n",
       "                                     name       budget_mk  \n",
       "90907                   Вратарь Галактики   957,522,955.0  \n",
       "88859                Тайна Печати Дракона 2,305,074,303.0  \n",
       "14482                             Дуэлянт   684,200,536.0  \n",
       "91782          Конь Юлий и большие скачки   178,952,138.0  \n",
       "87395  Три богатыря и наследница престола   185,500,705.0  "
      ]
     },
     "metadata": {},
     "output_type": "display_data"
    }
   ],
   "source": [
    "_ = (films_total['refundable_support_mk']>100000000)|(films_total['nonrefundable_support_mk']>100000000)\n",
    "display('Топ-5 фильмов по невозвратной поддержке',films_total[_][{'name','budget_mk','refundable_support_mk','nonrefundable_support_mk'}\n",
    "              ].sort_values('nonrefundable_support_mk', ascending=False).head(5))\n",
    "display('Топ-5 фильмов по возвратной поддержке',films_total[_][{'name','budget_mk','refundable_support_mk','nonrefundable_support_mk'}\n",
    "              ].sort_values('refundable_support_mk', ascending=False).head(5))"
   ]
  },
  {
   "cell_type": "markdown",
   "metadata": {},
   "source": [
    "###### Вывод\n",
    "Приведенные выше ленты действительно высокобюджетные. Охарактеризовать значения господдержки как выбросы нельзя."
   ]
  },
  {
   "cell_type": "markdown",
   "metadata": {
    "id": "Eu6oWp2CgFyS"
   },
   "source": [
    "##### Выделение главных компонент столбцов"
   ]
  },
  {
   "cell_type": "markdown",
   "metadata": {
    "id": "nFTDLDYOgFyT"
   },
   "source": [
    "Добавим столбцы с главным жанром, режиссером, страной и студией для упрощения дальнейшего анализа."
   ]
  },
  {
   "cell_type": "code",
   "execution_count": 43,
   "metadata": {
    "id": "LSbRZKbMgFyU",
    "scrolled": false
   },
   "outputs": [
    {
     "data": {
      "text/html": [
       "<div>\n",
       "<style scoped>\n",
       "    .dataframe tbody tr th:only-of-type {\n",
       "        vertical-align: middle;\n",
       "    }\n",
       "\n",
       "    .dataframe tbody tr th {\n",
       "        vertical-align: top;\n",
       "    }\n",
       "\n",
       "    .dataframe thead th {\n",
       "        text-align: right;\n",
       "    }\n",
       "</style>\n",
       "<table border=\"1\" class=\"dataframe\">\n",
       "  <thead>\n",
       "    <tr style=\"text-align: right;\">\n",
       "      <th></th>\n",
       "      <th>name</th>\n",
       "      <th>name_foreign</th>\n",
       "      <th>pu_number</th>\n",
       "      <th>date_pu_reg</th>\n",
       "      <th>date_show_film</th>\n",
       "      <th>id_reestr</th>\n",
       "      <th>type_film</th>\n",
       "      <th>category_film</th>\n",
       "      <th>episodes</th>\n",
       "      <th>duration_m</th>\n",
       "      <th>studio</th>\n",
       "      <th>country</th>\n",
       "      <th>year_production</th>\n",
       "      <th>director</th>\n",
       "      <th>screenwriter</th>\n",
       "      <th>producer</th>\n",
       "      <th>category_use</th>\n",
       "      <th>age_restriction</th>\n",
       "      <th>financing_source</th>\n",
       "      <th>genres</th>\n",
       "      <th>source</th>\n",
       "      <th>film_studio</th>\n",
       "      <th>show_start_date</th>\n",
       "      <th>refundable_support_mk</th>\n",
       "      <th>nonrefundable_support_mk</th>\n",
       "      <th>budget_mk</th>\n",
       "      <th>box_office_mk</th>\n",
       "      <th>viewer_state</th>\n",
       "      <th>genres_main</th>\n",
       "      <th>director_main</th>\n",
       "      <th>country_main</th>\n",
       "      <th>studio_main</th>\n",
       "    </tr>\n",
       "  </thead>\n",
       "  <tbody>\n",
       "    <tr>\n",
       "      <td>89758</td>\n",
       "      <td>Холоп</td>\n",
       "      <td>NaN</td>\n",
       "      <td>111,021,719.0</td>\n",
       "      <td>2019-12-11 12:00:00</td>\n",
       "      <td>2019-12-19 12:00:00</td>\n",
       "      <td>5,467,435.0</td>\n",
       "      <td>художественный</td>\n",
       "      <td>Кино</td>\n",
       "      <td>1.0</td>\n",
       "      <td>109.0</td>\n",
       "      <td>[ооо \"мем-медиа\" по заказу ао \"вбд груп\"]</td>\n",
       "      <td>[россия]</td>\n",
       "      <td>2019</td>\n",
       "      <td>[к.шипенко]</td>\n",
       "      <td>[д.грацевич,  а.морозенко,  д.пермяков]</td>\n",
       "      <td>[э.илоян,  д.жалинский,  в.дусмухаметов,  т.ба...</td>\n",
       "      <td>[показ фильма в кинозале,  прокат фильма на ма...</td>\n",
       "      <td>12.0</td>\n",
       "      <td>[фонд кино]</td>\n",
       "      <td>[комедия]</td>\n",
       "      <td>Фонд кино</td>\n",
       "      <td>[ооо \"мем\"]</td>\n",
       "      <td>2019-12-26</td>\n",
       "      <td>25,000,000.0</td>\n",
       "      <td>35,000,000.0</td>\n",
       "      <td>160,000,000.0</td>\n",
       "      <td>3,073,806,945.9</td>\n",
       "      <td>11,639,702.0</td>\n",
       "      <td>комедия</td>\n",
       "      <td>к.шипенко</td>\n",
       "      <td>россия</td>\n",
       "      <td>ооо \"мем-медиа\" по заказу ао \"вбд груп\"</td>\n",
       "    </tr>\n",
       "  </tbody>\n",
       "</table>\n",
       "</div>"
      ],
      "text/plain": [
       "        name name_foreign     pu_number         date_pu_reg  \\\n",
       "89758  Холоп          NaN 111,021,719.0 2019-12-11 12:00:00   \n",
       "\n",
       "           date_show_film   id_reestr       type_film category_film  episodes  \\\n",
       "89758 2019-12-19 12:00:00 5,467,435.0  художественный          Кино       1.0   \n",
       "\n",
       "       duration_m                                     studio   country  \\\n",
       "89758       109.0  [ооо \"мем-медиа\" по заказу ао \"вбд груп\"]  [россия]   \n",
       "\n",
       "      year_production     director                             screenwriter  \\\n",
       "89758            2019  [к.шипенко]  [д.грацевич,  а.морозенко,  д.пермяков]   \n",
       "\n",
       "                                                producer  \\\n",
       "89758  [э.илоян,  д.жалинский,  в.дусмухаметов,  т.ба...   \n",
       "\n",
       "                                            category_use  age_restriction  \\\n",
       "89758  [показ фильма в кинозале,  прокат фильма на ма...             12.0   \n",
       "\n",
       "      financing_source     genres     source  film_studio show_start_date  \\\n",
       "89758      [фонд кино]  [комедия]  Фонд кино  [ооо \"мем\"]      2019-12-26   \n",
       "\n",
       "       refundable_support_mk  nonrefundable_support_mk     budget_mk  \\\n",
       "89758           25,000,000.0              35,000,000.0 160,000,000.0   \n",
       "\n",
       "        box_office_mk  viewer_state genres_main director_main country_main  \\\n",
       "89758 3,073,806,945.9  11,639,702.0     комедия     к.шипенко       россия   \n",
       "\n",
       "                                   studio_main  \n",
       "89758  ооо \"мем-медиа\" по заказу ао \"вбд груп\"  "
      ]
     },
     "execution_count": 43,
     "metadata": {},
     "output_type": "execute_result"
    }
   ],
   "source": [
    "films_total_box['genres_main'] = films_total_box['genres'].loc[~films_total_box['genres'].isna()].copy().apply(lambda x:(x[0]))\n",
    "films_total_box['director_main'] = films_total_box['director'].loc[~films_total_box['director'].isna()].copy().apply(lambda x:(x[0]))\n",
    "films_total_box['country_main'] = films_total_box['country'].loc[~films_total_box['country'].isna()].copy().apply(lambda x:(x[0]))\n",
    "films_total_box['studio_main'] = films_total_box['studio'].loc[~films_total_box['studio'].isna()].copy().apply(lambda x:(x[0]))\n",
    "\n",
    "films_total_box.head(1) #Проверим"
   ]
  },
  {
   "cell_type": "markdown",
   "metadata": {
    "id": "1FsCXHwdgFyU"
   },
   "source": [
    "Добавим столбец 'part_gos_finans', содержащий долю государственной поддержки от общего бюджета фильма"
   ]
  },
  {
   "cell_type": "code",
   "execution_count": 44,
   "metadata": {
    "id": "LV6qFuZLgFyV"
   },
   "outputs": [],
   "source": [
    "films_total_box['refundable_support_mk'].fillna(value=0, inplace=True)\n",
    "films_total_box['nonrefundable_support_mk'].fillna(value=0, inplace=True)\n",
    "films_total_box['part_gos_finans'] = films_total_box['refundable_support_mk']/films_total_box['budget_mk'\n",
    "                                      ]+films_total_box['nonrefundable_support_mk']/films_total_box['budget_mk']\n",
    "#т.к. была операция деления, заменим +-бесконечные значения на None\n",
    "films_total_box['part_gos_finans'].replace([np.inf, -np.inf], np.nan, inplace=True)"
   ]
  },
  {
   "cell_type": "markdown",
   "metadata": {},
   "source": [
    "##### Анализ финансовых показателей\n",
    "Рассмотрим распределения сборов фильма и количества зрителей. Если будут сильные выбросы от линейной зависимости, значит в данных какие-то проблемы."
   ]
  },
  {
   "cell_type": "code",
   "execution_count": 45,
   "metadata": {},
   "outputs": [
    {
     "data": {
      "text/plain": [
       "<matplotlib.axes._subplots.AxesSubplot at 0x7fc8004bd050>"
      ]
     },
     "execution_count": 45,
     "metadata": {},
     "output_type": "execute_result"
    },
    {
     "data": {
      "image/png": "[encoded data removed]",
      "text/plain": [
       "<Figure size 432x288 with 1 Axes>"
      ]
     },
     "metadata": {
      "needs_background": "light"
     },
     "output_type": "display_data"
    }
   ],
   "source": [
    "films_total_box.plot(kind='scatter', x='box_office_mk', y='viewer_state')"
   ]
  },
  {
   "cell_type": "markdown",
   "metadata": {},
   "source": [
    "Как мы видим, зависимость практически идеально линейная"
   ]
  },
  {
   "cell_type": "code",
   "execution_count": 46,
   "metadata": {},
   "outputs": [
    {
     "data": {
      "text/plain": [
       "<matplotlib.axes._subplots.AxesSubplot at 0x7fc800470bd0>"
      ]
     },
     "execution_count": 46,
     "metadata": {},
     "output_type": "execute_result"
    },
    {
     "data": {
      "image/png": "[encoded data removed]",
      "text/plain": [
       "<Figure size 432x288 with 1 Axes>"
      ]
     },
     "metadata": {
      "needs_background": "light"
     },
     "output_type": "display_data"
    }
   ],
   "source": [
    "films_total_box['part_gos_finans'].plot(kind='hist', bins=50, grid=True)\n",
    "#films_total_box.info()"
   ]
  },
  {
   "cell_type": "markdown",
   "metadata": {},
   "source": [
    "Доля госфинансирования тоже без выбросов, значения лежат в диапазоне [0,1]."
   ]
  },
  {
   "cell_type": "markdown",
   "metadata": {},
   "source": [
    "__Вывод__\n",
    "\n",
    "Кассовые сборы и доля гос.финансирования в бюджете фильма не имеют явных выбросов и укладываются в логичную систему."
   ]
  },
  {
   "cell_type": "markdown",
   "metadata": {},
   "source": [
    "#### Вывод\n",
    "Данные готовы для проведения анализа. Дубликаты удалены, выбросов по основным финансовым показателям не наблюдается."
   ]
  },
  {
   "cell_type": "markdown",
   "metadata": {
    "id": "6t4EukPLgFyV"
   },
   "source": [
    "### Исследовательский анализ данных\n",
    "В данном разделе будут рассмотрены основные зависимости, так или иначе характеризующие успешность лент в прокате:\n",
    "- Динамика выдачи прокатных удостоверений по годам\n",
    "- Динамика суммы сборов лент по годам\n",
    "- Медианные и средние значения для фильмов по годам\n",
    "- Количество кассовых сборов в зависимости от жанра \n",
    "- Количество кассовых сборов в зависимости от возрастной категории\n"
   ]
  },
  {
   "cell_type": "markdown",
   "metadata": {
    "id": "vAH8WCzugFyV"
   },
   "source": [
    "Посмотрим, скольким лентам выдаются прокатные удостоверения в разрезе по годам, и как распределены сборы."
   ]
  },
  {
   "cell_type": "code",
   "execution_count": 47,
   "metadata": {
    "id": "ABeV47y7gFyW"
   },
   "outputs": [
    {
     "data": {
      "text/plain": [
       "<matplotlib.axes._subplots.AxesSubplot at 0x7fc8001f3d50>"
      ]
     },
     "execution_count": 47,
     "metadata": {},
     "output_type": "execute_result"
    },
    {
     "data": {
      "image/png": "[encoded data removed]",
      "text/plain": [
       "<Figure size 648x288 with 1 Axes>"
      ]
     },
     "metadata": {
      "needs_background": "light"
     },
     "output_type": "display_data"
    },
    {
     "data": {
      "image/png": "[encoded data removed]",
      "text/plain": [
       "<Figure size 648x288 with 1 Axes>"
      ]
     },
     "metadata": {
      "needs_background": "light"
     },
     "output_type": "display_data"
    }
   ],
   "source": [
    "films_total.groupby(by=films_total['date_show_film'].dt.year).count().plot(kind='bar', y='pu_number', figsize=(9,4), grid=True)\n",
    "films_total.groupby(by=films_total['date_show_film'].dt.year).sum().plot(kind='bar', y='box_office_mk', figsize=(9,4), grid=True)"
   ]
  },
  {
   "cell_type": "markdown",
   "metadata": {},
   "source": [
    "Т.к. данные по сборам присутствуют не для всех лент, сравнение этих двух диаграмм не показательно.\n",
    "Рассмотрим данные по количеству лент, для которых есть данные о прокате. Определим, для какой доли фильмов указана информация о прокате."
   ]
  },
  {
   "cell_type": "code",
   "execution_count": 48,
   "metadata": {},
   "outputs": [
    {
     "name": "stdout",
     "output_type": "stream",
     "text": [
      "Процент лент, для которых указана информация о прокате: 7.2%\n"
     ]
    }
   ],
   "source": [
    "print('Процент лент, для которых указана информация о прокате: {:.1%}'\n",
    "       .format((films_total['box_office_mk']>0).mean()))"
   ]
  },
  {
   "cell_type": "markdown",
   "metadata": {},
   "source": [
    "Далее будем рассматривать только те фильмы, для которых есть данные о бюджете съемок."
   ]
  },
  {
   "cell_type": "code",
   "execution_count": 49,
   "metadata": {
    "scrolled": false
   },
   "outputs": [
    {
     "data": {
      "text/plain": [
       "<matplotlib.axes._subplots.AxesSubplot at 0x7fc7fff54a50>"
      ]
     },
     "execution_count": 49,
     "metadata": {},
     "output_type": "execute_result"
    },
    {
     "data": {
      "image/png": "[encoded data removed]",
      "text/plain": [
       "<Figure size 648x288 with 1 Axes>"
      ]
     },
     "metadata": {
      "needs_background": "light"
     },
     "output_type": "display_data"
    },
    {
     "data": {
      "image/png": "[encoded data removed]",
      "text/plain": [
       "<Figure size 648x288 with 1 Axes>"
      ]
     },
     "metadata": {
      "needs_background": "light"
     },
     "output_type": "display_data"
    }
   ],
   "source": [
    "films_total_box.groupby(by=films_total_box['date_show_film'].dt.year).count().plot(kind='bar', y='date_show_film', figsize=(9,4))\n",
    "films_total_box.groupby(by=films_total_box['date_show_film'].dt.year).sum().plot(kind='bar', y='box_office_mk', figsize=(9,4))"
   ]
  },
  {
   "cell_type": "markdown",
   "metadata": {
    "id": "BEOdcIrIgFyW"
   },
   "source": [
    "Рассмотрим медианные данные проката - сколько собирали ленты в каждом году"
   ]
  },
  {
   "cell_type": "code",
   "execution_count": 50,
   "metadata": {
    "id": "tfEhofYvgFyX",
    "scrolled": false
   },
   "outputs": [
    {
     "data": {
      "text/plain": [
       "<matplotlib.axes._subplots.AxesSubplot at 0x7fc80000ac90>"
      ]
     },
     "execution_count": 50,
     "metadata": {},
     "output_type": "execute_result"
    },
    {
     "data": {
      "image/png": "[encoded data removed]",
      "text/plain": [
       "<Figure size 648x288 with 1 Axes>"
      ]
     },
     "metadata": {
      "needs_background": "light"
     },
     "output_type": "display_data"
    }
   ],
   "source": [
    "films_total_box.groupby(by=films_total_box['date_show_film'].dt.year).sum().plot(kind='bar', grid=True, y='box_office_mk', figsize=(9,4))"
   ]
  },
  {
   "cell_type": "markdown",
   "metadata": {},
   "source": [
    "Падение суммарынх сборов в 2020 и 2021 году выглядит странным. Конечно вводились короновирусные ограничения, но по данным фонда кино ( см. https://www.fond-kino.ru/news/itogi-kinoprokata-v-2020-godu/, https://www.fond-kino.ru/news/itogi-kinoprokata-v-2019-godu/) в 2020 году падение сборов на российском рынке было на 58,8 процентов к 2019 году, от 55,5 до 22,8 млрд.руб. И если для наших данных сборы практически совпадают для перода 2015-2019 года, то для 2020 как и для 2014(46,2 млрд по данным https://www.kinobusiness.com/total/2014/), а так же ранее, данные явно не полные. Что странно, так как данные по сборам кинопроката брались с официального сайта МинКульта.\n",
    "Предположу, что Минкульт допустил ошибку в выгрузке данных с ЕАИС, и в дальнейшем рассмотрении будем использовать только данные кинопроката с 2015 по 2019 года(films_2015_2019)."
   ]
  },
  {
   "cell_type": "code",
   "execution_count": 51,
   "metadata": {},
   "outputs": [
    {
     "data": {
      "text/plain": [
       "<matplotlib.axes._subplots.AxesSubplot at 0x7fc8008dcc50>"
      ]
     },
     "execution_count": 51,
     "metadata": {},
     "output_type": "execute_result"
    },
    {
     "data": {
      "image/png": "[encoded data removed]",
      "text/plain": [
       "<Figure size 648x288 with 1 Axes>"
      ]
     },
     "metadata": {
      "needs_background": "light"
     },
     "output_type": "display_data"
    }
   ],
   "source": [
    "films_2015_2019 = films_total_box.loc[films_total_box['date_show_film'].dt.year.isin(range(2015,2020))]\n",
    "films_2015_2019.groupby(by=films_2015_2019['date_show_film'].dt.year).sum().plot(kind='bar', grid=True, y='box_office_mk', figsize=(9,4))"
   ]
  },
  {
   "cell_type": "markdown",
   "metadata": {
    "id": "G-7qS-N-gFyY"
   },
   "source": [
    "__Вывод__\n",
    "\n",
    "Видим, что 2017 год на первом месте по суммарным сборам. В 2015 году же суммарные сборы минимальны, возможно это связано с влиянием экономического кризиса 2014 года и падением доходов населения.\n",
    "\n",
    "С помощью сводной таблицы посчитаем среднюю и медианную сумму сборов лент для каждого года."
   ]
  },
  {
   "cell_type": "code",
   "execution_count": 52,
   "metadata": {
    "id": "jmp-rgg9gFyY"
   },
   "outputs": [
    {
     "data": {
      "text/html": [
       "<div>\n",
       "<style scoped>\n",
       "    .dataframe tbody tr th:only-of-type {\n",
       "        vertical-align: middle;\n",
       "    }\n",
       "\n",
       "    .dataframe tbody tr th {\n",
       "        vertical-align: top;\n",
       "    }\n",
       "\n",
       "    .dataframe thead tr th {\n",
       "        text-align: left;\n",
       "    }\n",
       "\n",
       "    .dataframe thead tr:last-of-type th {\n",
       "        text-align: right;\n",
       "    }\n",
       "</style>\n",
       "<table border=\"1\" class=\"dataframe\">\n",
       "  <thead>\n",
       "    <tr>\n",
       "      <th></th>\n",
       "      <th>mean</th>\n",
       "      <th>median</th>\n",
       "    </tr>\n",
       "    <tr>\n",
       "      <th></th>\n",
       "      <th>box_office_mk</th>\n",
       "      <th>box_office_mk</th>\n",
       "    </tr>\n",
       "    <tr>\n",
       "      <th>date_show_film</th>\n",
       "      <th></th>\n",
       "      <th></th>\n",
       "    </tr>\n",
       "  </thead>\n",
       "  <tbody>\n",
       "    <tr>\n",
       "      <td>2015</td>\n",
       "      <td>70,462,932.2</td>\n",
       "      <td>2,238,500.2</td>\n",
       "    </tr>\n",
       "    <tr>\n",
       "      <td>2016</td>\n",
       "      <td>84,631,128.6</td>\n",
       "      <td>3,128,276.2</td>\n",
       "    </tr>\n",
       "    <tr>\n",
       "      <td>2017</td>\n",
       "      <td>121,796,054.1</td>\n",
       "      <td>7,663,682.0</td>\n",
       "    </tr>\n",
       "    <tr>\n",
       "      <td>2018</td>\n",
       "      <td>102,666,460.4</td>\n",
       "      <td>8,259,906.9</td>\n",
       "    </tr>\n",
       "    <tr>\n",
       "      <td>2019</td>\n",
       "      <td>87,722,020.7</td>\n",
       "      <td>4,125,487.0</td>\n",
       "    </tr>\n",
       "  </tbody>\n",
       "</table>\n",
       "</div>"
      ],
      "text/plain": [
       "                        mean        median\n",
       "               box_office_mk box_office_mk\n",
       "date_show_film                            \n",
       "2015            70,462,932.2   2,238,500.2\n",
       "2016            84,631,128.6   3,128,276.2\n",
       "2017           121,796,054.1   7,663,682.0\n",
       "2018           102,666,460.4   8,259,906.9\n",
       "2019            87,722,020.7   4,125,487.0"
      ]
     },
     "metadata": {},
     "output_type": "display_data"
    }
   ],
   "source": [
    "display(films_2015_2019.pivot_table(index=films_2015_2019['date_show_film'].dt.year,\n",
    "                           values='box_office_mk',\n",
    "                           aggfunc=['mean', 'median']))"
   ]
  },
  {
   "cell_type": "markdown",
   "metadata": {},
   "source": [
    "\n",
    "По разнице среднего и медианного значений, можем сказать что в данных существуют выбросы по части фильмов, собравших сверхбольшую кассу. "
   ]
  },
  {
   "cell_type": "markdown",
   "metadata": {
    "id": "Ok89WFwJgFyZ"
   },
   "source": [
    "Определим, влияет ли возрастное ограничение аудитории («6+», «12+», «16+», «18+» и т. д.) на сборы фильма в прокате в период с 2015 по 2019 год? Фильмы с каким возрастным ограничением собрали больше всего денег в прокате? Меняется ли картина в зависимости от года?"
   ]
  },
  {
   "cell_type": "code",
   "execution_count": 53,
   "metadata": {
    "id": "jsSbEqfjgFya"
   },
   "outputs": [
    {
     "data": {
      "text/plain": [
       "<matplotlib.axes._subplots.AxesSubplot at 0x7fc801220290>"
      ]
     },
     "execution_count": 53,
     "metadata": {},
     "output_type": "execute_result"
    },
    {
     "data": {
      "image/png": "[encoded data removed]",
      "text/plain": [
       "<Figure size 576x1080 with 2 Axes>"
      ]
     },
     "metadata": {
      "needs_background": "light"
     },
     "output_type": "display_data"
    }
   ],
   "source": [
    "fig, (ax1, ax2) = plt.subplots(2, 1, figsize=(8, 15)) \n",
    "#Для облегчения сравнения расположим хитмапы рядом\n",
    "annot_1 = films_2015_2019.pivot_table(index=films_2015_2019['date_show_film'].dt.year,\n",
    "                                      columns='age_restriction', \n",
    "                                      values='box_office_mk', \n",
    "                                      aggfunc=['sum'])\n",
    "annot_2 = films_2015_2019.pivot_table(index=films_2015_2019['date_show_film'].dt.year,\n",
    "                                      columns='age_restriction',\n",
    "                                      values='box_office_mk',\n",
    "                                      aggfunc=['mean'])\n",
    "#annot_1.applymap(lambda x: str(int(x//1000000))+' млн.')\n",
    "\n",
    "sns.heatmap(data=annot_1, \n",
    "            annot=annot_1.applymap(lambda x: str((x//10000000)/100)+' млрд.'), \n",
    "            ax=ax1, \n",
    "            fmt='s',\n",
    "            robust=True,\n",
    "            cbar=False,\n",
    "            xticklabels=['0+','6+','12+','16+','18+'])\n",
    "sns.heatmap(data=annot_2, \n",
    "            annot=annot_2.applymap(lambda x: str(int(x//1000000))+' млн.'),\n",
    "            ax=ax2,\n",
    "            fmt='s',\n",
    "            robust=True,\n",
    "            cbar=False,\n",
    "            xticklabels=['0+','6+','12+','16+','18+'])\n",
    "# Чтобы изменить вывод подписе, необходимо создать массив соразмерный легенде,\n",
    "# и изменить его на нужное значение.\n",
    "#\n",
    "#\n"
   ]
  },
  {
   "cell_type": "markdown",
   "metadata": {},
   "source": [
    "На приведенной тепловой карте видим, что больше всего денег в прокате суммарно собирают фильмы 16+, тогда как фильмы категории 0+ меньше всех. Но при оценке средних сборов картина меняется, и вперед выходят фильмы 6+, а 0+ и 18+ почти равняются между собой. Скорее всего это связано с большим количеством блокбастеров, выходящих в этой возрастной категории."
   ]
  },
  {
   "cell_type": "markdown",
   "metadata": {},
   "source": [
    "Аналогично проверим сборы фильмов по жанрам."
   ]
  },
  {
   "cell_type": "code",
   "execution_count": 54,
   "metadata": {},
   "outputs": [
    {
     "data": {
      "text/plain": [
       "['фантастика', 'мультфильм', 'боевик', 'комедия', 'фэнтези']"
      ]
     },
     "execution_count": 54,
     "metadata": {},
     "output_type": "execute_result"
    },
    {
     "data": {
      "image/png": "[encoded data removed]",
      "text/plain": [
       "<Figure size 576x1080 with 2 Axes>"
      ]
     },
     "metadata": {
      "needs_background": "light"
     },
     "output_type": "display_data"
    }
   ],
   "source": [
    "fig, (ax1, ax2) = plt.subplots(2, 1, figsize=(8, 15)) \n",
    "#Для облегчения сравнения расположим хитмапы рядом\n",
    "# Выделим топ-10 жанров по сборам\n",
    "top_genres = films_2015_2019.groupby('genres_main'\n",
    "                             ).sum(\n",
    "                             ).sort_values('box_office_mk', ascending=False\n",
    "                             ).head(5\n",
    "                             ).index.to_list()\n",
    "annot_1 = films_2015_2019.query('genres_main.isin(@top_genres)'\n",
    "                 ).pivot_table(index=films_2015_2019['date_show_film'].dt.year,\n",
    "                               columns='genres_main', \n",
    "                               values='box_office_mk', \n",
    "                               aggfunc=['sum'])\n",
    "annot_2 = films_2015_2019.query('genres_main.isin(@top_genres)'\n",
    "                 ).pivot_table(index=films_2015_2019['date_show_film'].dt.year,\n",
    "            columns='genres_main', \n",
    "            values='box_office_mk', \n",
    "            aggfunc=['mean'])\n",
    "\n",
    "\n",
    "sns.heatmap(data=annot_1, \n",
    "            annot=annot_1.applymap(lambda x: str((x//100000000)/10)+' млрд.'), \n",
    "            ax=ax1, \n",
    "            fmt='s',\n",
    "            robust=True,\n",
    "            cbar=False,\n",
    "            xticklabels=['Боевик','Комедия','Мультфильм','Фантастика','Фэнтези'])\n",
    "sns.heatmap(data=annot_2, \n",
    "            annot=annot_2.applymap(lambda x: str((x//1000000))+' млн.'),\n",
    "            ax=ax2,\n",
    "            fmt='s',\n",
    "            robust=True,\n",
    "            cbar=False,\n",
    "            xticklabels=['Боевик','Комедия','Мультфильм','Фантастика','Фэнтези'])\n",
    "top_genres"
   ]
  },
  {
   "cell_type": "markdown",
   "metadata": {},
   "source": [
    "Среди топ-10 жанров наблюдаются следующие тенденции: \n",
    "- Высокие сборы в жанре фантастика, средние сборы падают от года к году\n",
    "- Высокие сборы в жанре мультфильмы, средние сборы растут\n",
    "- Высокие сборы в жанре боевик, средние сборы падают"
   ]
  },
  {
   "cell_type": "markdown",
   "metadata": {},
   "source": [
    "#### Вывод\n",
    "\n",
    "Динамика выхода лент в прокат показывает, что количество выданных прокатных удостоверений растет вплоть до 2007 года, достигая 6000 штук, затем идет плавное снижение до 1700 шт. в 2017 году с небольшой коррекцией до 2021 года (2000...2100). При этом данные о сборах с проката в кинотеатрах присутствуют только для 7,2% лент.\n",
    "\n",
    "Динамика проката по годам показывает возрастание общего количества сборов от 2015 к 2017 году до 53 миллиардов рублей, с последующим снижением до 48 миллиардов в 2019 году. В 2015 году общие сборы были минимальны, на уровне 41 миллиарда рублей.\n",
    "\n",
    "Больше всего денег в прокате суммарно собирают фильмы 16+, тогда как фильмы категории 0+ меньше всех. Но при оценке средних сборов картина меняется, и вперед выходят фильмы 6+, а 0+ и 18+ почти равны между собой. Скорее всего это связано с большим количеством блокбастеров, выходящих в этой возрастной категории. Средние сборы фильмов по возрастным категориям более показательны в этом плане, т.к. в плане суммарных сборов одиночные блокбастеры, собирающие 1-2 миллиарда рублей, сильно влияют на итоговую картину. А они показывают четкую тенденцию к плавному снижению всех сборов по всем категориям.\n"
   ]
  },
  {
   "cell_type": "markdown",
   "metadata": {
    "id": "l_Kg6Ku4gFya"
   },
   "source": [
    "### Исследование фильмов, которые получили государственную поддержку\n",
    "\n",
    "Для исследования сферы господдержки кинематографа в РФ, рассмотрим следующие задачи:\n",
    "\n",
    "- Сравним кассовые сборы фильмов с господдержкой, просто фильмов производства РФ и целиком всего рынка проката в РФ;\n",
    "- Рассмотрим фильмы, которые не окупили свой бюджет;\n",
    "- Определим режиссеров и студий, которые сняли наиболее убыточные фильмы;\n",
    "- Проверим, сколько убыточных картин снято одними и теми же издателями.\n"
   ]
  },
  {
   "cell_type": "code",
   "execution_count": 55,
   "metadata": {},
   "outputs": [
    {
     "name": "stdout",
     "output_type": "stream",
     "text": [
      "Господдержка российского кино, млрд.руб:      21.35\n",
      "   Из них, безвозвратной поддержки, млрд.руб: 17.20\n",
      "              Возвратной поддержки, млрд.руб: 4.15 \n",
      "\n",
      "Суммарные бюджет всех российский фильмов, млрд.руб:                 38.41\n",
      "Суммарные сборы всех российский фильмов, млрд.руб:                  53.89\n",
      "   Из них, сборы всех российский фильмов с господдержкой, млрд.руб: 46.60\n",
      "           сборы всех российский фильмов без господдержки, млрд.руб: 9.84\n",
      "           средняя доля господдержки в фильмах, млрд.руб: 0.52\n"
     ]
    }
   ],
   "source": [
    "print('Господдержка российского кино, млрд.руб:      {0:.2f}'.format((films_2015_2019.refundable_support_mk.sum()+films_2015_2019.nonrefundable_support_mk.sum())/1000000000))\n",
    "print('   Из них, безвозвратной поддержки, млрд.руб: {0:.2f}'.format(films_2015_2019.nonrefundable_support_mk.sum()/1000000000))\n",
    "print('              Возвратной поддержки, млрд.руб: {0:.2f} \\n'.format(films_2015_2019.refundable_support_mk.sum()/1000000000))\n",
    "print('Суммарные бюджет всех российский фильмов, млрд.руб:                 {0:.2f}'.format(films_2015_2019.query('country_main==\"россия\"')['budget_mk'].sum()/1000000000))\n",
    "print('Суммарные сборы всех российский фильмов, млрд.руб:                  {0:.2f}'.format(films_2015_2019.query('country_main==\"россия\"')['box_office_mk'].sum()/1000000000))\n",
    "print('   Из них, сборы всех российский фильмов с господдержкой, млрд.руб: {0:.2f}'.format(\n",
    "    films_2015_2019.query('(refundable_support_mk+nonrefundable_support_mk)!=0')\n",
    "                          ['box_office_mk'].sum()/1000000000))\n",
    "print('           сборы всех российский фильмов без господдержки, млрд.руб: {0:.2f}'.format(\n",
    "    films_2015_2019.query('(refundable_support_mk+nonrefundable_support_mk)==0 and country_main==\"россия\"')\n",
    "                          ['box_office_mk'].sum()/1000000000))\n",
    "print('           средняя доля господдержки в фильмах, млрд.руб: {0:.2f}'.format(\n",
    "    films_2015_2019.query('(refundable_support_mk+nonrefundable_support_mk)!=0')\n",
    "                          ['part_gos_finans'].mean()))\n"
   ]
  },
  {
   "cell_type": "markdown",
   "metadata": {},
   "source": [
    "Как мы видим по тем фильмам, данные о которых предоставили их создатели, только на 44% бюджет россиского кинематографа обеспечен частными средствами, и в среднем господдержка занимает 52% бюджета фильма.\n",
    "\n",
    "Рассмотрим фильмы, которые не окупили свой бюджет. Пусть нам неизвестен полный бюджет большинства фильмов, но мы можем принять допущение, что если совокупные сборы меньше суммы возвратной господдержки, то фильм точно не окупил выделенные из бюджета деньги, и их государству не вернут. Подсчитаем эту разницу."
   ]
  },
  {
   "cell_type": "code",
   "execution_count": 56,
   "metadata": {
    "scrolled": true
   },
   "outputs": [
    {
     "data": {
      "text/plain": [
       "studio\n",
       "ооо \"продюсерский центр \"ленфильм\"          -46,598,840.7\n",
       " ооо \"студия 25\"                            -28,569,373.2\n",
       "ооо \"визарт фильм\"                          -28,482,223.3\n",
       "ооо \"крылья\"                                -25,165,820.2\n",
       "ооо \"кинобюро\" по заказу ооо \"среда и ко\"   -24,991,000.0\n",
       " ооо \"таббак\"                               -24,152,082.4\n",
       "ооо \"продакшн сервис\"                       -20,799,175.5\n",
       "ооо \"тпо \"рок\"                              -20,044,197.0\n",
       "ооо \"продюсерский центр \"золотой век\"       -18,328,332.2\n",
       "ооо \"киностудия \"арк-фильм\"                 -18,187,507.2\n",
       "Name: minusa, dtype: float64"
      ]
     },
     "metadata": {},
     "output_type": "display_data"
    },
    {
     "data": {
      "text/plain": [
       "-397326347.775"
      ]
     },
     "execution_count": 56,
     "metadata": {},
     "output_type": "execute_result"
    }
   ],
   "source": [
    "films_2015_2019['minusa']=films_2015_2019['box_office_mk']-films_2015_2019['refundable_support_mk']#-films_2015_2019['nonrefundable_support_mk']\n",
    "display(films_2015_2019.query('minusa<0').groupby(\n",
    "    films_2015_2019.query('not studio.isna()')['studio'].apply(lambda x:(x[0]))).sum().sort_values(\n",
    "    'minusa')['minusa'].head(10))\n",
    "films_2015_2019.query('minusa<0')['minusa'].sum()\n"
   ]
  },
  {
   "cell_type": "markdown",
   "metadata": {},
   "source": [
    "Суммарно, студии никак не смогут вернуть возвратных субсидий на сумму минимум 397 миллионов рублей."
   ]
  },
  {
   "cell_type": "markdown",
   "metadata": {},
   "source": [
    "А насколько были бы убыточны эти фильмы, если бы не было невозвратных субсидий? Для этого добавим в расчет их сумму."
   ]
  },
  {
   "cell_type": "code",
   "execution_count": 57,
   "metadata": {
    "id": "W9QKpjUdgFyb"
   },
   "outputs": [
    {
     "data": {
      "text/plain": [
       "film_studio\n",
       "ооо \"нон-стоп продакшн\"                                   329,609,956.5\n",
       "ооо \"кинокомпания \"ств\"                                   177,401,090.5\n",
       "ооо \"арт пикчерс студия\"                                  137,634,765.8\n",
       "ооо \"централ партнершип\"                                  137,212,040.4\n",
       "ооо \"киностудия \"вертикаль\"                               123,972,043.2\n",
       "ооо \"58                                                   121,771,876.8\n",
       "ооо \"мастерская павла лунгина\" ооо \"арт пикчерс студия\"   119,397,114.1\n",
       "ооо \"киностудия \"арк-фильм\"                               118,187,507.2\n",
       "ао \"тпо \"киностудия им. м. горького\"                      114,406,937.5\n",
       "ооо \"продюсерский центр \"ленфильм\"                        112,701,225.5\n",
       "Name: minusa, dtype: float64"
      ]
     },
     "metadata": {},
     "output_type": "display_data"
    },
    {
     "data": {
      "text/plain": [
       "7107546619.385"
      ]
     },
     "execution_count": 57,
     "metadata": {},
     "output_type": "execute_result"
    }
   ],
   "source": [
    "#Фантазии особо нет на название столбцов\n",
    "films_2015_2019['minusa']=-films_2015_2019['box_office_mk']+films_2015_2019['refundable_support_mk']+films_2015_2019['nonrefundable_support_mk']\n",
    "display(films_2015_2019.query('minusa>0').groupby(\n",
    "    films_2015_2019.query('not film_studio.isna()')['film_studio'].apply(lambda x:(x[0]))).sum().sort_values(\n",
    "    'minusa', ascending=False)['minusa'].head(10))\n",
    "films_2015_2019.query('minusa>0')['minusa'].sum()"
   ]
  },
  {
   "cell_type": "markdown",
   "metadata": {},
   "source": [
    "Минимум 7,1 миллиардов государственных субсидий перекрывают убыток российской киноиндустрии, это сравнимо с 15% годовой выручки всего российского кинематографа. Проверим, какие режиссеры наиболее убыточны с этой точки зрения, в разрезе общих убытков и в разрезе убыточных картин."
   ]
  },
  {
   "cell_type": "code",
   "execution_count": 58,
   "metadata": {},
   "outputs": [
    {
     "data": {
      "text/html": [
       "<div>\n",
       "<style scoped>\n",
       "    .dataframe tbody tr th:only-of-type {\n",
       "        vertical-align: middle;\n",
       "    }\n",
       "\n",
       "    .dataframe tbody tr th {\n",
       "        vertical-align: top;\n",
       "    }\n",
       "\n",
       "    .dataframe thead th {\n",
       "        text-align: right;\n",
       "    }\n",
       "</style>\n",
       "<table border=\"1\" class=\"dataframe\">\n",
       "  <thead>\n",
       "    <tr style=\"text-align: right;\">\n",
       "      <th></th>\n",
       "      <th>sum</th>\n",
       "      <th>count</th>\n",
       "    </tr>\n",
       "    <tr>\n",
       "      <th>director</th>\n",
       "      <th></th>\n",
       "      <th></th>\n",
       "    </tr>\n",
       "  </thead>\n",
       "  <tbody>\n",
       "    <tr>\n",
       "      <td>н.хомерики</td>\n",
       "      <td>244,066,724.8</td>\n",
       "      <td>1</td>\n",
       "    </tr>\n",
       "    <tr>\n",
       "      <td>п.лунгин</td>\n",
       "      <td>203,039,444.9</td>\n",
       "      <td>2</td>\n",
       "    </tr>\n",
       "    <tr>\n",
       "      <td>р.давлетьяров</td>\n",
       "      <td>171,860,866.7</td>\n",
       "      <td>3</td>\n",
       "    </tr>\n",
       "    <tr>\n",
       "      <td>и.джендубаев</td>\n",
       "      <td>139,828,551.5</td>\n",
       "      <td>1</td>\n",
       "    </tr>\n",
       "    <tr>\n",
       "      <td>в.саков</td>\n",
       "      <td>137,634,765.8</td>\n",
       "      <td>1</td>\n",
       "    </tr>\n",
       "    <tr>\n",
       "      <td>ф.дмитриев</td>\n",
       "      <td>131,442,492.3</td>\n",
       "      <td>1</td>\n",
       "    </tr>\n",
       "    <tr>\n",
       "      <td>а.цицилин</td>\n",
       "      <td>128,482,223.3</td>\n",
       "      <td>1</td>\n",
       "    </tr>\n",
       "    <tr>\n",
       "      <td>а.котт</td>\n",
       "      <td>125,526,364.9</td>\n",
       "      <td>3</td>\n",
       "    </tr>\n",
       "    <tr>\n",
       "      <td>а.китайцев</td>\n",
       "      <td>119,779,455.0</td>\n",
       "      <td>2</td>\n",
       "    </tr>\n",
       "    <tr>\n",
       "      <td>к.белевич (псевдоним - кирилл астахов)</td>\n",
       "      <td>118,187,507.2</td>\n",
       "      <td>1</td>\n",
       "    </tr>\n",
       "  </tbody>\n",
       "</table>\n",
       "</div>"
      ],
      "text/plain": [
       "                                                 sum  count\n",
       "director                                                   \n",
       "н.хомерики                             244,066,724.8      1\n",
       "п.лунгин                               203,039,444.9      2\n",
       "р.давлетьяров                          171,860,866.7      3\n",
       "и.джендубаев                           139,828,551.5      1\n",
       "в.саков                                137,634,765.8      1\n",
       "ф.дмитриев                             131,442,492.3      1\n",
       "а.цицилин                              128,482,223.3      1\n",
       "а.котт                                 125,526,364.9      3\n",
       "а.китайцев                             119,779,455.0      2\n",
       "к.белевич (псевдоним - кирилл астахов) 118,187,507.2      1"
      ]
     },
     "metadata": {},
     "output_type": "display_data"
    }
   ],
   "source": [
    "display(films_2015_2019.query('minusa>0').groupby(\n",
    "            films_2015_2019.query('not director.isna()')['director'\n",
    "                ].apply(lambda x:(x[0]))\n",
    "                ).aggregate(['sum','count']\n",
    "                ).sort_values([('minusa','sum')], ascending=False\n",
    "                )[('minusa')\n",
    "                ].head(10))\n"
   ]
  },
  {
   "cell_type": "markdown",
   "metadata": {},
   "source": [
    "Таким образом, мы получили список режиссеров, которые несмотря на убыточность их картин, пользуются господдержкой. Аналогично можем сделать выборку по студиям, снимающим кино с господдержкой."
   ]
  },
  {
   "cell_type": "code",
   "execution_count": 59,
   "metadata": {},
   "outputs": [
    {
     "data": {
      "text/plain": [
       "'Лидеры отрасли по сумме убытков'"
      ]
     },
     "metadata": {},
     "output_type": "display_data"
    },
    {
     "data": {
      "text/html": [
       "<div>\n",
       "<style scoped>\n",
       "    .dataframe tbody tr th:only-of-type {\n",
       "        vertical-align: middle;\n",
       "    }\n",
       "\n",
       "    .dataframe tbody tr th {\n",
       "        vertical-align: top;\n",
       "    }\n",
       "\n",
       "    .dataframe thead th {\n",
       "        text-align: right;\n",
       "    }\n",
       "</style>\n",
       "<table border=\"1\" class=\"dataframe\">\n",
       "  <thead>\n",
       "    <tr style=\"text-align: right;\">\n",
       "      <th></th>\n",
       "      <th>Сумма убытков</th>\n",
       "      <th>Фильмов с убытком</th>\n",
       "      <th>Всего фильмов</th>\n",
       "      <th>Сумма сборов всех фильмов</th>\n",
       "    </tr>\n",
       "    <tr>\n",
       "      <th>studio</th>\n",
       "      <th></th>\n",
       "      <th></th>\n",
       "      <th></th>\n",
       "      <th></th>\n",
       "    </tr>\n",
       "  </thead>\n",
       "  <tbody>\n",
       "    <tr>\n",
       "      <td>ооо \"нон-стоп продакшн\"</td>\n",
       "      <td>329,609,956.5</td>\n",
       "      <td>2</td>\n",
       "      <td>3</td>\n",
       "      <td>515,775,332.5</td>\n",
       "    </tr>\n",
       "    <tr>\n",
       "      <td>ооо \"продюсерский центр \"ленфильм\"</td>\n",
       "      <td>208,427,311.5</td>\n",
       "      <td>5</td>\n",
       "      <td>7</td>\n",
       "      <td>33,402,735.5</td>\n",
       "    </tr>\n",
       "    <tr>\n",
       "      <td>ооо \"таббак\"</td>\n",
       "      <td>157,152,883.5</td>\n",
       "      <td>2</td>\n",
       "      <td>11</td>\n",
       "      <td>3,433,446,546.3</td>\n",
       "    </tr>\n",
       "    <tr>\n",
       "      <td>ооо \"компания \"реал-дакота\"</td>\n",
       "      <td>152,794,298.7</td>\n",
       "      <td>2</td>\n",
       "      <td>5</td>\n",
       "      <td>519,976,435.0</td>\n",
       "    </tr>\n",
       "    <tr>\n",
       "      <td>ооо \"визарт фильм\"</td>\n",
       "      <td>140,286,987.1</td>\n",
       "      <td>2</td>\n",
       "      <td>3</td>\n",
       "      <td>325,031,339.0</td>\n",
       "    </tr>\n",
       "    <tr>\n",
       "      <td>ооо \"арт пикчерс студия\"</td>\n",
       "      <td>137,634,765.8</td>\n",
       "      <td>1</td>\n",
       "      <td>3</td>\n",
       "      <td>1,025,465,283.0</td>\n",
       "    </tr>\n",
       "    <tr>\n",
       "      <td>ооо \"студия анимационного кино \"мельница\"</td>\n",
       "      <td>131,442,492.3</td>\n",
       "      <td>1</td>\n",
       "      <td>27</td>\n",
       "      <td>3,372,742,893.5</td>\n",
       "    </tr>\n",
       "    <tr>\n",
       "      <td>ооо \"каро продакшн\"</td>\n",
       "      <td>126,926,519.7</td>\n",
       "      <td>4</td>\n",
       "      <td>4</td>\n",
       "      <td>25,573,480.3</td>\n",
       "    </tr>\n",
       "    <tr>\n",
       "      <td>ооо \"киностудия \"вертикаль\"</td>\n",
       "      <td>123,972,043.2</td>\n",
       "      <td>4</td>\n",
       "      <td>4</td>\n",
       "      <td>19,027,956.8</td>\n",
       "    </tr>\n",
       "    <tr>\n",
       "      <td>ооо \"58</td>\n",
       "      <td>121,771,876.8</td>\n",
       "      <td>2</td>\n",
       "      <td>2</td>\n",
       "      <td>23,228,123.2</td>\n",
       "    </tr>\n",
       "  </tbody>\n",
       "</table>\n",
       "</div>"
      ],
      "text/plain": [
       "                                           Сумма убытков  Фильмов с убытком  \\\n",
       "studio                                                                        \n",
       "ооо \"нон-стоп продакшн\"                    329,609,956.5                  2   \n",
       "ооо \"продюсерский центр \"ленфильм\"         208,427,311.5                  5   \n",
       "ооо \"таббак\"                               157,152,883.5                  2   \n",
       "ооо \"компания \"реал-дакота\"                152,794,298.7                  2   \n",
       "ооо \"визарт фильм\"                         140,286,987.1                  2   \n",
       "ооо \"арт пикчерс студия\"                   137,634,765.8                  1   \n",
       "ооо \"студия анимационного кино \"мельница\"  131,442,492.3                  1   \n",
       "ооо \"каро продакшн\"                        126,926,519.7                  4   \n",
       "ооо \"киностудия \"вертикаль\"                123,972,043.2                  4   \n",
       "ооо \"58                                    121,771,876.8                  2   \n",
       "\n",
       "                                           Всего фильмов  \\\n",
       "studio                                                     \n",
       "ооо \"нон-стоп продакшн\"                                3   \n",
       "ооо \"продюсерский центр \"ленфильм\"                     7   \n",
       "ооо \"таббак\"                                          11   \n",
       "ооо \"компания \"реал-дакота\"                            5   \n",
       "ооо \"визарт фильм\"                                     3   \n",
       "ооо \"арт пикчерс студия\"                               3   \n",
       "ооо \"студия анимационного кино \"мельница\"             27   \n",
       "ооо \"каро продакшн\"                                    4   \n",
       "ооо \"киностудия \"вертикаль\"                            4   \n",
       "ооо \"58                                                2   \n",
       "\n",
       "                                           Сумма сборов всех фильмов  \n",
       "studio                                                                \n",
       "ооо \"нон-стоп продакшн\"                                515,775,332.5  \n",
       "ооо \"продюсерский центр \"ленфильм\"                      33,402,735.5  \n",
       "ооо \"таббак\"                                         3,433,446,546.3  \n",
       "ооо \"компания \"реал-дакота\"                            519,976,435.0  \n",
       "ооо \"визарт фильм\"                                     325,031,339.0  \n",
       "ооо \"арт пикчерс студия\"                             1,025,465,283.0  \n",
       "ооо \"студия анимационного кино \"мельница\"            3,372,742,893.5  \n",
       "ооо \"каро продакшн\"                                     25,573,480.3  \n",
       "ооо \"киностудия \"вертикаль\"                             19,027,956.8  \n",
       "ооо \"58                                                 23,228,123.2  "
      ]
     },
     "metadata": {},
     "output_type": "display_data"
    },
    {
     "data": {
      "text/plain": [
       "'Лидеры отрасли по количеству убыточных фильмов'"
      ]
     },
     "metadata": {},
     "output_type": "display_data"
    },
    {
     "data": {
      "text/html": [
       "<div>\n",
       "<style scoped>\n",
       "    .dataframe tbody tr th:only-of-type {\n",
       "        vertical-align: middle;\n",
       "    }\n",
       "\n",
       "    .dataframe tbody tr th {\n",
       "        vertical-align: top;\n",
       "    }\n",
       "\n",
       "    .dataframe thead th {\n",
       "        text-align: right;\n",
       "    }\n",
       "</style>\n",
       "<table border=\"1\" class=\"dataframe\">\n",
       "  <thead>\n",
       "    <tr style=\"text-align: right;\">\n",
       "      <th></th>\n",
       "      <th>Сумма убытков</th>\n",
       "      <th>Фильмов с убытком</th>\n",
       "      <th>Всего фильмов</th>\n",
       "      <th>Сумма сборов всех фильмов</th>\n",
       "      <th>Невозвратная гос.поддержка</th>\n",
       "    </tr>\n",
       "    <tr>\n",
       "      <th>studio</th>\n",
       "      <th></th>\n",
       "      <th></th>\n",
       "      <th></th>\n",
       "      <th></th>\n",
       "      <th></th>\n",
       "    </tr>\n",
       "  </thead>\n",
       "  <tbody>\n",
       "    <tr>\n",
       "      <td>ооо \"кинокомпания \"ств\"</td>\n",
       "      <td>100,821,458.5</td>\n",
       "      <td>5</td>\n",
       "      <td>8</td>\n",
       "      <td>227,771,402.4</td>\n",
       "      <td>220,000,000.0</td>\n",
       "    </tr>\n",
       "    <tr>\n",
       "      <td>ооо \"продюсерский центр \"ленфильм\"</td>\n",
       "      <td>208,427,311.5</td>\n",
       "      <td>5</td>\n",
       "      <td>7</td>\n",
       "      <td>33,402,735.5</td>\n",
       "      <td>180,000,866.0</td>\n",
       "    </tr>\n",
       "    <tr>\n",
       "      <td>ооо \"каро продакшн\"</td>\n",
       "      <td>126,926,519.7</td>\n",
       "      <td>4</td>\n",
       "      <td>4</td>\n",
       "      <td>25,573,480.3</td>\n",
       "      <td>127,500,000.0</td>\n",
       "    </tr>\n",
       "    <tr>\n",
       "      <td>ооо \"артлайт\"</td>\n",
       "      <td>84,699,739.5</td>\n",
       "      <td>4</td>\n",
       "      <td>7</td>\n",
       "      <td>21,242,369.0</td>\n",
       "      <td>103,000,000.0</td>\n",
       "    </tr>\n",
       "    <tr>\n",
       "      <td>ооо \"киностудия \"вертикаль\"</td>\n",
       "      <td>123,972,043.2</td>\n",
       "      <td>4</td>\n",
       "      <td>4</td>\n",
       "      <td>19,027,956.8</td>\n",
       "      <td>143,000,000.0</td>\n",
       "    </tr>\n",
       "    <tr>\n",
       "      <td>ооо \"студия \"слон\"</td>\n",
       "      <td>45,410,513.1</td>\n",
       "      <td>3</td>\n",
       "      <td>3</td>\n",
       "      <td>44,589,486.9</td>\n",
       "      <td>90,000,000.0</td>\n",
       "    </tr>\n",
       "    <tr>\n",
       "      <td>ооо \"ввп альянс\"</td>\n",
       "      <td>37,769,581.8</td>\n",
       "      <td>2</td>\n",
       "      <td>3</td>\n",
       "      <td>103,997,128.1</td>\n",
       "      <td>86,500,000.0</td>\n",
       "    </tr>\n",
       "    <tr>\n",
       "      <td>ооо \"кинокомпания марс-фильм\" по заказу ооо \"марс медиа энтертейнмент\"</td>\n",
       "      <td>72,407,902.5</td>\n",
       "      <td>2</td>\n",
       "      <td>2</td>\n",
       "      <td>2,592,097.5</td>\n",
       "      <td>75,000,000.0</td>\n",
       "    </tr>\n",
       "    <tr>\n",
       "      <td>ооо \"кинокомпания \"спутник\"</td>\n",
       "      <td>38,803,737.5</td>\n",
       "      <td>2</td>\n",
       "      <td>2</td>\n",
       "      <td>16,196,262.5</td>\n",
       "      <td>55,000,000.0</td>\n",
       "    </tr>\n",
       "    <tr>\n",
       "      <td>ооо \"студия \"риск-фильм\"</td>\n",
       "      <td>1,670,518.2</td>\n",
       "      <td>2</td>\n",
       "      <td>2</td>\n",
       "      <td>2,429,481.8</td>\n",
       "      <td>4,100,000.0</td>\n",
       "    </tr>\n",
       "  </tbody>\n",
       "</table>\n",
       "</div>"
      ],
      "text/plain": [
       "                                                    Сумма убытков  \\\n",
       "studio                                                              \n",
       "ооо \"кинокомпания \"ств\"                             100,821,458.5   \n",
       "ооо \"продюсерский центр \"ленфильм\"                  208,427,311.5   \n",
       "ооо \"каро продакшн\"                                 126,926,519.7   \n",
       "ооо \"артлайт\"                                        84,699,739.5   \n",
       "ооо \"киностудия \"вертикаль\"                         123,972,043.2   \n",
       "ооо \"студия \"слон\"                                   45,410,513.1   \n",
       "ооо \"ввп альянс\"                                     37,769,581.8   \n",
       "ооо \"кинокомпания марс-фильм\" по заказу ооо \"ма...   72,407,902.5   \n",
       "ооо \"кинокомпания \"спутник\"                          38,803,737.5   \n",
       "ооо \"студия \"риск-фильм\"                              1,670,518.2   \n",
       "\n",
       "                                                    Фильмов с убытком  \\\n",
       "studio                                                                  \n",
       "ооо \"кинокомпания \"ств\"                                             5   \n",
       "ооо \"продюсерский центр \"ленфильм\"                                  5   \n",
       "ооо \"каро продакшн\"                                                 4   \n",
       "ооо \"артлайт\"                                                       4   \n",
       "ооо \"киностудия \"вертикаль\"                                         4   \n",
       "ооо \"студия \"слон\"                                                  3   \n",
       "ооо \"ввп альянс\"                                                    2   \n",
       "ооо \"кинокомпания марс-фильм\" по заказу ооо \"ма...                  2   \n",
       "ооо \"кинокомпания \"спутник\"                                         2   \n",
       "ооо \"студия \"риск-фильм\"                                            2   \n",
       "\n",
       "                                                    Всего фильмов  \\\n",
       "studio                                                              \n",
       "ооо \"кинокомпания \"ств\"                                         8   \n",
       "ооо \"продюсерский центр \"ленфильм\"                              7   \n",
       "ооо \"каро продакшн\"                                             4   \n",
       "ооо \"артлайт\"                                                   7   \n",
       "ооо \"киностудия \"вертикаль\"                                     4   \n",
       "ооо \"студия \"слон\"                                              3   \n",
       "ооо \"ввп альянс\"                                                3   \n",
       "ооо \"кинокомпания марс-фильм\" по заказу ооо \"ма...              2   \n",
       "ооо \"кинокомпания \"спутник\"                                     2   \n",
       "ооо \"студия \"риск-фильм\"                                        2   \n",
       "\n",
       "                                                    Сумма сборов всех фильмов  \\\n",
       "studio                                                                          \n",
       "ооо \"кинокомпания \"ств\"                                         227,771,402.4   \n",
       "ооо \"продюсерский центр \"ленфильм\"                               33,402,735.5   \n",
       "ооо \"каро продакшн\"                                              25,573,480.3   \n",
       "ооо \"артлайт\"                                                    21,242,369.0   \n",
       "ооо \"киностудия \"вертикаль\"                                      19,027,956.8   \n",
       "ооо \"студия \"слон\"                                               44,589,486.9   \n",
       "ооо \"ввп альянс\"                                                103,997,128.1   \n",
       "ооо \"кинокомпания марс-фильм\" по заказу ооо \"ма...                2,592,097.5   \n",
       "ооо \"кинокомпания \"спутник\"                                      16,196,262.5   \n",
       "ооо \"студия \"риск-фильм\"                                          2,429,481.8   \n",
       "\n",
       "                                                    Невозвратная гос.поддержка  \n",
       "studio                                                                          \n",
       "ооо \"кинокомпания \"ств\"                                          220,000,000.0  \n",
       "ооо \"продюсерский центр \"ленфильм\"                               180,000,866.0  \n",
       "ооо \"каро продакшн\"                                              127,500,000.0  \n",
       "ооо \"артлайт\"                                                    103,000,000.0  \n",
       "ооо \"киностудия \"вертикаль\"                                      143,000,000.0  \n",
       "ооо \"студия \"слон\"                                                90,000,000.0  \n",
       "ооо \"ввп альянс\"                                                  86,500,000.0  \n",
       "ооо \"кинокомпания марс-фильм\" по заказу ооо \"ма...                75,000,000.0  \n",
       "ооо \"кинокомпания \"спутник\"                                       55,000,000.0  \n",
       "ооо \"студия \"риск-фильм\"                                           4,100,000.0  "
      ]
     },
     "metadata": {},
     "output_type": "display_data"
    }
   ],
   "source": [
    "display('Лидеры отрасли по сумме убытков', films_2015_2019.query('minusa>0').groupby(\n",
    "            films_2015_2019.query('not studio.isna()')['studio'\n",
    "                ].apply(lambda x:(x[0]))\n",
    "                ).aggregate(['sum','count']\n",
    "                ).sort_values([('minusa','sum')], ascending=False\n",
    "                )[('minusa')\n",
    "                ].head(10\n",
    "                ).join(films_2015_2019.groupby('studio_main').count()['name']\n",
    "                ).join(films_2015_2019.groupby('studio_main').sum()['box_office_mk']\n",
    "                ).rename(columns={'sum':'Сумма убытков',\n",
    "                                  'count':'Фильмов с убытком',\n",
    "                                  'name':'Всего фильмов',\n",
    "                                  'box_office_mk':'Сумма сборов всех фильмов'}))\n",
    "display('Лидеры отрасли по количеству убыточных фильмов', films_2015_2019.query('minusa>0').groupby(\n",
    "            films_2015_2019.query('not studio.isna()')['studio'\n",
    "                ].apply(lambda x:(x[0]))\n",
    "                ).aggregate(['sum','count']\n",
    "                ).sort_values([('minusa','count')], ascending=False\n",
    "                )[('minusa')\n",
    "                ].head(10\n",
    "                ).join(films_2015_2019.groupby('studio_main').count()['name']\n",
    "                ).join(films_2015_2019.groupby('studio_main').sum()['box_office_mk']\n",
    "                ).join(films_2015_2019.groupby('studio_main').sum()['nonrefundable_support_mk']\n",
    "                ).rename(columns={'sum':'Сумма убытков',\n",
    "                                  'count':'Фильмов с убытком',\n",
    "                                  'name':'Всего фильмов',\n",
    "                                  'box_office_mk':'Сумма сборов всех фильмов',\n",
    "                                  'nonrefundable_support_mk':'Невозвратная гос.поддержка'}))"
   ]
  },
  {
   "cell_type": "markdown",
   "metadata": {},
   "source": [
    "Весьма показателен список Топ-10 студий по сумме убытков. Например студия анимации \"Мельница\", несмотря на то, что она входит в десятку по убыточности, это был всего один фильм, тогда как суммарные сборы всех 27 фильмов этой студии 3,3 миллиарда рублей. Или ООО \"Таббак\", имеет два убыточных фильма, а общие сборы от 11 фильмов 3,4 миллиарда.\n",
    "Но вот студия ООО \"Продюсерский центр \"Ленфильм\" пять из семи фильмов сняла на государственное финансирование с убытком 208 миллионов, при этом ее суммарные сборы всего 33 миллиона. ООО \"Каро Продакшн\" сумма убытков 126 млн, общие сборы 25,5 млн. Киностудия вертикаль 123 миллиона убытков общие сборы 19 миллионов. ООО \"58,5 продакшн\" 121 миллионов убытков, 23 миллиона сборов. Еще эти студии объединяет низкий уставной капитал (до 100 тысяч рублей), маленькое количество официально трудоустроенных работников (от 0 до 3) и стабильная околонулевая прибыль за рассматриваемый период (Данные портала \"Чекко\" о проверке контрагентов), и все эти факторы не мешают им регулярно получать от государства невозвратные субсидии в сотни миллионов рублей.\n",
    "Однако стоит учитывать неполноту исходных данных (2015-2019 год) и отсутствие полных данных о бюджете картин. "
   ]
  },
  {
   "cell_type": "markdown",
   "metadata": {},
   "source": [
    "#### Вывод\n",
    "Сфера кинематографа в России сильно зависит от государственной поддержки. 52% бюджета среднего российского фильма обеспечивается тем, или иным государственным софинансированием. Существует ряд студий, стабильно выпускающих убыточные ленты с господдержкой, сборы которых не покрывают даже невозвратное финансирование."
   ]
  },
  {
   "cell_type": "markdown",
   "metadata": {
    "id": "V2gYwMcPgFyd"
   },
   "source": [
    "## Заключение"
   ]
  },
  {
   "cell_type": "markdown",
   "metadata": {
    "id": "AYRg3dzXgFye"
   },
   "source": [
    "Для увеличения охвата исследования, к предоставленным к проекту таблицам были добавлены данные с сайта открытых данных министерства культуры. \n",
    "В процессе исследования было выявлено, что в период с 2015 по 2021 годы на рынке кинопроката РФ существовали следующие тренды:\n",
    "- Снижение средней длительности успешных фильмов (со сборами более 50 миллионов рублей) - от 106..108 минут в 2014-2016 годах, до 97..98 минут в 2019-2021 годах\n",
    "- Количество выданных прокатных удостоверений росло до 2007 года (более 6000 лент в различных типах проката), затем начало уменьшаться до 2017 года (менее 2000 лент), и до 2021 года идет слабое восстановление. \n",
    "- суммарные сборы всех картин на российском кинорынке росли до 2017 года, затем началось плавное сокращение сборов. Возможно, это связано с общим падением покупательной способности населения. Тенденция по падению сборов после 2017 года сохраняется как в разрезе вохрастных категорий, так и в разрезе жанров, то есть это не связано с какими-то сверхуспешными картинами, вышедшими в 2017 году и исказившими картину.\n",
    "- В среднем, наиболее успешны в прокает ленты возрастной категории 6+, затем идет категория 12+. Категории 18+ и 0+ собирают наименьший средний бокс-офис.\n",
    "Среди топ-10 жанров, вышедших в прокат с 2015 по 2019 год наблюдаются следующие тенденции: \n",
    "- Высокие сборы в жанре фантастика, но средние сборы падают от года к году\n",
    "- Высокие сборы в жанре мультфильмы, и средние сборы растут\n",
    "- Высокие сборы в жанре боевик, но средние сборы падают\n",
    "- Стабильно низкие сборы в жанрах драма и триллер.\n",
    "\n",
    "В процессе исследования фильмов с господдержкой было выявлено следующее:\n",
    "- Суммарно, 400 миллионов возвратных субсидий было выделено на фильмы, которые собрали в прокате меньше, чем должны были вернуть в бюджет.\n",
    "- Если бы не было невозвратных субсидий, сборы бы не покрывали суммарный бюджет картин более чем на 7,1 млрд рублей.\n",
    "- Сфера кинематографа в России сильно зависит от государственной поддержки.\n",
    "- Без невозвратной государственной поддержки большинство этих фильмов были бы глубоко убыточны.\n",
    "- Даже самые провальные ленты получившие невозвратную господдержку не влияют на дальнейшее получение субсидий киностудией."
   ]
  },
  {
   "cell_type": "markdown",
   "metadata": {},
   "source": [
    "<div id=\"accordion\">\n",
    "    <div class=\"card\">\n",
    "        <div class=\"card-header\" id=\"headingThree\">\n",
    "            <button class=\"btn btn-link collapsed\" data-toggle=\"collapse\" data-target=\"#collapseHint_1\" aria-expanded=\"false\" aria-controls=\"collapseHint_1\">Пасхалка</button>\n",
    "        </div>\n",
    "        <div id=\"collapseHint_1\" class=\"collapse\" aria-labelledby=\"headingThree\" data-parent=\"#accordion\">\n",
    "            \n",
    "![Image of Yaktocat](https://www.stratege.ru/forums/files/gallery/1/b12/564/7e58a3f0985f1881289ce4925d7c73ec.jpg)\n",
    "\n",
    "   "
   ]
  }
 ],
 "metadata": {
  "ExecuteTimeLog": [
   {
    "duration": 537,
    "start_time": "2021-07-07T10:12:08.634Z"
   },
   {
    "duration": 206,
    "start_time": "2021-07-07T10:12:30.191Z"
   },
   {
    "duration": 227,
    "start_time": "2021-07-07T10:12:33.078Z"
   },
   {
    "duration": 153,
    "start_time": "2021-07-07T10:13:42.146Z"
   },
   {
    "duration": 233,
    "start_time": "2021-07-07T10:30:09.252Z"
   },
   {
    "duration": 19,
    "start_time": "2021-07-07T10:30:15.577Z"
   },
   {
    "duration": 18,
    "start_time": "2021-07-07T10:30:57.348Z"
   },
   {
    "duration": 19,
    "start_time": "2021-07-07T10:31:17.452Z"
   },
   {
    "duration": 21,
    "start_time": "2021-07-07T10:31:32.227Z"
   },
   {
    "duration": 27,
    "start_time": "2021-07-07T10:32:06.588Z"
   },
   {
    "duration": 23,
    "start_time": "2021-07-07T10:32:43.645Z"
   },
   {
    "duration": 24,
    "start_time": "2021-07-07T10:33:06.948Z"
   },
   {
    "duration": 7,
    "start_time": "2021-07-07T10:33:28.558Z"
   },
   {
    "duration": 23,
    "start_time": "2021-07-07T10:33:43.761Z"
   },
   {
    "duration": 28,
    "start_time": "2021-07-07T10:34:13.466Z"
   },
   {
    "duration": 23,
    "start_time": "2021-07-07T10:35:56.187Z"
   },
   {
    "duration": 6,
    "start_time": "2021-07-07T10:36:48.182Z"
   },
   {
    "duration": 14,
    "start_time": "2021-07-07T10:37:49.641Z"
   },
   {
    "duration": 6,
    "start_time": "2021-07-07T10:38:06.694Z"
   },
   {
    "duration": 6,
    "start_time": "2021-07-07T10:38:13.493Z"
   },
   {
    "duration": 19,
    "start_time": "2021-07-07T10:38:44.056Z"
   },
   {
    "duration": 186,
    "start_time": "2021-07-07T10:48:35.618Z"
   },
   {
    "duration": 24,
    "start_time": "2021-07-07T10:48:51.498Z"
   },
   {
    "duration": 20,
    "start_time": "2021-07-07T10:48:59.415Z"
   },
   {
    "duration": 20,
    "start_time": "2021-07-07T10:53:02.195Z"
   },
   {
    "duration": 188,
    "start_time": "2021-07-07T10:54:40.486Z"
   },
   {
    "duration": 115,
    "start_time": "2021-07-07T10:54:52.552Z"
   },
   {
    "duration": 214,
    "start_time": "2021-07-07T10:54:56.354Z"
   },
   {
    "duration": 47,
    "start_time": "2021-07-07T10:54:58.282Z"
   },
   {
    "duration": 217,
    "start_time": "2021-07-07T10:59:16.075Z"
   },
   {
    "duration": 51,
    "start_time": "2021-07-07T10:59:16.243Z"
   },
   {
    "duration": 578,
    "start_time": "2021-07-07T10:59:18.774Z"
   },
   {
    "duration": 161,
    "start_time": "2021-07-07T10:59:21.238Z"
   },
   {
    "duration": 59,
    "start_time": "2021-07-07T10:59:21.453Z"
   },
   {
    "duration": 3,
    "start_time": "2021-07-07T11:02:10.786Z"
   },
   {
    "duration": 13,
    "start_time": "2021-07-07T11:07:07.722Z"
   },
   {
    "duration": 26,
    "start_time": "2021-07-07T11:07:17.958Z"
   },
   {
    "duration": 22,
    "start_time": "2021-07-07T11:08:17.939Z"
   },
   {
    "duration": 212,
    "start_time": "2021-07-07T11:08:19.665Z"
   },
   {
    "duration": 21,
    "start_time": "2021-07-07T11:08:29.945Z"
   },
   {
    "duration": 31,
    "start_time": "2021-07-07T11:08:38.899Z"
   },
   {
    "duration": 23,
    "start_time": "2021-07-07T11:08:54.527Z"
   },
   {
    "duration": 8,
    "start_time": "2021-07-07T11:18:55.974Z"
   },
   {
    "duration": 7,
    "start_time": "2021-07-07T11:19:03.639Z"
   },
   {
    "duration": 7,
    "start_time": "2021-07-07T11:19:06.444Z"
   },
   {
    "duration": 578,
    "start_time": "2021-07-07T12:09:59.576Z"
   },
   {
    "duration": 195,
    "start_time": "2021-07-07T12:10:00.156Z"
   },
   {
    "duration": 115,
    "start_time": "2021-07-07T12:10:00.353Z"
   },
   {
    "duration": 3,
    "start_time": "2021-07-07T12:10:00.470Z"
   },
   {
    "duration": 32,
    "start_time": "2021-07-07T12:10:00.474Z"
   },
   {
    "duration": 23,
    "start_time": "2021-07-07T12:10:00.508Z"
   },
   {
    "duration": 19,
    "start_time": "2021-07-07T12:10:00.533Z"
   },
   {
    "duration": 44,
    "start_time": "2021-07-07T12:10:00.553Z"
   },
   {
    "duration": 7,
    "start_time": "2021-07-07T12:10:00.600Z"
   },
   {
    "duration": 7,
    "start_time": "2021-07-07T12:19:45.761Z"
   },
   {
    "duration": 21,
    "start_time": "2021-07-07T12:21:35.482Z"
   },
   {
    "duration": 21,
    "start_time": "2021-07-07T12:29:23.569Z"
   },
   {
    "duration": 525,
    "start_time": "2021-07-07T12:29:44.542Z"
   },
   {
    "duration": 214,
    "start_time": "2021-07-07T12:29:45.069Z"
   },
   {
    "duration": 92,
    "start_time": "2021-07-07T12:29:45.285Z"
   },
   {
    "duration": 3,
    "start_time": "2021-07-07T12:29:45.379Z"
   },
   {
    "duration": 28,
    "start_time": "2021-07-07T12:29:45.384Z"
   },
   {
    "duration": 23,
    "start_time": "2021-07-07T12:29:45.413Z"
   },
   {
    "duration": 21,
    "start_time": "2021-07-07T12:29:45.437Z"
   },
   {
    "duration": 41,
    "start_time": "2021-07-07T12:29:45.460Z"
   },
   {
    "duration": 7,
    "start_time": "2021-07-07T12:29:45.502Z"
   },
   {
    "duration": 20,
    "start_time": "2021-07-07T12:29:45.511Z"
   },
   {
    "duration": 12,
    "start_time": "2021-07-07T12:34:02.800Z"
   },
   {
    "duration": 7,
    "start_time": "2021-07-07T12:35:10.479Z"
   },
   {
    "duration": 8,
    "start_time": "2021-07-07T12:35:22.440Z"
   },
   {
    "duration": 6,
    "start_time": "2021-07-07T12:35:35.649Z"
   },
   {
    "duration": 6,
    "start_time": "2021-07-07T12:35:43.107Z"
   },
   {
    "duration": 22,
    "start_time": "2021-07-07T12:38:03.029Z"
   },
   {
    "duration": 10,
    "start_time": "2021-07-07T12:38:06.592Z"
   },
   {
    "duration": 563,
    "start_time": "2021-07-07T12:38:46.493Z"
   },
   {
    "duration": 265,
    "start_time": "2021-07-07T12:38:47.058Z"
   },
   {
    "duration": 94,
    "start_time": "2021-07-07T12:38:47.325Z"
   },
   {
    "duration": 3,
    "start_time": "2021-07-07T12:38:47.422Z"
   },
   {
    "duration": 30,
    "start_time": "2021-07-07T12:38:47.427Z"
   },
   {
    "duration": 16,
    "start_time": "2021-07-07T12:38:53.305Z"
   },
   {
    "duration": 10,
    "start_time": "2021-07-07T12:38:53.499Z"
   },
   {
    "duration": 8,
    "start_time": "2021-07-07T12:39:48.161Z"
   },
   {
    "duration": 27,
    "start_time": "2021-07-07T12:41:17.629Z"
   },
   {
    "duration": 17,
    "start_time": "2021-07-07T12:41:17.867Z"
   },
   {
    "duration": 21,
    "start_time": "2021-07-07T12:41:19.310Z"
   },
   {
    "duration": 7,
    "start_time": "2021-07-07T12:41:19.544Z"
   },
   {
    "duration": 20,
    "start_time": "2021-07-07T12:41:20.504Z"
   },
   {
    "duration": 554,
    "start_time": "2021-07-07T12:56:23.696Z"
   },
   {
    "duration": 200,
    "start_time": "2021-07-07T12:56:25.234Z"
   },
   {
    "duration": 119,
    "start_time": "2021-07-07T12:56:25.480Z"
   },
   {
    "duration": 4,
    "start_time": "2021-07-07T12:56:25.762Z"
   },
   {
    "duration": 26,
    "start_time": "2021-07-07T12:56:27.172Z"
   },
   {
    "duration": 12,
    "start_time": "2021-07-07T12:56:29.051Z"
   },
   {
    "duration": 10,
    "start_time": "2021-07-07T12:56:29.291Z"
   },
   {
    "duration": 8,
    "start_time": "2021-07-07T12:56:29.623Z"
   },
   {
    "duration": 28,
    "start_time": "2021-07-07T12:56:32.137Z"
   },
   {
    "duration": 19,
    "start_time": "2021-07-07T12:56:39.785Z"
   },
   {
    "duration": 20,
    "start_time": "2021-07-07T12:56:44.297Z"
   },
   {
    "duration": 7,
    "start_time": "2021-07-07T12:56:45.392Z"
   },
   {
    "duration": 23,
    "start_time": "2021-07-07T12:56:46.615Z"
   },
   {
    "duration": 4,
    "start_time": "2021-07-07T12:57:06.625Z"
   },
   {
    "duration": 32,
    "start_time": "2021-07-07T12:57:36.690Z"
   },
   {
    "duration": 18,
    "start_time": "2021-07-07T12:58:00.149Z"
   },
   {
    "duration": 15,
    "start_time": "2021-07-07T12:59:16.793Z"
   },
   {
    "duration": 7,
    "start_time": "2021-07-07T13:19:22.624Z"
   },
   {
    "duration": 6,
    "start_time": "2021-07-07T14:17:33.527Z"
   },
   {
    "duration": 9,
    "start_time": "2021-07-07T14:17:48.409Z"
   },
   {
    "duration": 8,
    "start_time": "2021-07-07T14:20:13.060Z"
   },
   {
    "duration": 8,
    "start_time": "2021-07-07T14:20:37.957Z"
   },
   {
    "duration": 8,
    "start_time": "2021-07-07T14:20:47.470Z"
   },
   {
    "duration": 9,
    "start_time": "2021-07-07T14:20:54.503Z"
   },
   {
    "duration": 10,
    "start_time": "2021-07-07T14:28:57.763Z"
   },
   {
    "duration": 3,
    "start_time": "2021-07-07T14:30:23.377Z"
   },
   {
    "duration": 3,
    "start_time": "2021-07-07T14:30:36.489Z"
   },
   {
    "duration": 103,
    "start_time": "2021-07-07T14:30:52.351Z"
   },
   {
    "duration": 8,
    "start_time": "2021-07-07T14:30:54.763Z"
   },
   {
    "duration": 8,
    "start_time": "2021-07-07T14:31:29.301Z"
   },
   {
    "duration": 13,
    "start_time": "2021-07-07T14:31:44.516Z"
   },
   {
    "duration": 7,
    "start_time": "2021-07-07T14:33:10.972Z"
   },
   {
    "duration": 11,
    "start_time": "2021-07-07T14:33:27.780Z"
   },
   {
    "duration": 8,
    "start_time": "2021-07-07T14:34:44.588Z"
   },
   {
    "duration": 57,
    "start_time": "2021-07-07T14:35:59.042Z"
   },
   {
    "duration": 3,
    "start_time": "2021-07-07T14:36:28.168Z"
   },
   {
    "duration": 5,
    "start_time": "2021-07-07T14:36:46.254Z"
   },
   {
    "duration": 4,
    "start_time": "2021-07-07T14:36:52.714Z"
   },
   {
    "duration": 3,
    "start_time": "2021-07-07T14:36:56.612Z"
   },
   {
    "duration": 4,
    "start_time": "2021-07-07T14:36:57.049Z"
   },
   {
    "duration": 3,
    "start_time": "2021-07-07T14:39:21.214Z"
   },
   {
    "duration": 7,
    "start_time": "2021-07-07T14:39:52.406Z"
   },
   {
    "duration": 11,
    "start_time": "2021-07-07T14:39:58.576Z"
   },
   {
    "duration": 9,
    "start_time": "2021-07-07T14:40:26.301Z"
   },
   {
    "duration": 10,
    "start_time": "2021-07-07T14:40:31.704Z"
   },
   {
    "duration": 11,
    "start_time": "2021-07-07T14:40:36.249Z"
   },
   {
    "duration": 10,
    "start_time": "2021-07-07T14:40:39.783Z"
   },
   {
    "duration": 9,
    "start_time": "2021-07-07T14:40:48.558Z"
   },
   {
    "duration": 10,
    "start_time": "2021-07-07T14:40:57.143Z"
   },
   {
    "duration": 9,
    "start_time": "2021-07-07T14:41:06.074Z"
   },
   {
    "duration": 4324,
    "start_time": "2021-07-07T14:41:22.004Z"
   },
   {
    "duration": 11,
    "start_time": "2021-07-07T14:41:33.392Z"
   },
   {
    "duration": 9,
    "start_time": "2021-07-07T14:41:39.288Z"
   },
   {
    "duration": 569,
    "start_time": "2021-07-07T14:42:14.387Z"
   },
   {
    "duration": 197,
    "start_time": "2021-07-07T14:42:14.959Z"
   },
   {
    "duration": 84,
    "start_time": "2021-07-07T14:42:16.052Z"
   },
   {
    "duration": 4,
    "start_time": "2021-07-07T14:42:16.900Z"
   },
   {
    "duration": 27,
    "start_time": "2021-07-07T14:42:19.898Z"
   },
   {
    "duration": 12,
    "start_time": "2021-07-07T14:42:21.577Z"
   },
   {
    "duration": 9,
    "start_time": "2021-07-07T14:42:21.813Z"
   },
   {
    "duration": 9,
    "start_time": "2021-07-07T14:42:22.569Z"
   },
   {
    "duration": 29,
    "start_time": "2021-07-07T14:42:25.837Z"
   },
   {
    "duration": 20,
    "start_time": "2021-07-07T14:42:27.003Z"
   },
   {
    "duration": 21,
    "start_time": "2021-07-07T14:42:28.767Z"
   },
   {
    "duration": 7,
    "start_time": "2021-07-07T14:42:29.838Z"
   },
   {
    "duration": 4,
    "start_time": "2021-07-07T14:43:25.493Z"
   },
   {
    "duration": 7,
    "start_time": "2021-07-07T14:43:26.573Z"
   },
   {
    "duration": 10,
    "start_time": "2021-07-07T14:43:31.639Z"
   },
   {
    "duration": 9,
    "start_time": "2021-07-07T14:43:32.046Z"
   },
   {
    "duration": 10,
    "start_time": "2021-07-07T14:43:33.301Z"
   },
   {
    "duration": 12,
    "start_time": "2021-07-07T14:43:33.658Z"
   },
   {
    "duration": 8,
    "start_time": "2021-07-07T14:43:34.552Z"
   },
   {
    "duration": 9,
    "start_time": "2021-07-07T14:43:35.058Z"
   },
   {
    "duration": 12,
    "start_time": "2021-07-07T14:43:35.914Z"
   },
   {
    "duration": 17,
    "start_time": "2021-07-07T14:45:34.368Z"
   },
   {
    "duration": 512,
    "start_time": "2021-07-07T14:51:58.236Z"
   },
   {
    "duration": 223,
    "start_time": "2021-07-07T14:51:58.750Z"
   },
   {
    "duration": 93,
    "start_time": "2021-07-07T14:51:58.977Z"
   },
   {
    "duration": 4,
    "start_time": "2021-07-07T14:51:59.071Z"
   },
   {
    "duration": 37,
    "start_time": "2021-07-07T14:51:59.077Z"
   },
   {
    "duration": 18,
    "start_time": "2021-07-07T14:51:59.116Z"
   },
   {
    "duration": 10,
    "start_time": "2021-07-07T14:51:59.137Z"
   },
   {
    "duration": 8,
    "start_time": "2021-07-07T14:51:59.149Z"
   },
   {
    "duration": 54,
    "start_time": "2021-07-07T14:51:59.158Z"
   },
   {
    "duration": 18,
    "start_time": "2021-07-07T14:51:59.213Z"
   },
   {
    "duration": 22,
    "start_time": "2021-07-07T14:51:59.232Z"
   },
   {
    "duration": 36,
    "start_time": "2021-07-07T14:51:59.255Z"
   },
   {
    "duration": 7,
    "start_time": "2021-07-07T14:51:59.293Z"
   },
   {
    "duration": 10,
    "start_time": "2021-07-07T14:51:59.302Z"
   },
   {
    "duration": 9,
    "start_time": "2021-07-07T14:51:59.313Z"
   },
   {
    "duration": 11,
    "start_time": "2021-07-07T14:51:59.324Z"
   },
   {
    "duration": 8,
    "start_time": "2021-07-07T14:51:59.337Z"
   },
   {
    "duration": 46,
    "start_time": "2021-07-07T14:51:59.347Z"
   },
   {
    "duration": 22,
    "start_time": "2021-07-07T14:51:59.395Z"
   },
   {
    "duration": 24,
    "start_time": "2021-07-07T14:57:32.911Z"
   },
   {
    "duration": 7,
    "start_time": "2021-07-07T14:58:22.070Z"
   },
   {
    "duration": 4,
    "start_time": "2021-07-07T14:59:11.239Z"
   },
   {
    "duration": 25,
    "start_time": "2021-07-07T15:07:22.208Z"
   },
   {
    "duration": 16,
    "start_time": "2021-07-07T15:08:25.560Z"
   },
   {
    "duration": 15,
    "start_time": "2021-07-07T15:08:40.647Z"
   },
   {
    "duration": 14,
    "start_time": "2021-07-07T15:08:46.669Z"
   },
   {
    "duration": 533,
    "start_time": "2021-07-07T15:18:07.440Z"
   },
   {
    "duration": 173,
    "start_time": "2021-07-07T15:18:07.974Z"
   },
   {
    "duration": 84,
    "start_time": "2021-07-07T15:18:08.149Z"
   },
   {
    "duration": 3,
    "start_time": "2021-07-07T15:18:08.235Z"
   },
   {
    "duration": 30,
    "start_time": "2021-07-07T15:18:08.240Z"
   },
   {
    "duration": 22,
    "start_time": "2021-07-07T15:18:08.272Z"
   },
   {
    "duration": 11,
    "start_time": "2021-07-07T15:18:08.295Z"
   },
   {
    "duration": 11,
    "start_time": "2021-07-07T15:18:08.309Z"
   },
   {
    "duration": 40,
    "start_time": "2021-07-07T15:18:08.322Z"
   },
   {
    "duration": 42,
    "start_time": "2021-07-07T15:18:08.364Z"
   },
   {
    "duration": 22,
    "start_time": "2021-07-07T15:18:08.408Z"
   },
   {
    "duration": 5,
    "start_time": "2021-07-07T15:18:08.432Z"
   },
   {
    "duration": 13,
    "start_time": "2021-07-07T15:18:08.439Z"
   },
   {
    "duration": 9,
    "start_time": "2021-07-07T15:18:08.454Z"
   },
   {
    "duration": 32,
    "start_time": "2021-07-07T15:18:08.465Z"
   },
   {
    "duration": 10,
    "start_time": "2021-07-07T15:18:08.501Z"
   },
   {
    "duration": 7,
    "start_time": "2021-07-07T15:18:08.513Z"
   },
   {
    "duration": 11,
    "start_time": "2021-07-07T15:18:08.521Z"
   },
   {
    "duration": 17,
    "start_time": "2021-07-07T15:18:08.534Z"
   },
   {
    "duration": 44,
    "start_time": "2021-07-07T15:18:08.553Z"
   },
   {
    "duration": 22,
    "start_time": "2021-07-07T15:18:08.599Z"
   },
   {
    "duration": 61,
    "start_time": "2021-07-07T15:18:08.622Z"
   },
   {
    "duration": 7,
    "start_time": "2021-07-07T15:18:39.457Z"
   },
   {
    "duration": 5,
    "start_time": "2021-07-07T16:05:17.020Z"
   },
   {
    "duration": 5,
    "start_time": "2021-07-07T16:51:28.794Z"
   },
   {
    "duration": 546,
    "start_time": "2021-07-07T16:52:26.306Z"
   },
   {
    "duration": 203,
    "start_time": "2021-07-07T16:52:27.523Z"
   },
   {
    "duration": 85,
    "start_time": "2021-07-07T16:52:27.736Z"
   },
   {
    "duration": 4,
    "start_time": "2021-07-07T16:52:27.899Z"
   },
   {
    "duration": 25,
    "start_time": "2021-07-07T16:52:28.674Z"
   },
   {
    "duration": 8,
    "start_time": "2021-07-07T16:52:32.956Z"
   },
   {
    "duration": 18,
    "start_time": "2021-07-07T16:52:35.616Z"
   },
   {
    "duration": 6,
    "start_time": "2021-07-07T16:52:36.913Z"
   },
   {
    "duration": 11,
    "start_time": "2021-07-07T16:52:40.258Z"
   },
   {
    "duration": 10,
    "start_time": "2021-07-07T16:52:46.251Z"
   },
   {
    "duration": 8,
    "start_time": "2021-07-07T16:52:47.182Z"
   },
   {
    "duration": 27,
    "start_time": "2021-07-07T16:53:20.391Z"
   },
   {
    "duration": 20,
    "start_time": "2021-07-07T16:53:22.022Z"
   },
   {
    "duration": 23,
    "start_time": "2021-07-07T16:53:23.690Z"
   },
   {
    "duration": 8,
    "start_time": "2021-07-07T16:53:24.261Z"
   },
   {
    "duration": 4,
    "start_time": "2021-07-07T16:53:38.733Z"
   },
   {
    "duration": 7,
    "start_time": "2021-07-07T16:53:40.445Z"
   },
   {
    "duration": 11,
    "start_time": "2021-07-07T16:53:41.348Z"
   },
   {
    "duration": 13,
    "start_time": "2021-07-07T16:53:45.250Z"
   },
   {
    "duration": 12,
    "start_time": "2021-07-07T16:53:45.467Z"
   },
   {
    "duration": 4,
    "start_time": "2021-07-07T16:55:32.704Z"
   },
   {
    "duration": 12,
    "start_time": "2021-07-07T16:55:49.012Z"
   },
   {
    "duration": 18,
    "start_time": "2021-07-07T16:55:49.547Z"
   },
   {
    "duration": 611,
    "start_time": "2021-07-07T16:58:35.156Z"
   },
   {
    "duration": 200,
    "start_time": "2021-07-07T16:58:35.770Z"
   },
   {
    "duration": 86,
    "start_time": "2021-07-07T16:58:35.972Z"
   },
   {
    "duration": 3,
    "start_time": "2021-07-07T16:58:36.060Z"
   },
   {
    "duration": 27,
    "start_time": "2021-07-07T16:58:36.065Z"
   },
   {
    "duration": 8,
    "start_time": "2021-07-07T16:58:36.094Z"
   },
   {
    "duration": 17,
    "start_time": "2021-07-07T16:58:36.103Z"
   },
   {
    "duration": 5,
    "start_time": "2021-07-07T16:58:36.123Z"
   },
   {
    "duration": 11,
    "start_time": "2021-07-07T16:58:36.130Z"
   },
   {
    "duration": 7,
    "start_time": "2021-07-07T16:58:36.143Z"
   },
   {
    "duration": 37,
    "start_time": "2021-07-07T16:58:36.152Z"
   },
   {
    "duration": 27,
    "start_time": "2021-07-07T16:58:36.191Z"
   },
   {
    "duration": 19,
    "start_time": "2021-07-07T16:58:36.219Z"
   },
   {
    "duration": 49,
    "start_time": "2021-07-07T16:58:36.240Z"
   },
   {
    "duration": 6,
    "start_time": "2021-07-07T16:58:36.291Z"
   },
   {
    "duration": 3,
    "start_time": "2021-07-07T16:58:36.299Z"
   },
   {
    "duration": 13,
    "start_time": "2021-07-07T16:58:36.304Z"
   },
   {
    "duration": 10,
    "start_time": "2021-07-07T16:58:36.319Z"
   },
   {
    "duration": 10,
    "start_time": "2021-07-07T16:58:36.331Z"
   },
   {
    "duration": 44,
    "start_time": "2021-07-07T16:58:36.343Z"
   },
   {
    "duration": 4,
    "start_time": "2021-07-07T16:58:36.388Z"
   },
   {
    "duration": 13,
    "start_time": "2021-07-07T16:58:36.394Z"
   },
   {
    "duration": 16,
    "start_time": "2021-07-07T16:58:36.410Z"
   },
   {
    "duration": 8,
    "start_time": "2021-07-07T17:02:31.629Z"
   },
   {
    "duration": 8,
    "start_time": "2021-07-07T17:02:34.308Z"
   },
   {
    "duration": 6,
    "start_time": "2021-07-07T17:05:13.483Z"
   },
   {
    "duration": 17,
    "start_time": "2021-07-07T17:05:20.606Z"
   },
   {
    "duration": 7,
    "start_time": "2021-07-07T17:05:34.638Z"
   },
   {
    "duration": 3,
    "start_time": "2021-07-07T17:06:31.883Z"
   },
   {
    "duration": 570,
    "start_time": "2021-07-07T17:06:37.165Z"
   },
   {
    "duration": 174,
    "start_time": "2021-07-07T17:06:37.737Z"
   },
   {
    "duration": 47,
    "start_time": "2021-07-07T17:06:37.913Z"
   },
   {
    "duration": 3,
    "start_time": "2021-07-07T17:06:37.962Z"
   },
   {
    "duration": 27,
    "start_time": "2021-07-07T17:06:37.967Z"
   },
   {
    "duration": 7,
    "start_time": "2021-07-07T17:06:37.996Z"
   },
   {
    "duration": 16,
    "start_time": "2021-07-07T17:06:38.005Z"
   },
   {
    "duration": 6,
    "start_time": "2021-07-07T17:06:38.024Z"
   },
   {
    "duration": 12,
    "start_time": "2021-07-07T17:06:38.031Z"
   },
   {
    "duration": 41,
    "start_time": "2021-07-07T17:06:38.045Z"
   },
   {
    "duration": 8,
    "start_time": "2021-07-07T17:06:38.088Z"
   },
   {
    "duration": 26,
    "start_time": "2021-07-07T17:06:38.098Z"
   },
   {
    "duration": 17,
    "start_time": "2021-07-07T17:06:38.126Z"
   },
   {
    "duration": 43,
    "start_time": "2021-07-07T17:06:38.144Z"
   },
   {
    "duration": 6,
    "start_time": "2021-07-07T17:06:38.188Z"
   },
   {
    "duration": 5,
    "start_time": "2021-07-07T17:06:38.195Z"
   },
   {
    "duration": 9,
    "start_time": "2021-07-07T17:06:38.201Z"
   },
   {
    "duration": 12,
    "start_time": "2021-07-07T17:06:38.212Z"
   },
   {
    "duration": 11,
    "start_time": "2021-07-07T17:06:38.226Z"
   },
   {
    "duration": 47,
    "start_time": "2021-07-07T17:06:38.239Z"
   },
   {
    "duration": 4,
    "start_time": "2021-07-07T17:06:38.288Z"
   },
   {
    "duration": 13,
    "start_time": "2021-07-07T17:06:38.293Z"
   },
   {
    "duration": 5,
    "start_time": "2021-07-07T17:06:38.309Z"
   },
   {
    "duration": 18,
    "start_time": "2021-07-07T17:06:38.325Z"
   },
   {
    "duration": 20,
    "start_time": "2021-07-07T17:07:02.805Z"
   },
   {
    "duration": 19,
    "start_time": "2021-07-07T17:07:08.527Z"
   },
   {
    "duration": 19,
    "start_time": "2021-07-07T17:07:12.758Z"
   },
   {
    "duration": 22,
    "start_time": "2021-07-07T17:07:17.497Z"
   },
   {
    "duration": 19,
    "start_time": "2021-07-07T17:07:19.645Z"
   },
   {
    "duration": 10,
    "start_time": "2021-07-07T17:07:34.239Z"
   },
   {
    "duration": 17,
    "start_time": "2021-07-07T17:07:54.144Z"
   },
   {
    "duration": 14,
    "start_time": "2021-07-07T17:08:14.357Z"
   },
   {
    "duration": 616,
    "start_time": "2021-07-07T17:08:45.254Z"
   },
   {
    "duration": 178,
    "start_time": "2021-07-07T17:08:45.872Z"
   },
   {
    "duration": 60,
    "start_time": "2021-07-07T17:08:46.054Z"
   },
   {
    "duration": 3,
    "start_time": "2021-07-07T17:08:46.116Z"
   },
   {
    "duration": 26,
    "start_time": "2021-07-07T17:08:46.121Z"
   },
   {
    "duration": 7,
    "start_time": "2021-07-07T17:08:46.149Z"
   },
   {
    "duration": 17,
    "start_time": "2021-07-07T17:08:46.158Z"
   },
   {
    "duration": 14,
    "start_time": "2021-07-07T17:08:46.176Z"
   },
   {
    "duration": 17,
    "start_time": "2021-07-07T17:08:46.193Z"
   },
   {
    "duration": 9,
    "start_time": "2021-07-07T17:08:46.211Z"
   },
   {
    "duration": 21,
    "start_time": "2021-07-07T17:08:46.221Z"
   },
   {
    "duration": 49,
    "start_time": "2021-07-07T17:08:46.244Z"
   },
   {
    "duration": 24,
    "start_time": "2021-07-07T17:08:46.295Z"
   },
   {
    "duration": 22,
    "start_time": "2021-07-07T17:08:46.321Z"
   },
   {
    "duration": 6,
    "start_time": "2021-07-07T17:08:46.345Z"
   },
   {
    "duration": 5,
    "start_time": "2021-07-07T17:08:46.353Z"
   },
   {
    "duration": 13,
    "start_time": "2021-07-07T17:08:46.386Z"
   },
   {
    "duration": 12,
    "start_time": "2021-07-07T17:08:46.402Z"
   },
   {
    "duration": 10,
    "start_time": "2021-07-07T17:08:46.415Z"
   },
   {
    "duration": 7,
    "start_time": "2021-07-07T17:08:46.427Z"
   },
   {
    "duration": 8,
    "start_time": "2021-07-07T17:08:46.435Z"
   },
   {
    "duration": 68,
    "start_time": "2021-07-07T17:08:46.446Z"
   },
   {
    "duration": 13,
    "start_time": "2021-07-07T17:08:46.516Z"
   },
   {
    "duration": 78,
    "start_time": "2021-07-07T17:08:46.530Z"
   },
   {
    "duration": 40,
    "start_time": "2021-07-07T17:09:08.185Z"
   },
   {
    "duration": 16,
    "start_time": "2021-07-07T17:09:19.324Z"
   },
   {
    "duration": 21,
    "start_time": "2021-07-07T17:09:23.290Z"
   },
   {
    "duration": 13,
    "start_time": "2021-07-07T17:09:54.812Z"
   },
   {
    "duration": 13,
    "start_time": "2021-07-07T17:10:02.039Z"
   },
   {
    "duration": 10,
    "start_time": "2021-07-07T17:10:29.632Z"
   },
   {
    "duration": 13,
    "start_time": "2021-07-07T17:10:52.372Z"
   },
   {
    "duration": 13,
    "start_time": "2021-07-07T17:11:17.270Z"
   },
   {
    "duration": 13,
    "start_time": "2021-07-07T17:14:59.284Z"
   },
   {
    "duration": 547,
    "start_time": "2021-07-07T17:18:52.403Z"
   },
   {
    "duration": 163,
    "start_time": "2021-07-07T17:18:52.952Z"
   },
   {
    "duration": 44,
    "start_time": "2021-07-07T17:18:53.117Z"
   },
   {
    "duration": 3,
    "start_time": "2021-07-07T17:18:53.162Z"
   },
   {
    "duration": 26,
    "start_time": "2021-07-07T17:18:53.167Z"
   },
   {
    "duration": 6,
    "start_time": "2021-07-07T17:18:53.195Z"
   },
   {
    "duration": 15,
    "start_time": "2021-07-07T17:18:53.203Z"
   },
   {
    "duration": 5,
    "start_time": "2021-07-07T17:18:53.220Z"
   },
   {
    "duration": 11,
    "start_time": "2021-07-07T17:18:53.228Z"
   },
   {
    "duration": 9,
    "start_time": "2021-07-07T17:18:53.241Z"
   },
   {
    "duration": 41,
    "start_time": "2021-07-07T17:18:53.252Z"
   },
   {
    "duration": 33,
    "start_time": "2021-07-07T17:18:53.295Z"
   },
   {
    "duration": 19,
    "start_time": "2021-07-07T17:18:53.330Z"
   },
   {
    "duration": 49,
    "start_time": "2021-07-07T17:18:53.350Z"
   },
   {
    "duration": 5,
    "start_time": "2021-07-07T17:18:53.401Z"
   },
   {
    "duration": 5,
    "start_time": "2021-07-07T17:18:53.408Z"
   },
   {
    "duration": 11,
    "start_time": "2021-07-07T17:18:53.414Z"
   },
   {
    "duration": 9,
    "start_time": "2021-07-07T17:18:53.427Z"
   },
   {
    "duration": 10,
    "start_time": "2021-07-07T17:18:53.437Z"
   },
   {
    "duration": 39,
    "start_time": "2021-07-07T17:18:53.448Z"
   },
   {
    "duration": 26,
    "start_time": "2021-07-07T17:18:55.799Z"
   },
   {
    "duration": 598,
    "start_time": "2021-07-07T17:20:17.862Z"
   },
   {
    "duration": 161,
    "start_time": "2021-07-07T17:20:18.462Z"
   },
   {
    "duration": 45,
    "start_time": "2021-07-07T17:20:18.626Z"
   },
   {
    "duration": 4,
    "start_time": "2021-07-07T17:20:18.673Z"
   },
   {
    "duration": 38,
    "start_time": "2021-07-07T17:20:26.877Z"
   },
   {
    "duration": 7,
    "start_time": "2021-07-07T17:20:37.405Z"
   },
   {
    "duration": 19,
    "start_time": "2021-07-07T17:20:51.534Z"
   },
   {
    "duration": 5,
    "start_time": "2021-07-07T17:20:57.228Z"
   },
   {
    "duration": 7,
    "start_time": "2021-07-07T17:21:08.235Z"
   },
   {
    "duration": 19,
    "start_time": "2021-07-07T17:21:42.158Z"
   },
   {
    "duration": 14,
    "start_time": "2021-07-07T17:21:50.225Z"
   },
   {
    "duration": 22,
    "start_time": "2021-07-07T17:22:54.104Z"
   },
   {
    "duration": 5,
    "start_time": "2021-07-07T17:22:56.371Z"
   },
   {
    "duration": 14,
    "start_time": "2021-07-07T17:22:58.316Z"
   },
   {
    "duration": 5,
    "start_time": "2021-07-07T17:22:58.493Z"
   },
   {
    "duration": 35,
    "start_time": "2021-07-07T17:22:59.666Z"
   },
   {
    "duration": 6,
    "start_time": "2021-07-07T17:23:02.410Z"
   },
   {
    "duration": 611,
    "start_time": "2021-07-07T17:24:59.664Z"
   },
   {
    "duration": 178,
    "start_time": "2021-07-07T17:25:01.945Z"
   },
   {
    "duration": 47,
    "start_time": "2021-07-07T17:25:02.125Z"
   },
   {
    "duration": 2,
    "start_time": "2021-07-07T17:25:07.903Z"
   },
   {
    "duration": 254,
    "start_time": "2021-07-07T17:25:08.232Z"
   },
   {
    "duration": 182,
    "start_time": "2021-07-07T17:25:08.671Z"
   },
   {
    "duration": 6,
    "start_time": "2021-07-07T17:25:13.104Z"
   },
   {
    "duration": 36,
    "start_time": "2021-07-07T17:25:13.662Z"
   },
   {
    "duration": 7,
    "start_time": "2021-07-07T17:25:14.528Z"
   },
   {
    "duration": 24,
    "start_time": "2021-07-07T17:25:27.982Z"
   },
   {
    "duration": 3,
    "start_time": "2021-07-07T17:25:48.982Z"
   },
   {
    "duration": 165,
    "start_time": "2021-07-07T17:25:48.987Z"
   },
   {
    "duration": 50,
    "start_time": "2021-07-07T17:25:49.154Z"
   },
   {
    "duration": 4,
    "start_time": "2021-07-07T17:25:49.206Z"
   },
   {
    "duration": 26,
    "start_time": "2021-07-07T17:25:49.212Z"
   },
   {
    "duration": 7,
    "start_time": "2021-07-07T17:25:49.240Z"
   },
   {
    "duration": 16,
    "start_time": "2021-07-07T17:25:49.249Z"
   },
   {
    "duration": 22,
    "start_time": "2021-07-07T17:25:49.266Z"
   },
   {
    "duration": 16,
    "start_time": "2021-07-07T17:25:49.291Z"
   },
   {
    "duration": 9,
    "start_time": "2021-07-07T17:25:49.309Z"
   },
   {
    "duration": 7,
    "start_time": "2021-07-07T17:25:49.319Z"
   },
   {
    "duration": 28,
    "start_time": "2021-07-07T17:25:49.328Z"
   },
   {
    "duration": 44,
    "start_time": "2021-07-07T17:25:49.357Z"
   },
   {
    "duration": 22,
    "start_time": "2021-07-07T17:25:49.403Z"
   },
   {
    "duration": 7,
    "start_time": "2021-07-07T17:25:49.427Z"
   },
   {
    "duration": 3,
    "start_time": "2021-07-07T17:25:49.436Z"
   },
   {
    "duration": 44,
    "start_time": "2021-07-07T17:25:49.441Z"
   },
   {
    "duration": 12,
    "start_time": "2021-07-07T17:25:49.488Z"
   },
   {
    "duration": 13,
    "start_time": "2021-07-07T17:25:49.502Z"
   },
   {
    "duration": 10,
    "start_time": "2021-07-07T17:25:49.516Z"
   },
   {
    "duration": 62,
    "start_time": "2021-07-07T17:25:49.527Z"
   },
   {
    "duration": 26,
    "start_time": "2021-07-07T17:26:51.809Z"
   },
   {
    "duration": 26,
    "start_time": "2021-07-07T17:26:55.759Z"
   },
   {
    "duration": 26,
    "start_time": "2021-07-07T17:27:04.501Z"
   },
   {
    "duration": 25,
    "start_time": "2021-07-07T17:28:24.859Z"
   },
   {
    "duration": 21,
    "start_time": "2021-07-07T17:28:55.250Z"
   },
   {
    "duration": 21,
    "start_time": "2021-07-07T17:28:58.885Z"
   },
   {
    "duration": 7,
    "start_time": "2021-07-07T17:45:40.972Z"
   },
   {
    "duration": 13,
    "start_time": "2021-07-07T17:45:42.529Z"
   },
   {
    "duration": 27,
    "start_time": "2021-07-07T17:45:51.026Z"
   },
   {
    "duration": 518,
    "start_time": "2021-07-07T17:46:15.532Z"
   },
   {
    "duration": 235,
    "start_time": "2021-07-07T17:46:16.053Z"
   },
   {
    "duration": 80,
    "start_time": "2021-07-07T17:46:16.292Z"
   },
   {
    "duration": 5,
    "start_time": "2021-07-07T17:46:16.373Z"
   },
   {
    "duration": 26,
    "start_time": "2021-07-07T17:46:16.380Z"
   },
   {
    "duration": 7,
    "start_time": "2021-07-07T17:46:16.408Z"
   },
   {
    "duration": 16,
    "start_time": "2021-07-07T17:46:16.418Z"
   },
   {
    "duration": 5,
    "start_time": "2021-07-07T17:46:16.436Z"
   },
   {
    "duration": 13,
    "start_time": "2021-07-07T17:46:16.442Z"
   },
   {
    "duration": 35,
    "start_time": "2021-07-07T17:46:16.456Z"
   },
   {
    "duration": 8,
    "start_time": "2021-07-07T17:46:16.493Z"
   },
   {
    "duration": 28,
    "start_time": "2021-07-07T17:46:16.502Z"
   },
   {
    "duration": 17,
    "start_time": "2021-07-07T17:46:16.532Z"
   },
   {
    "duration": 44,
    "start_time": "2021-07-07T17:46:16.551Z"
   },
   {
    "duration": 6,
    "start_time": "2021-07-07T17:46:16.597Z"
   },
   {
    "duration": 4,
    "start_time": "2021-07-07T17:46:16.605Z"
   },
   {
    "duration": 9,
    "start_time": "2021-07-07T17:46:16.610Z"
   },
   {
    "duration": 9,
    "start_time": "2021-07-07T17:46:16.621Z"
   },
   {
    "duration": 10,
    "start_time": "2021-07-07T17:46:16.632Z"
   },
   {
    "duration": 43,
    "start_time": "2021-07-07T17:46:16.644Z"
   },
   {
    "duration": 26,
    "start_time": "2021-07-07T17:46:16.689Z"
   },
   {
    "duration": 19,
    "start_time": "2021-07-07T17:46:16.718Z"
   },
   {
    "duration": 8,
    "start_time": "2021-07-07T17:46:16.738Z"
   },
   {
    "duration": 43,
    "start_time": "2021-07-07T17:46:16.747Z"
   },
   {
    "duration": 19,
    "start_time": "2021-07-07T17:46:16.791Z"
   },
   {
    "duration": 9,
    "start_time": "2021-07-07T17:46:16.812Z"
   },
   {
    "duration": 60,
    "start_time": "2021-07-07T17:46:16.822Z"
   },
   {
    "duration": -8,
    "start_time": "2021-07-07T17:46:16.892Z"
   },
   {
    "duration": 12,
    "start_time": "2021-07-07T17:48:47.707Z"
   },
   {
    "duration": 553,
    "start_time": "2021-07-07T18:10:09.350Z"
   },
   {
    "duration": 230,
    "start_time": "2021-07-07T18:10:09.905Z"
   },
   {
    "duration": 97,
    "start_time": "2021-07-07T18:10:10.137Z"
   },
   {
    "duration": 5,
    "start_time": "2021-07-07T18:10:10.236Z"
   },
   {
    "duration": 29,
    "start_time": "2021-07-07T18:10:10.242Z"
   },
   {
    "duration": 7,
    "start_time": "2021-07-07T18:10:10.272Z"
   },
   {
    "duration": 15,
    "start_time": "2021-07-07T18:10:10.281Z"
   },
   {
    "duration": 4,
    "start_time": "2021-07-07T18:10:10.299Z"
   },
   {
    "duration": 14,
    "start_time": "2021-07-07T18:10:10.305Z"
   },
   {
    "duration": 8,
    "start_time": "2021-07-07T18:10:10.321Z"
   },
   {
    "duration": 8,
    "start_time": "2021-07-07T18:10:10.331Z"
   },
   {
    "duration": 56,
    "start_time": "2021-07-07T18:10:10.341Z"
   },
   {
    "duration": 19,
    "start_time": "2021-07-07T18:10:10.399Z"
   },
   {
    "duration": 23,
    "start_time": "2021-07-07T18:10:10.419Z"
   },
   {
    "duration": 6,
    "start_time": "2021-07-07T18:10:10.444Z"
   },
   {
    "duration": 9,
    "start_time": "2021-07-07T18:10:10.451Z"
   },
   {
    "duration": 30,
    "start_time": "2021-07-07T18:10:10.462Z"
   },
   {
    "duration": 9,
    "start_time": "2021-07-07T18:10:10.494Z"
   },
   {
    "duration": 14,
    "start_time": "2021-07-07T18:10:10.505Z"
   },
   {
    "duration": 7,
    "start_time": "2021-07-07T18:10:10.521Z"
   },
   {
    "duration": 26,
    "start_time": "2021-07-07T18:10:10.530Z"
   },
   {
    "duration": 44,
    "start_time": "2021-07-07T18:10:10.558Z"
   },
   {
    "duration": 7,
    "start_time": "2021-07-07T18:10:10.605Z"
   },
   {
    "duration": 11,
    "start_time": "2021-07-07T18:10:10.614Z"
   },
   {
    "duration": 19,
    "start_time": "2021-07-07T18:10:10.626Z"
   },
   {
    "duration": 44,
    "start_time": "2021-07-07T18:10:10.646Z"
   },
   {
    "duration": 516,
    "start_time": "2021-07-07T18:14:00.826Z"
   },
   {
    "duration": 230,
    "start_time": "2021-07-07T18:14:01.344Z"
   },
   {
    "duration": 105,
    "start_time": "2021-07-07T18:14:01.576Z"
   },
   {
    "duration": 5,
    "start_time": "2021-07-07T18:14:01.683Z"
   },
   {
    "duration": 46,
    "start_time": "2021-07-07T18:14:01.690Z"
   },
   {
    "duration": 7,
    "start_time": "2021-07-07T18:14:01.738Z"
   },
   {
    "duration": 20,
    "start_time": "2021-07-07T18:14:01.747Z"
   },
   {
    "duration": 16,
    "start_time": "2021-07-07T18:14:01.769Z"
   },
   {
    "duration": 14,
    "start_time": "2021-07-07T18:14:01.787Z"
   },
   {
    "duration": 15,
    "start_time": "2021-07-07T18:14:01.803Z"
   },
   {
    "duration": 12,
    "start_time": "2021-07-07T18:14:01.820Z"
   },
   {
    "duration": 35,
    "start_time": "2021-07-07T18:14:01.833Z"
   },
   {
    "duration": 31,
    "start_time": "2021-07-07T18:14:01.869Z"
   },
   {
    "duration": 37,
    "start_time": "2021-07-07T18:14:01.902Z"
   },
   {
    "duration": 8,
    "start_time": "2021-07-07T18:14:01.942Z"
   },
   {
    "duration": 16,
    "start_time": "2021-07-07T18:14:01.952Z"
   },
   {
    "duration": 13,
    "start_time": "2021-07-07T18:14:01.970Z"
   },
   {
    "duration": 32,
    "start_time": "2021-07-07T18:14:01.985Z"
   },
   {
    "duration": 11,
    "start_time": "2021-07-07T18:14:02.019Z"
   },
   {
    "duration": 22,
    "start_time": "2021-07-07T18:14:02.031Z"
   },
   {
    "duration": 27,
    "start_time": "2021-07-07T18:14:02.055Z"
   },
   {
    "duration": 18,
    "start_time": "2021-07-07T18:14:02.084Z"
   },
   {
    "duration": 18,
    "start_time": "2021-07-07T18:14:02.106Z"
   },
   {
    "duration": 11,
    "start_time": "2021-07-07T18:14:02.126Z"
   },
   {
    "duration": 21,
    "start_time": "2021-07-07T18:14:02.138Z"
   },
   {
    "duration": 32,
    "start_time": "2021-07-07T18:14:02.161Z"
   },
   {
    "duration": 28,
    "start_time": "2021-07-07T18:14:44.295Z"
   },
   {
    "duration": 6,
    "start_time": "2021-07-07T18:15:05.834Z"
   },
   {
    "duration": 511,
    "start_time": "2021-07-07T18:15:41.541Z"
   },
   {
    "duration": 183,
    "start_time": "2021-07-07T18:15:42.054Z"
   },
   {
    "duration": 50,
    "start_time": "2021-07-07T18:15:42.239Z"
   },
   {
    "duration": 5,
    "start_time": "2021-07-07T18:15:42.291Z"
   },
   {
    "duration": 48,
    "start_time": "2021-07-07T18:15:42.297Z"
   },
   {
    "duration": 8,
    "start_time": "2021-07-07T18:15:42.346Z"
   },
   {
    "duration": 17,
    "start_time": "2021-07-07T18:15:42.356Z"
   },
   {
    "duration": 15,
    "start_time": "2021-07-07T18:15:42.375Z"
   },
   {
    "duration": 12,
    "start_time": "2021-07-07T18:15:42.392Z"
   },
   {
    "duration": 7,
    "start_time": "2021-07-07T18:15:42.406Z"
   },
   {
    "duration": 7,
    "start_time": "2021-07-07T18:15:42.415Z"
   },
   {
    "duration": 29,
    "start_time": "2021-07-07T18:15:42.423Z"
   },
   {
    "duration": 43,
    "start_time": "2021-07-07T18:15:42.453Z"
   },
   {
    "duration": 18,
    "start_time": "2021-07-07T18:15:42.497Z"
   },
   {
    "duration": 6,
    "start_time": "2021-07-07T18:15:42.516Z"
   },
   {
    "duration": 3,
    "start_time": "2021-07-07T18:15:42.523Z"
   },
   {
    "duration": 18,
    "start_time": "2021-07-07T18:15:42.528Z"
   },
   {
    "duration": 10,
    "start_time": "2021-07-07T18:15:42.547Z"
   },
   {
    "duration": 36,
    "start_time": "2021-07-07T18:15:42.559Z"
   },
   {
    "duration": 8,
    "start_time": "2021-07-07T18:15:42.597Z"
   },
   {
    "duration": 28,
    "start_time": "2021-07-07T18:15:42.606Z"
   },
   {
    "duration": 52,
    "start_time": "2021-07-07T18:15:42.635Z"
   },
   {
    "duration": 7,
    "start_time": "2021-07-07T18:15:42.690Z"
   },
   {
    "duration": 10,
    "start_time": "2021-07-07T18:15:42.699Z"
   },
   {
    "duration": 19,
    "start_time": "2021-07-07T18:15:42.711Z"
   },
   {
    "duration": 9,
    "start_time": "2021-07-07T18:15:42.732Z"
   },
   {
    "duration": 5,
    "start_time": "2021-07-07T18:15:42.743Z"
   },
   {
    "duration": 1450,
    "start_time": "2021-07-07T18:15:51.984Z"
   },
   {
    "duration": 161,
    "start_time": "2021-07-07T18:15:53.435Z"
   },
   {
    "duration": 124,
    "start_time": "2021-07-07T18:15:53.598Z"
   },
   {
    "duration": 5,
    "start_time": "2021-07-07T18:15:53.724Z"
   },
   {
    "duration": 34,
    "start_time": "2021-07-07T18:15:53.730Z"
   },
   {
    "duration": 7,
    "start_time": "2021-07-07T18:15:53.765Z"
   },
   {
    "duration": 15,
    "start_time": "2021-07-07T18:15:53.773Z"
   },
   {
    "duration": 5,
    "start_time": "2021-07-07T18:15:53.791Z"
   },
   {
    "duration": 19,
    "start_time": "2021-07-07T18:15:53.798Z"
   },
   {
    "duration": 9,
    "start_time": "2021-07-07T18:15:53.818Z"
   },
   {
    "duration": 19,
    "start_time": "2021-07-07T18:15:53.828Z"
   },
   {
    "duration": 27,
    "start_time": "2021-07-07T18:15:53.848Z"
   },
   {
    "duration": 16,
    "start_time": "2021-07-07T18:15:53.884Z"
   },
   {
    "duration": 29,
    "start_time": "2021-07-07T18:15:53.901Z"
   },
   {
    "duration": 5,
    "start_time": "2021-07-07T18:15:53.932Z"
   },
   {
    "duration": 15,
    "start_time": "2021-07-07T18:15:53.939Z"
   },
   {
    "duration": 13,
    "start_time": "2021-07-07T18:15:53.956Z"
   },
   {
    "duration": 20,
    "start_time": "2021-07-07T18:15:53.971Z"
   },
   {
    "duration": 14,
    "start_time": "2021-07-07T18:15:53.992Z"
   },
   {
    "duration": 9,
    "start_time": "2021-07-07T18:15:54.009Z"
   },
   {
    "duration": 28,
    "start_time": "2021-07-07T18:15:54.020Z"
   },
   {
    "duration": 50,
    "start_time": "2021-07-07T18:15:54.051Z"
   },
   {
    "duration": 8,
    "start_time": "2021-07-07T18:15:54.105Z"
   },
   {
    "duration": 11,
    "start_time": "2021-07-07T18:15:54.115Z"
   },
   {
    "duration": 20,
    "start_time": "2021-07-07T18:15:54.128Z"
   },
   {
    "duration": 13,
    "start_time": "2021-07-07T18:15:54.184Z"
   },
   {
    "duration": 7,
    "start_time": "2021-07-07T18:15:54.199Z"
   },
   {
    "duration": 7,
    "start_time": "2021-07-07T18:17:08.042Z"
   },
   {
    "duration": 8,
    "start_time": "2021-07-07T18:17:21.008Z"
   },
   {
    "duration": 7,
    "start_time": "2021-07-07T18:17:29.003Z"
   },
   {
    "duration": 8,
    "start_time": "2021-07-07T18:17:32.492Z"
   },
   {
    "duration": 9,
    "start_time": "2021-07-07T18:17:41.758Z"
   },
   {
    "duration": 255,
    "start_time": "2021-07-07T18:20:20.897Z"
   },
   {
    "duration": 173,
    "start_time": "2021-07-07T18:20:26.636Z"
   },
   {
    "duration": 7,
    "start_time": "2021-07-07T18:21:47.164Z"
   },
   {
    "duration": 254,
    "start_time": "2021-07-07T18:23:08.703Z"
   },
   {
    "duration": 21,
    "start_time": "2021-07-07T18:23:22.506Z"
   },
   {
    "duration": 315,
    "start_time": "2021-07-07T18:25:54.801Z"
   },
   {
    "duration": 34,
    "start_time": "2021-07-07T18:26:51.817Z"
   },
   {
    "duration": 327,
    "start_time": "2021-07-07T18:26:56.147Z"
   },
   {
    "duration": 342,
    "start_time": "2021-07-07T18:27:15.887Z"
   },
   {
    "duration": 302,
    "start_time": "2021-07-07T18:28:18.569Z"
   },
   {
    "duration": 226,
    "start_time": "2021-07-07T18:29:20.879Z"
   },
   {
    "duration": 207,
    "start_time": "2021-07-07T18:29:58.114Z"
   },
   {
    "duration": 140,
    "start_time": "2021-07-07T18:32:04.372Z"
   },
   {
    "duration": 158,
    "start_time": "2021-07-07T18:32:32.508Z"
   },
   {
    "duration": 145,
    "start_time": "2021-07-07T18:32:41.365Z"
   },
   {
    "duration": 132,
    "start_time": "2021-07-07T18:32:45.199Z"
   },
   {
    "duration": 11,
    "start_time": "2021-07-07T18:35:24.679Z"
   },
   {
    "duration": 268,
    "start_time": "2021-07-07T18:36:16.145Z"
   },
   {
    "duration": 227,
    "start_time": "2021-07-07T18:37:04.918Z"
   },
   {
    "duration": 3,
    "start_time": "2021-07-07T18:37:33.012Z"
   },
   {
    "duration": 671,
    "start_time": "2021-07-07T18:37:38.295Z"
   },
   {
    "duration": 54,
    "start_time": "2021-07-07T18:37:53.406Z"
   },
   {
    "duration": 631,
    "start_time": "2021-07-07T18:37:56.463Z"
   },
   {
    "duration": 19,
    "start_time": "2021-07-07T18:39:40.535Z"
   },
   {
    "duration": 20,
    "start_time": "2021-07-07T18:40:12.236Z"
   },
   {
    "duration": 633,
    "start_time": "2021-07-07T18:42:00.398Z"
   },
   {
    "duration": 218,
    "start_time": "2021-07-07T18:42:01.033Z"
   },
   {
    "duration": 49,
    "start_time": "2021-07-07T18:42:01.253Z"
   },
   {
    "duration": 5,
    "start_time": "2021-07-07T18:42:01.303Z"
   },
   {
    "duration": 27,
    "start_time": "2021-07-07T18:42:01.310Z"
   },
   {
    "duration": 8,
    "start_time": "2021-07-07T18:42:01.339Z"
   },
   {
    "duration": 20,
    "start_time": "2021-07-07T18:42:01.348Z"
   },
   {
    "duration": 6,
    "start_time": "2021-07-07T18:42:01.386Z"
   },
   {
    "duration": 16,
    "start_time": "2021-07-07T18:42:01.394Z"
   },
   {
    "duration": 9,
    "start_time": "2021-07-07T18:42:01.411Z"
   },
   {
    "duration": 11,
    "start_time": "2021-07-07T18:42:01.421Z"
   },
   {
    "duration": 31,
    "start_time": "2021-07-07T18:42:01.434Z"
   },
   {
    "duration": 18,
    "start_time": "2021-07-07T18:42:01.485Z"
   },
   {
    "duration": 23,
    "start_time": "2021-07-07T18:42:01.505Z"
   },
   {
    "duration": 6,
    "start_time": "2021-07-07T18:42:01.530Z"
   },
   {
    "duration": 10,
    "start_time": "2021-07-07T18:42:01.538Z"
   },
   {
    "duration": 13,
    "start_time": "2021-07-07T18:42:01.550Z"
   },
   {
    "duration": 24,
    "start_time": "2021-07-07T18:42:01.564Z"
   },
   {
    "duration": 20,
    "start_time": "2021-07-07T18:42:01.590Z"
   },
   {
    "duration": 8,
    "start_time": "2021-07-07T18:42:01.611Z"
   },
   {
    "duration": 31,
    "start_time": "2021-07-07T18:42:01.620Z"
   },
   {
    "duration": 39,
    "start_time": "2021-07-07T18:42:01.653Z"
   },
   {
    "duration": 8,
    "start_time": "2021-07-07T18:42:01.696Z"
   },
   {
    "duration": 13,
    "start_time": "2021-07-07T18:42:01.705Z"
   },
   {
    "duration": 20,
    "start_time": "2021-07-07T18:42:01.720Z"
   },
   {
    "duration": 12,
    "start_time": "2021-07-07T18:42:01.741Z"
   },
   {
    "duration": 35,
    "start_time": "2021-07-07T18:42:01.755Z"
   },
   {
    "duration": 14,
    "start_time": "2021-07-07T18:42:01.792Z"
   },
   {
    "duration": 188,
    "start_time": "2021-07-07T18:42:01.808Z"
   },
   {
    "duration": 19,
    "start_time": "2021-07-07T18:42:01.998Z"
   },
   {
    "duration": 175,
    "start_time": "2021-07-07T18:42:02.019Z"
   },
   {
    "duration": 134,
    "start_time": "2021-07-07T18:42:02.196Z"
   },
   {
    "duration": 10,
    "start_time": "2021-07-07T18:42:02.331Z"
   },
   {
    "duration": 19,
    "start_time": "2021-07-07T18:42:02.343Z"
   },
   {
    "duration": 628,
    "start_time": "2021-07-07T18:46:30.701Z"
   },
   {
    "duration": 183,
    "start_time": "2021-07-07T18:46:31.331Z"
   },
   {
    "duration": 48,
    "start_time": "2021-07-07T18:46:31.516Z"
   },
   {
    "duration": 5,
    "start_time": "2021-07-07T18:46:31.566Z"
   },
   {
    "duration": 28,
    "start_time": "2021-07-07T18:46:31.572Z"
   },
   {
    "duration": 8,
    "start_time": "2021-07-07T18:46:31.602Z"
   },
   {
    "duration": 19,
    "start_time": "2021-07-07T18:46:31.611Z"
   },
   {
    "duration": 6,
    "start_time": "2021-07-07T18:46:31.633Z"
   },
   {
    "duration": 17,
    "start_time": "2021-07-07T18:46:31.642Z"
   },
   {
    "duration": 10,
    "start_time": "2021-07-07T18:46:31.684Z"
   },
   {
    "duration": 9,
    "start_time": "2021-07-07T18:46:31.695Z"
   },
   {
    "duration": 28,
    "start_time": "2021-07-07T18:46:31.705Z"
   },
   {
    "duration": 18,
    "start_time": "2021-07-07T18:46:31.735Z"
   },
   {
    "duration": 48,
    "start_time": "2021-07-07T18:46:31.755Z"
   },
   {
    "duration": 6,
    "start_time": "2021-07-07T18:46:31.804Z"
   },
   {
    "duration": 4,
    "start_time": "2021-07-07T18:46:31.812Z"
   },
   {
    "duration": 9,
    "start_time": "2021-07-07T18:46:31.817Z"
   },
   {
    "duration": 10,
    "start_time": "2021-07-07T18:46:31.827Z"
   },
   {
    "duration": 12,
    "start_time": "2021-07-07T18:46:31.838Z"
   },
   {
    "duration": 39,
    "start_time": "2021-07-07T18:46:31.851Z"
   },
   {
    "duration": 24,
    "start_time": "2021-07-07T18:46:31.892Z"
   },
   {
    "duration": 15,
    "start_time": "2021-07-07T18:46:31.918Z"
   },
   {
    "duration": 7,
    "start_time": "2021-07-07T18:46:31.936Z"
   },
   {
    "duration": 8,
    "start_time": "2021-07-07T18:46:31.944Z"
   },
   {
    "duration": 19,
    "start_time": "2021-07-07T18:46:31.984Z"
   },
   {
    "duration": 10,
    "start_time": "2021-07-07T18:46:32.004Z"
   },
   {
    "duration": 5,
    "start_time": "2021-07-07T18:46:32.016Z"
   },
   {
    "duration": 9,
    "start_time": "2021-07-07T18:46:32.023Z"
   },
   {
    "duration": 199,
    "start_time": "2021-07-07T18:46:32.033Z"
   },
   {
    "duration": 19,
    "start_time": "2021-07-07T18:46:32.234Z"
   },
   {
    "duration": 159,
    "start_time": "2021-07-07T18:46:32.255Z"
   },
   {
    "duration": 134,
    "start_time": "2021-07-07T18:46:32.416Z"
   },
   {
    "duration": 10,
    "start_time": "2021-07-07T18:46:32.552Z"
   },
   {
    "duration": 34,
    "start_time": "2021-07-07T18:46:32.563Z"
   },
   {
    "duration": 1039,
    "start_time": "2021-07-08T08:41:09.419Z"
   },
   {
    "duration": 333,
    "start_time": "2021-07-08T08:41:10.459Z"
   },
   {
    "duration": 173,
    "start_time": "2021-07-08T08:41:10.794Z"
   },
   {
    "duration": 5,
    "start_time": "2021-07-08T08:41:10.968Z"
   },
   {
    "duration": 25,
    "start_time": "2021-07-08T08:41:10.975Z"
   },
   {
    "duration": 9,
    "start_time": "2021-07-08T08:41:11.002Z"
   },
   {
    "duration": 18,
    "start_time": "2021-07-08T08:41:11.013Z"
   },
   {
    "duration": 6,
    "start_time": "2021-07-08T08:41:11.033Z"
   },
   {
    "duration": 44,
    "start_time": "2021-07-08T08:41:11.042Z"
   },
   {
    "duration": 10,
    "start_time": "2021-07-08T08:41:11.088Z"
   },
   {
    "duration": 9,
    "start_time": "2021-07-08T08:41:11.100Z"
   },
   {
    "duration": 27,
    "start_time": "2021-07-08T08:41:11.111Z"
   },
   {
    "duration": 46,
    "start_time": "2021-07-08T08:41:11.140Z"
   },
   {
    "duration": 17,
    "start_time": "2021-07-08T08:41:11.187Z"
   },
   {
    "duration": 6,
    "start_time": "2021-07-08T08:41:11.206Z"
   },
   {
    "duration": 5,
    "start_time": "2021-07-08T08:41:11.213Z"
   },
   {
    "duration": 10,
    "start_time": "2021-07-08T08:41:11.219Z"
   },
   {
    "duration": 9,
    "start_time": "2021-07-08T08:41:11.230Z"
   },
   {
    "duration": 45,
    "start_time": "2021-07-08T08:41:11.241Z"
   },
   {
    "duration": 7,
    "start_time": "2021-07-08T08:41:11.287Z"
   },
   {
    "duration": 24,
    "start_time": "2021-07-08T08:41:11.296Z"
   },
   {
    "duration": 16,
    "start_time": "2021-07-08T08:41:11.322Z"
   },
   {
    "duration": 7,
    "start_time": "2021-07-08T08:41:11.341Z"
   },
   {
    "duration": 41,
    "start_time": "2021-07-08T08:41:11.349Z"
   },
   {
    "duration": 17,
    "start_time": "2021-07-08T08:41:11.391Z"
   },
   {
    "duration": 9,
    "start_time": "2021-07-08T08:41:11.410Z"
   },
   {
    "duration": 5,
    "start_time": "2021-07-08T08:41:11.421Z"
   },
   {
    "duration": 6,
    "start_time": "2021-07-08T08:41:11.428Z"
   },
   {
    "duration": 198,
    "start_time": "2021-07-08T08:41:11.435Z"
   },
   {
    "duration": 18,
    "start_time": "2021-07-08T08:41:11.635Z"
   },
   {
    "duration": 155,
    "start_time": "2021-07-08T08:41:11.655Z"
   },
   {
    "duration": 138,
    "start_time": "2021-07-08T08:41:11.811Z"
   },
   {
    "duration": 10,
    "start_time": "2021-07-08T08:41:11.950Z"
   },
   {
    "duration": 29,
    "start_time": "2021-07-08T08:41:11.961Z"
   },
   {
    "duration": 171,
    "start_time": "2021-07-08T08:47:44.522Z"
   },
   {
    "duration": 124,
    "start_time": "2021-07-08T08:47:46.872Z"
   },
   {
    "duration": 191,
    "start_time": "2021-07-08T08:47:58.148Z"
   },
   {
    "duration": 191,
    "start_time": "2021-07-08T08:48:07.412Z"
   },
   {
    "duration": 261,
    "start_time": "2021-07-08T08:48:10.385Z"
   },
   {
    "duration": 255,
    "start_time": "2021-07-08T08:48:14.494Z"
   },
   {
    "duration": 219,
    "start_time": "2021-07-08T08:48:22.752Z"
   },
   {
    "duration": 173,
    "start_time": "2021-07-08T08:49:06.395Z"
   },
   {
    "duration": 180,
    "start_time": "2021-07-08T08:49:21.011Z"
   },
   {
    "duration": 6,
    "start_time": "2021-07-08T08:50:31.697Z"
   },
   {
    "duration": 10,
    "start_time": "2021-07-08T08:50:47.394Z"
   },
   {
    "duration": 11,
    "start_time": "2021-07-08T08:53:49.332Z"
   },
   {
    "duration": 171,
    "start_time": "2021-07-08T08:54:28.408Z"
   },
   {
    "duration": 636,
    "start_time": "2021-07-08T09:02:48.385Z"
   },
   {
    "duration": 227,
    "start_time": "2021-07-08T09:02:49.023Z"
   },
   {
    "duration": 104,
    "start_time": "2021-07-08T09:02:49.252Z"
   },
   {
    "duration": 5,
    "start_time": "2021-07-08T09:02:49.358Z"
   },
   {
    "duration": 27,
    "start_time": "2021-07-08T09:02:49.365Z"
   },
   {
    "duration": 8,
    "start_time": "2021-07-08T09:02:49.394Z"
   },
   {
    "duration": 18,
    "start_time": "2021-07-08T09:02:49.404Z"
   },
   {
    "duration": 6,
    "start_time": "2021-07-08T09:02:49.424Z"
   },
   {
    "duration": 11,
    "start_time": "2021-07-08T09:02:49.433Z"
   },
   {
    "duration": 13,
    "start_time": "2021-07-08T09:02:49.485Z"
   },
   {
    "duration": 9,
    "start_time": "2021-07-08T09:02:49.500Z"
   },
   {
    "duration": 38,
    "start_time": "2021-07-08T09:02:49.511Z"
   },
   {
    "duration": 42,
    "start_time": "2021-07-08T09:02:49.551Z"
   },
   {
    "duration": 21,
    "start_time": "2021-07-08T09:02:49.594Z"
   },
   {
    "duration": 6,
    "start_time": "2021-07-08T09:02:49.616Z"
   },
   {
    "duration": 3,
    "start_time": "2021-07-08T09:02:49.623Z"
   },
   {
    "duration": 9,
    "start_time": "2021-07-08T09:02:49.628Z"
   },
   {
    "duration": 52,
    "start_time": "2021-07-08T09:02:49.638Z"
   },
   {
    "duration": 11,
    "start_time": "2021-07-08T09:02:49.692Z"
   },
   {
    "duration": 8,
    "start_time": "2021-07-08T09:02:49.704Z"
   },
   {
    "duration": 27,
    "start_time": "2021-07-08T09:02:49.713Z"
   },
   {
    "duration": 59,
    "start_time": "2021-07-08T09:02:49.741Z"
   },
   {
    "duration": 8,
    "start_time": "2021-07-08T09:02:49.803Z"
   },
   {
    "duration": 14,
    "start_time": "2021-07-08T09:02:49.813Z"
   },
   {
    "duration": 20,
    "start_time": "2021-07-08T09:02:49.829Z"
   },
   {
    "duration": 44,
    "start_time": "2021-07-08T09:02:49.851Z"
   },
   {
    "duration": 14,
    "start_time": "2021-07-08T09:02:49.896Z"
   },
   {
    "duration": 221,
    "start_time": "2021-07-08T09:02:49.912Z"
   },
   {
    "duration": 6,
    "start_time": "2021-07-08T09:02:50.134Z"
   },
   {
    "duration": 206,
    "start_time": "2021-07-08T09:02:50.142Z"
   },
   {
    "duration": 19,
    "start_time": "2021-07-08T09:02:50.350Z"
   },
   {
    "duration": 21,
    "start_time": "2021-07-08T09:02:50.370Z"
   },
   {
    "duration": 20,
    "start_time": "2021-07-08T09:02:50.393Z"
   },
   {
    "duration": 5,
    "start_time": "2021-07-08T09:02:50.414Z"
   },
   {
    "duration": 5,
    "start_time": "2021-07-08T09:03:34.173Z"
   },
   {
    "duration": 6,
    "start_time": "2021-07-08T09:04:49.062Z"
   },
   {
    "duration": 9,
    "start_time": "2021-07-08T09:04:50.118Z"
   },
   {
    "duration": 14,
    "start_time": "2021-07-08T09:04:58.512Z"
   },
   {
    "duration": 9,
    "start_time": "2021-07-08T09:05:10.988Z"
   },
   {
    "duration": 11,
    "start_time": "2021-07-08T09:05:11.743Z"
   },
   {
    "duration": 7,
    "start_time": "2021-07-08T09:05:25.677Z"
   },
   {
    "duration": 13,
    "start_time": "2021-07-08T09:05:47.189Z"
   },
   {
    "duration": 13,
    "start_time": "2021-07-08T09:05:54.755Z"
   },
   {
    "duration": 4,
    "start_time": "2021-07-08T09:06:29.189Z"
   },
   {
    "duration": 244,
    "start_time": "2021-07-08T09:06:29.195Z"
   },
   {
    "duration": 91,
    "start_time": "2021-07-08T09:06:29.441Z"
   },
   {
    "duration": 4,
    "start_time": "2021-07-08T09:06:29.534Z"
   },
   {
    "duration": 28,
    "start_time": "2021-07-08T09:06:29.540Z"
   },
   {
    "duration": 6,
    "start_time": "2021-07-08T09:06:29.570Z"
   },
   {
    "duration": 18,
    "start_time": "2021-07-08T09:06:29.578Z"
   },
   {
    "duration": 5,
    "start_time": "2021-07-08T09:06:29.597Z"
   },
   {
    "duration": 13,
    "start_time": "2021-07-08T09:06:29.605Z"
   },
   {
    "duration": 8,
    "start_time": "2021-07-08T09:06:29.620Z"
   },
   {
    "duration": 7,
    "start_time": "2021-07-08T09:06:29.630Z"
   },
   {
    "duration": 63,
    "start_time": "2021-07-08T09:06:29.639Z"
   },
   {
    "duration": 17,
    "start_time": "2021-07-08T09:06:29.704Z"
   },
   {
    "duration": 20,
    "start_time": "2021-07-08T09:06:29.723Z"
   },
   {
    "duration": 6,
    "start_time": "2021-07-08T09:06:29.745Z"
   },
   {
    "duration": 3,
    "start_time": "2021-07-08T09:06:29.752Z"
   },
   {
    "duration": 7,
    "start_time": "2021-07-08T09:06:29.785Z"
   },
   {
    "duration": 11,
    "start_time": "2021-07-08T09:06:29.794Z"
   },
   {
    "duration": 15,
    "start_time": "2021-07-08T09:06:29.807Z"
   },
   {
    "duration": 8,
    "start_time": "2021-07-08T09:06:29.823Z"
   },
   {
    "duration": 70,
    "start_time": "2021-07-08T09:06:29.832Z"
   },
   {
    "duration": 17,
    "start_time": "2021-07-08T09:06:29.903Z"
   },
   {
    "duration": 9,
    "start_time": "2021-07-08T09:06:29.921Z"
   },
   {
    "duration": 9,
    "start_time": "2021-07-08T09:06:29.932Z"
   },
   {
    "duration": 57,
    "start_time": "2021-07-08T09:06:29.942Z"
   },
   {
    "duration": 11,
    "start_time": "2021-07-08T09:06:30.001Z"
   },
   {
    "duration": 19,
    "start_time": "2021-07-08T09:06:30.016Z"
   },
   {
    "duration": 217,
    "start_time": "2021-07-08T09:06:30.037Z"
   },
   {
    "duration": 6,
    "start_time": "2021-07-08T09:06:30.255Z"
   },
   {
    "duration": 205,
    "start_time": "2021-07-08T09:06:30.263Z"
   },
   {
    "duration": 27,
    "start_time": "2021-07-08T09:06:30.470Z"
   },
   {
    "duration": 11,
    "start_time": "2021-07-08T09:06:30.500Z"
   },
   {
    "duration": 31,
    "start_time": "2021-07-08T09:06:30.513Z"
   },
   {
    "duration": 18,
    "start_time": "2021-07-08T09:06:30.546Z"
   },
   {
    "duration": 11,
    "start_time": "2021-07-08T09:06:30.566Z"
   },
   {
    "duration": 19,
    "start_time": "2021-07-08T09:06:30.579Z"
   },
   {
    "duration": 20,
    "start_time": "2021-07-08T09:06:49.466Z"
   },
   {
    "duration": 9,
    "start_time": "2021-07-08T09:06:51.994Z"
   },
   {
    "duration": 20,
    "start_time": "2021-07-08T09:06:52.273Z"
   },
   {
    "duration": 246,
    "start_time": "2021-07-08T09:10:21.272Z"
   },
   {
    "duration": 84,
    "start_time": "2021-07-08T09:10:21.436Z"
   },
   {
    "duration": 7,
    "start_time": "2021-07-08T09:10:37.608Z"
   },
   {
    "duration": 189,
    "start_time": "2021-07-08T09:10:38.573Z"
   },
   {
    "duration": 185,
    "start_time": "2021-07-08T09:10:53.181Z"
   },
   {
    "duration": 11,
    "start_time": "2021-07-08T09:10:59.549Z"
   },
   {
    "duration": 42,
    "start_time": "2021-07-08T09:10:59.709Z"
   },
   {
    "duration": 12,
    "start_time": "2021-07-08T09:11:02.857Z"
   },
   {
    "duration": 28,
    "start_time": "2021-07-08T09:11:10.062Z"
   },
   {
    "duration": 249,
    "start_time": "2021-07-08T09:11:37.388Z"
   },
   {
    "duration": 232,
    "start_time": "2021-07-08T09:11:49.485Z"
   },
   {
    "duration": 453,
    "start_time": "2021-07-08T09:12:01.546Z"
   },
   {
    "duration": 440,
    "start_time": "2021-07-08T09:12:12.347Z"
   },
   {
    "duration": 213,
    "start_time": "2021-07-08T09:13:32.196Z"
   },
   {
    "duration": 172,
    "start_time": "2021-07-08T09:14:07.400Z"
   },
   {
    "duration": 185,
    "start_time": "2021-07-08T09:14:14.905Z"
   },
   {
    "duration": 209,
    "start_time": "2021-07-08T09:14:40.109Z"
   },
   {
    "duration": 201,
    "start_time": "2021-07-08T09:14:54.506Z"
   },
   {
    "duration": 622,
    "start_time": "2021-07-08T09:18:14.497Z"
   },
   {
    "duration": 220,
    "start_time": "2021-07-08T09:18:15.121Z"
   },
   {
    "duration": 79,
    "start_time": "2021-07-08T09:18:15.343Z"
   },
   {
    "duration": 4,
    "start_time": "2021-07-08T09:18:15.425Z"
   },
   {
    "duration": 24,
    "start_time": "2021-07-08T09:18:15.431Z"
   },
   {
    "duration": 8,
    "start_time": "2021-07-08T09:18:15.457Z"
   },
   {
    "duration": 16,
    "start_time": "2021-07-08T09:18:15.466Z"
   },
   {
    "duration": 5,
    "start_time": "2021-07-08T09:18:15.484Z"
   },
   {
    "duration": 10,
    "start_time": "2021-07-08T09:18:15.493Z"
   },
   {
    "duration": 8,
    "start_time": "2021-07-08T09:18:15.504Z"
   },
   {
    "duration": 7,
    "start_time": "2021-07-08T09:18:15.513Z"
   },
   {
    "duration": 26,
    "start_time": "2021-07-08T09:18:15.522Z"
   },
   {
    "duration": 49,
    "start_time": "2021-07-08T09:18:15.550Z"
   },
   {
    "duration": 21,
    "start_time": "2021-07-08T09:18:15.601Z"
   },
   {
    "duration": 8,
    "start_time": "2021-07-08T09:18:15.624Z"
   },
   {
    "duration": 3,
    "start_time": "2021-07-08T09:18:15.634Z"
   },
   {
    "duration": 8,
    "start_time": "2021-07-08T09:18:15.639Z"
   },
   {
    "duration": 45,
    "start_time": "2021-07-08T09:18:15.649Z"
   },
   {
    "duration": 13,
    "start_time": "2021-07-08T09:18:15.696Z"
   },
   {
    "duration": 10,
    "start_time": "2021-07-08T09:18:15.711Z"
   },
   {
    "duration": 64,
    "start_time": "2021-07-08T09:18:15.722Z"
   },
   {
    "duration": 19,
    "start_time": "2021-07-08T09:18:15.788Z"
   },
   {
    "duration": 9,
    "start_time": "2021-07-08T09:18:15.809Z"
   },
   {
    "duration": 9,
    "start_time": "2021-07-08T09:18:15.820Z"
   },
   {
    "duration": 18,
    "start_time": "2021-07-08T09:18:15.831Z"
   },
   {
    "duration": 43,
    "start_time": "2021-07-08T09:18:15.851Z"
   },
   {
    "duration": 12,
    "start_time": "2021-07-08T09:18:15.897Z"
   },
   {
    "duration": 219,
    "start_time": "2021-07-08T09:18:15.911Z"
   },
   {
    "duration": 8,
    "start_time": "2021-07-08T09:18:16.132Z"
   },
   {
    "duration": 199,
    "start_time": "2021-07-08T09:18:16.141Z"
   },
   {
    "duration": 18,
    "start_time": "2021-07-08T09:18:16.341Z"
   },
   {
    "duration": 24,
    "start_time": "2021-07-08T09:18:16.361Z"
   },
   {
    "duration": 24,
    "start_time": "2021-07-08T09:18:16.387Z"
   },
   {
    "duration": 211,
    "start_time": "2021-07-08T09:18:16.413Z"
   },
   {
    "duration": 18,
    "start_time": "2021-07-08T09:18:16.626Z"
   },
   {
    "duration": 596,
    "start_time": "2021-07-08T10:06:33.623Z"
   },
   {
    "duration": 181,
    "start_time": "2021-07-08T10:06:34.221Z"
   },
   {
    "duration": 176,
    "start_time": "2021-07-08T10:06:34.635Z"
   },
   {
    "duration": 239,
    "start_time": "2021-07-08T10:06:55.572Z"
   },
   {
    "duration": 6,
    "start_time": "2021-07-08T10:06:57.687Z"
   },
   {
    "duration": 4,
    "start_time": "2021-07-08T10:07:03.956Z"
   },
   {
    "duration": 4,
    "start_time": "2021-07-08T10:07:10.376Z"
   },
   {
    "duration": 4,
    "start_time": "2021-07-08T10:17:19.889Z"
   },
   {
    "duration": 3,
    "start_time": "2021-07-08T10:19:19.407Z"
   },
   {
    "duration": 197,
    "start_time": "2021-07-08T10:19:19.412Z"
   },
   {
    "duration": 127,
    "start_time": "2021-07-08T10:19:19.611Z"
   },
   {
    "duration": 4,
    "start_time": "2021-07-08T10:19:19.740Z"
   },
   {
    "duration": 27,
    "start_time": "2021-07-08T10:19:19.746Z"
   },
   {
    "duration": 7,
    "start_time": "2021-07-08T10:19:19.775Z"
   },
   {
    "duration": 30,
    "start_time": "2021-07-08T10:19:19.784Z"
   },
   {
    "duration": 7,
    "start_time": "2021-07-08T10:19:19.817Z"
   },
   {
    "duration": 26,
    "start_time": "2021-07-08T10:19:19.826Z"
   },
   {
    "duration": 18,
    "start_time": "2021-07-08T10:19:19.854Z"
   },
   {
    "duration": 14,
    "start_time": "2021-07-08T10:19:19.874Z"
   },
   {
    "duration": 48,
    "start_time": "2021-07-08T10:19:19.890Z"
   },
   {
    "duration": 17,
    "start_time": "2021-07-08T10:19:19.940Z"
   },
   {
    "duration": 38,
    "start_time": "2021-07-08T10:19:19.959Z"
   },
   {
    "duration": 8,
    "start_time": "2021-07-08T10:19:19.999Z"
   },
   {
    "duration": 15,
    "start_time": "2021-07-08T10:19:20.009Z"
   },
   {
    "duration": 22,
    "start_time": "2021-07-08T10:19:20.026Z"
   },
   {
    "duration": 10,
    "start_time": "2021-07-08T10:19:20.050Z"
   },
   {
    "duration": 10,
    "start_time": "2021-07-08T10:19:20.062Z"
   },
   {
    "duration": 20,
    "start_time": "2021-07-08T10:19:20.073Z"
   },
   {
    "duration": 29,
    "start_time": "2021-07-08T10:19:20.095Z"
   },
   {
    "duration": 17,
    "start_time": "2021-07-08T10:19:20.126Z"
   },
   {
    "duration": 40,
    "start_time": "2021-07-08T10:19:20.146Z"
   },
   {
    "duration": 15,
    "start_time": "2021-07-08T10:19:20.189Z"
   },
   {
    "duration": 19,
    "start_time": "2021-07-08T10:19:20.206Z"
   },
   {
    "duration": 10,
    "start_time": "2021-07-08T10:19:20.226Z"
   },
   {
    "duration": 11,
    "start_time": "2021-07-08T10:19:20.238Z"
   },
   {
    "duration": 297,
    "start_time": "2021-07-08T10:19:20.250Z"
   },
   {
    "duration": 6,
    "start_time": "2021-07-08T10:19:20.549Z"
   },
   {
    "duration": 191,
    "start_time": "2021-07-08T10:19:20.557Z"
   },
   {
    "duration": 19,
    "start_time": "2021-07-08T10:19:20.750Z"
   },
   {
    "duration": 20,
    "start_time": "2021-07-08T10:19:20.771Z"
   },
   {
    "duration": 15,
    "start_time": "2021-07-08T10:19:20.793Z"
   },
   {
    "duration": 222,
    "start_time": "2021-07-08T10:19:20.809Z"
   },
   {
    "duration": 20,
    "start_time": "2021-07-08T10:19:21.033Z"
   },
   {
    "duration": 27,
    "start_time": "2021-07-08T10:45:04.055Z"
   },
   {
    "duration": 8,
    "start_time": "2021-07-08T10:45:08.478Z"
   },
   {
    "duration": 8,
    "start_time": "2021-07-08T10:45:31.982Z"
   },
   {
    "duration": 10,
    "start_time": "2021-07-08T10:46:01.221Z"
   },
   {
    "duration": 17,
    "start_time": "2021-07-08T10:46:40.011Z"
   },
   {
    "duration": 193,
    "start_time": "2021-07-08T10:48:19.471Z"
   },
   {
    "duration": 225,
    "start_time": "2021-07-08T10:49:26.480Z"
   },
   {
    "duration": 204,
    "start_time": "2021-07-08T10:49:59.992Z"
   },
   {
    "duration": 435,
    "start_time": "2021-07-08T10:50:06.779Z"
   },
   {
    "duration": 199,
    "start_time": "2021-07-08T10:50:14.891Z"
   },
   {
    "duration": 204,
    "start_time": "2021-07-08T10:50:18.501Z"
   },
   {
    "duration": 244,
    "start_time": "2021-07-08T10:50:23.359Z"
   },
   {
    "duration": 192,
    "start_time": "2021-07-08T10:50:29.135Z"
   },
   {
    "duration": 218,
    "start_time": "2021-07-08T10:50:33.092Z"
   },
   {
    "duration": 207,
    "start_time": "2021-07-08T10:52:45.381Z"
   },
   {
    "duration": 5,
    "start_time": "2021-07-08T10:53:34.641Z"
   },
   {
    "duration": 196,
    "start_time": "2021-07-08T10:53:41.478Z"
   },
   {
    "duration": 43,
    "start_time": "2021-07-08T10:53:50.335Z"
   },
   {
    "duration": 32,
    "start_time": "2021-07-08T10:53:55.294Z"
   },
   {
    "duration": 55,
    "start_time": "2021-07-08T10:54:09.675Z"
   },
   {
    "duration": 16,
    "start_time": "2021-07-08T10:54:12.260Z"
   },
   {
    "duration": 15,
    "start_time": "2021-07-08T10:54:49.150Z"
   },
   {
    "duration": 20,
    "start_time": "2021-07-08T10:56:07.596Z"
   },
   {
    "duration": 16,
    "start_time": "2021-07-08T10:58:26.276Z"
   },
   {
    "duration": 22,
    "start_time": "2021-07-08T10:59:00.486Z"
   },
   {
    "duration": 18,
    "start_time": "2021-07-08T11:02:09.653Z"
   },
   {
    "duration": 10,
    "start_time": "2021-07-08T11:03:44.331Z"
   },
   {
    "duration": 10,
    "start_time": "2021-07-08T11:03:54.055Z"
   },
   {
    "duration": 12,
    "start_time": "2021-07-08T11:04:41.967Z"
   },
   {
    "duration": 24,
    "start_time": "2021-07-08T11:07:30.732Z"
   },
   {
    "duration": 6,
    "start_time": "2021-07-08T11:07:37.364Z"
   },
   {
    "duration": 16,
    "start_time": "2021-07-08T11:08:01.819Z"
   },
   {
    "duration": 17,
    "start_time": "2021-07-08T11:09:47.488Z"
   },
   {
    "duration": 246,
    "start_time": "2021-07-08T11:10:00.830Z"
   },
   {
    "duration": 18,
    "start_time": "2021-07-08T11:13:55.195Z"
   },
   {
    "duration": 204,
    "start_time": "2021-07-08T11:14:04.951Z"
   },
   {
    "duration": 19,
    "start_time": "2021-07-08T11:15:10.613Z"
   },
   {
    "duration": 680,
    "start_time": "2021-07-08T11:16:25.793Z"
   },
   {
    "duration": 451,
    "start_time": "2021-07-08T11:16:40.313Z"
   },
   {
    "duration": 469,
    "start_time": "2021-07-08T11:17:21.286Z"
   },
   {
    "duration": 20,
    "start_time": "2021-07-08T11:19:12.554Z"
   },
   {
    "duration": 35,
    "start_time": "2021-07-08T11:20:05.484Z"
   },
   {
    "duration": 53,
    "start_time": "2021-07-08T11:21:40.050Z"
   },
   {
    "duration": 13,
    "start_time": "2021-07-08T11:22:26.059Z"
   },
   {
    "duration": 19,
    "start_time": "2021-07-08T11:22:47.419Z"
   },
   {
    "duration": 25,
    "start_time": "2021-07-08T11:23:19.958Z"
   },
   {
    "duration": 29,
    "start_time": "2021-07-08T11:23:25.415Z"
   },
   {
    "duration": 10,
    "start_time": "2021-07-08T11:24:45.138Z"
   },
   {
    "duration": 19,
    "start_time": "2021-07-08T11:24:54.498Z"
   },
   {
    "duration": 12,
    "start_time": "2021-07-08T11:25:32.225Z"
   },
   {
    "duration": 19,
    "start_time": "2021-07-08T11:25:37.092Z"
   },
   {
    "duration": 17,
    "start_time": "2021-07-08T11:25:58.116Z"
   },
   {
    "duration": 15,
    "start_time": "2021-07-08T11:26:02.258Z"
   },
   {
    "duration": 8,
    "start_time": "2021-07-08T11:26:59.682Z"
   },
   {
    "duration": 184,
    "start_time": "2021-07-08T11:27:21.894Z"
   },
   {
    "duration": 8,
    "start_time": "2021-07-08T11:27:23.824Z"
   },
   {
    "duration": 202,
    "start_time": "2021-07-08T11:27:23.962Z"
   },
   {
    "duration": 360,
    "start_time": "2021-07-08T11:28:33.215Z"
   },
   {
    "duration": 231,
    "start_time": "2021-07-08T11:32:05.542Z"
   },
   {
    "duration": 607,
    "start_time": "2021-07-08T11:36:27.854Z"
   },
   {
    "duration": 241,
    "start_time": "2021-07-08T11:36:28.463Z"
   },
   {
    "duration": 67,
    "start_time": "2021-07-08T11:36:28.709Z"
   },
   {
    "duration": 5,
    "start_time": "2021-07-08T11:36:28.778Z"
   },
   {
    "duration": 32,
    "start_time": "2021-07-08T11:36:28.784Z"
   },
   {
    "duration": 11,
    "start_time": "2021-07-08T11:36:28.819Z"
   },
   {
    "duration": 20,
    "start_time": "2021-07-08T11:36:28.834Z"
   },
   {
    "duration": 36,
    "start_time": "2021-07-08T11:36:28.857Z"
   },
   {
    "duration": 16,
    "start_time": "2021-07-08T11:36:28.895Z"
   },
   {
    "duration": 14,
    "start_time": "2021-07-08T11:36:28.913Z"
   },
   {
    "duration": 9,
    "start_time": "2021-07-08T11:36:28.930Z"
   },
   {
    "duration": 55,
    "start_time": "2021-07-08T11:36:28.941Z"
   },
   {
    "duration": 27,
    "start_time": "2021-07-08T11:36:28.999Z"
   },
   {
    "duration": 30,
    "start_time": "2021-07-08T11:36:29.028Z"
   },
   {
    "duration": 31,
    "start_time": "2021-07-08T11:36:29.060Z"
   },
   {
    "duration": 3,
    "start_time": "2021-07-08T11:36:29.093Z"
   },
   {
    "duration": 12,
    "start_time": "2021-07-08T11:36:29.099Z"
   },
   {
    "duration": 11,
    "start_time": "2021-07-08T11:36:29.112Z"
   },
   {
    "duration": 12,
    "start_time": "2021-07-08T11:36:29.125Z"
   },
   {
    "duration": 9,
    "start_time": "2021-07-08T11:36:29.139Z"
   },
   {
    "duration": 31,
    "start_time": "2021-07-08T11:36:29.191Z"
   },
   {
    "duration": 17,
    "start_time": "2021-07-08T11:36:29.226Z"
   },
   {
    "duration": 7,
    "start_time": "2021-07-08T11:36:29.245Z"
   },
   {
    "duration": 10,
    "start_time": "2021-07-08T11:36:29.254Z"
   },
   {
    "duration": 30,
    "start_time": "2021-07-08T11:36:29.292Z"
   },
   {
    "duration": 11,
    "start_time": "2021-07-08T11:36:29.324Z"
   },
   {
    "duration": 11,
    "start_time": "2021-07-08T11:36:29.337Z"
   },
   {
    "duration": 230,
    "start_time": "2021-07-08T11:36:29.349Z"
   },
   {
    "duration": 13,
    "start_time": "2021-07-08T11:36:29.588Z"
   },
   {
    "duration": 205,
    "start_time": "2021-07-08T11:36:29.603Z"
   },
   {
    "duration": 20,
    "start_time": "2021-07-08T11:36:29.810Z"
   },
   {
    "duration": 9,
    "start_time": "2021-07-08T11:36:29.832Z"
   },
   {
    "duration": 16,
    "start_time": "2021-07-08T11:36:29.843Z"
   },
   {
    "duration": 283,
    "start_time": "2021-07-08T11:36:29.861Z"
   },
   {
    "duration": 50,
    "start_time": "2021-07-08T11:36:30.146Z"
   },
   {
    "duration": 14,
    "start_time": "2021-07-08T11:36:30.198Z"
   },
   {
    "duration": 11,
    "start_time": "2021-07-08T11:36:30.214Z"
   },
   {
    "duration": 245,
    "start_time": "2021-07-08T11:36:30.227Z"
   },
   {
    "duration": 439,
    "start_time": "2021-07-08T11:36:30.474Z"
   },
   {
    "duration": 210,
    "start_time": "2021-07-08T11:36:30.915Z"
   },
   {
    "duration": 15,
    "start_time": "2021-07-08T11:36:31.127Z"
   },
   {
    "duration": 17,
    "start_time": "2021-07-08T11:38:20.451Z"
   },
   {
    "duration": 642,
    "start_time": "2021-07-08T11:46:17.881Z"
   },
   {
    "duration": 210,
    "start_time": "2021-07-08T11:46:18.525Z"
   },
   {
    "duration": 104,
    "start_time": "2021-07-08T11:46:18.741Z"
   },
   {
    "duration": 8,
    "start_time": "2021-07-08T11:46:18.847Z"
   },
   {
    "duration": 25,
    "start_time": "2021-07-08T11:46:18.857Z"
   },
   {
    "duration": 14,
    "start_time": "2021-07-08T11:46:18.884Z"
   },
   {
    "duration": 22,
    "start_time": "2021-07-08T11:46:18.900Z"
   },
   {
    "duration": 5,
    "start_time": "2021-07-08T11:46:18.924Z"
   },
   {
    "duration": 13,
    "start_time": "2021-07-08T11:46:18.931Z"
   },
   {
    "duration": 45,
    "start_time": "2021-07-08T11:46:18.946Z"
   },
   {
    "duration": 12,
    "start_time": "2021-07-08T11:46:18.993Z"
   },
   {
    "duration": 38,
    "start_time": "2021-07-08T11:46:19.006Z"
   },
   {
    "duration": 50,
    "start_time": "2021-07-08T11:46:19.046Z"
   },
   {
    "duration": 29,
    "start_time": "2021-07-08T11:46:19.099Z"
   },
   {
    "duration": 7,
    "start_time": "2021-07-08T11:46:19.130Z"
   },
   {
    "duration": 3,
    "start_time": "2021-07-08T11:46:19.139Z"
   },
   {
    "duration": 11,
    "start_time": "2021-07-08T11:46:19.144Z"
   },
   {
    "duration": 40,
    "start_time": "2021-07-08T11:46:19.157Z"
   },
   {
    "duration": 15,
    "start_time": "2021-07-08T11:46:19.199Z"
   },
   {
    "duration": 10,
    "start_time": "2021-07-08T11:46:19.217Z"
   },
   {
    "duration": 68,
    "start_time": "2021-07-08T11:46:19.230Z"
   },
   {
    "duration": 17,
    "start_time": "2021-07-08T11:46:19.301Z"
   },
   {
    "duration": 7,
    "start_time": "2021-07-08T11:46:19.321Z"
   },
   {
    "duration": 11,
    "start_time": "2021-07-08T11:46:19.330Z"
   },
   {
    "duration": 59,
    "start_time": "2021-07-08T11:46:19.343Z"
   },
   {
    "duration": 17,
    "start_time": "2021-07-08T11:46:19.405Z"
   },
   {
    "duration": 16,
    "start_time": "2021-07-08T11:46:19.424Z"
   },
   {
    "duration": 252,
    "start_time": "2021-07-08T11:46:19.443Z"
   },
   {
    "duration": 9,
    "start_time": "2021-07-08T11:46:19.697Z"
   },
   {
    "duration": 224,
    "start_time": "2021-07-08T11:46:19.708Z"
   },
   {
    "duration": 21,
    "start_time": "2021-07-08T11:46:19.934Z"
   },
   {
    "duration": 9,
    "start_time": "2021-07-08T11:46:19.956Z"
   },
   {
    "duration": 32,
    "start_time": "2021-07-08T11:46:19.967Z"
   },
   {
    "duration": 288,
    "start_time": "2021-07-08T11:46:20.004Z"
   },
   {
    "duration": 23,
    "start_time": "2021-07-08T11:46:20.300Z"
   },
   {
    "duration": 11,
    "start_time": "2021-07-08T11:46:20.325Z"
   },
   {
    "duration": 11,
    "start_time": "2021-07-08T11:46:20.339Z"
   },
   {
    "duration": 259,
    "start_time": "2021-07-08T11:46:20.352Z"
   },
   {
    "duration": 438,
    "start_time": "2021-07-08T11:46:20.613Z"
   },
   {
    "duration": 207,
    "start_time": "2021-07-08T11:46:21.054Z"
   },
   {
    "duration": 27,
    "start_time": "2021-07-08T11:46:21.262Z"
   },
   {
    "duration": 19,
    "start_time": "2021-07-08T11:46:21.291Z"
   },
   {
    "duration": 820,
    "start_time": "2021-07-08T11:49:01.655Z"
   },
   {
    "duration": 372,
    "start_time": "2021-07-08T11:49:02.478Z"
   },
   {
    "duration": 98,
    "start_time": "2021-07-08T11:49:02.853Z"
   },
   {
    "duration": 6,
    "start_time": "2021-07-08T11:49:02.953Z"
   },
   {
    "duration": 39,
    "start_time": "2021-07-08T11:49:02.960Z"
   },
   {
    "duration": 9,
    "start_time": "2021-07-08T11:49:03.003Z"
   },
   {
    "duration": 23,
    "start_time": "2021-07-08T11:49:03.014Z"
   },
   {
    "duration": 6,
    "start_time": "2021-07-08T11:49:03.041Z"
   },
   {
    "duration": 20,
    "start_time": "2021-07-08T11:49:03.049Z"
   },
   {
    "duration": 18,
    "start_time": "2021-07-08T11:49:03.084Z"
   },
   {
    "duration": 14,
    "start_time": "2021-07-08T11:49:03.104Z"
   },
   {
    "duration": 39,
    "start_time": "2021-07-08T11:49:03.119Z"
   },
   {
    "duration": 38,
    "start_time": "2021-07-08T11:49:03.160Z"
   },
   {
    "duration": 26,
    "start_time": "2021-07-08T11:49:03.200Z"
   },
   {
    "duration": 7,
    "start_time": "2021-07-08T11:49:03.227Z"
   },
   {
    "duration": 4,
    "start_time": "2021-07-08T11:49:03.236Z"
   },
   {
    "duration": 15,
    "start_time": "2021-07-08T11:49:03.243Z"
   },
   {
    "duration": 21,
    "start_time": "2021-07-08T11:49:03.285Z"
   },
   {
    "duration": 17,
    "start_time": "2021-07-08T11:49:03.309Z"
   },
   {
    "duration": 10,
    "start_time": "2021-07-08T11:49:03.328Z"
   },
   {
    "duration": 65,
    "start_time": "2021-07-08T11:49:03.340Z"
   },
   {
    "duration": 18,
    "start_time": "2021-07-08T11:49:03.407Z"
   },
   {
    "duration": 8,
    "start_time": "2021-07-08T11:49:03.428Z"
   },
   {
    "duration": 15,
    "start_time": "2021-07-08T11:49:03.438Z"
   },
   {
    "duration": 40,
    "start_time": "2021-07-08T11:49:03.455Z"
   },
   {
    "duration": 12,
    "start_time": "2021-07-08T11:49:03.497Z"
   },
   {
    "duration": 29,
    "start_time": "2021-07-08T11:49:03.511Z"
   },
   {
    "duration": 285,
    "start_time": "2021-07-08T11:49:03.542Z"
   },
   {
    "duration": 8,
    "start_time": "2021-07-08T11:49:03.829Z"
   },
   {
    "duration": 227,
    "start_time": "2021-07-08T11:49:03.838Z"
   },
   {
    "duration": 40,
    "start_time": "2021-07-08T11:49:04.066Z"
   },
   {
    "duration": 10,
    "start_time": "2021-07-08T11:49:04.108Z"
   },
   {
    "duration": 26,
    "start_time": "2021-07-08T11:49:04.121Z"
   },
   {
    "duration": 290,
    "start_time": "2021-07-08T11:49:04.149Z"
   },
   {
    "duration": 26,
    "start_time": "2021-07-08T11:49:04.441Z"
   },
   {
    "duration": 31,
    "start_time": "2021-07-08T11:49:04.470Z"
   },
   {
    "duration": 14,
    "start_time": "2021-07-08T11:49:04.503Z"
   },
   {
    "duration": 259,
    "start_time": "2021-07-08T11:49:04.521Z"
   },
   {
    "duration": 480,
    "start_time": "2021-07-08T11:49:04.782Z"
   },
   {
    "duration": 225,
    "start_time": "2021-07-08T11:49:05.264Z"
   },
   {
    "duration": 22,
    "start_time": "2021-07-08T11:49:05.491Z"
   },
   {
    "duration": 24,
    "start_time": "2021-07-08T11:49:05.515Z"
   },
   {
    "duration": 634,
    "start_time": "2021-07-08T11:52:24.960Z"
   },
   {
    "duration": 199,
    "start_time": "2021-07-08T11:52:25.599Z"
   },
   {
    "duration": 106,
    "start_time": "2021-07-08T11:52:25.803Z"
   },
   {
    "duration": 7,
    "start_time": "2021-07-08T11:52:25.911Z"
   },
   {
    "duration": 29,
    "start_time": "2021-07-08T11:52:25.920Z"
   },
   {
    "duration": 7,
    "start_time": "2021-07-08T11:52:25.951Z"
   },
   {
    "duration": 26,
    "start_time": "2021-07-08T11:52:25.961Z"
   },
   {
    "duration": 11,
    "start_time": "2021-07-08T11:52:25.990Z"
   },
   {
    "duration": 29,
    "start_time": "2021-07-08T11:52:26.005Z"
   },
   {
    "duration": 9,
    "start_time": "2021-07-08T11:52:26.036Z"
   },
   {
    "duration": 8,
    "start_time": "2021-07-08T11:52:26.047Z"
   },
   {
    "duration": 63,
    "start_time": "2021-07-08T11:52:26.057Z"
   },
   {
    "duration": 17,
    "start_time": "2021-07-08T11:52:26.122Z"
   },
   {
    "duration": 43,
    "start_time": "2021-07-08T11:52:26.142Z"
   },
   {
    "duration": 17,
    "start_time": "2021-07-08T11:52:26.187Z"
   },
   {
    "duration": 5,
    "start_time": "2021-07-08T11:52:26.206Z"
   },
   {
    "duration": 12,
    "start_time": "2021-07-08T11:52:26.212Z"
   },
   {
    "duration": 11,
    "start_time": "2021-07-08T11:52:26.226Z"
   },
   {
    "duration": 12,
    "start_time": "2021-07-08T11:52:26.238Z"
   },
   {
    "duration": 38,
    "start_time": "2021-07-08T11:52:26.252Z"
   },
   {
    "duration": 40,
    "start_time": "2021-07-08T11:52:26.292Z"
   },
   {
    "duration": 17,
    "start_time": "2021-07-08T11:52:26.336Z"
   },
   {
    "duration": 39,
    "start_time": "2021-07-08T11:52:26.355Z"
   },
   {
    "duration": 11,
    "start_time": "2021-07-08T11:52:26.395Z"
   },
   {
    "duration": 23,
    "start_time": "2021-07-08T11:52:26.408Z"
   },
   {
    "duration": 12,
    "start_time": "2021-07-08T11:52:26.432Z"
   },
   {
    "duration": 41,
    "start_time": "2021-07-08T11:52:26.446Z"
   },
   {
    "duration": 215,
    "start_time": "2021-07-08T11:52:26.493Z"
   },
   {
    "duration": 8,
    "start_time": "2021-07-08T11:52:26.710Z"
   },
   {
    "duration": 228,
    "start_time": "2021-07-08T11:52:26.720Z"
   },
   {
    "duration": 18,
    "start_time": "2021-07-08T11:52:26.950Z"
   },
   {
    "duration": 35,
    "start_time": "2021-07-08T11:52:26.969Z"
   },
   {
    "duration": 23,
    "start_time": "2021-07-08T11:52:27.006Z"
   },
   {
    "duration": 258,
    "start_time": "2021-07-08T11:52:27.030Z"
   },
   {
    "duration": 24,
    "start_time": "2021-07-08T11:52:27.290Z"
   },
   {
    "duration": 12,
    "start_time": "2021-07-08T11:52:27.316Z"
   },
   {
    "duration": 10,
    "start_time": "2021-07-08T11:52:27.329Z"
   },
   {
    "duration": 298,
    "start_time": "2021-07-08T11:52:27.341Z"
   },
   {
    "duration": 436,
    "start_time": "2021-07-08T11:52:27.641Z"
   },
   {
    "duration": 216,
    "start_time": "2021-07-08T11:52:28.079Z"
   },
   {
    "duration": 20,
    "start_time": "2021-07-08T11:52:28.297Z"
   },
   {
    "duration": 17,
    "start_time": "2021-07-08T11:52:28.319Z"
   },
   {
    "duration": 548,
    "start_time": "2021-12-16T09:41:52.377Z"
   },
   {
    "duration": 1150,
    "start_time": "2021-12-16T09:41:55.553Z"
   },
   {
    "duration": 1383,
    "start_time": "2021-12-16T09:41:56.705Z"
   },
   {
    "duration": 353,
    "start_time": "2021-12-16T09:42:10.190Z"
   },
   {
    "duration": 266,
    "start_time": "2021-12-16T09:42:30.314Z"
   },
   {
    "duration": 12,
    "start_time": "2021-12-16T10:00:57.289Z"
   },
   {
    "duration": 254,
    "start_time": "2021-12-16T10:10:25.349Z"
   },
   {
    "duration": 13,
    "start_time": "2021-12-16T10:10:31.018Z"
   },
   {
    "duration": 330,
    "start_time": "2021-12-16T20:46:32.494Z"
   },
   {
    "duration": 1508,
    "start_time": "2021-12-16T20:46:39.756Z"
   },
   {
    "duration": 142,
    "start_time": "2021-12-16T20:46:41.266Z"
   },
   {
    "duration": -79,
    "start_time": "2021-12-16T20:46:41.490Z"
   },
   {
    "duration": -85,
    "start_time": "2021-12-16T20:46:41.498Z"
   },
   {
    "duration": 513,
    "start_time": "2021-12-16T20:47:41.870Z"
   },
   {
    "duration": 20,
    "start_time": "2021-12-16T20:48:43.999Z"
   },
   {
    "duration": 20,
    "start_time": "2021-12-16T20:57:27.567Z"
   },
   {
    "duration": 3334,
    "start_time": "2021-12-16T21:22:25.192Z"
   },
   {
    "duration": 3508,
    "start_time": "2021-12-16T21:22:51.223Z"
   },
   {
    "duration": 1941,
    "start_time": "2021-12-18T11:36:08.052Z"
   },
   {
    "duration": 468,
    "start_time": "2021-12-18T11:36:09.997Z"
   },
   {
    "duration": 20,
    "start_time": "2021-12-18T11:36:13.670Z"
   },
   {
    "duration": 17,
    "start_time": "2021-12-18T11:36:16.183Z"
   },
   {
    "duration": 404,
    "start_time": "2021-12-18T11:37:15.117Z"
   },
   {
    "duration": 5,
    "start_time": "2021-12-18T11:37:21.850Z"
   },
   {
    "duration": 421,
    "start_time": "2021-12-18T11:37:24.363Z"
   },
   {
    "duration": 4,
    "start_time": "2021-12-18T11:37:33.578Z"
   },
   {
    "duration": 389,
    "start_time": "2021-12-18T11:37:35.470Z"
   },
   {
    "duration": 5,
    "start_time": "2021-12-18T11:37:46.516Z"
   },
   {
    "duration": 4,
    "start_time": "2021-12-18T11:37:57.225Z"
   },
   {
    "duration": 4613,
    "start_time": "2021-12-18T11:39:19.065Z"
   },
   {
    "duration": 480,
    "start_time": "2021-12-18T12:06:51.836Z"
   },
   {
    "duration": 308,
    "start_time": "2021-12-18T12:06:59.706Z"
   },
   {
    "duration": 1399,
    "start_time": "2021-12-18T12:07:21.346Z"
   },
   {
    "duration": 4604,
    "start_time": "2021-12-18T12:07:28.022Z"
   },
   {
    "duration": 7,
    "start_time": "2021-12-18T12:07:37.652Z"
   },
   {
    "duration": 53,
    "start_time": "2021-12-18T12:12:57.624Z"
   },
   {
    "duration": 4440,
    "start_time": "2021-12-18T12:17:17.359Z"
   },
   {
    "duration": 4,
    "start_time": "2021-12-18T12:18:57.675Z"
   },
   {
    "duration": 165,
    "start_time": "2021-12-18T12:53:35.244Z"
   },
   {
    "duration": 168,
    "start_time": "2021-12-18T12:53:59.203Z"
   },
   {
    "duration": 4110,
    "start_time": "2021-12-18T12:54:12.903Z"
   },
   {
    "duration": 141,
    "start_time": "2021-12-18T12:54:19.238Z"
   },
   {
    "duration": 57,
    "start_time": "2021-12-18T12:54:26.014Z"
   },
   {
    "duration": 4134,
    "start_time": "2021-12-18T12:54:41.777Z"
   },
   {
    "duration": 35,
    "start_time": "2021-12-18T12:55:20.922Z"
   },
   {
    "duration": 172,
    "start_time": "2021-12-18T12:57:20.948Z"
   },
   {
    "duration": 149,
    "start_time": "2021-12-18T12:57:34.272Z"
   },
   {
    "duration": 188,
    "start_time": "2021-12-18T12:57:52.501Z"
   },
   {
    "duration": 170,
    "start_time": "2021-12-18T13:00:05.819Z"
   },
   {
    "duration": 5,
    "start_time": "2021-12-18T13:04:21.443Z"
   },
   {
    "duration": 467,
    "start_time": "2021-12-18T13:07:03.245Z"
   },
   {
    "duration": 495,
    "start_time": "2021-12-18T13:07:48.944Z"
   },
   {
    "duration": 6,
    "start_time": "2021-12-18T13:07:59.598Z"
   },
   {
    "duration": 444,
    "start_time": "2021-12-18T13:08:13.887Z"
   },
   {
    "duration": 5,
    "start_time": "2021-12-18T14:13:36.486Z"
   },
   {
    "duration": 5,
    "start_time": "2021-12-18T14:13:40.083Z"
   },
   {
    "duration": 509,
    "start_time": "2021-12-18T14:23:38.062Z"
   },
   {
    "duration": 482,
    "start_time": "2021-12-18T14:23:47.246Z"
   },
   {
    "duration": 497,
    "start_time": "2021-12-18T14:24:06.668Z"
   },
   {
    "duration": 450,
    "start_time": "2021-12-18T14:25:19.215Z"
   },
   {
    "duration": 206,
    "start_time": "2021-12-18T14:26:11.945Z"
   },
   {
    "duration": 181,
    "start_time": "2021-12-18T14:26:41.870Z"
   },
   {
    "duration": 182,
    "start_time": "2021-12-18T14:26:49.614Z"
   },
   {
    "duration": 596,
    "start_time": "2021-12-18T14:28:44.771Z"
   },
   {
    "duration": 591,
    "start_time": "2021-12-18T14:28:58.590Z"
   },
   {
    "duration": 562,
    "start_time": "2021-12-18T14:29:09.441Z"
   },
   {
    "duration": 308,
    "start_time": "2021-12-18T14:43:39.376Z"
   },
   {
    "duration": 1710,
    "start_time": "2021-12-18T15:11:41.089Z"
   },
   {
    "duration": 302,
    "start_time": "2021-12-18T15:12:08.760Z"
   },
   {
    "duration": 5,
    "start_time": "2021-12-18T15:12:29.675Z"
   },
   {
    "duration": 171,
    "start_time": "2021-12-18T15:15:30.676Z"
   },
   {
    "duration": 325,
    "start_time": "2021-12-18T15:28:15.519Z"
   },
   {
    "duration": 318,
    "start_time": "2021-12-18T15:28:57.149Z"
   },
   {
    "duration": 1442,
    "start_time": "2021-12-18T15:29:26.033Z"
   },
   {
    "duration": 607,
    "start_time": "2021-12-18T15:29:27.478Z"
   },
   {
    "duration": 18,
    "start_time": "2021-12-18T15:29:28.089Z"
   },
   {
    "duration": 456,
    "start_time": "2021-12-18T15:29:28.110Z"
   },
   {
    "duration": -227,
    "start_time": "2021-12-18T15:29:28.796Z"
   },
   {
    "duration": -232,
    "start_time": "2021-12-18T15:29:28.802Z"
   },
   {
    "duration": -236,
    "start_time": "2021-12-18T15:29:28.808Z"
   },
   {
    "duration": -240,
    "start_time": "2021-12-18T15:29:28.814Z"
   },
   {
    "duration": -244,
    "start_time": "2021-12-18T15:29:28.820Z"
   },
   {
    "duration": -248,
    "start_time": "2021-12-18T15:29:28.825Z"
   },
   {
    "duration": -251,
    "start_time": "2021-12-18T15:29:28.830Z"
   },
   {
    "duration": 19,
    "start_time": "2021-12-18T15:29:54.031Z"
   },
   {
    "duration": 21,
    "start_time": "2021-12-18T15:29:56.095Z"
   },
   {
    "duration": 4633,
    "start_time": "2021-12-18T15:29:58.735Z"
   },
   {
    "duration": 4,
    "start_time": "2021-12-18T15:30:05.706Z"
   },
   {
    "duration": 73,
    "start_time": "2021-12-18T15:30:06.400Z"
   },
   {
    "duration": 6443,
    "start_time": "2021-12-18T15:30:07.850Z"
   },
   {
    "duration": 60,
    "start_time": "2021-12-18T15:30:14.295Z"
   },
   {
    "duration": 149,
    "start_time": "2021-12-18T15:30:14.358Z"
   },
   {
    "duration": 66,
    "start_time": "2021-12-18T15:30:22.927Z"
   },
   {
    "duration": 166,
    "start_time": "2021-12-18T15:31:13.809Z"
   },
   {
    "duration": 159,
    "start_time": "2021-12-18T15:31:32.722Z"
   },
   {
    "duration": 25,
    "start_time": "2021-12-18T15:33:35.777Z"
   },
   {
    "duration": 860,
    "start_time": "2021-12-18T15:36:09.197Z"
   },
   {
    "duration": 312,
    "start_time": "2021-12-18T15:37:35.728Z"
   },
   {
    "duration": 341,
    "start_time": "2021-12-18T15:39:33.144Z"
   },
   {
    "duration": 347,
    "start_time": "2021-12-18T15:39:48.311Z"
   },
   {
    "duration": 625,
    "start_time": "2021-12-18T15:40:17.009Z"
   },
   {
    "duration": 808,
    "start_time": "2021-12-18T15:40:36.511Z"
   },
   {
    "duration": 373,
    "start_time": "2021-12-18T15:40:44.551Z"
   },
   {
    "duration": 413,
    "start_time": "2021-12-18T15:41:15.544Z"
   },
   {
    "duration": 238,
    "start_time": "2021-12-18T15:46:03.325Z"
   },
   {
    "duration": 365,
    "start_time": "2021-12-18T15:46:14.927Z"
   },
   {
    "duration": 369,
    "start_time": "2021-12-18T15:46:27.682Z"
   },
   {
    "duration": 586,
    "start_time": "2021-12-18T15:49:51.883Z"
   },
   {
    "duration": 578,
    "start_time": "2021-12-18T15:50:01.818Z"
   },
   {
    "duration": 641,
    "start_time": "2021-12-18T15:50:18.310Z"
   },
   {
    "duration": 646,
    "start_time": "2021-12-18T15:50:40.171Z"
   },
   {
    "duration": 248,
    "start_time": "2021-12-18T15:51:24.529Z"
   },
   {
    "duration": 601,
    "start_time": "2021-12-18T15:51:51.648Z"
   },
   {
    "duration": 153,
    "start_time": "2021-12-18T15:52:40.133Z"
   },
   {
    "duration": 313,
    "start_time": "2021-12-18T15:53:24.932Z"
   },
   {
    "duration": 304,
    "start_time": "2021-12-18T15:54:09.145Z"
   },
   {
    "duration": 133,
    "start_time": "2021-12-18T15:54:30.697Z"
   },
   {
    "duration": 541,
    "start_time": "2021-12-18T15:56:23.922Z"
   },
   {
    "duration": 950,
    "start_time": "2021-12-18T15:57:56.669Z"
   },
   {
    "duration": 896,
    "start_time": "2021-12-18T16:00:51.087Z"
   },
   {
    "duration": 582,
    "start_time": "2021-12-18T16:01:19.219Z"
   },
   {
    "duration": 610,
    "start_time": "2021-12-18T16:01:47.566Z"
   },
   {
    "duration": 593,
    "start_time": "2021-12-18T16:02:57.623Z"
   },
   {
    "duration": 589,
    "start_time": "2021-12-18T16:04:04.876Z"
   },
   {
    "duration": 1018,
    "start_time": "2021-12-18T16:09:22.674Z"
   },
   {
    "duration": 466,
    "start_time": "2021-12-18T16:12:14.957Z"
   },
   {
    "duration": 370,
    "start_time": "2021-12-18T16:13:03.020Z"
   },
   {
    "duration": 327,
    "start_time": "2021-12-18T16:13:20.167Z"
   },
   {
    "duration": 326,
    "start_time": "2021-12-18T16:13:26.047Z"
   },
   {
    "duration": 26,
    "start_time": "2021-12-18T16:13:38.304Z"
   },
   {
    "duration": 35,
    "start_time": "2021-12-18T16:13:51.378Z"
   },
   {
    "duration": 33,
    "start_time": "2021-12-18T16:15:40.456Z"
   },
   {
    "duration": 39,
    "start_time": "2021-12-18T16:15:59.008Z"
   },
   {
    "duration": 37,
    "start_time": "2021-12-18T16:16:14.943Z"
   },
   {
    "duration": 1251,
    "start_time": "2021-12-18T16:16:55.539Z"
   },
   {
    "duration": 40,
    "start_time": "2021-12-18T16:18:15.263Z"
   },
   {
    "duration": 327,
    "start_time": "2021-12-18T16:18:29.373Z"
   },
   {
    "duration": 121,
    "start_time": "2021-12-18T16:19:05.033Z"
   },
   {
    "duration": 116,
    "start_time": "2021-12-18T16:19:12.271Z"
   },
   {
    "duration": 418,
    "start_time": "2021-12-18T16:22:27.944Z"
   },
   {
    "duration": 43,
    "start_time": "2021-12-18T16:22:40.307Z"
   },
   {
    "duration": 332,
    "start_time": "2021-12-18T16:23:09.467Z"
   },
   {
    "duration": 55,
    "start_time": "2021-12-18T16:23:21.589Z"
   },
   {
    "duration": 31,
    "start_time": "2021-12-18T16:23:36.545Z"
   },
   {
    "duration": 835,
    "start_time": "2021-12-18T16:24:14.279Z"
   },
   {
    "duration": 498,
    "start_time": "2021-12-18T16:25:31.593Z"
   },
   {
    "duration": 578,
    "start_time": "2021-12-18T16:26:14.657Z"
   },
   {
    "duration": 519,
    "start_time": "2021-12-18T16:26:26.113Z"
   },
   {
    "duration": 293,
    "start_time": "2021-12-18T16:27:07.538Z"
   },
   {
    "duration": 39,
    "start_time": "2021-12-18T16:28:15.876Z"
   },
   {
    "duration": 39,
    "start_time": "2021-12-18T16:28:26.824Z"
   },
   {
    "duration": 123,
    "start_time": "2021-12-18T16:32:30.610Z"
   },
   {
    "duration": 110,
    "start_time": "2021-12-18T16:32:42.978Z"
   },
   {
    "duration": 98,
    "start_time": "2021-12-18T16:32:45.282Z"
   },
   {
    "duration": 95,
    "start_time": "2021-12-18T16:33:07.266Z"
   },
   {
    "duration": 100,
    "start_time": "2021-12-18T16:35:47.656Z"
   },
   {
    "duration": 321,
    "start_time": "2021-12-18T16:37:09.529Z"
   },
   {
    "duration": 380,
    "start_time": "2021-12-18T16:37:13.831Z"
   },
   {
    "duration": 344,
    "start_time": "2021-12-18T16:38:03.250Z"
   },
   {
    "duration": 1091,
    "start_time": "2021-12-18T16:39:40.901Z"
   },
   {
    "duration": 333,
    "start_time": "2021-12-18T16:42:14.116Z"
   },
   {
    "duration": 7,
    "start_time": "2021-12-18T16:42:18.231Z"
   },
   {
    "duration": 15,
    "start_time": "2021-12-18T16:43:19.202Z"
   },
   {
    "duration": 9334,
    "start_time": "2021-12-18T16:44:15.023Z"
   },
   {
    "duration": 1258,
    "start_time": "2021-12-18T16:44:46.000Z"
   },
   {
    "duration": 277,
    "start_time": "2021-12-18T16:44:58.640Z"
   },
   {
    "duration": 273,
    "start_time": "2021-12-18T16:45:24.045Z"
   },
   {
    "duration": 366,
    "start_time": "2021-12-18T16:45:56.637Z"
   },
   {
    "duration": 393,
    "start_time": "2021-12-18T16:47:10.019Z"
   },
   {
    "duration": 313,
    "start_time": "2021-12-18T16:47:39.274Z"
   },
   {
    "duration": 13,
    "start_time": "2021-12-18T16:48:07.007Z"
   },
   {
    "duration": 73,
    "start_time": "2021-12-18T16:48:13.243Z"
   },
   {
    "duration": 1146,
    "start_time": "2021-12-18T16:50:31.301Z"
   },
   {
    "duration": 20,
    "start_time": "2021-12-18T16:50:58.046Z"
   },
   {
    "duration": 1498,
    "start_time": "2021-12-18T16:51:08.408Z"
   },
   {
    "duration": 440,
    "start_time": "2021-12-18T16:51:09.908Z"
   },
   {
    "duration": 17,
    "start_time": "2021-12-18T16:51:10.351Z"
   },
   {
    "duration": 55,
    "start_time": "2021-12-18T16:51:10.371Z"
   },
   {
    "duration": 5030,
    "start_time": "2021-12-18T16:51:10.428Z"
   },
   {
    "duration": 3,
    "start_time": "2021-12-18T16:51:15.460Z"
   },
   {
    "duration": 73,
    "start_time": "2021-12-18T16:51:15.466Z"
   },
   {
    "duration": 4456,
    "start_time": "2021-12-18T16:51:15.542Z"
   },
   {
    "duration": 72,
    "start_time": "2021-12-18T16:51:20.001Z"
   },
   {
    "duration": 374,
    "start_time": "2021-12-18T16:51:20.075Z"
   },
   {
    "duration": 800,
    "start_time": "2021-12-18T16:51:20.451Z"
   },
   {
    "duration": 28,
    "start_time": "2021-12-18T16:51:21.254Z"
   },
   {
    "duration": 909,
    "start_time": "2021-12-18T16:51:31.704Z"
   },
   {
    "duration": 1028,
    "start_time": "2021-12-18T16:52:03.827Z"
   },
   {
    "duration": 268,
    "start_time": "2021-12-18T17:37:29.089Z"
   },
   {
    "duration": 151,
    "start_time": "2021-12-18T19:36:32.291Z"
   },
   {
    "duration": 160,
    "start_time": "2021-12-18T19:38:32.819Z"
   },
   {
    "duration": 260,
    "start_time": "2021-12-18T19:39:27.504Z"
   },
   {
    "duration": 234,
    "start_time": "2021-12-18T19:39:37.047Z"
   },
   {
    "duration": 443,
    "start_time": "2021-12-18T19:39:39.316Z"
   },
   {
    "duration": 1628,
    "start_time": "2021-12-18T19:39:40.850Z"
   },
   {
    "duration": 250,
    "start_time": "2021-12-18T19:40:03.712Z"
   },
   {
    "duration": 652,
    "start_time": "2021-12-18T19:42:12.344Z"
   },
   {
    "duration": 675,
    "start_time": "2021-12-18T19:44:04.643Z"
   },
   {
    "duration": 1292,
    "start_time": "2021-12-18T19:44:29.483Z"
   },
   {
    "duration": 525,
    "start_time": "2021-12-18T19:44:43.963Z"
   },
   {
    "duration": 527,
    "start_time": "2021-12-18T19:44:57.940Z"
   },
   {
    "duration": 562,
    "start_time": "2021-12-18T19:45:40.522Z"
   },
   {
    "duration": 511,
    "start_time": "2021-12-18T19:46:00.945Z"
   },
   {
    "duration": 545,
    "start_time": "2021-12-18T19:46:57.650Z"
   },
   {
    "duration": 116,
    "start_time": "2021-12-18T19:49:24.075Z"
   },
   {
    "duration": 1290,
    "start_time": "2021-12-18T19:49:27.908Z"
   },
   {
    "duration": 944,
    "start_time": "2021-12-18T19:49:43.645Z"
   },
   {
    "duration": 899,
    "start_time": "2021-12-18T19:50:16.599Z"
   },
   {
    "duration": 902,
    "start_time": "2021-12-18T19:50:29.672Z"
   },
   {
    "duration": 1530,
    "start_time": "2021-12-18T19:56:23.752Z"
   },
   {
    "duration": 1415,
    "start_time": "2021-12-18T19:57:03.931Z"
   },
   {
    "duration": 1197,
    "start_time": "2021-12-18T20:02:25.173Z"
   },
   {
    "duration": 1619,
    "start_time": "2021-12-18T20:02:34.797Z"
   },
   {
    "duration": 546,
    "start_time": "2021-12-18T20:02:36.423Z"
   },
   {
    "duration": 21,
    "start_time": "2021-12-18T20:02:36.973Z"
   },
   {
    "duration": 611,
    "start_time": "2021-12-18T20:02:36.997Z"
   },
   {
    "duration": 25,
    "start_time": "2021-12-18T20:02:37.611Z"
   },
   {
    "duration": 7758,
    "start_time": "2021-12-18T20:02:37.638Z"
   },
   {
    "duration": 3,
    "start_time": "2021-12-18T20:02:45.399Z"
   },
   {
    "duration": 70,
    "start_time": "2021-12-18T20:02:45.406Z"
   },
   {
    "duration": 3037,
    "start_time": "2021-12-18T20:02:45.479Z"
   },
   {
    "duration": 57,
    "start_time": "2021-12-18T20:02:48.519Z"
   },
   {
    "duration": 163,
    "start_time": "2021-12-18T20:02:48.578Z"
   },
   {
    "duration": 1280,
    "start_time": "2021-12-18T20:02:48.744Z"
   },
   {
    "duration": 26,
    "start_time": "2021-12-18T20:02:50.027Z"
   },
   {
    "duration": 95,
    "start_time": "2021-12-18T20:03:18.077Z"
   },
   {
    "duration": 707,
    "start_time": "2021-12-18T20:04:08.408Z"
   },
   {
    "duration": 683,
    "start_time": "2021-12-18T20:04:17.245Z"
   },
   {
    "duration": 1291,
    "start_time": "2021-12-18T20:04:28.039Z"
   },
   {
    "duration": 1314,
    "start_time": "2021-12-18T20:04:47.701Z"
   },
   {
    "duration": 1222,
    "start_time": "2021-12-18T20:04:58.235Z"
   },
   {
    "duration": 1229,
    "start_time": "2021-12-18T20:06:10.748Z"
   },
   {
    "duration": 1232,
    "start_time": "2021-12-18T20:07:01.244Z"
   },
   {
    "duration": 1260,
    "start_time": "2021-12-18T20:07:11.463Z"
   },
   {
    "duration": 1227,
    "start_time": "2021-12-18T20:07:50.025Z"
   },
   {
    "duration": 1248,
    "start_time": "2021-12-18T20:08:22.695Z"
   },
   {
    "duration": 1201,
    "start_time": "2021-12-18T20:08:37.405Z"
   },
   {
    "duration": 616,
    "start_time": "2021-12-18T20:09:58.411Z"
   },
   {
    "duration": 1181,
    "start_time": "2021-12-18T20:12:39.853Z"
   },
   {
    "duration": 852,
    "start_time": "2021-12-18T20:12:53.508Z"
   },
   {
    "duration": 117,
    "start_time": "2021-12-18T20:13:21.152Z"
   },
   {
    "duration": 1326,
    "start_time": "2021-12-18T20:13:26.308Z"
   },
   {
    "duration": 1345,
    "start_time": "2021-12-18T20:17:23.936Z"
   },
   {
    "duration": 1231,
    "start_time": "2021-12-18T20:17:33.397Z"
   },
   {
    "duration": 1735,
    "start_time": "2021-12-18T20:23:35.574Z"
   },
   {
    "duration": 1850,
    "start_time": "2021-12-18T20:23:46.308Z"
   },
   {
    "duration": 552,
    "start_time": "2021-12-18T20:24:44.426Z"
   },
   {
    "duration": 682,
    "start_time": "2021-12-18T20:25:48.068Z"
   },
   {
    "duration": 679,
    "start_time": "2021-12-18T20:26:36.296Z"
   },
   {
    "duration": 534,
    "start_time": "2021-12-18T20:26:46.447Z"
   },
   {
    "duration": 482,
    "start_time": "2021-12-18T20:26:52.210Z"
   },
   {
    "duration": 475,
    "start_time": "2021-12-18T20:27:15.353Z"
   },
   {
    "duration": 512,
    "start_time": "2021-12-18T20:27:28.308Z"
   },
   {
    "duration": 848,
    "start_time": "2021-12-18T20:27:34.273Z"
   },
   {
    "duration": 463,
    "start_time": "2021-12-18T20:27:52.343Z"
   },
   {
    "duration": 1019,
    "start_time": "2021-12-18T20:28:30.531Z"
   },
   {
    "duration": 104,
    "start_time": "2021-12-18T20:35:21.917Z"
   },
   {
    "duration": 499,
    "start_time": "2021-12-18T20:35:30.392Z"
   },
   {
    "duration": 539,
    "start_time": "2021-12-18T20:35:56.135Z"
   },
   {
    "duration": 505,
    "start_time": "2021-12-18T20:37:24.878Z"
   },
   {
    "duration": 707,
    "start_time": "2021-12-18T20:41:10.370Z"
   },
   {
    "duration": 542,
    "start_time": "2021-12-18T20:41:17.853Z"
   },
   {
    "duration": 1456,
    "start_time": "2021-12-18T20:41:21.464Z"
   },
   {
    "duration": 604,
    "start_time": "2021-12-18T20:49:43.496Z"
   },
   {
    "duration": 578,
    "start_time": "2021-12-18T20:51:41.624Z"
   },
   {
    "duration": 504,
    "start_time": "2021-12-18T20:54:55.340Z"
   },
   {
    "duration": 680,
    "start_time": "2021-12-18T20:55:05.209Z"
   },
   {
    "duration": 566,
    "start_time": "2021-12-18T20:55:29.839Z"
   },
   {
    "duration": 553,
    "start_time": "2021-12-18T20:56:03.616Z"
   },
   {
    "duration": 588,
    "start_time": "2021-12-18T20:57:10.352Z"
   },
   {
    "duration": 673,
    "start_time": "2021-12-18T20:57:44.352Z"
   },
   {
    "duration": 1050,
    "start_time": "2021-12-18T20:59:05.138Z"
   },
   {
    "duration": 764,
    "start_time": "2021-12-18T20:59:08.201Z"
   },
   {
    "duration": 563,
    "start_time": "2021-12-18T20:59:25.982Z"
   },
   {
    "duration": 838,
    "start_time": "2021-12-18T21:20:27.684Z"
   },
   {
    "duration": 654,
    "start_time": "2021-12-18T21:21:26.494Z"
   },
   {
    "duration": 764,
    "start_time": "2021-12-18T21:21:43.415Z"
   },
   {
    "duration": 674,
    "start_time": "2021-12-18T21:21:50.433Z"
   },
   {
    "duration": 695,
    "start_time": "2021-12-18T21:22:02.569Z"
   },
   {
    "duration": 755,
    "start_time": "2021-12-18T21:22:27.485Z"
   },
   {
    "duration": 538,
    "start_time": "2021-12-18T21:22:44.163Z"
   },
   {
    "duration": 606,
    "start_time": "2021-12-18T21:22:58.094Z"
   },
   {
    "duration": 851,
    "start_time": "2021-12-18T21:23:43.820Z"
   },
   {
    "duration": 605,
    "start_time": "2021-12-18T21:23:50.370Z"
   },
   {
    "duration": 1111,
    "start_time": "2021-12-18T21:24:52.605Z"
   },
   {
    "duration": 581,
    "start_time": "2021-12-18T21:25:58.178Z"
   },
   {
    "duration": 573,
    "start_time": "2021-12-18T21:26:25.234Z"
   },
   {
    "duration": 598,
    "start_time": "2021-12-18T21:26:40.032Z"
   },
   {
    "duration": 337,
    "start_time": "2021-12-18T21:28:16.902Z"
   },
   {
    "duration": 564,
    "start_time": "2021-12-18T21:28:25.187Z"
   },
   {
    "duration": 6816,
    "start_time": "2021-12-18T21:28:46.600Z"
   },
   {
    "duration": 6234,
    "start_time": "2021-12-18T21:29:14.950Z"
   },
   {
    "duration": 1078,
    "start_time": "2021-12-18T21:31:03.102Z"
   },
   {
    "duration": 517,
    "start_time": "2021-12-18T21:31:39.171Z"
   },
   {
    "duration": 528,
    "start_time": "2021-12-18T21:33:41.477Z"
   },
   {
    "duration": 627,
    "start_time": "2021-12-18T21:35:09.875Z"
   },
   {
    "duration": 854,
    "start_time": "2021-12-18T21:35:58.847Z"
   },
   {
    "duration": 619,
    "start_time": "2021-12-18T21:36:12.275Z"
   },
   {
    "duration": 691,
    "start_time": "2021-12-18T21:36:38.518Z"
   },
   {
    "duration": 1104,
    "start_time": "2021-12-18T21:37:40.704Z"
   },
   {
    "duration": 1265,
    "start_time": "2021-12-18T21:37:47.977Z"
   },
   {
    "duration": 613,
    "start_time": "2021-12-18T21:38:08.548Z"
   },
   {
    "duration": 715,
    "start_time": "2021-12-18T21:39:13.530Z"
   },
   {
    "duration": 583,
    "start_time": "2021-12-18T21:41:12.804Z"
   },
   {
    "duration": 659,
    "start_time": "2021-12-18T21:42:17.383Z"
   },
   {
    "duration": 601,
    "start_time": "2021-12-18T21:42:38.206Z"
   },
   {
    "duration": 1415,
    "start_time": "2021-12-18T21:42:49.045Z"
   },
   {
    "duration": 629,
    "start_time": "2021-12-18T21:42:50.463Z"
   },
   {
    "duration": 18,
    "start_time": "2021-12-18T21:42:51.095Z"
   },
   {
    "duration": 651,
    "start_time": "2021-12-18T21:42:51.115Z"
   },
   {
    "duration": 27,
    "start_time": "2021-12-18T21:42:51.768Z"
   },
   {
    "duration": 4602,
    "start_time": "2021-12-18T21:42:51.798Z"
   },
   {
    "duration": 3,
    "start_time": "2021-12-18T21:42:56.403Z"
   },
   {
    "duration": 75,
    "start_time": "2021-12-18T21:42:56.409Z"
   },
   {
    "duration": 3812,
    "start_time": "2021-12-18T21:42:56.487Z"
   },
   {
    "duration": 118,
    "start_time": "2021-12-18T21:43:00.301Z"
   },
   {
    "duration": 168,
    "start_time": "2021-12-18T21:43:00.423Z"
   },
   {
    "duration": 676,
    "start_time": "2021-12-18T21:43:00.593Z"
   },
   {
    "duration": 27,
    "start_time": "2021-12-18T21:43:01.272Z"
   },
   {
    "duration": 32,
    "start_time": "2021-12-18T21:46:21.330Z"
   },
   {
    "duration": 686,
    "start_time": "2021-12-18T21:46:55.349Z"
   },
   {
    "duration": 412,
    "start_time": "2021-12-18T21:47:00.257Z"
   },
   {
    "duration": 333,
    "start_time": "2021-12-18T21:47:21.664Z"
   },
   {
    "duration": 600,
    "start_time": "2021-12-18T21:47:37.264Z"
   },
   {
    "duration": 28,
    "start_time": "2021-12-18T21:47:40.331Z"
   },
   {
    "duration": 3551,
    "start_time": "2021-12-18T21:49:11.475Z"
   },
   {
    "duration": 1428,
    "start_time": "2021-12-18T21:49:22.446Z"
   },
   {
    "duration": 423,
    "start_time": "2021-12-18T21:49:23.881Z"
   },
   {
    "duration": 18,
    "start_time": "2021-12-18T21:49:24.307Z"
   },
   {
    "duration": 820,
    "start_time": "2021-12-18T21:49:24.328Z"
   },
   {
    "duration": 95,
    "start_time": "2021-12-18T21:49:25.151Z"
   },
   {
    "duration": 4617,
    "start_time": "2021-12-18T21:49:25.249Z"
   },
   {
    "duration": 3,
    "start_time": "2021-12-18T21:49:29.870Z"
   },
   {
    "duration": 79,
    "start_time": "2021-12-18T21:49:29.879Z"
   },
   {
    "duration": 5538,
    "start_time": "2021-12-18T21:49:29.961Z"
   },
   {
    "duration": 125,
    "start_time": "2021-12-18T21:49:35.502Z"
   },
   {
    "duration": 178,
    "start_time": "2021-12-18T21:49:35.629Z"
   },
   {
    "duration": 648,
    "start_time": "2021-12-18T21:49:35.810Z"
   },
   {
    "duration": 31,
    "start_time": "2021-12-18T21:49:36.461Z"
   },
   {
    "duration": 32,
    "start_time": "2021-12-18T21:50:19.838Z"
   },
   {
    "duration": 712,
    "start_time": "2021-12-18T21:53:00.679Z"
   },
   {
    "duration": 705,
    "start_time": "2021-12-18T21:53:11.119Z"
   },
   {
    "duration": 668,
    "start_time": "2021-12-18T21:53:24.700Z"
   },
   {
    "duration": 22,
    "start_time": "2021-12-18T21:53:50.235Z"
   },
   {
    "duration": 25,
    "start_time": "2021-12-18T21:54:16.549Z"
   },
   {
    "duration": 1171,
    "start_time": "2021-12-20T11:00:12.165Z"
   },
   {
    "duration": 436,
    "start_time": "2021-12-20T11:00:13.338Z"
   },
   {
    "duration": 15,
    "start_time": "2021-12-20T11:00:13.776Z"
   },
   {
    "duration": 679,
    "start_time": "2021-12-20T11:00:13.794Z"
   },
   {
    "duration": 18,
    "start_time": "2021-12-20T11:00:14.475Z"
   },
   {
    "duration": 4252,
    "start_time": "2021-12-20T11:00:14.495Z"
   },
   {
    "duration": 2,
    "start_time": "2021-12-20T11:00:18.749Z"
   },
   {
    "duration": 51,
    "start_time": "2021-12-20T11:00:18.753Z"
   },
   {
    "duration": 5627,
    "start_time": "2021-12-20T11:00:18.806Z"
   },
   {
    "duration": 92,
    "start_time": "2021-12-20T11:00:24.435Z"
   },
   {
    "duration": 123,
    "start_time": "2021-12-20T11:00:24.529Z"
   },
   {
    "duration": 483,
    "start_time": "2021-12-20T11:00:24.654Z"
   },
   {
    "duration": 18,
    "start_time": "2021-12-20T11:00:25.139Z"
   },
   {
    "duration": 2409,
    "start_time": "2021-12-20T11:08:03.561Z"
   },
   {
    "duration": 21144,
    "start_time": "2021-12-20T11:10:11.135Z"
   },
   {
    "duration": 2173,
    "start_time": "2021-12-20T11:18:53.518Z"
   },
   {
    "duration": 2449,
    "start_time": "2021-12-20T11:24:08.340Z"
   },
   {
    "duration": 3650,
    "start_time": "2021-12-20T11:26:23.153Z"
   },
   {
    "duration": 2199,
    "start_time": "2021-12-20T11:29:42.332Z"
   },
   {
    "duration": 13048,
    "start_time": "2021-12-20T11:30:00.219Z"
   },
   {
    "duration": 1109,
    "start_time": "2021-12-20T11:38:07.654Z"
   },
   {
    "duration": 2225,
    "start_time": "2021-12-20T11:38:20.815Z"
   },
   {
    "duration": 2312,
    "start_time": "2021-12-20T11:38:37.255Z"
   },
   {
    "duration": 3030,
    "start_time": "2021-12-20T11:38:47.615Z"
   },
   {
    "duration": 2876,
    "start_time": "2021-12-20T11:39:29.057Z"
   },
   {
    "duration": 3043,
    "start_time": "2021-12-20T11:39:47.504Z"
   },
   {
    "duration": 1290,
    "start_time": "2021-12-20T11:55:09.800Z"
   },
   {
    "duration": 417,
    "start_time": "2021-12-20T11:55:11.092Z"
   },
   {
    "duration": 18,
    "start_time": "2021-12-20T11:55:11.512Z"
   },
   {
    "duration": 2424,
    "start_time": "2021-12-20T11:55:11.533Z"
   },
   {
    "duration": 19,
    "start_time": "2021-12-20T11:55:13.958Z"
   },
   {
    "duration": 4973,
    "start_time": "2021-12-20T11:55:13.979Z"
   },
   {
    "duration": 3,
    "start_time": "2021-12-20T11:55:18.953Z"
   },
   {
    "duration": 34,
    "start_time": "2021-12-20T11:55:18.958Z"
   },
   {
    "duration": 5749,
    "start_time": "2021-12-20T11:55:18.994Z"
   },
   {
    "duration": 98,
    "start_time": "2021-12-20T11:55:24.744Z"
   },
   {
    "duration": 128,
    "start_time": "2021-12-20T11:55:24.844Z"
   },
   {
    "duration": 496,
    "start_time": "2021-12-20T11:55:24.974Z"
   },
   {
    "duration": 19,
    "start_time": "2021-12-20T11:55:25.472Z"
   },
   {
    "duration": 5342,
    "start_time": "2021-12-20T11:55:25.506Z"
   },
   {
    "duration": 1337,
    "start_time": "2021-12-20T12:06:11.081Z"
   },
   {
    "duration": 456,
    "start_time": "2021-12-20T12:06:12.420Z"
   },
   {
    "duration": 14,
    "start_time": "2021-12-20T12:06:12.879Z"
   },
   {
    "duration": 1132,
    "start_time": "2021-12-20T12:06:12.895Z"
   },
   {
    "duration": 20,
    "start_time": "2021-12-20T12:06:14.029Z"
   },
   {
    "duration": 4544,
    "start_time": "2021-12-20T12:06:14.051Z"
   },
   {
    "duration": 9,
    "start_time": "2021-12-20T12:06:18.597Z"
   },
   {
    "duration": 35,
    "start_time": "2021-12-20T12:06:18.609Z"
   },
   {
    "duration": 4481,
    "start_time": "2021-12-20T12:06:18.646Z"
   },
   {
    "duration": 97,
    "start_time": "2021-12-20T12:06:23.129Z"
   },
   {
    "duration": 154,
    "start_time": "2021-12-20T12:06:23.228Z"
   },
   {
    "duration": 494,
    "start_time": "2021-12-20T12:06:23.383Z"
   },
   {
    "duration": 18,
    "start_time": "2021-12-20T12:06:23.878Z"
   },
   {
    "duration": 8804,
    "start_time": "2021-12-20T12:06:23.897Z"
   },
   {
    "duration": 4822,
    "start_time": "2021-12-20T12:07:16.717Z"
   },
   {
    "duration": 5437,
    "start_time": "2021-12-20T12:08:40.840Z"
   },
   {
    "duration": 821,
    "start_time": "2021-12-20T12:10:13.567Z"
   },
   {
    "duration": 5056,
    "start_time": "2021-12-20T12:10:20.847Z"
   },
   {
    "duration": 3429,
    "start_time": "2021-12-20T12:16:49.471Z"
   },
   {
    "duration": 2936,
    "start_time": "2021-12-20T12:17:32.784Z"
   },
   {
    "duration": 9,
    "start_time": "2021-12-20T12:18:12.868Z"
   },
   {
    "duration": 20,
    "start_time": "2021-12-20T12:19:08.440Z"
   },
   {
    "duration": 20,
    "start_time": "2021-12-20T12:19:27.426Z"
   },
   {
    "duration": 8,
    "start_time": "2021-12-20T12:20:01.191Z"
   },
   {
    "duration": 280,
    "start_time": "2021-12-20T12:23:00.904Z"
   },
   {
    "duration": 1077,
    "start_time": "2021-12-20T19:50:59.643Z"
   },
   {
    "duration": 301,
    "start_time": "2021-12-20T19:51:00.722Z"
   },
   {
    "duration": 13,
    "start_time": "2021-12-20T19:51:01.025Z"
   },
   {
    "duration": 473,
    "start_time": "2021-12-20T19:51:01.040Z"
   },
   {
    "duration": 19,
    "start_time": "2021-12-20T19:51:01.515Z"
   },
   {
    "duration": 3255,
    "start_time": "2021-12-20T19:51:01.536Z"
   },
   {
    "duration": 2,
    "start_time": "2021-12-20T19:51:04.793Z"
   },
   {
    "duration": 123,
    "start_time": "2021-12-20T19:51:04.797Z"
   },
   {
    "duration": 5743,
    "start_time": "2021-12-20T19:51:04.922Z"
   },
   {
    "duration": 97,
    "start_time": "2021-12-20T19:51:10.666Z"
   },
   {
    "duration": 126,
    "start_time": "2021-12-20T19:51:10.765Z"
   },
   {
    "duration": 484,
    "start_time": "2021-12-20T19:51:10.893Z"
   },
   {
    "duration": 27,
    "start_time": "2021-12-20T19:51:11.379Z"
   },
   {
    "duration": 2858,
    "start_time": "2021-12-20T19:51:11.408Z"
   },
   {
    "duration": 226,
    "start_time": "2021-12-20T19:51:14.268Z"
   },
   {
    "duration": 174,
    "start_time": "2021-12-20T19:52:11.575Z"
   },
   {
    "duration": 414,
    "start_time": "2021-12-20T19:53:59.112Z"
   },
   {
    "duration": 144,
    "start_time": "2021-12-20T19:54:35.925Z"
   },
   {
    "duration": 1036,
    "start_time": "2021-12-20T19:54:56.432Z"
   },
   {
    "duration": 270,
    "start_time": "2021-12-20T19:54:57.470Z"
   },
   {
    "duration": 14,
    "start_time": "2021-12-20T19:54:57.742Z"
   },
   {
    "duration": 463,
    "start_time": "2021-12-20T19:54:57.758Z"
   },
   {
    "duration": 17,
    "start_time": "2021-12-20T19:54:58.223Z"
   },
   {
    "duration": 5387,
    "start_time": "2021-12-20T19:54:58.242Z"
   },
   {
    "duration": 2,
    "start_time": "2021-12-20T19:55:03.631Z"
   },
   {
    "duration": 92,
    "start_time": "2021-12-20T19:55:03.636Z"
   },
   {
    "duration": 6787,
    "start_time": "2021-12-20T19:55:03.730Z"
   },
   {
    "duration": 97,
    "start_time": "2021-12-20T19:55:10.519Z"
   },
   {
    "duration": 131,
    "start_time": "2021-12-20T19:55:10.618Z"
   },
   {
    "duration": 517,
    "start_time": "2021-12-20T19:55:10.751Z"
   },
   {
    "duration": 28,
    "start_time": "2021-12-20T19:55:11.270Z"
   },
   {
    "duration": 2541,
    "start_time": "2021-12-20T19:55:11.300Z"
   },
   {
    "duration": 268,
    "start_time": "2021-12-20T19:55:13.843Z"
   },
   {
    "duration": 346,
    "start_time": "2021-12-20T19:56:59.601Z"
   },
   {
    "duration": 484,
    "start_time": "2021-12-20T20:03:32.373Z"
   },
   {
    "duration": 607,
    "start_time": "2021-12-20T20:03:44.709Z"
   },
   {
    "duration": 749,
    "start_time": "2021-12-20T20:05:49.600Z"
   },
   {
    "duration": 1052,
    "start_time": "2021-12-20T20:06:09.323Z"
   },
   {
    "duration": 329,
    "start_time": "2021-12-20T20:26:15.983Z"
   },
   {
    "duration": 258,
    "start_time": "2021-12-20T20:31:46.315Z"
   },
   {
    "duration": 2991,
    "start_time": "2021-12-20T20:39:02.559Z"
   },
   {
    "duration": 942,
    "start_time": "2021-12-20T20:39:08.742Z"
   },
   {
    "duration": 3450,
    "start_time": "2021-12-20T20:39:10.999Z"
   },
   {
    "duration": 327,
    "start_time": "2021-12-20T20:39:24.650Z"
   },
   {
    "duration": 3783,
    "start_time": "2021-12-20T20:40:01.268Z"
   },
   {
    "duration": 281,
    "start_time": "2021-12-20T20:41:00.499Z"
   },
   {
    "duration": 26,
    "start_time": "2021-12-20T20:41:28.277Z"
   },
   {
    "duration": 24,
    "start_time": "2021-12-20T20:42:16.313Z"
   },
   {
    "duration": 204,
    "start_time": "2021-12-20T20:42:56.960Z"
   },
   {
    "duration": 1107,
    "start_time": "2021-12-20T20:43:25.400Z"
   },
   {
    "duration": 268,
    "start_time": "2021-12-20T20:43:26.509Z"
   },
   {
    "duration": 19,
    "start_time": "2021-12-20T20:43:26.779Z"
   },
   {
    "duration": 1986,
    "start_time": "2021-12-20T20:43:26.801Z"
   },
   {
    "duration": 18,
    "start_time": "2021-12-20T20:43:28.789Z"
   },
   {
    "duration": 5822,
    "start_time": "2021-12-20T20:43:28.808Z"
   },
   {
    "duration": 2,
    "start_time": "2021-12-20T20:43:34.632Z"
   },
   {
    "duration": 41,
    "start_time": "2021-12-20T20:43:34.636Z"
   },
   {
    "duration": 2577,
    "start_time": "2021-12-20T20:43:34.679Z"
   },
   {
    "duration": 106,
    "start_time": "2021-12-20T20:43:37.257Z"
   },
   {
    "duration": 128,
    "start_time": "2021-12-20T20:43:37.364Z"
   },
   {
    "duration": 547,
    "start_time": "2021-12-20T20:43:37.494Z"
   },
   {
    "duration": 20,
    "start_time": "2021-12-20T20:43:38.043Z"
   },
   {
    "duration": 2662,
    "start_time": "2021-12-20T20:43:38.064Z"
   },
   {
    "duration": 182,
    "start_time": "2021-12-20T20:43:40.728Z"
   },
   {
    "duration": 171,
    "start_time": "2021-12-20T20:43:40.911Z"
   },
   {
    "duration": 11,
    "start_time": "2021-12-20T20:45:23.322Z"
   },
   {
    "duration": 323,
    "start_time": "2021-12-20T20:46:22.182Z"
   },
   {
    "duration": 251,
    "start_time": "2021-12-20T20:46:33.219Z"
   },
   {
    "duration": 219,
    "start_time": "2021-12-20T20:46:39.263Z"
   },
   {
    "duration": 231,
    "start_time": "2021-12-20T20:49:39.343Z"
   },
   {
    "duration": 48,
    "start_time": "2021-12-20T20:49:50.063Z"
   },
   {
    "duration": 569,
    "start_time": "2021-12-20T20:50:11.276Z"
   },
   {
    "duration": 246,
    "start_time": "2021-12-20T20:50:17.268Z"
   },
   {
    "duration": 410,
    "start_time": "2021-12-20T20:52:22.730Z"
   },
   {
    "duration": 62,
    "start_time": "2021-12-20T20:53:59.139Z"
   },
   {
    "duration": 34,
    "start_time": "2021-12-20T20:54:47.371Z"
   },
   {
    "duration": 15,
    "start_time": "2021-12-20T20:55:48.828Z"
   },
   {
    "duration": 41,
    "start_time": "2021-12-20T20:56:48.036Z"
   },
   {
    "duration": 41,
    "start_time": "2021-12-20T20:59:36.449Z"
   },
   {
    "duration": 255,
    "start_time": "2021-12-20T20:59:45.647Z"
   },
   {
    "duration": 784,
    "start_time": "2021-12-20T21:14:53.640Z"
   },
   {
    "duration": 622,
    "start_time": "2021-12-20T21:15:08.409Z"
   },
   {
    "duration": 668,
    "start_time": "2021-12-20T21:16:55.592Z"
   },
   {
    "duration": 228,
    "start_time": "2021-12-20T21:17:42.176Z"
   },
   {
    "duration": 236,
    "start_time": "2021-12-20T21:17:55.188Z"
   },
   {
    "duration": 123,
    "start_time": "2021-12-20T21:18:14.415Z"
   },
   {
    "duration": 123,
    "start_time": "2021-12-20T21:18:49.360Z"
   },
   {
    "duration": 2613,
    "start_time": "2021-12-20T21:20:12.666Z"
   },
   {
    "duration": 2658,
    "start_time": "2021-12-20T21:20:39.596Z"
   },
   {
    "duration": 2505,
    "start_time": "2021-12-20T21:20:55.128Z"
   },
   {
    "duration": 6016,
    "start_time": "2021-12-20T21:22:26.797Z"
   },
   {
    "duration": 6171,
    "start_time": "2021-12-20T21:22:50.371Z"
   },
   {
    "duration": 2480,
    "start_time": "2021-12-20T21:22:58.881Z"
   },
   {
    "duration": 2504,
    "start_time": "2021-12-20T21:26:54.385Z"
   },
   {
    "duration": 2730,
    "start_time": "2021-12-20T21:30:18.244Z"
   },
   {
    "duration": 2672,
    "start_time": "2021-12-20T21:30:52.120Z"
   },
   {
    "duration": 2668,
    "start_time": "2021-12-20T21:32:36.623Z"
   },
   {
    "duration": 2681,
    "start_time": "2021-12-20T21:33:25.749Z"
   },
   {
    "duration": 301,
    "start_time": "2021-12-20T21:34:23.165Z"
   },
   {
    "duration": 4,
    "start_time": "2021-12-20T21:34:28.164Z"
   },
   {
    "duration": 1077,
    "start_time": "2021-12-20T21:34:49.402Z"
   },
   {
    "duration": 303,
    "start_time": "2021-12-20T21:34:50.481Z"
   },
   {
    "duration": 13,
    "start_time": "2021-12-20T21:34:50.786Z"
   },
   {
    "duration": 449,
    "start_time": "2021-12-20T21:34:50.801Z"
   },
   {
    "duration": 19,
    "start_time": "2021-12-20T21:34:51.252Z"
   },
   {
    "duration": 4123,
    "start_time": "2021-12-20T21:34:51.273Z"
   },
   {
    "duration": 2,
    "start_time": "2021-12-20T21:34:55.398Z"
   },
   {
    "duration": 34,
    "start_time": "2021-12-20T21:34:55.403Z"
   },
   {
    "duration": 3297,
    "start_time": "2021-12-20T21:34:55.439Z"
   },
   {
    "duration": 98,
    "start_time": "2021-12-20T21:34:58.738Z"
   },
   {
    "duration": 123,
    "start_time": "2021-12-20T21:34:58.837Z"
   },
   {
    "duration": 511,
    "start_time": "2021-12-20T21:34:58.962Z"
   },
   {
    "duration": 27,
    "start_time": "2021-12-20T21:34:59.475Z"
   },
   {
    "duration": 2495,
    "start_time": "2021-12-20T21:34:59.503Z"
   },
   {
    "duration": 205,
    "start_time": "2021-12-20T21:35:02.000Z"
   },
   {
    "duration": 3,
    "start_time": "2021-12-20T21:35:02.207Z"
   },
   {
    "duration": 259,
    "start_time": "2021-12-20T21:36:59.544Z"
   },
   {
    "duration": 732,
    "start_time": "2021-12-20T21:38:13.141Z"
   },
   {
    "duration": 769,
    "start_time": "2021-12-20T21:38:19.556Z"
   },
   {
    "duration": 1126,
    "start_time": "2021-12-20T21:38:31.533Z"
   },
   {
    "duration": 1264,
    "start_time": "2021-12-20T21:38:46.837Z"
   },
   {
    "duration": 1031,
    "start_time": "2021-12-20T21:38:55.612Z"
   },
   {
    "duration": 243,
    "start_time": "2021-12-20T21:38:56.645Z"
   },
   {
    "duration": 13,
    "start_time": "2021-12-20T21:38:56.890Z"
   },
   {
    "duration": 582,
    "start_time": "2021-12-20T21:38:56.904Z"
   },
   {
    "duration": 18,
    "start_time": "2021-12-20T21:38:57.488Z"
   },
   {
    "duration": 3679,
    "start_time": "2021-12-20T21:38:57.508Z"
   },
   {
    "duration": 2,
    "start_time": "2021-12-20T21:39:01.189Z"
   },
   {
    "duration": 50,
    "start_time": "2021-12-20T21:39:01.193Z"
   },
   {
    "duration": 3340,
    "start_time": "2021-12-20T21:39:01.245Z"
   },
   {
    "duration": 96,
    "start_time": "2021-12-20T21:39:04.587Z"
   },
   {
    "duration": 129,
    "start_time": "2021-12-20T21:39:04.685Z"
   },
   {
    "duration": 487,
    "start_time": "2021-12-20T21:39:04.816Z"
   },
   {
    "duration": 19,
    "start_time": "2021-12-20T21:39:05.304Z"
   },
   {
    "duration": 2760,
    "start_time": "2021-12-20T21:39:05.324Z"
   },
   {
    "duration": 179,
    "start_time": "2021-12-20T21:39:08.086Z"
   },
   {
    "duration": 3,
    "start_time": "2021-12-20T21:39:08.267Z"
   },
   {
    "duration": 182,
    "start_time": "2021-12-20T21:48:04.135Z"
   },
   {
    "duration": 459,
    "start_time": "2021-12-20T21:48:32.271Z"
   },
   {
    "duration": 218,
    "start_time": "2021-12-20T21:49:56.488Z"
   },
   {
    "duration": 43,
    "start_time": "2021-12-20T21:51:04.291Z"
   },
   {
    "duration": 71,
    "start_time": "2021-12-20T21:51:16.851Z"
   },
   {
    "duration": 6010,
    "start_time": "2021-12-20T21:51:35.492Z"
   },
   {
    "duration": 40,
    "start_time": "2021-12-20T21:51:49.484Z"
   },
   {
    "duration": 39,
    "start_time": "2021-12-20T21:52:00.553Z"
   },
   {
    "duration": 36,
    "start_time": "2021-12-20T21:52:27.777Z"
   },
   {
    "duration": 38,
    "start_time": "2021-12-20T21:56:52.743Z"
   },
   {
    "duration": 130,
    "start_time": "2021-12-20T21:57:40.610Z"
   },
   {
    "duration": 61,
    "start_time": "2021-12-20T21:58:08.201Z"
   },
   {
    "duration": 60,
    "start_time": "2021-12-20T21:58:20.895Z"
   },
   {
    "duration": 998,
    "start_time": "2021-12-20T21:58:44.260Z"
   },
   {
    "duration": 29,
    "start_time": "2021-12-20T21:59:50.910Z"
   },
   {
    "duration": 27,
    "start_time": "2021-12-20T22:00:08.606Z"
   },
   {
    "duration": 27,
    "start_time": "2021-12-20T22:00:14.179Z"
   },
   {
    "duration": 26,
    "start_time": "2021-12-20T22:03:36.774Z"
   },
   {
    "duration": 44,
    "start_time": "2021-12-20T22:04:02.645Z"
   },
   {
    "duration": 255,
    "start_time": "2021-12-20T22:04:09.908Z"
   },
   {
    "duration": 30,
    "start_time": "2021-12-20T22:04:18.649Z"
   },
   {
    "duration": 27,
    "start_time": "2021-12-20T22:04:27.531Z"
   },
   {
    "duration": 59,
    "start_time": "2021-12-20T22:04:44.755Z"
   },
   {
    "duration": 31,
    "start_time": "2021-12-20T22:04:52.648Z"
   },
   {
    "duration": 1551,
    "start_time": "2021-12-22T15:21:48.850Z"
   },
   {
    "duration": 613,
    "start_time": "2021-12-22T15:21:50.404Z"
   },
   {
    "duration": 21,
    "start_time": "2021-12-22T15:21:51.020Z"
   },
   {
    "duration": 1255,
    "start_time": "2021-12-22T15:21:51.044Z"
   },
   {
    "duration": 42,
    "start_time": "2021-12-22T15:21:52.302Z"
   },
   {
    "duration": 6317,
    "start_time": "2021-12-22T15:21:52.347Z"
   },
   {
    "duration": 3,
    "start_time": "2021-12-22T15:21:58.667Z"
   },
   {
    "duration": 78,
    "start_time": "2021-12-22T15:21:58.676Z"
   },
   {
    "duration": 11156,
    "start_time": "2021-12-22T15:21:58.757Z"
   },
   {
    "duration": 161,
    "start_time": "2021-12-22T15:22:09.916Z"
   },
   {
    "duration": 174,
    "start_time": "2021-12-22T15:22:10.079Z"
   },
   {
    "duration": 745,
    "start_time": "2021-12-22T15:22:10.255Z"
   },
   {
    "duration": 33,
    "start_time": "2021-12-22T15:22:11.003Z"
   },
   {
    "duration": 4249,
    "start_time": "2021-12-22T15:22:11.038Z"
   },
   {
    "duration": 278,
    "start_time": "2021-12-22T15:22:15.289Z"
   },
   {
    "duration": 242,
    "start_time": "2021-12-22T15:22:15.570Z"
   },
   {
    "duration": 24,
    "start_time": "2021-12-22T15:28:47.308Z"
   },
   {
    "duration": 37,
    "start_time": "2021-12-22T15:28:57.396Z"
   },
   {
    "duration": 489,
    "start_time": "2021-12-22T15:31:02.747Z"
   },
   {
    "duration": 73,
    "start_time": "2021-12-22T15:35:53.077Z"
   },
   {
    "duration": 170,
    "start_time": "2021-12-22T15:36:26.728Z"
   },
   {
    "duration": 73,
    "start_time": "2021-12-22T15:36:54.797Z"
   },
   {
    "duration": 390,
    "start_time": "2021-12-22T15:37:27.028Z"
   },
   {
    "duration": 161,
    "start_time": "2021-12-22T15:38:22.251Z"
   },
   {
    "duration": 173,
    "start_time": "2021-12-22T15:39:57.563Z"
   },
   {
    "duration": 641,
    "start_time": "2021-12-22T15:40:37.196Z"
   },
   {
    "duration": 304,
    "start_time": "2021-12-22T15:41:33.887Z"
   },
   {
    "duration": 279,
    "start_time": "2021-12-22T15:43:42.583Z"
   },
   {
    "duration": 257,
    "start_time": "2021-12-22T15:44:07.002Z"
   },
   {
    "duration": 714,
    "start_time": "2021-12-22T15:45:01.255Z"
   },
   {
    "duration": 166,
    "start_time": "2021-12-22T15:45:17.692Z"
   },
   {
    "duration": 170,
    "start_time": "2021-12-22T15:45:46.720Z"
   },
   {
    "duration": 194,
    "start_time": "2021-12-22T15:46:05.873Z"
   },
   {
    "duration": 260,
    "start_time": "2021-12-22T15:46:30.682Z"
   },
   {
    "duration": 109,
    "start_time": "2021-12-22T15:47:17.699Z"
   },
   {
    "duration": 107,
    "start_time": "2021-12-22T15:47:27.229Z"
   },
   {
    "duration": 1427,
    "start_time": "2021-12-22T15:47:39.057Z"
   },
   {
    "duration": 777,
    "start_time": "2021-12-22T15:47:40.487Z"
   },
   {
    "duration": 19,
    "start_time": "2021-12-22T15:47:41.267Z"
   },
   {
    "duration": 1151,
    "start_time": "2021-12-22T15:47:41.288Z"
   },
   {
    "duration": 28,
    "start_time": "2021-12-22T15:47:42.442Z"
   },
   {
    "duration": 5711,
    "start_time": "2021-12-22T15:47:42.473Z"
   },
   {
    "duration": 3,
    "start_time": "2021-12-22T15:47:48.187Z"
   },
   {
    "duration": 77,
    "start_time": "2021-12-22T15:47:48.194Z"
   },
   {
    "duration": 3275,
    "start_time": "2021-12-22T15:47:48.274Z"
   },
   {
    "duration": 121,
    "start_time": "2021-12-22T15:47:51.552Z"
   },
   {
    "duration": 160,
    "start_time": "2021-12-22T15:47:51.676Z"
   },
   {
    "duration": 726,
    "start_time": "2021-12-22T15:47:51.839Z"
   },
   {
    "duration": 25,
    "start_time": "2021-12-22T15:47:52.567Z"
   },
   {
    "duration": 4424,
    "start_time": "2021-12-22T15:47:52.595Z"
   },
   {
    "duration": 289,
    "start_time": "2021-12-22T15:47:57.022Z"
   },
   {
    "duration": 194,
    "start_time": "2021-12-22T15:47:57.314Z"
   },
   {
    "duration": 295,
    "start_time": "2021-12-22T15:47:57.511Z"
   },
   {
    "duration": 1504,
    "start_time": "2021-12-22T15:49:07.119Z"
   },
   {
    "duration": 532,
    "start_time": "2021-12-22T15:49:08.626Z"
   },
   {
    "duration": 21,
    "start_time": "2021-12-22T15:49:09.161Z"
   },
   {
    "duration": 893,
    "start_time": "2021-12-22T15:49:09.184Z"
   },
   {
    "duration": 27,
    "start_time": "2021-12-22T15:49:10.081Z"
   },
   {
    "duration": 6145,
    "start_time": "2021-12-22T15:49:10.124Z"
   },
   {
    "duration": 3,
    "start_time": "2021-12-22T15:49:16.271Z"
   },
   {
    "duration": 74,
    "start_time": "2021-12-22T15:49:16.277Z"
   },
   {
    "duration": 3838,
    "start_time": "2021-12-22T15:49:16.354Z"
   },
   {
    "duration": 129,
    "start_time": "2021-12-22T15:49:20.195Z"
   },
   {
    "duration": 178,
    "start_time": "2021-12-22T15:49:20.327Z"
   },
   {
    "duration": 739,
    "start_time": "2021-12-22T15:49:20.508Z"
   },
   {
    "duration": 27,
    "start_time": "2021-12-22T15:49:21.250Z"
   },
   {
    "duration": 4252,
    "start_time": "2021-12-22T15:49:21.280Z"
   },
   {
    "duration": 276,
    "start_time": "2021-12-22T15:49:25.534Z"
   },
   {
    "duration": 196,
    "start_time": "2021-12-22T15:49:25.812Z"
   },
   {
    "duration": 176,
    "start_time": "2021-12-22T15:49:26.011Z"
   },
   {
    "duration": 89,
    "start_time": "2021-12-22T15:50:31.202Z"
   },
   {
    "duration": 554,
    "start_time": "2021-12-22T15:50:43.241Z"
   },
   {
    "duration": 386,
    "start_time": "2021-12-22T15:51:05.973Z"
   },
   {
    "duration": 120,
    "start_time": "2021-12-22T15:51:14.597Z"
   },
   {
    "duration": 121,
    "start_time": "2021-12-22T15:51:24.384Z"
   },
   {
    "duration": 1489,
    "start_time": "2021-12-22T15:51:48.582Z"
   },
   {
    "duration": 450,
    "start_time": "2021-12-22T15:51:50.075Z"
   },
   {
    "duration": 29,
    "start_time": "2021-12-22T15:51:50.528Z"
   },
   {
    "duration": 942,
    "start_time": "2021-12-22T15:51:50.560Z"
   },
   {
    "duration": 41,
    "start_time": "2021-12-22T15:51:51.505Z"
   },
   {
    "duration": 8009,
    "start_time": "2021-12-22T15:51:51.549Z"
   },
   {
    "duration": 5,
    "start_time": "2021-12-22T15:51:59.561Z"
   },
   {
    "duration": 106,
    "start_time": "2021-12-22T15:51:59.570Z"
   },
   {
    "duration": 9458,
    "start_time": "2021-12-22T15:51:59.679Z"
   },
   {
    "duration": 134,
    "start_time": "2021-12-22T15:52:09.140Z"
   },
   {
    "duration": 183,
    "start_time": "2021-12-22T15:52:09.277Z"
   },
   {
    "duration": 802,
    "start_time": "2021-12-22T15:52:09.463Z"
   },
   {
    "duration": 27,
    "start_time": "2021-12-22T15:52:10.267Z"
   },
   {
    "duration": 4172,
    "start_time": "2021-12-22T15:52:10.297Z"
   },
   {
    "duration": 269,
    "start_time": "2021-12-22T15:52:14.472Z"
   },
   {
    "duration": 202,
    "start_time": "2021-12-22T15:52:14.744Z"
   },
   {
    "duration": 84,
    "start_time": "2021-12-22T15:52:14.950Z"
   },
   {
    "duration": 66,
    "start_time": "2021-12-22T15:52:35.444Z"
   },
   {
    "duration": 1483,
    "start_time": "2021-12-22T15:52:51.208Z"
   },
   {
    "duration": 512,
    "start_time": "2021-12-22T15:52:52.693Z"
   },
   {
    "duration": 25,
    "start_time": "2021-12-22T15:52:53.209Z"
   },
   {
    "duration": 838,
    "start_time": "2021-12-22T15:52:53.237Z"
   },
   {
    "duration": 49,
    "start_time": "2021-12-22T15:52:54.077Z"
   },
   {
    "duration": 6564,
    "start_time": "2021-12-22T15:52:54.129Z"
   },
   {
    "duration": 4,
    "start_time": "2021-12-22T15:53:00.695Z"
   },
   {
    "duration": 68,
    "start_time": "2021-12-22T15:53:00.702Z"
   },
   {
    "duration": 10907,
    "start_time": "2021-12-22T15:53:00.774Z"
   },
   {
    "duration": 131,
    "start_time": "2021-12-22T15:53:11.684Z"
   },
   {
    "duration": 181,
    "start_time": "2021-12-22T15:53:11.822Z"
   },
   {
    "duration": 721,
    "start_time": "2021-12-22T15:53:12.005Z"
   },
   {
    "duration": 25,
    "start_time": "2021-12-22T15:53:12.728Z"
   },
   {
    "duration": 4378,
    "start_time": "2021-12-22T15:53:12.755Z"
   },
   {
    "duration": 290,
    "start_time": "2021-12-22T15:53:17.136Z"
   },
   {
    "duration": 210,
    "start_time": "2021-12-22T15:53:17.429Z"
   },
   {
    "duration": 86,
    "start_time": "2021-12-22T15:53:17.642Z"
   },
   {
    "duration": 27,
    "start_time": "2021-12-22T15:53:55.976Z"
   },
   {
    "duration": 701,
    "start_time": "2021-12-22T15:56:03.513Z"
   },
   {
    "duration": 857,
    "start_time": "2021-12-22T15:56:39.697Z"
   },
   {
    "duration": 181,
    "start_time": "2021-12-22T15:57:13.883Z"
   },
   {
    "duration": 385,
    "start_time": "2021-12-22T16:01:58.594Z"
   },
   {
    "duration": 1556,
    "start_time": "2021-12-22T16:04:38.699Z"
   },
   {
    "duration": 407,
    "start_time": "2021-12-22T16:04:40.258Z"
   },
   {
    "duration": 22,
    "start_time": "2021-12-22T16:04:40.668Z"
   },
   {
    "duration": 723,
    "start_time": "2021-12-22T16:04:40.692Z"
   },
   {
    "duration": 26,
    "start_time": "2021-12-22T16:04:41.418Z"
   },
   {
    "duration": 4436,
    "start_time": "2021-12-22T16:04:41.446Z"
   },
   {
    "duration": 4,
    "start_time": "2021-12-22T16:04:45.885Z"
   },
   {
    "duration": 70,
    "start_time": "2021-12-22T16:04:45.892Z"
   },
   {
    "duration": 6007,
    "start_time": "2021-12-22T16:04:45.965Z"
   },
   {
    "duration": 206,
    "start_time": "2021-12-22T16:04:51.975Z"
   },
   {
    "duration": 309,
    "start_time": "2021-12-22T16:04:52.184Z"
   },
   {
    "duration": 1062,
    "start_time": "2021-12-22T16:04:52.496Z"
   },
   {
    "duration": 25,
    "start_time": "2021-12-22T16:04:53.561Z"
   },
   {
    "duration": 4987,
    "start_time": "2021-12-22T16:04:53.588Z"
   },
   {
    "duration": 294,
    "start_time": "2021-12-22T16:04:58.578Z"
   },
   {
    "duration": 9842,
    "start_time": "2021-12-22T16:04:58.874Z"
   },
   {
    "duration": -2647,
    "start_time": "2021-12-22T16:05:11.366Z"
   },
   {
    "duration": 8880,
    "start_time": "2021-12-22T16:05:53.943Z"
   },
   {
    "duration": 195,
    "start_time": "2021-12-22T16:06:20.128Z"
   },
   {
    "duration": 8316,
    "start_time": "2021-12-22T16:07:05.906Z"
   },
   {
    "duration": 147,
    "start_time": "2021-12-22T16:07:16.366Z"
   },
   {
    "duration": 122,
    "start_time": "2021-12-22T16:35:16.023Z"
   },
   {
    "duration": 104,
    "start_time": "2021-12-22T16:35:41.781Z"
   },
   {
    "duration": 142,
    "start_time": "2021-12-22T16:36:12.945Z"
   },
   {
    "duration": 142,
    "start_time": "2021-12-22T16:36:49.158Z"
   },
   {
    "duration": 236,
    "start_time": "2021-12-22T16:37:07.392Z"
   },
   {
    "duration": 162,
    "start_time": "2021-12-22T16:37:42.722Z"
   },
   {
    "duration": 159,
    "start_time": "2021-12-22T16:38:31.635Z"
   },
   {
    "duration": 165,
    "start_time": "2021-12-22T16:39:11.677Z"
   },
   {
    "duration": 105,
    "start_time": "2021-12-22T16:47:02.546Z"
   },
   {
    "duration": 172,
    "start_time": "2021-12-22T16:47:22.468Z"
   },
   {
    "duration": 174,
    "start_time": "2021-12-22T16:47:59.574Z"
   },
   {
    "duration": 1530,
    "start_time": "2021-12-22T16:48:51.047Z"
   },
   {
    "duration": 605,
    "start_time": "2021-12-22T16:48:52.580Z"
   },
   {
    "duration": 26,
    "start_time": "2021-12-22T16:48:53.188Z"
   },
   {
    "duration": 991,
    "start_time": "2021-12-22T16:48:53.218Z"
   },
   {
    "duration": 26,
    "start_time": "2021-12-22T16:48:54.212Z"
   },
   {
    "duration": 4576,
    "start_time": "2021-12-22T16:48:54.241Z"
   },
   {
    "duration": 5,
    "start_time": "2021-12-22T16:48:58.819Z"
   },
   {
    "duration": 58,
    "start_time": "2021-12-22T16:48:58.828Z"
   },
   {
    "duration": 6082,
    "start_time": "2021-12-22T16:48:58.889Z"
   },
   {
    "duration": 134,
    "start_time": "2021-12-22T16:49:04.973Z"
   },
   {
    "duration": 179,
    "start_time": "2021-12-22T16:49:05.110Z"
   },
   {
    "duration": 733,
    "start_time": "2021-12-22T16:49:05.291Z"
   },
   {
    "duration": 25,
    "start_time": "2021-12-22T16:49:06.027Z"
   },
   {
    "duration": 4306,
    "start_time": "2021-12-22T16:49:06.054Z"
   },
   {
    "duration": 273,
    "start_time": "2021-12-22T16:49:10.362Z"
   },
   {
    "duration": 283,
    "start_time": "2021-12-22T16:49:10.638Z"
   },
   {
    "duration": 170,
    "start_time": "2021-12-22T16:56:18.441Z"
   },
   {
    "duration": 8630,
    "start_time": "2021-12-22T16:57:23.698Z"
   },
   {
    "duration": 1437,
    "start_time": "2021-12-22T16:57:36.561Z"
   },
   {
    "duration": 449,
    "start_time": "2021-12-22T16:57:38.001Z"
   },
   {
    "duration": 19,
    "start_time": "2021-12-22T16:57:38.454Z"
   },
   {
    "duration": 820,
    "start_time": "2021-12-22T16:57:38.476Z"
   },
   {
    "duration": 40,
    "start_time": "2021-12-22T16:57:39.299Z"
   },
   {
    "duration": 4388,
    "start_time": "2021-12-22T16:57:39.341Z"
   },
   {
    "duration": 3,
    "start_time": "2021-12-22T16:57:43.732Z"
   },
   {
    "duration": 74,
    "start_time": "2021-12-22T16:57:43.738Z"
   },
   {
    "duration": 7720,
    "start_time": "2021-12-22T16:57:43.815Z"
   },
   {
    "duration": 126,
    "start_time": "2021-12-22T16:57:51.538Z"
   },
   {
    "duration": 179,
    "start_time": "2021-12-22T16:57:51.666Z"
   },
   {
    "duration": 731,
    "start_time": "2021-12-22T16:57:51.848Z"
   },
   {
    "duration": 27,
    "start_time": "2021-12-22T16:57:52.581Z"
   },
   {
    "duration": 4131,
    "start_time": "2021-12-22T16:57:52.624Z"
   },
   {
    "duration": 283,
    "start_time": "2021-12-22T16:57:56.757Z"
   },
   {
    "duration": 482,
    "start_time": "2021-12-22T16:57:57.043Z"
   },
   {
    "duration": 540,
    "start_time": "2021-12-22T16:59:01.089Z"
   },
   {
    "duration": 3342,
    "start_time": "2021-12-22T16:59:07.592Z"
   },
   {
    "duration": 2391,
    "start_time": "2021-12-22T16:59:10.937Z"
   },
   {
    "duration": 18,
    "start_time": "2021-12-22T16:59:13.331Z"
   },
   {
    "duration": 715,
    "start_time": "2021-12-22T16:59:13.352Z"
   },
   {
    "duration": 29,
    "start_time": "2021-12-22T16:59:14.070Z"
   },
   {
    "duration": 5367,
    "start_time": "2021-12-22T16:59:14.101Z"
   },
   {
    "duration": 3,
    "start_time": "2021-12-22T16:59:19.470Z"
   },
   {
    "duration": 76,
    "start_time": "2021-12-22T16:59:19.479Z"
   },
   {
    "duration": 4090,
    "start_time": "2021-12-22T16:59:19.559Z"
   },
   {
    "duration": 133,
    "start_time": "2021-12-22T16:59:23.652Z"
   },
   {
    "duration": 179,
    "start_time": "2021-12-22T16:59:23.788Z"
   },
   {
    "duration": 708,
    "start_time": "2021-12-22T16:59:23.970Z"
   },
   {
    "duration": 25,
    "start_time": "2021-12-22T16:59:24.680Z"
   },
   {
    "duration": 4127,
    "start_time": "2021-12-22T16:59:24.707Z"
   },
   {
    "duration": 456,
    "start_time": "2021-12-22T16:59:28.836Z"
   },
   {
    "duration": 388,
    "start_time": "2021-12-22T16:59:29.295Z"
   },
   {
    "duration": 455,
    "start_time": "2021-12-22T18:12:29.297Z"
   },
   {
    "duration": 350,
    "start_time": "2021-12-22T18:12:34.031Z"
   },
   {
    "duration": 6,
    "start_time": "2021-12-22T18:12:51.646Z"
   },
   {
    "duration": 329,
    "start_time": "2021-12-22T18:13:07.701Z"
   },
   {
    "duration": 308,
    "start_time": "2021-12-22T18:13:11.748Z"
   },
   {
    "duration": 506,
    "start_time": "2021-12-22T18:13:17.903Z"
   },
   {
    "duration": 324,
    "start_time": "2021-12-22T18:13:20.127Z"
   },
   {
    "duration": 105,
    "start_time": "2021-12-22T18:13:24.835Z"
   },
   {
    "duration": 1726,
    "start_time": "2021-12-22T18:17:57.737Z"
   },
   {
    "duration": 537,
    "start_time": "2021-12-22T18:17:59.466Z"
   },
   {
    "duration": 21,
    "start_time": "2021-12-22T18:18:00.006Z"
   },
   {
    "duration": 810,
    "start_time": "2021-12-22T18:18:00.031Z"
   },
   {
    "duration": 32,
    "start_time": "2021-12-22T18:18:00.843Z"
   },
   {
    "duration": 6991,
    "start_time": "2021-12-22T18:18:00.878Z"
   },
   {
    "duration": 4,
    "start_time": "2021-12-22T18:18:07.873Z"
   },
   {
    "duration": 108,
    "start_time": "2021-12-22T18:18:07.882Z"
   },
   {
    "duration": 7061,
    "start_time": "2021-12-22T18:18:07.995Z"
   },
   {
    "duration": 101,
    "start_time": "2021-12-22T18:18:15.058Z"
   },
   {
    "duration": -2459,
    "start_time": "2021-12-22T18:18:17.621Z"
   },
   {
    "duration": -2499,
    "start_time": "2021-12-22T18:18:17.662Z"
   },
   {
    "duration": -2506,
    "start_time": "2021-12-22T18:18:17.671Z"
   },
   {
    "duration": -2512,
    "start_time": "2021-12-22T18:18:17.678Z"
   },
   {
    "duration": -2519,
    "start_time": "2021-12-22T18:18:17.687Z"
   },
   {
    "duration": -2542,
    "start_time": "2021-12-22T18:18:17.713Z"
   },
   {
    "duration": -2549,
    "start_time": "2021-12-22T18:18:17.722Z"
   },
   {
    "duration": -2555,
    "start_time": "2021-12-22T18:18:17.731Z"
   },
   {
    "duration": 119,
    "start_time": "2021-12-22T18:31:45.112Z"
   },
   {
    "duration": 109,
    "start_time": "2021-12-22T18:31:54.454Z"
   },
   {
    "duration": 194,
    "start_time": "2021-12-22T18:31:55.195Z"
   },
   {
    "duration": 697,
    "start_time": "2021-12-22T18:31:55.812Z"
   },
   {
    "duration": 31,
    "start_time": "2021-12-22T18:31:56.512Z"
   },
   {
    "duration": 4583,
    "start_time": "2021-12-22T18:31:59.360Z"
   },
   {
    "duration": 562,
    "start_time": "2021-12-22T18:32:04.608Z"
   },
   {
    "duration": 416,
    "start_time": "2021-12-22T18:32:07.791Z"
   },
   {
    "duration": 102,
    "start_time": "2021-12-22T18:32:16.836Z"
   },
   {
    "duration": 100,
    "start_time": "2021-12-22T18:34:03.420Z"
   },
   {
    "duration": 508,
    "start_time": "2021-12-22T18:34:19.465Z"
   },
   {
    "duration": 454,
    "start_time": "2021-12-22T18:35:09.893Z"
   },
   {
    "duration": 23,
    "start_time": "2021-12-22T18:37:42.380Z"
   },
   {
    "duration": 105,
    "start_time": "2021-12-22T18:38:11.229Z"
   },
   {
    "duration": 301,
    "start_time": "2021-12-22T18:38:16.474Z"
   },
   {
    "duration": 301,
    "start_time": "2021-12-22T18:38:32.933Z"
   },
   {
    "duration": 310,
    "start_time": "2021-12-22T18:39:23.691Z"
   },
   {
    "duration": 298,
    "start_time": "2021-12-22T18:41:51.266Z"
   },
   {
    "duration": 6,
    "start_time": "2021-12-22T18:42:22.046Z"
   },
   {
    "duration": 71,
    "start_time": "2021-12-22T18:43:49.635Z"
   },
   {
    "duration": 111,
    "start_time": "2021-12-22T18:44:28.883Z"
   },
   {
    "duration": 119,
    "start_time": "2021-12-22T18:44:38.935Z"
   },
   {
    "duration": 69,
    "start_time": "2021-12-22T18:44:49.219Z"
   },
   {
    "duration": 316,
    "start_time": "2021-12-22T18:45:32.704Z"
   },
   {
    "duration": 303,
    "start_time": "2021-12-22T18:45:56.527Z"
   },
   {
    "duration": 335,
    "start_time": "2021-12-22T18:46:16.656Z"
   },
   {
    "duration": 66,
    "start_time": "2021-12-22T18:46:23.404Z"
   },
   {
    "duration": 100,
    "start_time": "2021-12-22T19:35:32.005Z"
   },
   {
    "duration": 4258,
    "start_time": "2021-12-22T19:35:38.345Z"
   },
   {
    "duration": 98,
    "start_time": "2021-12-22T19:36:04.173Z"
   },
   {
    "duration": 96,
    "start_time": "2021-12-22T19:36:16.086Z"
   },
   {
    "duration": 67,
    "start_time": "2021-12-22T19:36:28.187Z"
   },
   {
    "duration": 88,
    "start_time": "2021-12-22T19:36:40.450Z"
   },
   {
    "duration": 351,
    "start_time": "2021-12-22T19:53:27.441Z"
   },
   {
    "duration": 401,
    "start_time": "2021-12-22T19:54:27.814Z"
   },
   {
    "duration": 115,
    "start_time": "2021-12-22T19:55:10.426Z"
   },
   {
    "duration": 372,
    "start_time": "2021-12-22T19:56:11.126Z"
   },
   {
    "duration": 94,
    "start_time": "2021-12-22T19:58:43.882Z"
   },
   {
    "duration": 389,
    "start_time": "2021-12-22T19:59:20.149Z"
   },
   {
    "duration": 86,
    "start_time": "2021-12-22T19:59:28.857Z"
   },
   {
    "duration": 113,
    "start_time": "2021-12-22T19:59:48.116Z"
   },
   {
    "duration": 141,
    "start_time": "2021-12-22T20:00:10.854Z"
   },
   {
    "duration": 373,
    "start_time": "2021-12-22T20:01:29.552Z"
   },
   {
    "duration": 406,
    "start_time": "2021-12-22T20:02:33.578Z"
   },
   {
    "duration": 87,
    "start_time": "2021-12-22T20:05:02.567Z"
   },
   {
    "duration": 70,
    "start_time": "2021-12-22T20:05:27.104Z"
   },
   {
    "duration": 2770,
    "start_time": "2021-12-22T20:06:25.557Z"
   },
   {
    "duration": 4021,
    "start_time": "2021-12-22T20:07:26.488Z"
   },
   {
    "duration": 209,
    "start_time": "2021-12-22T20:07:49.007Z"
   },
   {
    "duration": 1565,
    "start_time": "2021-12-22T20:08:01.181Z"
   },
   {
    "duration": 49,
    "start_time": "2021-12-22T20:08:52.924Z"
   },
   {
    "duration": 67,
    "start_time": "2021-12-22T20:09:00.997Z"
   },
   {
    "duration": 223,
    "start_time": "2021-12-22T20:09:09.618Z"
   },
   {
    "duration": 255,
    "start_time": "2021-12-22T20:09:17.158Z"
   },
   {
    "duration": 231,
    "start_time": "2021-12-22T20:09:34.025Z"
   },
   {
    "duration": 922,
    "start_time": "2021-12-22T20:10:18.849Z"
   },
   {
    "duration": 738,
    "start_time": "2021-12-22T20:10:31.498Z"
   },
   {
    "duration": 539,
    "start_time": "2021-12-22T20:10:47.137Z"
   },
   {
    "duration": 247,
    "start_time": "2021-12-22T20:10:59.382Z"
   },
   {
    "duration": 113,
    "start_time": "2021-12-22T20:11:09.371Z"
   },
   {
    "duration": 410,
    "start_time": "2021-12-22T20:12:01.557Z"
   },
   {
    "duration": 126,
    "start_time": "2021-12-22T20:12:27.680Z"
   },
   {
    "duration": 399,
    "start_time": "2021-12-22T20:13:58.658Z"
   },
   {
    "duration": 4013,
    "start_time": "2021-12-22T20:14:15.817Z"
   },
   {
    "duration": 4015,
    "start_time": "2021-12-22T20:14:38.988Z"
   },
   {
    "duration": 128,
    "start_time": "2021-12-22T20:14:49.021Z"
   },
   {
    "duration": 118,
    "start_time": "2021-12-22T20:15:27.685Z"
   },
   {
    "duration": 88,
    "start_time": "2021-12-22T20:15:42.104Z"
   },
   {
    "duration": 3298,
    "start_time": "2021-12-22T20:16:03.233Z"
   },
   {
    "duration": 105,
    "start_time": "2021-12-22T20:16:26.535Z"
   },
   {
    "duration": 120,
    "start_time": "2021-12-22T20:16:46.655Z"
   },
   {
    "duration": 464,
    "start_time": "2021-12-22T20:17:32.745Z"
   },
   {
    "duration": 89,
    "start_time": "2021-12-22T20:17:42.550Z"
   },
   {
    "duration": 79,
    "start_time": "2021-12-22T20:18:00.844Z"
   },
   {
    "duration": 1495,
    "start_time": "2021-12-22T20:18:31.105Z"
   },
   {
    "duration": 742,
    "start_time": "2021-12-22T20:18:32.603Z"
   },
   {
    "duration": 20,
    "start_time": "2021-12-22T20:18:33.349Z"
   },
   {
    "duration": 1912,
    "start_time": "2021-12-22T20:18:33.372Z"
   },
   {
    "duration": 48,
    "start_time": "2021-12-22T20:18:35.286Z"
   },
   {
    "duration": 8366,
    "start_time": "2021-12-22T20:18:35.337Z"
   },
   {
    "duration": 3,
    "start_time": "2021-12-22T20:18:43.705Z"
   },
   {
    "duration": 798,
    "start_time": "2021-12-22T20:18:43.710Z"
   },
   {
    "duration": 4443,
    "start_time": "2021-12-22T20:18:44.512Z"
   },
   {
    "duration": 132,
    "start_time": "2021-12-22T20:18:48.958Z"
   },
   {
    "duration": 352,
    "start_time": "2021-12-22T20:18:49.093Z"
   },
   {
    "duration": 955,
    "start_time": "2021-12-22T20:18:49.448Z"
   },
   {
    "duration": 37,
    "start_time": "2021-12-22T20:18:50.405Z"
   },
   {
    "duration": 5046,
    "start_time": "2021-12-22T20:18:50.444Z"
   },
   {
    "duration": 504,
    "start_time": "2021-12-22T20:18:55.493Z"
   },
   {
    "duration": 416,
    "start_time": "2021-12-22T20:18:56.000Z"
   },
   {
    "duration": 214,
    "start_time": "2021-12-22T20:18:56.418Z"
   },
   {
    "duration": 672,
    "start_time": "2021-12-22T20:18:56.635Z"
   },
   {
    "duration": 104,
    "start_time": "2021-12-22T20:24:43.796Z"
   },
   {
    "duration": 129,
    "start_time": "2021-12-22T20:24:47.588Z"
   },
   {
    "duration": 657,
    "start_time": "2021-12-22T20:24:55.818Z"
   },
   {
    "duration": 99,
    "start_time": "2021-12-22T20:25:11.291Z"
   },
   {
    "duration": 100,
    "start_time": "2021-12-22T20:25:24.399Z"
   },
   {
    "duration": 100,
    "start_time": "2021-12-22T20:25:27.337Z"
   },
   {
    "duration": 1505,
    "start_time": "2021-12-22T20:25:38.400Z"
   },
   {
    "duration": 675,
    "start_time": "2021-12-22T20:25:39.908Z"
   },
   {
    "duration": 18,
    "start_time": "2021-12-22T20:25:40.587Z"
   },
   {
    "duration": 1487,
    "start_time": "2021-12-22T20:25:40.608Z"
   },
   {
    "duration": 42,
    "start_time": "2021-12-22T20:25:42.098Z"
   },
   {
    "duration": 8437,
    "start_time": "2021-12-22T20:25:42.142Z"
   },
   {
    "duration": 4,
    "start_time": "2021-12-22T20:25:50.582Z"
   },
   {
    "duration": 351,
    "start_time": "2021-12-22T20:25:50.591Z"
   },
   {
    "duration": 7106,
    "start_time": "2021-12-22T20:25:50.945Z"
   },
   {
    "duration": 140,
    "start_time": "2021-12-22T20:25:58.054Z"
   },
   {
    "duration": 429,
    "start_time": "2021-12-22T20:25:58.197Z"
   },
   {
    "duration": 1146,
    "start_time": "2021-12-22T20:25:58.629Z"
   },
   {
    "duration": 25,
    "start_time": "2021-12-22T20:25:59.778Z"
   },
   {
    "duration": 5235,
    "start_time": "2021-12-22T20:25:59.806Z"
   },
   {
    "duration": 484,
    "start_time": "2021-12-22T20:26:05.044Z"
   },
   {
    "duration": 766,
    "start_time": "2021-12-22T20:26:05.531Z"
   },
   {
    "duration": 969,
    "start_time": "2021-12-22T20:26:06.300Z"
   },
   {
    "duration": 987,
    "start_time": "2021-12-22T20:26:07.272Z"
   },
   {
    "duration": 115,
    "start_time": "2021-12-22T20:26:31.814Z"
   },
   {
    "duration": 112,
    "start_time": "2021-12-22T20:26:36.649Z"
   },
   {
    "duration": 102,
    "start_time": "2021-12-22T20:26:43.345Z"
   },
   {
    "duration": 98,
    "start_time": "2021-12-22T20:26:50.532Z"
   },
   {
    "duration": 115,
    "start_time": "2021-12-22T20:27:01.319Z"
   },
   {
    "duration": 114,
    "start_time": "2021-12-22T20:27:26.264Z"
   },
   {
    "duration": 97,
    "start_time": "2021-12-22T20:27:42.781Z"
   },
   {
    "duration": 160,
    "start_time": "2021-12-22T20:27:56.763Z"
   },
   {
    "duration": 190,
    "start_time": "2021-12-22T20:28:15.102Z"
   },
   {
    "duration": 146,
    "start_time": "2021-12-22T20:29:02.556Z"
   },
   {
    "duration": 1517,
    "start_time": "2021-12-22T20:31:14.268Z"
   },
   {
    "duration": 1063,
    "start_time": "2021-12-22T20:31:15.788Z"
   },
   {
    "duration": 1281,
    "start_time": "2021-12-22T20:31:16.854Z"
   },
   {
    "duration": 2794,
    "start_time": "2021-12-22T20:31:18.139Z"
   },
   {
    "duration": 26,
    "start_time": "2021-12-22T20:31:20.935Z"
   },
   {
    "duration": 11944,
    "start_time": "2021-12-22T20:31:20.964Z"
   },
   {
    "duration": 2,
    "start_time": "2021-12-22T20:31:32.911Z"
   },
   {
    "duration": 4022,
    "start_time": "2021-12-22T20:31:32.924Z"
   },
   {
    "duration": 10051,
    "start_time": "2021-12-22T20:31:36.949Z"
   },
   {
    "duration": 134,
    "start_time": "2021-12-22T20:31:47.003Z"
   },
   {
    "duration": 676,
    "start_time": "2021-12-22T20:31:47.140Z"
   },
   {
    "duration": 1373,
    "start_time": "2021-12-22T20:31:47.819Z"
   },
   {
    "duration": 135,
    "start_time": "2021-12-22T20:31:49.195Z"
   },
   {
    "duration": 6131,
    "start_time": "2021-12-22T20:31:49.333Z"
   },
   {
    "duration": 449,
    "start_time": "2021-12-22T20:31:55.467Z"
   },
   {
    "duration": 627,
    "start_time": "2021-12-22T20:31:55.923Z"
   },
   {
    "duration": 210,
    "start_time": "2021-12-22T20:31:56.553Z"
   },
   {
    "duration": 751,
    "start_time": "2021-12-22T20:31:56.765Z"
   },
   {
    "duration": 41,
    "start_time": "2021-12-23T15:57:58.552Z"
   },
   {
    "duration": 509,
    "start_time": "2021-12-23T16:00:17.596Z"
   },
   {
    "duration": 284,
    "start_time": "2021-12-23T16:00:41.369Z"
   },
   {
    "duration": 116,
    "start_time": "2021-12-23T16:01:17.233Z"
   },
   {
    "duration": 713,
    "start_time": "2021-12-23T16:01:21.097Z"
   },
   {
    "duration": 798,
    "start_time": "2021-12-23T16:02:04.938Z"
   },
   {
    "duration": 2771,
    "start_time": "2021-12-23T16:02:30.169Z"
   },
   {
    "duration": 85,
    "start_time": "2021-12-23T16:03:40.771Z"
   },
   {
    "duration": 579,
    "start_time": "2021-12-23T16:04:50.837Z"
   },
   {
    "duration": 145,
    "start_time": "2021-12-23T16:06:54.278Z"
   },
   {
    "duration": 447,
    "start_time": "2021-12-23T16:07:12.663Z"
   },
   {
    "duration": 112,
    "start_time": "2021-12-23T16:07:37.265Z"
   },
   {
    "duration": 367,
    "start_time": "2021-12-23T16:07:40.994Z"
   },
   {
    "duration": 419,
    "start_time": "2021-12-23T16:08:44.630Z"
   },
   {
    "duration": 365,
    "start_time": "2021-12-23T16:08:52.158Z"
   },
   {
    "duration": 384,
    "start_time": "2021-12-23T16:09:07.093Z"
   },
   {
    "duration": 448,
    "start_time": "2021-12-23T16:09:14.385Z"
   },
   {
    "duration": 366,
    "start_time": "2021-12-23T16:09:39.851Z"
   },
   {
    "duration": 1492,
    "start_time": "2021-12-23T16:10:08.066Z"
   },
   {
    "duration": 482,
    "start_time": "2021-12-23T16:10:09.561Z"
   },
   {
    "duration": 20,
    "start_time": "2021-12-23T16:10:10.047Z"
   },
   {
    "duration": 821,
    "start_time": "2021-12-23T16:10:10.070Z"
   },
   {
    "duration": 38,
    "start_time": "2021-12-23T16:10:10.893Z"
   },
   {
    "duration": 5628,
    "start_time": "2021-12-23T16:10:10.934Z"
   },
   {
    "duration": 4,
    "start_time": "2021-12-23T16:10:16.565Z"
   },
   {
    "duration": 77,
    "start_time": "2021-12-23T16:10:16.576Z"
   },
   {
    "duration": 7595,
    "start_time": "2021-12-23T16:10:16.656Z"
   },
   {
    "duration": 125,
    "start_time": "2021-12-23T16:10:24.253Z"
   },
   {
    "duration": 184,
    "start_time": "2021-12-23T16:10:24.381Z"
   },
   {
    "duration": 822,
    "start_time": "2021-12-23T16:10:24.568Z"
   },
   {
    "duration": 43,
    "start_time": "2021-12-23T16:10:25.393Z"
   },
   {
    "duration": 5147,
    "start_time": "2021-12-23T16:10:25.439Z"
   },
   {
    "duration": 448,
    "start_time": "2021-12-23T16:10:30.588Z"
   },
   {
    "duration": 405,
    "start_time": "2021-12-23T16:10:31.039Z"
   },
   {
    "duration": 6,
    "start_time": "2021-12-23T16:10:31.446Z"
   },
   {
    "duration": 408,
    "start_time": "2021-12-23T16:10:31.454Z"
   },
   {
    "duration": 14,
    "start_time": "2021-12-23T16:10:31.864Z"
   },
   {
    "duration": 71,
    "start_time": "2021-12-23T16:10:31.881Z"
   },
   {
    "duration": 431,
    "start_time": "2021-12-23T16:21:15.304Z"
   },
   {
    "duration": 366,
    "start_time": "2021-12-23T16:21:52.779Z"
   },
   {
    "duration": 418,
    "start_time": "2021-12-23T16:22:15.078Z"
   },
   {
    "duration": 448,
    "start_time": "2021-12-23T16:22:52.170Z"
   },
   {
    "duration": 641,
    "start_time": "2021-12-23T16:24:37.484Z"
   },
   {
    "duration": 1067,
    "start_time": "2021-12-23T16:25:44.254Z"
   },
   {
    "duration": 967,
    "start_time": "2021-12-23T16:26:28.580Z"
   },
   {
    "duration": 376,
    "start_time": "2021-12-23T16:26:40.006Z"
   },
   {
    "duration": 1068,
    "start_time": "2021-12-23T16:26:48.099Z"
   },
   {
    "duration": 1100,
    "start_time": "2021-12-23T16:27:33.327Z"
   },
   {
    "duration": 58,
    "start_time": "2021-12-23T16:27:38.487Z"
   },
   {
    "duration": 391,
    "start_time": "2021-12-23T16:29:53.220Z"
   },
   {
    "duration": 41,
    "start_time": "2021-12-23T16:29:58.027Z"
   },
   {
    "duration": 1067,
    "start_time": "2021-12-23T16:31:03.599Z"
   },
   {
    "duration": 8280,
    "start_time": "2021-12-23T16:31:18.773Z"
   },
   {
    "duration": 1226,
    "start_time": "2021-12-23T16:32:07.809Z"
   },
   {
    "duration": 2212,
    "start_time": "2021-12-23T16:32:31.971Z"
   },
   {
    "duration": 2260,
    "start_time": "2021-12-23T16:33:03.975Z"
   },
   {
    "duration": 2243,
    "start_time": "2021-12-23T16:33:23.943Z"
   },
   {
    "duration": 8426,
    "start_time": "2021-12-23T16:33:29.812Z"
   },
   {
    "duration": 25,
    "start_time": "2021-12-23T16:33:46.480Z"
   },
   {
    "duration": 901,
    "start_time": "2021-12-23T16:34:06.703Z"
   },
   {
    "duration": 788,
    "start_time": "2021-12-23T16:34:46.552Z"
   },
   {
    "duration": 775,
    "start_time": "2021-12-23T16:35:15.404Z"
   },
   {
    "duration": 51,
    "start_time": "2021-12-23T16:35:26.217Z"
   },
   {
    "duration": 14,
    "start_time": "2021-12-23T16:35:32.565Z"
   },
   {
    "duration": 17,
    "start_time": "2021-12-23T16:36:32.967Z"
   },
   {
    "duration": 664,
    "start_time": "2021-12-23T16:36:49.457Z"
   },
   {
    "duration": 929,
    "start_time": "2021-12-23T16:54:57.457Z"
   },
   {
    "duration": 877,
    "start_time": "2021-12-23T16:55:03.066Z"
   },
   {
    "duration": 1441,
    "start_time": "2021-12-23T16:55:31.035Z"
   },
   {
    "duration": 616,
    "start_time": "2021-12-23T16:55:32.479Z"
   },
   {
    "duration": 20,
    "start_time": "2021-12-23T16:55:33.101Z"
   },
   {
    "duration": 745,
    "start_time": "2021-12-23T16:55:33.123Z"
   },
   {
    "duration": 27,
    "start_time": "2021-12-23T16:55:33.871Z"
   },
   {
    "duration": 4876,
    "start_time": "2021-12-23T16:55:33.900Z"
   },
   {
    "duration": 3,
    "start_time": "2021-12-23T16:55:38.780Z"
   },
   {
    "duration": 72,
    "start_time": "2021-12-23T16:55:38.786Z"
   },
   {
    "duration": 7781,
    "start_time": "2021-12-23T16:55:38.861Z"
   },
   {
    "duration": 119,
    "start_time": "2021-12-23T16:55:46.645Z"
   },
   {
    "duration": 171,
    "start_time": "2021-12-23T16:55:46.767Z"
   },
   {
    "duration": 765,
    "start_time": "2021-12-23T16:55:46.941Z"
   },
   {
    "duration": 34,
    "start_time": "2021-12-23T16:55:47.709Z"
   },
   {
    "duration": 4335,
    "start_time": "2021-12-23T16:55:47.746Z"
   },
   {
    "duration": 476,
    "start_time": "2021-12-23T16:55:52.084Z"
   },
   {
    "duration": 390,
    "start_time": "2021-12-23T16:55:52.563Z"
   },
   {
    "duration": 7,
    "start_time": "2021-12-23T16:55:52.956Z"
   },
   {
    "duration": 402,
    "start_time": "2021-12-23T16:55:52.965Z"
   },
   {
    "duration": 737,
    "start_time": "2021-12-23T16:55:53.369Z"
   },
   {
    "duration": 47,
    "start_time": "2021-12-23T16:55:54.108Z"
   },
   {
    "duration": 45,
    "start_time": "2021-12-23T16:55:54.157Z"
   },
   {
    "duration": 2370,
    "start_time": "2021-12-23T17:00:36.258Z"
   },
   {
    "duration": 26,
    "start_time": "2021-12-23T17:01:09.242Z"
   },
   {
    "duration": 389,
    "start_time": "2021-12-23T17:01:31.748Z"
   },
   {
    "duration": 341,
    "start_time": "2021-12-23T17:01:39.920Z"
   },
   {
    "duration": 118,
    "start_time": "2021-12-23T17:01:49.648Z"
   },
   {
    "duration": 119,
    "start_time": "2021-12-23T17:02:10.411Z"
   },
   {
    "duration": 124,
    "start_time": "2021-12-23T17:03:16.807Z"
   },
   {
    "duration": 2362,
    "start_time": "2021-12-23T17:03:34.424Z"
   },
   {
    "duration": 684,
    "start_time": "2021-12-23T17:04:12.165Z"
   },
   {
    "duration": 1515,
    "start_time": "2021-12-23T17:05:25.580Z"
   },
   {
    "duration": 455,
    "start_time": "2021-12-23T17:05:27.098Z"
   },
   {
    "duration": 20,
    "start_time": "2021-12-23T17:05:27.556Z"
   },
   {
    "duration": 1189,
    "start_time": "2021-12-23T17:05:27.580Z"
   },
   {
    "duration": 54,
    "start_time": "2021-12-23T17:05:28.772Z"
   },
   {
    "duration": 4867,
    "start_time": "2021-12-23T17:05:28.828Z"
   },
   {
    "duration": 4,
    "start_time": "2021-12-23T17:05:33.697Z"
   },
   {
    "duration": 68,
    "start_time": "2021-12-23T17:05:33.705Z"
   },
   {
    "duration": 11790,
    "start_time": "2021-12-23T17:05:33.775Z"
   },
   {
    "duration": 187,
    "start_time": "2021-12-23T17:05:45.568Z"
   },
   {
    "duration": 209,
    "start_time": "2021-12-23T17:05:45.759Z"
   },
   {
    "duration": 728,
    "start_time": "2021-12-23T17:05:45.970Z"
   },
   {
    "duration": 39,
    "start_time": "2021-12-23T17:05:46.701Z"
   },
   {
    "duration": 3969,
    "start_time": "2021-12-23T17:05:46.743Z"
   },
   {
    "duration": 638,
    "start_time": "2021-12-23T17:05:50.715Z"
   },
   {
    "duration": 392,
    "start_time": "2021-12-23T17:05:51.356Z"
   },
   {
    "duration": 7,
    "start_time": "2021-12-23T17:05:51.750Z"
   },
   {
    "duration": 391,
    "start_time": "2021-12-23T17:05:51.760Z"
   },
   {
    "duration": 301,
    "start_time": "2021-12-23T17:05:52.153Z"
   },
   {
    "duration": 552,
    "start_time": "2021-12-23T17:05:52.457Z"
   },
   {
    "duration": 291,
    "start_time": "2021-12-23T17:07:01.225Z"
   },
   {
    "duration": 247,
    "start_time": "2021-12-23T17:07:38.853Z"
   },
   {
    "duration": 245,
    "start_time": "2021-12-23T17:07:46.859Z"
   },
   {
    "duration": 334,
    "start_time": "2021-12-23T17:08:04.173Z"
   },
   {
    "duration": 258,
    "start_time": "2021-12-23T17:08:19.082Z"
   },
   {
    "duration": 575,
    "start_time": "2021-12-23T17:08:31.085Z"
   },
   {
    "duration": 517,
    "start_time": "2021-12-23T17:08:49.296Z"
   },
   {
    "duration": 523,
    "start_time": "2021-12-23T17:08:52.642Z"
   },
   {
    "duration": 532,
    "start_time": "2021-12-23T17:10:15.813Z"
   },
   {
    "duration": 538,
    "start_time": "2021-12-23T17:10:26.271Z"
   },
   {
    "duration": 515,
    "start_time": "2021-12-23T17:10:38.952Z"
   },
   {
    "duration": 533,
    "start_time": "2021-12-23T17:10:55.847Z"
   },
   {
    "duration": 244,
    "start_time": "2021-12-23T17:11:24.572Z"
   },
   {
    "duration": 535,
    "start_time": "2021-12-23T17:11:35.588Z"
   },
   {
    "duration": 241,
    "start_time": "2021-12-23T17:12:33.347Z"
   },
   {
    "duration": 510,
    "start_time": "2021-12-23T17:12:36.593Z"
   },
   {
    "duration": 636,
    "start_time": "2021-12-23T17:19:17.301Z"
   },
   {
    "duration": 510,
    "start_time": "2021-12-23T17:19:21.540Z"
   },
   {
    "duration": 477,
    "start_time": "2021-12-23T17:19:24.124Z"
   },
   {
    "duration": 509,
    "start_time": "2021-12-23T17:20:19.804Z"
   },
   {
    "duration": 348,
    "start_time": "2021-12-23T17:20:53.018Z"
   },
   {
    "duration": 370,
    "start_time": "2021-12-23T17:21:08.123Z"
   },
   {
    "duration": 352,
    "start_time": "2021-12-23T17:21:28.329Z"
   },
   {
    "duration": 331,
    "start_time": "2021-12-23T17:22:38.654Z"
   },
   {
    "duration": 853,
    "start_time": "2021-12-23T17:22:49.685Z"
   },
   {
    "duration": 340,
    "start_time": "2021-12-23T17:23:08.368Z"
   },
   {
    "duration": 356,
    "start_time": "2021-12-23T17:23:54.280Z"
   },
   {
    "duration": 351,
    "start_time": "2021-12-23T17:24:49.681Z"
   },
   {
    "duration": 367,
    "start_time": "2021-12-23T17:25:01.899Z"
   },
   {
    "duration": 405,
    "start_time": "2021-12-23T17:25:05.894Z"
   },
   {
    "duration": 331,
    "start_time": "2021-12-23T17:25:25.914Z"
   },
   {
    "duration": 1478,
    "start_time": "2021-12-23T17:25:35.602Z"
   },
   {
    "duration": 611,
    "start_time": "2021-12-23T17:25:37.083Z"
   },
   {
    "duration": 18,
    "start_time": "2021-12-23T17:25:37.697Z"
   },
   {
    "duration": 916,
    "start_time": "2021-12-23T17:25:37.718Z"
   },
   {
    "duration": 26,
    "start_time": "2021-12-23T17:25:38.636Z"
   },
   {
    "duration": 16684,
    "start_time": "2021-12-23T17:25:38.664Z"
   },
   {
    "duration": 3,
    "start_time": "2021-12-23T17:25:55.350Z"
   },
   {
    "duration": 76,
    "start_time": "2021-12-23T17:25:55.357Z"
   },
   {
    "duration": 4526,
    "start_time": "2021-12-23T17:25:55.436Z"
   },
   {
    "duration": 127,
    "start_time": "2021-12-23T17:25:59.964Z"
   },
   {
    "duration": 179,
    "start_time": "2021-12-23T17:26:00.094Z"
   },
   {
    "duration": 752,
    "start_time": "2021-12-23T17:26:00.276Z"
   },
   {
    "duration": 25,
    "start_time": "2021-12-23T17:26:01.031Z"
   },
   {
    "duration": 4410,
    "start_time": "2021-12-23T17:26:01.059Z"
   },
   {
    "duration": 466,
    "start_time": "2021-12-23T17:26:05.472Z"
   },
   {
    "duration": 401,
    "start_time": "2021-12-23T17:26:05.941Z"
   },
   {
    "duration": 6,
    "start_time": "2021-12-23T17:26:06.345Z"
   },
   {
    "duration": 388,
    "start_time": "2021-12-23T17:26:06.353Z"
   },
   {
    "duration": 475,
    "start_time": "2021-12-23T17:26:06.743Z"
   },
   {
    "duration": 297,
    "start_time": "2021-12-23T17:26:06.924Z"
   },
   {
    "duration": 1704,
    "start_time": "2021-12-23T17:34:50.206Z"
   },
   {
    "duration": 695,
    "start_time": "2021-12-23T17:34:51.913Z"
   },
   {
    "duration": 18,
    "start_time": "2021-12-23T17:34:52.612Z"
   },
   {
    "duration": 1150,
    "start_time": "2021-12-23T17:34:52.633Z"
   },
   {
    "duration": 25,
    "start_time": "2021-12-23T17:34:53.786Z"
   },
   {
    "duration": 4379,
    "start_time": "2021-12-23T17:34:53.813Z"
   },
   {
    "duration": 8,
    "start_time": "2021-12-23T17:34:58.201Z"
   },
   {
    "duration": 72,
    "start_time": "2021-12-23T17:34:58.223Z"
   },
   {
    "duration": 5769,
    "start_time": "2021-12-23T17:34:58.298Z"
   },
   {
    "duration": 132,
    "start_time": "2021-12-23T17:35:04.069Z"
   },
   {
    "duration": 175,
    "start_time": "2021-12-23T17:35:04.204Z"
   },
   {
    "duration": 742,
    "start_time": "2021-12-23T17:35:04.381Z"
   },
   {
    "duration": 24,
    "start_time": "2021-12-23T17:35:05.126Z"
   },
   {
    "duration": 4431,
    "start_time": "2021-12-23T17:35:05.153Z"
   },
   {
    "duration": 471,
    "start_time": "2021-12-23T17:35:09.587Z"
   },
   {
    "duration": 412,
    "start_time": "2021-12-23T17:35:10.061Z"
   },
   {
    "duration": 8,
    "start_time": "2021-12-23T17:35:10.476Z"
   },
   {
    "duration": 413,
    "start_time": "2021-12-23T17:35:10.487Z"
   },
   {
    "duration": 751,
    "start_time": "2021-12-23T17:35:10.903Z"
   },
   {
    "duration": 317,
    "start_time": "2021-12-23T17:35:11.339Z"
   },
   {
    "duration": 1461,
    "start_time": "2021-12-23T18:13:36.320Z"
   },
   {
    "duration": 516,
    "start_time": "2021-12-23T18:13:37.783Z"
   },
   {
    "duration": 21,
    "start_time": "2021-12-23T18:13:38.302Z"
   },
   {
    "duration": 876,
    "start_time": "2021-12-23T18:13:38.326Z"
   },
   {
    "duration": 39,
    "start_time": "2021-12-23T18:13:39.204Z"
   },
   {
    "duration": 5339,
    "start_time": "2021-12-23T18:13:39.245Z"
   },
   {
    "duration": 3,
    "start_time": "2021-12-23T18:13:44.586Z"
   },
   {
    "duration": 70,
    "start_time": "2021-12-23T18:13:44.591Z"
   },
   {
    "duration": 9699,
    "start_time": "2021-12-23T18:13:44.665Z"
   },
   {
    "duration": 126,
    "start_time": "2021-12-23T18:13:54.367Z"
   },
   {
    "duration": 181,
    "start_time": "2021-12-23T18:13:54.496Z"
   },
   {
    "duration": 755,
    "start_time": "2021-12-23T18:13:54.680Z"
   },
   {
    "duration": 25,
    "start_time": "2021-12-23T18:13:55.437Z"
   },
   {
    "duration": 4389,
    "start_time": "2021-12-23T18:13:55.464Z"
   },
   {
    "duration": 393,
    "start_time": "2021-12-23T18:13:59.855Z"
   },
   {
    "duration": 495,
    "start_time": "2021-12-23T18:14:00.251Z"
   },
   {
    "duration": 5,
    "start_time": "2021-12-23T18:14:00.749Z"
   },
   {
    "duration": 416,
    "start_time": "2021-12-23T18:14:00.757Z"
   },
   {
    "duration": 1115,
    "start_time": "2021-12-23T18:14:01.175Z"
   },
   {
    "duration": 324,
    "start_time": "2021-12-23T18:14:01.969Z"
   },
   {
    "duration": 109,
    "start_time": "2021-12-23T18:14:06.176Z"
   },
   {
    "duration": 409,
    "start_time": "2021-12-23T18:15:00.920Z"
   },
   {
    "duration": 296,
    "start_time": "2021-12-23T18:15:59.504Z"
   },
   {
    "duration": 323,
    "start_time": "2021-12-23T18:17:40.060Z"
   },
   {
    "duration": 829,
    "start_time": "2021-12-23T18:17:46.739Z"
   },
   {
    "duration": 59,
    "start_time": "2021-12-23T18:18:15.883Z"
   },
   {
    "duration": 96,
    "start_time": "2021-12-23T18:18:38.766Z"
   },
   {
    "duration": 103,
    "start_time": "2021-12-23T18:18:54.938Z"
   },
   {
    "duration": 127,
    "start_time": "2021-12-23T18:19:18.345Z"
   },
   {
    "duration": 118,
    "start_time": "2021-12-23T18:21:43.099Z"
   },
   {
    "duration": 87,
    "start_time": "2021-12-23T18:23:37.263Z"
   },
   {
    "duration": 88,
    "start_time": "2021-12-23T18:24:21.603Z"
   },
   {
    "duration": 87,
    "start_time": "2021-12-23T18:24:42.946Z"
   },
   {
    "duration": 57,
    "start_time": "2021-12-23T18:24:50.140Z"
   },
   {
    "duration": 85,
    "start_time": "2021-12-23T18:25:54.127Z"
   },
   {
    "duration": 81,
    "start_time": "2021-12-23T18:26:04.218Z"
   },
   {
    "duration": 398,
    "start_time": "2021-12-23T18:26:20.790Z"
   },
   {
    "duration": 159,
    "start_time": "2021-12-23T18:26:27.657Z"
   },
   {
    "duration": 245,
    "start_time": "2021-12-23T18:26:56.763Z"
   },
   {
    "duration": 387,
    "start_time": "2021-12-23T18:28:01.938Z"
   },
   {
    "duration": 353,
    "start_time": "2021-12-23T18:28:55.803Z"
   },
   {
    "duration": 1591,
    "start_time": "2021-12-23T18:31:00.221Z"
   },
   {
    "duration": 590,
    "start_time": "2021-12-23T18:31:01.815Z"
   },
   {
    "duration": 19,
    "start_time": "2021-12-23T18:31:02.408Z"
   },
   {
    "duration": 759,
    "start_time": "2021-12-23T18:31:02.430Z"
   },
   {
    "duration": 46,
    "start_time": "2021-12-23T18:31:03.192Z"
   },
   {
    "duration": 4251,
    "start_time": "2021-12-23T18:31:03.245Z"
   },
   {
    "duration": 3,
    "start_time": "2021-12-23T18:31:07.499Z"
   },
   {
    "duration": 72,
    "start_time": "2021-12-23T18:31:07.505Z"
   },
   {
    "duration": 7444,
    "start_time": "2021-12-23T18:31:07.581Z"
   },
   {
    "duration": 196,
    "start_time": "2021-12-23T18:31:15.029Z"
   },
   {
    "duration": 286,
    "start_time": "2021-12-23T18:31:15.229Z"
   },
   {
    "duration": 955,
    "start_time": "2021-12-23T18:31:15.522Z"
   },
   {
    "duration": 44,
    "start_time": "2021-12-23T18:31:16.480Z"
   },
   {
    "duration": 4540,
    "start_time": "2021-12-23T18:31:16.527Z"
   },
   {
    "duration": 448,
    "start_time": "2021-12-23T18:31:21.070Z"
   },
   {
    "duration": 398,
    "start_time": "2021-12-23T18:31:21.525Z"
   },
   {
    "duration": 6,
    "start_time": "2021-12-23T18:31:21.926Z"
   },
   {
    "duration": 479,
    "start_time": "2021-12-23T18:31:21.935Z"
   },
   {
    "duration": 473,
    "start_time": "2021-12-23T18:31:22.422Z"
   },
   {
    "duration": 206,
    "start_time": "2021-12-23T18:31:22.899Z"
   },
   {
    "duration": 585,
    "start_time": "2021-12-23T18:31:23.108Z"
   },
   {
    "duration": 315,
    "start_time": "2021-12-23T18:31:23.380Z"
   },
   {
    "duration": 304,
    "start_time": "2021-12-23T18:31:23.393Z"
   },
   {
    "duration": 80,
    "start_time": "2021-12-23T18:32:27.053Z"
   },
   {
    "duration": 189,
    "start_time": "2021-12-23T18:34:54.574Z"
   },
   {
    "duration": 209,
    "start_time": "2021-12-23T18:35:17.023Z"
   },
   {
    "duration": 114,
    "start_time": "2021-12-23T18:37:27.839Z"
   },
   {
    "duration": 199,
    "start_time": "2021-12-23T18:39:25.715Z"
   },
   {
    "duration": 1415,
    "start_time": "2021-12-23T18:39:33.870Z"
   },
   {
    "duration": 381,
    "start_time": "2021-12-23T18:39:35.288Z"
   },
   {
    "duration": 18,
    "start_time": "2021-12-23T18:39:35.672Z"
   },
   {
    "duration": 822,
    "start_time": "2021-12-23T18:39:35.692Z"
   },
   {
    "duration": 27,
    "start_time": "2021-12-23T18:39:36.523Z"
   },
   {
    "duration": 9027,
    "start_time": "2021-12-23T18:39:36.553Z"
   },
   {
    "duration": 3,
    "start_time": "2021-12-23T18:39:45.583Z"
   },
   {
    "duration": 71,
    "start_time": "2021-12-23T18:39:45.589Z"
   },
   {
    "duration": 6184,
    "start_time": "2021-12-23T18:39:45.665Z"
   },
   {
    "duration": 125,
    "start_time": "2021-12-23T18:39:51.852Z"
   },
   {
    "duration": 180,
    "start_time": "2021-12-23T18:39:51.979Z"
   },
   {
    "duration": 697,
    "start_time": "2021-12-23T18:39:52.162Z"
   },
   {
    "duration": 25,
    "start_time": "2021-12-23T18:39:52.861Z"
   },
   {
    "duration": 4206,
    "start_time": "2021-12-23T18:39:52.888Z"
   },
   {
    "duration": 542,
    "start_time": "2021-12-23T18:39:57.096Z"
   },
   {
    "duration": 554,
    "start_time": "2021-12-23T18:39:57.641Z"
   },
   {
    "duration": 6,
    "start_time": "2021-12-23T18:39:58.198Z"
   },
   {
    "duration": 427,
    "start_time": "2021-12-23T18:39:58.207Z"
   },
   {
    "duration": 339,
    "start_time": "2021-12-23T18:39:58.636Z"
   },
   {
    "duration": 153,
    "start_time": "2021-12-23T18:39:58.978Z"
   },
   {
    "duration": 140,
    "start_time": "2021-12-23T18:39:59.133Z"
   },
   {
    "duration": 258,
    "start_time": "2021-12-23T18:39:59.275Z"
   },
   {
    "duration": 521,
    "start_time": "2021-12-23T18:39:59.535Z"
   },
   {
    "duration": 87,
    "start_time": "2021-12-23T18:40:30.857Z"
   },
   {
    "duration": 295,
    "start_time": "2021-12-23T18:42:42.594Z"
   },
   {
    "duration": 1466,
    "start_time": "2021-12-23T18:42:51.918Z"
   },
   {
    "duration": 455,
    "start_time": "2021-12-23T18:42:53.386Z"
   },
   {
    "duration": 19,
    "start_time": "2021-12-23T18:42:53.844Z"
   },
   {
    "duration": 721,
    "start_time": "2021-12-23T18:42:53.867Z"
   },
   {
    "duration": 39,
    "start_time": "2021-12-23T18:42:54.590Z"
   },
   {
    "duration": 5716,
    "start_time": "2021-12-23T18:42:54.632Z"
   },
   {
    "duration": 4,
    "start_time": "2021-12-23T18:43:00.351Z"
   },
   {
    "duration": 75,
    "start_time": "2021-12-23T18:43:00.362Z"
   },
   {
    "duration": 6106,
    "start_time": "2021-12-23T18:43:00.441Z"
   },
   {
    "duration": 130,
    "start_time": "2021-12-23T18:43:06.550Z"
   },
   {
    "duration": 170,
    "start_time": "2021-12-23T18:43:06.683Z"
   },
   {
    "duration": 730,
    "start_time": "2021-12-23T18:43:06.855Z"
   },
   {
    "duration": 35,
    "start_time": "2021-12-23T18:43:07.588Z"
   },
   {
    "duration": 4031,
    "start_time": "2021-12-23T18:43:07.625Z"
   },
   {
    "duration": 446,
    "start_time": "2021-12-23T18:43:11.659Z"
   },
   {
    "duration": 377,
    "start_time": "2021-12-23T18:43:12.107Z"
   },
   {
    "duration": 6,
    "start_time": "2021-12-23T18:43:12.486Z"
   },
   {
    "duration": 388,
    "start_time": "2021-12-23T18:43:12.494Z"
   },
   {
    "duration": 409,
    "start_time": "2021-12-23T18:43:12.884Z"
   },
   {
    "duration": 136,
    "start_time": "2021-12-23T18:43:13.295Z"
   },
   {
    "duration": 103,
    "start_time": "2021-12-23T18:43:13.434Z"
   },
   {
    "duration": 224,
    "start_time": "2021-12-23T18:43:13.540Z"
   },
   {
    "duration": 482,
    "start_time": "2021-12-23T18:43:13.769Z"
   },
   {
    "duration": 1475,
    "start_time": "2021-12-23T18:43:36.111Z"
   },
   {
    "duration": 392,
    "start_time": "2021-12-23T18:43:37.588Z"
   },
   {
    "duration": 20,
    "start_time": "2021-12-23T18:43:37.984Z"
   },
   {
    "duration": 610,
    "start_time": "2021-12-23T18:43:38.007Z"
   },
   {
    "duration": 27,
    "start_time": "2021-12-23T18:43:38.619Z"
   },
   {
    "duration": 12030,
    "start_time": "2021-12-23T18:43:38.648Z"
   },
   {
    "duration": 3,
    "start_time": "2021-12-23T18:43:50.680Z"
   },
   {
    "duration": 60,
    "start_time": "2021-12-23T18:43:50.685Z"
   },
   {
    "duration": 9248,
    "start_time": "2021-12-23T18:43:50.749Z"
   },
   {
    "duration": 116,
    "start_time": "2021-12-23T18:44:00.000Z"
   },
   {
    "duration": 164,
    "start_time": "2021-12-23T18:44:00.123Z"
   },
   {
    "duration": 751,
    "start_time": "2021-12-23T18:44:00.290Z"
   },
   {
    "duration": 24,
    "start_time": "2021-12-23T18:44:01.044Z"
   },
   {
    "duration": 4241,
    "start_time": "2021-12-23T18:44:01.071Z"
   },
   {
    "duration": 456,
    "start_time": "2021-12-23T18:44:05.314Z"
   },
   {
    "duration": 397,
    "start_time": "2021-12-23T18:44:05.773Z"
   },
   {
    "duration": 7,
    "start_time": "2021-12-23T18:44:06.172Z"
   },
   {
    "duration": 516,
    "start_time": "2021-12-23T18:44:06.181Z"
   },
   {
    "duration": 439,
    "start_time": "2021-12-23T18:44:06.699Z"
   },
   {
    "duration": 171,
    "start_time": "2021-12-23T18:44:07.141Z"
   },
   {
    "duration": 90,
    "start_time": "2021-12-23T18:44:07.314Z"
   },
   {
    "duration": 173,
    "start_time": "2021-12-23T18:44:07.406Z"
   },
   {
    "duration": 634,
    "start_time": "2021-12-23T18:44:07.582Z"
   },
   {
    "duration": 706,
    "start_time": "2021-12-23T18:50:37.534Z"
   },
   {
    "duration": 322,
    "start_time": "2021-12-23T18:51:05.837Z"
   },
   {
    "duration": 1586,
    "start_time": "2021-12-23T18:51:21.041Z"
   },
   {
    "duration": 398,
    "start_time": "2021-12-23T18:51:22.630Z"
   },
   {
    "duration": 30,
    "start_time": "2021-12-23T18:51:23.031Z"
   },
   {
    "duration": 619,
    "start_time": "2021-12-23T18:51:23.064Z"
   },
   {
    "duration": 41,
    "start_time": "2021-12-23T18:51:23.686Z"
   },
   {
    "duration": 7835,
    "start_time": "2021-12-23T18:51:23.730Z"
   },
   {
    "duration": 2,
    "start_time": "2021-12-23T18:51:31.567Z"
   },
   {
    "duration": 71,
    "start_time": "2021-12-23T18:51:31.573Z"
   },
   {
    "duration": 5883,
    "start_time": "2021-12-23T18:51:31.647Z"
   },
   {
    "duration": 127,
    "start_time": "2021-12-23T18:51:37.533Z"
   },
   {
    "duration": 178,
    "start_time": "2021-12-23T18:51:37.662Z"
   },
   {
    "duration": 688,
    "start_time": "2021-12-23T18:51:37.842Z"
   },
   {
    "duration": 24,
    "start_time": "2021-12-23T18:51:38.532Z"
   },
   {
    "duration": 4191,
    "start_time": "2021-12-23T18:51:38.559Z"
   },
   {
    "duration": 431,
    "start_time": "2021-12-23T18:51:42.753Z"
   },
   {
    "duration": 404,
    "start_time": "2021-12-23T18:51:43.187Z"
   },
   {
    "duration": 6,
    "start_time": "2021-12-23T18:51:43.593Z"
   },
   {
    "duration": 373,
    "start_time": "2021-12-23T18:51:43.601Z"
   },
   {
    "duration": 380,
    "start_time": "2021-12-23T18:51:43.977Z"
   },
   {
    "duration": 130,
    "start_time": "2021-12-23T18:51:44.359Z"
   },
   {
    "duration": 95,
    "start_time": "2021-12-23T18:51:44.492Z"
   },
   {
    "duration": 347,
    "start_time": "2021-12-23T18:51:44.590Z"
   },
   {
    "duration": 425,
    "start_time": "2021-12-23T18:51:44.941Z"
   },
   {
    "duration": 158,
    "start_time": "2021-12-23T18:52:36.910Z"
   },
   {
    "duration": 110,
    "start_time": "2021-12-23T18:52:50.046Z"
   },
   {
    "duration": 102,
    "start_time": "2021-12-23T18:53:07.318Z"
   },
   {
    "duration": 1237,
    "start_time": "2021-12-23T18:53:21.264Z"
   },
   {
    "duration": 256,
    "start_time": "2021-12-23T18:53:28.635Z"
   },
   {
    "duration": 276,
    "start_time": "2021-12-23T18:53:40.499Z"
   },
   {
    "duration": 201,
    "start_time": "2021-12-23T18:54:19.764Z"
   },
   {
    "duration": 369,
    "start_time": "2021-12-23T18:54:28.297Z"
   },
   {
    "duration": 428,
    "start_time": "2021-12-23T18:55:05.211Z"
   },
   {
    "duration": 425,
    "start_time": "2021-12-23T18:56:13.137Z"
   },
   {
    "duration": 397,
    "start_time": "2021-12-23T18:56:23.926Z"
   },
   {
    "duration": 573,
    "start_time": "2021-12-23T18:58:12.226Z"
   },
   {
    "duration": 434,
    "start_time": "2021-12-23T18:59:23.305Z"
   },
   {
    "duration": 320,
    "start_time": "2021-12-23T19:02:30.186Z"
   },
   {
    "duration": 1712,
    "start_time": "2021-12-23T19:04:33.676Z"
   },
   {
    "duration": 469,
    "start_time": "2021-12-23T19:04:35.391Z"
   },
   {
    "duration": 20,
    "start_time": "2021-12-23T19:04:35.863Z"
   },
   {
    "duration": 783,
    "start_time": "2021-12-23T19:04:35.887Z"
   },
   {
    "duration": 39,
    "start_time": "2021-12-23T19:04:36.674Z"
   },
   {
    "duration": 5783,
    "start_time": "2021-12-23T19:04:36.715Z"
   },
   {
    "duration": 4,
    "start_time": "2021-12-23T19:04:42.500Z"
   },
   {
    "duration": 71,
    "start_time": "2021-12-23T19:04:42.507Z"
   },
   {
    "duration": 3944,
    "start_time": "2021-12-23T19:04:42.581Z"
   },
   {
    "duration": 134,
    "start_time": "2021-12-23T19:04:46.528Z"
   },
   {
    "duration": 179,
    "start_time": "2021-12-23T19:04:46.665Z"
   },
   {
    "duration": 716,
    "start_time": "2021-12-23T19:04:46.846Z"
   },
   {
    "duration": 25,
    "start_time": "2021-12-23T19:04:47.564Z"
   },
   {
    "duration": 4054,
    "start_time": "2021-12-23T19:04:47.591Z"
   },
   {
    "duration": 458,
    "start_time": "2021-12-23T19:04:51.648Z"
   },
   {
    "duration": 381,
    "start_time": "2021-12-23T19:04:52.108Z"
   },
   {
    "duration": 6,
    "start_time": "2021-12-23T19:04:52.492Z"
   },
   {
    "duration": 399,
    "start_time": "2021-12-23T19:04:52.500Z"
   },
   {
    "duration": 381,
    "start_time": "2021-12-23T19:04:52.902Z"
   },
   {
    "duration": 133,
    "start_time": "2021-12-23T19:04:53.286Z"
   },
   {
    "duration": 78,
    "start_time": "2021-12-23T19:04:53.423Z"
   },
   {
    "duration": 272,
    "start_time": "2021-12-23T19:04:53.503Z"
   },
   {
    "duration": 593,
    "start_time": "2021-12-23T19:04:53.779Z"
   },
   {
    "duration": 618,
    "start_time": "2021-12-23T19:08:37.588Z"
   },
   {
    "duration": 361,
    "start_time": "2021-12-23T19:08:52.883Z"
   },
   {
    "duration": 259,
    "start_time": "2021-12-23T19:09:01.908Z"
   },
   {
    "duration": 553,
    "start_time": "2021-12-23T19:14:31.666Z"
   },
   {
    "duration": 358,
    "start_time": "2021-12-23T19:14:57.302Z"
   },
   {
    "duration": 262,
    "start_time": "2021-12-23T19:15:29.650Z"
   },
   {
    "duration": 380,
    "start_time": "2021-12-23T19:16:01.770Z"
   },
   {
    "duration": 361,
    "start_time": "2021-12-23T19:17:14.128Z"
   },
   {
    "duration": 535,
    "start_time": "2021-12-23T19:17:33.459Z"
   },
   {
    "duration": 1138,
    "start_time": "2021-12-23T19:18:19.087Z"
   },
   {
    "duration": 874,
    "start_time": "2021-12-23T19:19:09.785Z"
   },
   {
    "duration": 8710,
    "start_time": "2021-12-23T19:36:44.179Z"
   },
   {
    "duration": 490,
    "start_time": "2021-12-23T19:37:16.726Z"
   },
   {
    "duration": 519,
    "start_time": "2021-12-23T19:37:43.612Z"
   },
   {
    "duration": 1486,
    "start_time": "2021-12-23T19:37:56.701Z"
   },
   {
    "duration": 490,
    "start_time": "2021-12-23T19:37:58.190Z"
   },
   {
    "duration": 18,
    "start_time": "2021-12-23T19:37:58.683Z"
   },
   {
    "duration": 743,
    "start_time": "2021-12-23T19:37:58.704Z"
   },
   {
    "duration": 24,
    "start_time": "2021-12-23T19:37:59.450Z"
   },
   {
    "duration": 5979,
    "start_time": "2021-12-23T19:37:59.477Z"
   },
   {
    "duration": 4,
    "start_time": "2021-12-23T19:38:05.458Z"
   },
   {
    "duration": 71,
    "start_time": "2021-12-23T19:38:05.466Z"
   },
   {
    "duration": 4283,
    "start_time": "2021-12-23T19:38:05.540Z"
   },
   {
    "duration": 130,
    "start_time": "2021-12-23T19:38:09.826Z"
   },
   {
    "duration": 175,
    "start_time": "2021-12-23T19:38:09.959Z"
   },
   {
    "duration": 694,
    "start_time": "2021-12-23T19:38:10.136Z"
   },
   {
    "duration": 27,
    "start_time": "2021-12-23T19:38:10.833Z"
   },
   {
    "duration": 4256,
    "start_time": "2021-12-23T19:38:10.863Z"
   },
   {
    "duration": 438,
    "start_time": "2021-12-23T19:38:15.122Z"
   },
   {
    "duration": 412,
    "start_time": "2021-12-23T19:38:15.563Z"
   },
   {
    "duration": 6,
    "start_time": "2021-12-23T19:38:15.977Z"
   },
   {
    "duration": 427,
    "start_time": "2021-12-23T19:38:15.986Z"
   },
   {
    "duration": 402,
    "start_time": "2021-12-23T19:38:16.416Z"
   },
   {
    "duration": 136,
    "start_time": "2021-12-23T19:38:16.824Z"
   },
   {
    "duration": 103,
    "start_time": "2021-12-23T19:38:16.962Z"
   },
   {
    "duration": 560,
    "start_time": "2021-12-23T19:38:17.068Z"
   },
   {
    "duration": 427,
    "start_time": "2021-12-23T19:38:17.632Z"
   },
   {
    "duration": 62,
    "start_time": "2021-12-23T19:41:36.966Z"
   },
   {
    "duration": 561,
    "start_time": "2021-12-23T19:45:29.267Z"
   },
   {
    "duration": 11,
    "start_time": "2021-12-23T19:46:17.929Z"
   },
   {
    "duration": 398,
    "start_time": "2021-12-23T19:49:49.904Z"
   },
   {
    "duration": 12,
    "start_time": "2021-12-23T19:49:52.742Z"
   },
   {
    "duration": 13,
    "start_time": "2021-12-23T19:50:37.237Z"
   },
   {
    "duration": 14,
    "start_time": "2021-12-23T19:50:54.688Z"
   },
   {
    "duration": 16,
    "start_time": "2021-12-23T19:51:14.460Z"
   },
   {
    "duration": 343,
    "start_time": "2021-12-23T19:51:27.064Z"
   },
   {
    "duration": 1102,
    "start_time": "2021-12-23T19:52:00.677Z"
   },
   {
    "duration": 126,
    "start_time": "2021-12-23T19:52:16.012Z"
   },
   {
    "duration": 14,
    "start_time": "2021-12-23T19:52:19.803Z"
   },
   {
    "duration": 86,
    "start_time": "2021-12-23T19:52:45.615Z"
   },
   {
    "duration": 12,
    "start_time": "2021-12-23T19:53:00.850Z"
   },
   {
    "duration": 17,
    "start_time": "2021-12-23T19:53:16.564Z"
   },
   {
    "duration": 320,
    "start_time": "2021-12-23T19:53:56.877Z"
   },
   {
    "duration": 328,
    "start_time": "2021-12-23T19:54:19.658Z"
   },
   {
    "duration": 370,
    "start_time": "2021-12-23T19:54:31.124Z"
   },
   {
    "duration": 16,
    "start_time": "2021-12-23T19:55:03.495Z"
   },
   {
    "duration": 850,
    "start_time": "2021-12-23T20:00:19.547Z"
   },
   {
    "duration": 367,
    "start_time": "2021-12-23T20:01:14.283Z"
   },
   {
    "duration": 120,
    "start_time": "2021-12-23T20:01:47.751Z"
   },
   {
    "duration": 114,
    "start_time": "2021-12-23T20:01:53.257Z"
   },
   {
    "duration": 396,
    "start_time": "2021-12-23T20:02:14.889Z"
   },
   {
    "duration": 419,
    "start_time": "2021-12-23T20:03:00.353Z"
   },
   {
    "duration": 8,
    "start_time": "2021-12-23T20:03:48.406Z"
   },
   {
    "duration": 10,
    "start_time": "2021-12-23T20:03:58.206Z"
   },
   {
    "duration": 14,
    "start_time": "2021-12-23T20:05:43.132Z"
   },
   {
    "duration": 20,
    "start_time": "2021-12-23T20:06:32.979Z"
   },
   {
    "duration": 2320,
    "start_time": "2021-12-23T20:17:51.241Z"
   },
   {
    "duration": 2292,
    "start_time": "2021-12-23T20:18:03.635Z"
   },
   {
    "duration": 74,
    "start_time": "2021-12-23T20:18:11.930Z"
   },
   {
    "duration": 162,
    "start_time": "2021-12-23T20:18:25.848Z"
   },
   {
    "duration": 133,
    "start_time": "2021-12-23T20:19:04.650Z"
   },
   {
    "duration": 401,
    "start_time": "2021-12-23T20:20:34.789Z"
   },
   {
    "duration": 106,
    "start_time": "2021-12-23T20:20:49.852Z"
   },
   {
    "duration": 97,
    "start_time": "2021-12-23T20:21:22.503Z"
   },
   {
    "duration": 112,
    "start_time": "2021-12-23T20:22:15.255Z"
   },
   {
    "duration": 110,
    "start_time": "2021-12-23T20:22:17.321Z"
   },
   {
    "duration": 123,
    "start_time": "2021-12-23T20:22:36.105Z"
   },
   {
    "duration": 64,
    "start_time": "2021-12-23T20:23:21.704Z"
   },
   {
    "duration": 109,
    "start_time": "2021-12-23T20:23:35.669Z"
   },
   {
    "duration": 42,
    "start_time": "2021-12-23T20:24:33.808Z"
   },
   {
    "duration": 71,
    "start_time": "2021-12-23T20:25:44.430Z"
   },
   {
    "duration": 133,
    "start_time": "2021-12-23T20:25:57.571Z"
   },
   {
    "duration": 1450,
    "start_time": "2021-12-23T20:28:15.325Z"
   },
   {
    "duration": 547,
    "start_time": "2021-12-23T20:28:16.778Z"
   },
   {
    "duration": 18,
    "start_time": "2021-12-23T20:28:17.328Z"
   },
   {
    "duration": 852,
    "start_time": "2021-12-23T20:28:17.349Z"
   },
   {
    "duration": 38,
    "start_time": "2021-12-23T20:28:18.203Z"
   },
   {
    "duration": 4167,
    "start_time": "2021-12-23T20:28:18.243Z"
   },
   {
    "duration": 11,
    "start_time": "2021-12-23T20:28:22.412Z"
   },
   {
    "duration": 53,
    "start_time": "2021-12-23T20:28:22.427Z"
   },
   {
    "duration": 3237,
    "start_time": "2021-12-23T20:28:22.483Z"
   },
   {
    "duration": 121,
    "start_time": "2021-12-23T20:28:25.723Z"
   },
   {
    "duration": 175,
    "start_time": "2021-12-23T20:28:25.848Z"
   },
   {
    "duration": 726,
    "start_time": "2021-12-23T20:28:26.025Z"
   },
   {
    "duration": 24,
    "start_time": "2021-12-23T20:28:26.753Z"
   },
   {
    "duration": 4330,
    "start_time": "2021-12-23T20:28:26.779Z"
   },
   {
    "duration": 454,
    "start_time": "2021-12-23T20:28:31.112Z"
   },
   {
    "duration": 387,
    "start_time": "2021-12-23T20:28:31.568Z"
   },
   {
    "duration": 7,
    "start_time": "2021-12-23T20:28:31.957Z"
   },
   {
    "duration": 399,
    "start_time": "2021-12-23T20:28:31.966Z"
   },
   {
    "duration": 374,
    "start_time": "2021-12-23T20:28:32.368Z"
   },
   {
    "duration": 141,
    "start_time": "2021-12-23T20:28:32.744Z"
   },
   {
    "duration": 98,
    "start_time": "2021-12-23T20:28:32.887Z"
   },
   {
    "duration": 739,
    "start_time": "2021-12-23T20:28:32.988Z"
   },
   {
    "duration": 60,
    "start_time": "2021-12-23T20:28:33.731Z"
   },
   {
    "duration": 599,
    "start_time": "2021-12-23T20:28:33.794Z"
   },
   {
    "duration": 107944,
    "start_time": "2021-12-23T20:28:34.395Z"
   },
   {
    "duration": 11,
    "start_time": "2021-12-23T20:30:22.341Z"
   },
   {
    "duration": 106,
    "start_time": "2021-12-23T20:33:13.480Z"
   },
   {
    "duration": 515,
    "start_time": "2021-12-23T20:33:16.850Z"
   },
   {
    "duration": 403,
    "start_time": "2021-12-23T20:33:29.358Z"
   },
   {
    "duration": 401,
    "start_time": "2021-12-23T20:34:31.807Z"
   },
   {
    "duration": 417,
    "start_time": "2021-12-23T20:34:50.008Z"
   },
   {
    "duration": 8260,
    "start_time": "2021-12-23T20:35:03.847Z"
   },
   {
    "duration": 1150,
    "start_time": "2021-12-23T20:35:26.965Z"
   },
   {
    "duration": 1398,
    "start_time": "2021-12-23T20:35:35.596Z"
   },
   {
    "duration": 524,
    "start_time": "2021-12-23T20:35:36.996Z"
   },
   {
    "duration": 19,
    "start_time": "2021-12-23T20:35:37.524Z"
   },
   {
    "duration": 733,
    "start_time": "2021-12-23T20:35:37.545Z"
   },
   {
    "duration": 25,
    "start_time": "2021-12-23T20:35:38.280Z"
   },
   {
    "duration": 4100,
    "start_time": "2021-12-23T20:35:38.323Z"
   },
   {
    "duration": 3,
    "start_time": "2021-12-23T20:35:42.426Z"
   },
   {
    "duration": 54,
    "start_time": "2021-12-23T20:35:42.436Z"
   },
   {
    "duration": 3920,
    "start_time": "2021-12-23T20:35:42.523Z"
   },
   {
    "duration": 129,
    "start_time": "2021-12-23T20:35:46.445Z"
   },
   {
    "duration": 172,
    "start_time": "2021-12-23T20:35:46.577Z"
   },
   {
    "duration": 717,
    "start_time": "2021-12-23T20:35:46.752Z"
   },
   {
    "duration": 25,
    "start_time": "2021-12-23T20:35:47.472Z"
   },
   {
    "duration": 4419,
    "start_time": "2021-12-23T20:35:47.500Z"
   },
   {
    "duration": 521,
    "start_time": "2021-12-23T20:35:51.923Z"
   },
   {
    "duration": 389,
    "start_time": "2021-12-23T20:35:52.446Z"
   },
   {
    "duration": 6,
    "start_time": "2021-12-23T20:35:52.837Z"
   },
   {
    "duration": 583,
    "start_time": "2021-12-23T20:35:52.845Z"
   },
   {
    "duration": 415,
    "start_time": "2021-12-23T20:35:53.431Z"
   },
   {
    "duration": 199,
    "start_time": "2021-12-23T20:35:53.849Z"
   },
   {
    "duration": 108,
    "start_time": "2021-12-23T20:35:54.051Z"
   },
   {
    "duration": 868,
    "start_time": "2021-12-23T20:35:54.162Z"
   },
   {
    "duration": 65,
    "start_time": "2021-12-23T20:35:55.035Z"
   },
   {
    "duration": 802,
    "start_time": "2021-12-23T20:35:55.122Z"
   },
   {
    "duration": 8040,
    "start_time": "2021-12-23T20:35:55.927Z"
   },
   {
    "duration": -130,
    "start_time": "2021-12-23T20:36:04.099Z"
   },
   {
    "duration": 1704,
    "start_time": "2021-12-25T16:34:20.607Z"
   },
   {
    "duration": 615,
    "start_time": "2021-12-25T16:34:22.314Z"
   },
   {
    "duration": 20,
    "start_time": "2021-12-25T16:34:22.933Z"
   },
   {
    "duration": 897,
    "start_time": "2021-12-25T16:34:22.957Z"
   },
   {
    "duration": 43,
    "start_time": "2021-12-25T16:34:23.857Z"
   },
   {
    "duration": 10579,
    "start_time": "2021-12-25T16:34:23.903Z"
   },
   {
    "duration": 3,
    "start_time": "2021-12-25T16:34:34.486Z"
   },
   {
    "duration": 81,
    "start_time": "2021-12-25T16:34:34.494Z"
   },
   {
    "duration": 4209,
    "start_time": "2021-12-25T16:34:34.579Z"
   },
   {
    "duration": 185,
    "start_time": "2021-12-25T16:34:38.791Z"
   },
   {
    "duration": 251,
    "start_time": "2021-12-25T16:34:38.979Z"
   },
   {
    "duration": 1025,
    "start_time": "2021-12-25T16:34:39.233Z"
   },
   {
    "duration": 39,
    "start_time": "2021-12-25T16:34:40.261Z"
   },
   {
    "duration": 4792,
    "start_time": "2021-12-25T16:34:40.304Z"
   },
   {
    "duration": 467,
    "start_time": "2021-12-25T16:34:45.099Z"
   },
   {
    "duration": 423,
    "start_time": "2021-12-25T16:34:45.569Z"
   },
   {
    "duration": 6,
    "start_time": "2021-12-25T16:34:45.995Z"
   },
   {
    "duration": 428,
    "start_time": "2021-12-25T16:34:46.004Z"
   },
   {
    "duration": 442,
    "start_time": "2021-12-25T16:34:46.435Z"
   },
   {
    "duration": 157,
    "start_time": "2021-12-25T16:34:46.879Z"
   },
   {
    "duration": 151,
    "start_time": "2021-12-25T16:34:47.040Z"
   },
   {
    "duration": 695,
    "start_time": "2021-12-25T16:34:47.194Z"
   },
   {
    "duration": 80,
    "start_time": "2021-12-25T16:34:47.895Z"
   },
   {
    "duration": 781,
    "start_time": "2021-12-25T16:34:47.977Z"
   },
   {
    "duration": 8799,
    "start_time": "2021-12-25T16:34:48.761Z"
   },
   {
    "duration": -845,
    "start_time": "2021-12-25T16:34:58.409Z"
   },
   {
    "duration": 412,
    "start_time": "2021-12-25T16:39:49.785Z"
   },
   {
    "duration": 2344,
    "start_time": "2021-12-25T16:40:46.873Z"
   },
   {
    "duration": 71,
    "start_time": "2021-12-25T16:41:43.963Z"
   },
   {
    "duration": 8219,
    "start_time": "2021-12-25T16:44:19.330Z"
   },
   {
    "duration": 449,
    "start_time": "2021-12-25T16:44:44.379Z"
   },
   {
    "duration": 96,
    "start_time": "2021-12-25T16:45:06.694Z"
   },
   {
    "duration": 105,
    "start_time": "2021-12-25T16:45:15.141Z"
   },
   {
    "duration": 379,
    "start_time": "2021-12-25T16:45:27.982Z"
   },
   {
    "duration": 240,
    "start_time": "2021-12-25T16:45:37.835Z"
   },
   {
    "duration": 2349,
    "start_time": "2021-12-25T16:46:20.641Z"
   },
   {
    "duration": 106,
    "start_time": "2021-12-25T16:46:45.842Z"
   },
   {
    "duration": 2367,
    "start_time": "2021-12-25T16:47:16.570Z"
   },
   {
    "duration": 117,
    "start_time": "2021-12-25T16:47:30.080Z"
   },
   {
    "duration": 4168,
    "start_time": "2021-12-25T16:53:37.248Z"
   },
   {
    "duration": 1488,
    "start_time": "2021-12-25T16:54:09.088Z"
   },
   {
    "duration": 426,
    "start_time": "2021-12-25T16:54:10.578Z"
   },
   {
    "duration": 19,
    "start_time": "2021-12-25T16:54:11.007Z"
   },
   {
    "duration": 748,
    "start_time": "2021-12-25T16:54:11.029Z"
   },
   {
    "duration": 27,
    "start_time": "2021-12-25T16:54:11.780Z"
   },
   {
    "duration": 10963,
    "start_time": "2021-12-25T16:54:11.810Z"
   },
   {
    "duration": 4,
    "start_time": "2021-12-25T16:54:22.776Z"
   },
   {
    "duration": 80,
    "start_time": "2021-12-25T16:54:22.787Z"
   },
   {
    "duration": 7786,
    "start_time": "2021-12-25T16:54:22.871Z"
   },
   {
    "duration": 142,
    "start_time": "2021-12-25T16:54:30.659Z"
   },
   {
    "duration": 198,
    "start_time": "2021-12-25T16:54:30.804Z"
   },
   {
    "duration": 815,
    "start_time": "2021-12-25T16:54:31.005Z"
   },
   {
    "duration": 44,
    "start_time": "2021-12-25T16:54:31.824Z"
   },
   {
    "duration": 4455,
    "start_time": "2021-12-25T16:54:31.871Z"
   },
   {
    "duration": 483,
    "start_time": "2021-12-25T16:54:36.328Z"
   },
   {
    "duration": 410,
    "start_time": "2021-12-25T16:54:36.814Z"
   },
   {
    "duration": 7,
    "start_time": "2021-12-25T16:54:37.226Z"
   },
   {
    "duration": 421,
    "start_time": "2021-12-25T16:54:37.235Z"
   },
   {
    "duration": 454,
    "start_time": "2021-12-25T16:54:37.659Z"
   },
   {
    "duration": 155,
    "start_time": "2021-12-25T16:54:38.116Z"
   },
   {
    "duration": 116,
    "start_time": "2021-12-25T16:54:38.273Z"
   },
   {
    "duration": 670,
    "start_time": "2021-12-25T16:54:38.392Z"
   },
   {
    "duration": 72,
    "start_time": "2021-12-25T16:54:39.069Z"
   },
   {
    "duration": 887,
    "start_time": "2021-12-25T16:54:39.144Z"
   },
   {
    "duration": 72,
    "start_time": "2021-12-25T16:54:40.034Z"
   },
   {
    "duration": 9,
    "start_time": "2021-12-25T16:54:40.109Z"
   },
   {
    "duration": 4,
    "start_time": "2021-12-25T17:02:09.937Z"
   },
   {
    "duration": 101,
    "start_time": "2021-12-25T17:02:49.495Z"
   },
   {
    "duration": 650,
    "start_time": "2021-12-25T17:03:08.784Z"
   },
   {
    "duration": 65,
    "start_time": "2021-12-25T17:03:21.417Z"
   },
   {
    "duration": 81,
    "start_time": "2021-12-25T17:04:13.361Z"
   },
   {
    "duration": 328,
    "start_time": "2021-12-25T17:05:12.172Z"
   },
   {
    "duration": 126,
    "start_time": "2021-12-25T17:05:27.213Z"
   },
   {
    "duration": 372,
    "start_time": "2021-12-25T17:05:31.981Z"
   },
   {
    "duration": 503,
    "start_time": "2021-12-25T17:05:59.456Z"
   },
   {
    "duration": 492,
    "start_time": "2021-12-25T17:06:24.250Z"
   },
   {
    "duration": 518,
    "start_time": "2021-12-25T17:06:39.150Z"
   },
   {
    "duration": 313,
    "start_time": "2021-12-25T17:07:17.347Z"
   },
   {
    "duration": 471,
    "start_time": "2021-12-25T17:07:23.875Z"
   },
   {
    "duration": 11,
    "start_time": "2021-12-25T17:07:47.333Z"
   },
   {
    "duration": 14,
    "start_time": "2021-12-25T17:08:12.028Z"
   },
   {
    "duration": 144,
    "start_time": "2021-12-25T17:08:20.843Z"
   },
   {
    "duration": 1628,
    "start_time": "2021-12-25T17:09:25.343Z"
   },
   {
    "duration": 451,
    "start_time": "2021-12-25T17:09:26.973Z"
   },
   {
    "duration": 19,
    "start_time": "2021-12-25T17:09:27.427Z"
   },
   {
    "duration": 737,
    "start_time": "2021-12-25T17:09:27.448Z"
   },
   {
    "duration": 27,
    "start_time": "2021-12-25T17:09:28.188Z"
   },
   {
    "duration": 6791,
    "start_time": "2021-12-25T17:09:28.218Z"
   },
   {
    "duration": 4,
    "start_time": "2021-12-25T17:09:35.012Z"
   },
   {
    "duration": 77,
    "start_time": "2021-12-25T17:09:35.022Z"
   },
   {
    "duration": 4003,
    "start_time": "2021-12-25T17:09:35.104Z"
   },
   {
    "duration": 135,
    "start_time": "2021-12-25T17:09:39.109Z"
   },
   {
    "duration": 188,
    "start_time": "2021-12-25T17:09:39.246Z"
   },
   {
    "duration": 847,
    "start_time": "2021-12-25T17:09:39.436Z"
   },
   {
    "duration": 29,
    "start_time": "2021-12-25T17:09:40.285Z"
   },
   {
    "duration": 4342,
    "start_time": "2021-12-25T17:09:40.316Z"
   },
   {
    "duration": 497,
    "start_time": "2021-12-25T17:09:44.660Z"
   },
   {
    "duration": 409,
    "start_time": "2021-12-25T17:09:45.168Z"
   },
   {
    "duration": 4,
    "start_time": "2021-12-25T17:09:45.579Z"
   },
   {
    "duration": 416,
    "start_time": "2021-12-25T17:09:45.585Z"
   },
   {
    "duration": 442,
    "start_time": "2021-12-25T17:09:46.004Z"
   },
   {
    "duration": 154,
    "start_time": "2021-12-25T17:09:46.448Z"
   },
   {
    "duration": 102,
    "start_time": "2021-12-25T17:09:46.604Z"
   },
   {
    "duration": 630,
    "start_time": "2021-12-25T17:09:46.709Z"
   },
   {
    "duration": 88,
    "start_time": "2021-12-25T17:09:47.345Z"
   },
   {
    "duration": 849,
    "start_time": "2021-12-25T17:09:47.436Z"
   },
   {
    "duration": 2537,
    "start_time": "2021-12-25T17:09:48.288Z"
   },
   {
    "duration": -828,
    "start_time": "2021-12-25T17:09:51.657Z"
   },
   {
    "duration": 1450,
    "start_time": "2021-12-25T17:14:09.105Z"
   },
   {
    "duration": 590,
    "start_time": "2021-12-25T17:14:10.558Z"
   },
   {
    "duration": 21,
    "start_time": "2021-12-25T17:14:11.151Z"
   },
   {
    "duration": 953,
    "start_time": "2021-12-25T17:14:11.175Z"
   },
   {
    "duration": 46,
    "start_time": "2021-12-25T17:14:12.130Z"
   },
   {
    "duration": 5774,
    "start_time": "2021-12-25T17:14:12.178Z"
   },
   {
    "duration": 4,
    "start_time": "2021-12-25T17:14:17.954Z"
   },
   {
    "duration": 68,
    "start_time": "2021-12-25T17:14:17.971Z"
   },
   {
    "duration": 3654,
    "start_time": "2021-12-25T17:14:18.069Z"
   },
   {
    "duration": 156,
    "start_time": "2021-12-25T17:14:21.726Z"
   },
   {
    "duration": 190,
    "start_time": "2021-12-25T17:14:21.885Z"
   },
   {
    "duration": 804,
    "start_time": "2021-12-25T17:14:22.078Z"
   },
   {
    "duration": 28,
    "start_time": "2021-12-25T17:14:22.884Z"
   },
   {
    "duration": 4519,
    "start_time": "2021-12-25T17:14:22.914Z"
   },
   {
    "duration": 575,
    "start_time": "2021-12-25T17:14:27.436Z"
   },
   {
    "duration": 539,
    "start_time": "2021-12-25T17:14:28.014Z"
   },
   {
    "duration": 11,
    "start_time": "2021-12-25T17:14:28.556Z"
   },
   {
    "duration": 400,
    "start_time": "2021-12-25T17:14:28.569Z"
   },
   {
    "duration": 441,
    "start_time": "2021-12-25T17:14:28.971Z"
   },
   {
    "duration": 154,
    "start_time": "2021-12-25T17:14:29.415Z"
   },
   {
    "duration": 112,
    "start_time": "2021-12-25T17:14:29.571Z"
   },
   {
    "duration": 651,
    "start_time": "2021-12-25T17:14:29.686Z"
   },
   {
    "duration": 84,
    "start_time": "2021-12-25T17:14:30.341Z"
   },
   {
    "duration": 1250,
    "start_time": "2021-12-25T17:14:30.428Z"
   },
   {
    "duration": 2438,
    "start_time": "2021-12-25T17:14:31.680Z"
   },
   {
    "duration": -859,
    "start_time": "2021-12-25T17:14:34.981Z"
   },
   {
    "duration": 2271,
    "start_time": "2021-12-25T17:16:06.879Z"
   },
   {
    "duration": 105,
    "start_time": "2021-12-25T17:17:04.002Z"
   },
   {
    "duration": 313,
    "start_time": "2021-12-25T17:17:41.196Z"
   },
   {
    "duration": 313,
    "start_time": "2021-12-25T17:19:06.667Z"
   },
   {
    "duration": 9099,
    "start_time": "2021-12-25T17:19:25.674Z"
   },
   {
    "duration": 335,
    "start_time": "2021-12-25T17:20:26.579Z"
   },
   {
    "duration": 4986,
    "start_time": "2021-12-25T17:21:00.705Z"
   },
   {
    "duration": 1580,
    "start_time": "2021-12-25T17:21:11.437Z"
   },
   {
    "duration": 574,
    "start_time": "2021-12-25T17:21:13.020Z"
   },
   {
    "duration": 21,
    "start_time": "2021-12-25T17:21:13.599Z"
   },
   {
    "duration": 2235,
    "start_time": "2021-12-25T17:21:13.624Z"
   },
   {
    "duration": 31,
    "start_time": "2021-12-25T17:21:15.862Z"
   },
   {
    "duration": 3208,
    "start_time": "2021-12-25T17:21:15.896Z"
   },
   {
    "duration": 3,
    "start_time": "2021-12-25T17:21:19.107Z"
   },
   {
    "duration": 73,
    "start_time": "2021-12-25T17:21:19.114Z"
   },
   {
    "duration": 9229,
    "start_time": "2021-12-25T17:21:19.190Z"
   },
   {
    "duration": 132,
    "start_time": "2021-12-25T17:21:28.421Z"
   },
   {
    "duration": 178,
    "start_time": "2021-12-25T17:21:28.555Z"
   },
   {
    "duration": 779,
    "start_time": "2021-12-25T17:21:28.736Z"
   },
   {
    "duration": 71,
    "start_time": "2021-12-25T17:21:29.518Z"
   },
   {
    "duration": 4922,
    "start_time": "2021-12-25T17:21:29.591Z"
   },
   {
    "duration": 708,
    "start_time": "2021-12-25T17:21:34.515Z"
   },
   {
    "duration": 427,
    "start_time": "2021-12-25T17:21:35.225Z"
   },
   {
    "duration": 2,
    "start_time": "2021-12-25T17:21:35.655Z"
   },
   {
    "duration": 613,
    "start_time": "2021-12-25T17:21:35.667Z"
   },
   {
    "duration": 609,
    "start_time": "2021-12-25T17:21:36.283Z"
   },
   {
    "duration": 148,
    "start_time": "2021-12-25T17:21:36.895Z"
   },
   {
    "duration": 98,
    "start_time": "2021-12-25T17:21:37.046Z"
   },
   {
    "duration": 649,
    "start_time": "2021-12-25T17:21:37.146Z"
   },
   {
    "duration": 84,
    "start_time": "2021-12-25T17:21:37.799Z"
   },
   {
    "duration": 915,
    "start_time": "2021-12-25T17:21:37.886Z"
   },
   {
    "duration": -2617,
    "start_time": "2021-12-25T17:21:41.421Z"
   },
   {
    "duration": -2628,
    "start_time": "2021-12-25T17:21:41.433Z"
   },
   {
    "duration": 1150,
    "start_time": "2021-12-25T17:22:21.034Z"
   },
   {
    "duration": 819,
    "start_time": "2021-12-25T17:22:58.812Z"
   },
   {
    "duration": 1508,
    "start_time": "2021-12-25T17:23:09.447Z"
   },
   {
    "duration": 482,
    "start_time": "2021-12-25T17:23:10.961Z"
   },
   {
    "duration": 20,
    "start_time": "2021-12-25T17:23:11.446Z"
   },
   {
    "duration": 713,
    "start_time": "2021-12-25T17:23:11.469Z"
   },
   {
    "duration": 27,
    "start_time": "2021-12-25T17:23:12.185Z"
   },
   {
    "duration": 6429,
    "start_time": "2021-12-25T17:23:12.215Z"
   },
   {
    "duration": 3,
    "start_time": "2021-12-25T17:23:18.646Z"
   },
   {
    "duration": 68,
    "start_time": "2021-12-25T17:23:18.652Z"
   },
   {
    "duration": 3827,
    "start_time": "2021-12-25T17:23:18.723Z"
   },
   {
    "duration": 124,
    "start_time": "2021-12-25T17:23:22.552Z"
   },
   {
    "duration": 181,
    "start_time": "2021-12-25T17:23:22.678Z"
   },
   {
    "duration": 1004,
    "start_time": "2021-12-25T17:23:22.861Z"
   },
   {
    "duration": 28,
    "start_time": "2021-12-25T17:23:23.867Z"
   },
   {
    "duration": 4363,
    "start_time": "2021-12-25T17:23:23.898Z"
   },
   {
    "duration": 493,
    "start_time": "2021-12-25T17:23:28.263Z"
   },
   {
    "duration": 412,
    "start_time": "2021-12-25T17:23:28.758Z"
   },
   {
    "duration": 3,
    "start_time": "2021-12-25T17:23:29.173Z"
   },
   {
    "duration": 413,
    "start_time": "2021-12-25T17:23:29.178Z"
   },
   {
    "duration": 436,
    "start_time": "2021-12-25T17:23:29.593Z"
   },
   {
    "duration": 157,
    "start_time": "2021-12-25T17:23:30.031Z"
   },
   {
    "duration": 105,
    "start_time": "2021-12-25T17:23:30.190Z"
   },
   {
    "duration": 631,
    "start_time": "2021-12-25T17:23:30.298Z"
   },
   {
    "duration": 79,
    "start_time": "2021-12-25T17:23:30.932Z"
   },
   {
    "duration": 1120,
    "start_time": "2021-12-25T17:23:31.014Z"
   },
   {
    "duration": 4748,
    "start_time": "2021-12-25T17:23:32.137Z"
   },
   {
    "duration": 10,
    "start_time": "2021-12-25T17:23:36.889Z"
   },
   {
    "duration": 1586,
    "start_time": "2021-12-25T17:26:39.581Z"
   },
   {
    "duration": 374,
    "start_time": "2021-12-25T17:26:41.170Z"
   },
   {
    "duration": 22,
    "start_time": "2021-12-25T17:26:41.548Z"
   },
   {
    "duration": 652,
    "start_time": "2021-12-25T17:26:41.573Z"
   },
   {
    "duration": 47,
    "start_time": "2021-12-25T17:26:42.229Z"
   },
   {
    "duration": 4494,
    "start_time": "2021-12-25T17:26:42.279Z"
   },
   {
    "duration": 3,
    "start_time": "2021-12-25T17:26:46.776Z"
   },
   {
    "duration": 85,
    "start_time": "2021-12-25T17:26:46.784Z"
   },
   {
    "duration": 5963,
    "start_time": "2021-12-25T17:26:46.872Z"
   },
   {
    "duration": 142,
    "start_time": "2021-12-25T17:26:52.837Z"
   },
   {
    "duration": 195,
    "start_time": "2021-12-25T17:26:52.982Z"
   },
   {
    "duration": 878,
    "start_time": "2021-12-25T17:26:53.180Z"
   },
   {
    "duration": 30,
    "start_time": "2021-12-25T17:26:54.067Z"
   },
   {
    "duration": 4450,
    "start_time": "2021-12-25T17:26:54.100Z"
   },
   {
    "duration": 486,
    "start_time": "2021-12-25T17:26:58.554Z"
   },
   {
    "duration": 431,
    "start_time": "2021-12-25T17:26:59.043Z"
   },
   {
    "duration": 4,
    "start_time": "2021-12-25T17:26:59.477Z"
   },
   {
    "duration": 429,
    "start_time": "2021-12-25T17:26:59.485Z"
   },
   {
    "duration": 499,
    "start_time": "2021-12-25T17:26:59.917Z"
   },
   {
    "duration": 157,
    "start_time": "2021-12-25T17:27:00.418Z"
   },
   {
    "duration": 108,
    "start_time": "2021-12-25T17:27:00.578Z"
   },
   {
    "duration": 625,
    "start_time": "2021-12-25T17:27:00.688Z"
   },
   {
    "duration": 87,
    "start_time": "2021-12-25T17:27:01.317Z"
   },
   {
    "duration": 1313,
    "start_time": "2021-12-25T17:27:01.407Z"
   },
   {
    "duration": 4571,
    "start_time": "2021-12-25T17:27:02.723Z"
   },
   {
    "duration": 169,
    "start_time": "2021-12-25T17:27:07.298Z"
   },
   {
    "duration": 60,
    "start_time": "2021-12-25T17:34:50.800Z"
   },
   {
    "duration": 69,
    "start_time": "2021-12-25T17:35:10.138Z"
   },
   {
    "duration": 528,
    "start_time": "2021-12-25T17:38:55.076Z"
   },
   {
    "duration": 117,
    "start_time": "2021-12-25T17:40:33.472Z"
   },
   {
    "duration": 135,
    "start_time": "2021-12-25T17:40:41.265Z"
   },
   {
    "duration": 133,
    "start_time": "2021-12-25T17:41:24.890Z"
   },
   {
    "duration": 217,
    "start_time": "2021-12-25T17:42:21.023Z"
   },
   {
    "duration": 446,
    "start_time": "2021-12-25T17:42:55.504Z"
   },
   {
    "duration": 452,
    "start_time": "2021-12-25T17:42:58.859Z"
   },
   {
    "duration": 503,
    "start_time": "2021-12-25T17:43:27.859Z"
   },
   {
    "duration": 7835,
    "start_time": "2021-12-25T17:43:41.540Z"
   },
   {
    "duration": 7683,
    "start_time": "2021-12-25T17:43:56.406Z"
   },
   {
    "duration": 1506,
    "start_time": "2021-12-25T17:44:34.669Z"
   },
   {
    "duration": 547,
    "start_time": "2021-12-25T17:44:36.178Z"
   },
   {
    "duration": 21,
    "start_time": "2021-12-25T17:44:36.728Z"
   },
   {
    "duration": 729,
    "start_time": "2021-12-25T17:44:36.752Z"
   },
   {
    "duration": 28,
    "start_time": "2021-12-25T17:44:37.483Z"
   },
   {
    "duration": 8196,
    "start_time": "2021-12-25T17:44:37.514Z"
   },
   {
    "duration": 3,
    "start_time": "2021-12-25T17:44:45.712Z"
   },
   {
    "duration": 78,
    "start_time": "2021-12-25T17:44:45.719Z"
   },
   {
    "duration": 7802,
    "start_time": "2021-12-25T17:44:45.801Z"
   },
   {
    "duration": 133,
    "start_time": "2021-12-25T17:44:53.605Z"
   },
   {
    "duration": 186,
    "start_time": "2021-12-25T17:44:53.740Z"
   },
   {
    "duration": 758,
    "start_time": "2021-12-25T17:44:53.928Z"
   },
   {
    "duration": 27,
    "start_time": "2021-12-25T17:44:54.689Z"
   },
   {
    "duration": 4474,
    "start_time": "2021-12-25T17:44:54.719Z"
   },
   {
    "duration": 429,
    "start_time": "2021-12-25T17:44:59.196Z"
   },
   {
    "duration": 415,
    "start_time": "2021-12-25T17:44:59.628Z"
   },
   {
    "duration": 3,
    "start_time": "2021-12-25T17:45:00.045Z"
   },
   {
    "duration": 538,
    "start_time": "2021-12-25T17:45:00.050Z"
   },
   {
    "duration": -793,
    "start_time": "2021-12-25T17:45:01.384Z"
   },
   {
    "duration": -803,
    "start_time": "2021-12-25T17:45:01.395Z"
   },
   {
    "duration": -810,
    "start_time": "2021-12-25T17:45:01.404Z"
   },
   {
    "duration": -833,
    "start_time": "2021-12-25T17:45:01.428Z"
   },
   {
    "duration": -842,
    "start_time": "2021-12-25T17:45:01.438Z"
   },
   {
    "duration": -852,
    "start_time": "2021-12-25T17:45:01.449Z"
   },
   {
    "duration": -860,
    "start_time": "2021-12-25T17:45:01.459Z"
   },
   {
    "duration": 415,
    "start_time": "2021-12-25T17:47:24.992Z"
   },
   {
    "duration": 152,
    "start_time": "2021-12-25T17:47:30.843Z"
   },
   {
    "duration": 444,
    "start_time": "2021-12-25T17:47:39.503Z"
   },
   {
    "duration": 153,
    "start_time": "2021-12-25T17:47:40.559Z"
   },
   {
    "duration": 91,
    "start_time": "2021-12-25T17:47:41.522Z"
   },
   {
    "duration": 628,
    "start_time": "2021-12-25T17:47:42.470Z"
   },
   {
    "duration": 72,
    "start_time": "2021-12-25T17:47:43.121Z"
   },
   {
    "duration": 1151,
    "start_time": "2021-12-25T17:47:45.789Z"
   },
   {
    "duration": 184,
    "start_time": "2021-12-25T17:47:48.732Z"
   },
   {
    "duration": 144,
    "start_time": "2021-12-25T17:48:59.265Z"
   },
   {
    "duration": 96,
    "start_time": "2021-12-25T17:50:02.927Z"
   },
   {
    "duration": 58,
    "start_time": "2021-12-25T17:53:08.414Z"
   },
   {
    "duration": 136,
    "start_time": "2021-12-25T17:53:52.217Z"
   },
   {
    "duration": 71,
    "start_time": "2021-12-25T17:53:54.973Z"
   },
   {
    "duration": 320,
    "start_time": "2021-12-25T17:55:18.708Z"
   },
   {
    "duration": 3,
    "start_time": "2021-12-25T17:55:29.338Z"
   },
   {
    "duration": 92,
    "start_time": "2021-12-25T17:55:35.759Z"
   },
   {
    "duration": 90,
    "start_time": "2021-12-25T17:59:02.719Z"
   },
   {
    "duration": 88,
    "start_time": "2021-12-25T17:59:43.358Z"
   },
   {
    "duration": 159,
    "start_time": "2021-12-25T18:00:28.459Z"
   },
   {
    "duration": 212,
    "start_time": "2021-12-25T18:00:42.407Z"
   },
   {
    "duration": 68,
    "start_time": "2021-12-25T18:00:45.877Z"
   },
   {
    "duration": 78,
    "start_time": "2021-12-25T18:29:28.963Z"
   },
   {
    "duration": 415,
    "start_time": "2021-12-25T18:31:23.202Z"
   },
   {
    "duration": 1661,
    "start_time": "2021-12-25T18:31:47.516Z"
   },
   {
    "duration": -764,
    "start_time": "2021-12-25T18:32:26.021Z"
   },
   {
    "duration": 579,
    "start_time": "2021-12-25T18:32:29.365Z"
   },
   {
    "duration": 588,
    "start_time": "2021-12-25T18:32:50.418Z"
   },
   {
    "duration": 1566,
    "start_time": "2021-12-25T18:35:07.659Z"
   },
   {
    "duration": 504,
    "start_time": "2021-12-25T18:35:09.228Z"
   },
   {
    "duration": 20,
    "start_time": "2021-12-25T18:35:09.735Z"
   },
   {
    "duration": 751,
    "start_time": "2021-12-25T18:35:09.758Z"
   },
   {
    "duration": 28,
    "start_time": "2021-12-25T18:35:10.511Z"
   },
   {
    "duration": 9111,
    "start_time": "2021-12-25T18:35:10.542Z"
   },
   {
    "duration": 3,
    "start_time": "2021-12-25T18:35:19.655Z"
   },
   {
    "duration": 54,
    "start_time": "2021-12-25T18:35:19.666Z"
   },
   {
    "duration": 6112,
    "start_time": "2021-12-25T18:35:19.723Z"
   },
   {
    "duration": 121,
    "start_time": "2021-12-25T18:35:25.838Z"
   },
   {
    "duration": 175,
    "start_time": "2021-12-25T18:35:25.961Z"
   },
   {
    "duration": 728,
    "start_time": "2021-12-25T18:35:26.139Z"
   },
   {
    "duration": 28,
    "start_time": "2021-12-25T18:35:26.869Z"
   },
   {
    "duration": 4974,
    "start_time": "2021-12-25T18:35:26.899Z"
   },
   {
    "duration": 491,
    "start_time": "2021-12-25T18:35:31.875Z"
   },
   {
    "duration": 395,
    "start_time": "2021-12-25T18:35:32.369Z"
   },
   {
    "duration": 4,
    "start_time": "2021-12-25T18:35:32.768Z"
   },
   {
    "duration": 414,
    "start_time": "2021-12-25T18:35:32.775Z"
   },
   {
    "duration": 455,
    "start_time": "2021-12-25T18:35:33.192Z"
   },
   {
    "duration": 150,
    "start_time": "2021-12-25T18:35:33.649Z"
   },
   {
    "duration": 112,
    "start_time": "2021-12-25T18:35:33.803Z"
   },
   {
    "duration": 617,
    "start_time": "2021-12-25T18:35:33.918Z"
   },
   {
    "duration": 77,
    "start_time": "2021-12-25T18:35:34.540Z"
   },
   {
    "duration": 1137,
    "start_time": "2021-12-25T18:35:34.619Z"
   },
   {
    "duration": 212,
    "start_time": "2021-12-25T18:35:35.759Z"
   },
   {
    "duration": 103,
    "start_time": "2021-12-25T18:35:35.974Z"
   },
   {
    "duration": 114,
    "start_time": "2021-12-25T18:35:36.080Z"
   },
   {
    "duration": -750,
    "start_time": "2021-12-25T18:35:36.946Z"
   },
   {
    "duration": -759,
    "start_time": "2021-12-25T18:35:36.957Z"
   },
   {
    "duration": 111,
    "start_time": "2021-12-25T18:38:59.997Z"
   },
   {
    "duration": 124,
    "start_time": "2021-12-25T18:39:21.764Z"
   },
   {
    "duration": 501,
    "start_time": "2021-12-25T18:40:08.547Z"
   },
   {
    "duration": 635,
    "start_time": "2021-12-25T18:40:15.441Z"
   },
   {
    "duration": 215,
    "start_time": "2021-12-25T18:40:39.100Z"
   },
   {
    "duration": 150,
    "start_time": "2021-12-25T18:42:12.157Z"
   },
   {
    "duration": 215,
    "start_time": "2021-12-25T18:44:33.175Z"
   },
   {
    "duration": 1545,
    "start_time": "2021-12-25T18:45:38.759Z"
   },
   {
    "duration": 491,
    "start_time": "2021-12-25T18:45:40.307Z"
   },
   {
    "duration": 18,
    "start_time": "2021-12-25T18:45:40.801Z"
   },
   {
    "duration": 743,
    "start_time": "2021-12-25T18:45:40.822Z"
   },
   {
    "duration": 32,
    "start_time": "2021-12-25T18:45:41.568Z"
   },
   {
    "duration": 6844,
    "start_time": "2021-12-25T18:45:41.602Z"
   },
   {
    "duration": 3,
    "start_time": "2021-12-25T18:45:48.449Z"
   },
   {
    "duration": 56,
    "start_time": "2021-12-25T18:45:48.468Z"
   },
   {
    "duration": 4121,
    "start_time": "2021-12-25T18:45:48.528Z"
   },
   {
    "duration": 134,
    "start_time": "2021-12-25T18:45:52.651Z"
   },
   {
    "duration": 188,
    "start_time": "2021-12-25T18:45:52.788Z"
   },
   {
    "duration": 820,
    "start_time": "2021-12-25T18:45:52.979Z"
   },
   {
    "duration": 27,
    "start_time": "2021-12-25T18:45:53.801Z"
   },
   {
    "duration": 4581,
    "start_time": "2021-12-25T18:45:53.831Z"
   },
   {
    "duration": 492,
    "start_time": "2021-12-25T18:45:58.414Z"
   },
   {
    "duration": 467,
    "start_time": "2021-12-25T18:45:58.908Z"
   },
   {
    "duration": 3,
    "start_time": "2021-12-25T18:45:59.378Z"
   },
   {
    "duration": 417,
    "start_time": "2021-12-25T18:45:59.383Z"
   },
   {
    "duration": 453,
    "start_time": "2021-12-25T18:45:59.803Z"
   },
   {
    "duration": 147,
    "start_time": "2021-12-25T18:46:00.259Z"
   },
   {
    "duration": 109,
    "start_time": "2021-12-25T18:46:00.408Z"
   },
   {
    "duration": 623,
    "start_time": "2021-12-25T18:46:00.520Z"
   },
   {
    "duration": 83,
    "start_time": "2021-12-25T18:46:01.147Z"
   },
   {
    "duration": 1179,
    "start_time": "2021-12-25T18:46:01.232Z"
   },
   {
    "duration": 206,
    "start_time": "2021-12-25T18:46:02.414Z"
   },
   {
    "duration": 216,
    "start_time": "2021-12-25T18:46:02.623Z"
   },
   {
    "duration": 114,
    "start_time": "2021-12-25T18:46:02.841Z"
   },
   {
    "duration": -766,
    "start_time": "2021-12-25T18:46:03.723Z"
   },
   {
    "duration": -777,
    "start_time": "2021-12-25T18:46:03.736Z"
   },
   {
    "duration": 1187,
    "start_time": "2021-12-26T08:27:55.968Z"
   },
   {
    "duration": 518,
    "start_time": "2021-12-26T08:27:57.157Z"
   },
   {
    "duration": 14,
    "start_time": "2021-12-26T08:27:57.677Z"
   },
   {
    "duration": 726,
    "start_time": "2021-12-26T08:27:57.693Z"
   },
   {
    "duration": 19,
    "start_time": "2021-12-26T08:27:58.421Z"
   },
   {
    "duration": 2684,
    "start_time": "2021-12-26T08:27:58.442Z"
   },
   {
    "duration": 2,
    "start_time": "2021-12-26T08:28:01.128Z"
   },
   {
    "duration": 44,
    "start_time": "2021-12-26T08:28:01.131Z"
   },
   {
    "duration": 1735,
    "start_time": "2021-12-26T08:28:01.177Z"
   },
   {
    "duration": 101,
    "start_time": "2021-12-26T08:28:02.914Z"
   },
   {
    "duration": 136,
    "start_time": "2021-12-26T08:28:03.017Z"
   },
   {
    "duration": 552,
    "start_time": "2021-12-26T08:28:03.160Z"
   },
   {
    "duration": 23,
    "start_time": "2021-12-26T08:28:03.714Z"
   },
   {
    "duration": 2853,
    "start_time": "2021-12-26T08:28:03.740Z"
   },
   {
    "duration": 330,
    "start_time": "2021-12-26T08:28:06.595Z"
   },
   {
    "duration": 350,
    "start_time": "2021-12-26T08:28:06.927Z"
   },
   {
    "duration": 3,
    "start_time": "2021-12-26T08:28:07.280Z"
   },
   {
    "duration": 321,
    "start_time": "2021-12-26T08:28:07.285Z"
   },
   {
    "duration": 331,
    "start_time": "2021-12-26T08:28:07.608Z"
   },
   {
    "duration": 105,
    "start_time": "2021-12-26T08:28:07.941Z"
   },
   {
    "duration": 82,
    "start_time": "2021-12-26T08:28:08.049Z"
   },
   {
    "duration": 458,
    "start_time": "2021-12-26T08:28:08.133Z"
   },
   {
    "duration": 52,
    "start_time": "2021-12-26T08:28:08.592Z"
   },
   {
    "duration": 918,
    "start_time": "2021-12-26T08:28:08.646Z"
   },
   {
    "duration": 160,
    "start_time": "2021-12-26T08:28:09.566Z"
   },
   {
    "duration": 154,
    "start_time": "2021-12-26T08:28:09.728Z"
   },
   {
    "duration": 83,
    "start_time": "2021-12-26T08:28:09.886Z"
   },
   {
    "duration": 14,
    "start_time": "2021-12-26T08:28:09.958Z"
   },
   {
    "duration": -6,
    "start_time": "2021-12-26T08:28:09.979Z"
   },
   {
    "duration": 313,
    "start_time": "2021-12-26T08:31:01.612Z"
   },
   {
    "duration": 1096,
    "start_time": "2021-12-26T08:31:11.404Z"
   },
   {
    "duration": 403,
    "start_time": "2021-12-26T08:31:12.502Z"
   },
   {
    "duration": 13,
    "start_time": "2021-12-26T08:31:12.907Z"
   },
   {
    "duration": 582,
    "start_time": "2021-12-26T08:31:12.922Z"
   },
   {
    "duration": 21,
    "start_time": "2021-12-26T08:31:13.506Z"
   },
   {
    "duration": 3270,
    "start_time": "2021-12-26T08:31:13.529Z"
   },
   {
    "duration": 3,
    "start_time": "2021-12-26T08:31:16.801Z"
   },
   {
    "duration": 84,
    "start_time": "2021-12-26T08:31:16.806Z"
   },
   {
    "duration": 2325,
    "start_time": "2021-12-26T08:31:16.892Z"
   },
   {
    "duration": 103,
    "start_time": "2021-12-26T08:31:19.219Z"
   },
   {
    "duration": 125,
    "start_time": "2021-12-26T08:31:19.324Z"
   },
   {
    "duration": 580,
    "start_time": "2021-12-26T08:31:19.461Z"
   },
   {
    "duration": 39,
    "start_time": "2021-12-26T08:31:20.042Z"
   },
   {
    "duration": 3689,
    "start_time": "2021-12-26T08:31:20.082Z"
   },
   {
    "duration": 503,
    "start_time": "2021-12-26T08:31:23.773Z"
   },
   {
    "duration": 426,
    "start_time": "2021-12-26T08:31:24.279Z"
   },
   {
    "duration": 3,
    "start_time": "2021-12-26T08:31:24.707Z"
   },
   {
    "duration": 464,
    "start_time": "2021-12-26T08:31:24.711Z"
   },
   {
    "duration": 302,
    "start_time": "2021-12-26T08:31:25.177Z"
   },
   {
    "duration": 110,
    "start_time": "2021-12-26T08:31:25.481Z"
   },
   {
    "duration": 80,
    "start_time": "2021-12-26T08:31:25.593Z"
   },
   {
    "duration": 445,
    "start_time": "2021-12-26T08:31:25.675Z"
   },
   {
    "duration": 62,
    "start_time": "2021-12-26T08:31:26.123Z"
   },
   {
    "duration": 898,
    "start_time": "2021-12-26T08:31:26.186Z"
   },
   {
    "duration": 147,
    "start_time": "2021-12-26T08:31:27.085Z"
   },
   {
    "duration": 322,
    "start_time": "2021-12-26T08:31:27.234Z"
   },
   {
    "duration": -683,
    "start_time": "2021-12-26T08:31:28.241Z"
   },
   {
    "duration": -718,
    "start_time": "2021-12-26T08:31:28.277Z"
   },
   {
    "duration": -759,
    "start_time": "2021-12-26T08:31:28.319Z"
   },
   {
    "duration": 239,
    "start_time": "2021-12-26T08:32:14.828Z"
   },
   {
    "duration": 213,
    "start_time": "2021-12-26T08:32:22.776Z"
   },
   {
    "duration": 296,
    "start_time": "2021-12-26T08:32:54.640Z"
   },
   {
    "duration": 245,
    "start_time": "2021-12-26T08:33:15.471Z"
   },
   {
    "duration": 8,
    "start_time": "2021-12-26T08:35:12.361Z"
   },
   {
    "duration": 1252,
    "start_time": "2021-12-26T08:35:50.689Z"
   },
   {
    "duration": 454,
    "start_time": "2021-12-26T08:35:51.943Z"
   },
   {
    "duration": 14,
    "start_time": "2021-12-26T08:35:52.399Z"
   },
   {
    "duration": 478,
    "start_time": "2021-12-26T08:35:52.415Z"
   },
   {
    "duration": 20,
    "start_time": "2021-12-26T08:35:52.895Z"
   },
   {
    "duration": 4498,
    "start_time": "2021-12-26T08:35:52.916Z"
   },
   {
    "duration": 3,
    "start_time": "2021-12-26T08:35:57.416Z"
   },
   {
    "duration": 43,
    "start_time": "2021-12-26T08:35:57.422Z"
   },
   {
    "duration": 1787,
    "start_time": "2021-12-26T08:35:57.467Z"
   },
   {
    "duration": 105,
    "start_time": "2021-12-26T08:35:59.256Z"
   },
   {
    "duration": 133,
    "start_time": "2021-12-26T08:35:59.362Z"
   },
   {
    "duration": 530,
    "start_time": "2021-12-26T08:35:59.497Z"
   },
   {
    "duration": 31,
    "start_time": "2021-12-26T08:36:00.029Z"
   },
   {
    "duration": 2686,
    "start_time": "2021-12-26T08:36:00.062Z"
   },
   {
    "duration": 337,
    "start_time": "2021-12-26T08:36:02.750Z"
   },
   {
    "duration": 303,
    "start_time": "2021-12-26T08:36:03.089Z"
   },
   {
    "duration": 3,
    "start_time": "2021-12-26T08:36:03.394Z"
   },
   {
    "duration": 294,
    "start_time": "2021-12-26T08:36:03.399Z"
   },
   {
    "duration": 295,
    "start_time": "2021-12-26T08:36:03.694Z"
   },
   {
    "duration": 104,
    "start_time": "2021-12-26T08:36:03.991Z"
   },
   {
    "duration": 80,
    "start_time": "2021-12-26T08:36:04.097Z"
   },
   {
    "duration": 438,
    "start_time": "2021-12-26T08:36:04.180Z"
   },
   {
    "duration": 64,
    "start_time": "2021-12-26T08:36:04.623Z"
   },
   {
    "duration": 886,
    "start_time": "2021-12-26T08:36:04.690Z"
   },
   {
    "duration": 153,
    "start_time": "2021-12-26T08:36:05.578Z"
   },
   {
    "duration": 96,
    "start_time": "2021-12-26T08:36:05.733Z"
   },
   {
    "duration": 69,
    "start_time": "2021-12-26T08:36:05.831Z"
   },
   {
    "duration": 117,
    "start_time": "2021-12-26T08:36:05.785Z"
   },
   {
    "duration": 106,
    "start_time": "2021-12-26T08:36:05.797Z"
   },
   {
    "duration": 1256,
    "start_time": "2021-12-26T08:36:56.455Z"
   },
   {
    "duration": 300,
    "start_time": "2021-12-26T08:36:57.714Z"
   },
   {
    "duration": 12,
    "start_time": "2021-12-26T08:36:58.016Z"
   },
   {
    "duration": 609,
    "start_time": "2021-12-26T08:36:58.030Z"
   },
   {
    "duration": 21,
    "start_time": "2021-12-26T08:36:58.640Z"
   },
   {
    "duration": 3001,
    "start_time": "2021-12-26T08:36:58.662Z"
   },
   {
    "duration": 3,
    "start_time": "2021-12-26T08:37:01.664Z"
   },
   {
    "duration": 44,
    "start_time": "2021-12-26T08:37:01.671Z"
   },
   {
    "duration": 1901,
    "start_time": "2021-12-26T08:37:01.718Z"
   },
   {
    "duration": 101,
    "start_time": "2021-12-26T08:37:03.621Z"
   },
   {
    "duration": 136,
    "start_time": "2021-12-26T08:37:03.724Z"
   },
   {
    "duration": 546,
    "start_time": "2021-12-26T08:37:03.862Z"
   },
   {
    "duration": 18,
    "start_time": "2021-12-26T08:37:04.410Z"
   },
   {
    "duration": 2568,
    "start_time": "2021-12-26T08:37:04.430Z"
   },
   {
    "duration": 329,
    "start_time": "2021-12-26T08:37:06.999Z"
   },
   {
    "duration": 280,
    "start_time": "2021-12-26T08:37:07.330Z"
   },
   {
    "duration": 2,
    "start_time": "2021-12-26T08:37:07.612Z"
   },
   {
    "duration": 283,
    "start_time": "2021-12-26T08:37:07.616Z"
   },
   {
    "duration": 283,
    "start_time": "2021-12-26T08:37:07.901Z"
   },
   {
    "duration": 97,
    "start_time": "2021-12-26T08:37:08.186Z"
   },
   {
    "duration": 82,
    "start_time": "2021-12-26T08:37:08.285Z"
   },
   {
    "duration": 429,
    "start_time": "2021-12-26T08:37:08.369Z"
   },
   {
    "duration": 48,
    "start_time": "2021-12-26T08:37:08.801Z"
   },
   {
    "duration": 833,
    "start_time": "2021-12-26T08:37:08.860Z"
   },
   {
    "duration": 143,
    "start_time": "2021-12-26T08:37:09.695Z"
   },
   {
    "duration": 48,
    "start_time": "2021-12-26T08:37:09.841Z"
   },
   {
    "duration": 72,
    "start_time": "2021-12-26T08:37:09.891Z"
   },
   {
    "duration": 148,
    "start_time": "2021-12-26T08:37:09.817Z"
   },
   {
    "duration": 135,
    "start_time": "2021-12-26T08:37:09.831Z"
   },
   {
    "duration": 59,
    "start_time": "2021-12-26T08:37:51.424Z"
   },
   {
    "duration": 56,
    "start_time": "2021-12-26T08:40:08.372Z"
   },
   {
    "duration": 381,
    "start_time": "2021-12-26T08:40:58.512Z"
   },
   {
    "duration": 330,
    "start_time": "2021-12-26T08:42:05.647Z"
   },
   {
    "duration": 267,
    "start_time": "2021-12-26T08:42:19.622Z"
   },
   {
    "duration": 216,
    "start_time": "2021-12-26T08:42:37.193Z"
   },
   {
    "duration": 330,
    "start_time": "2021-12-26T08:42:55.373Z"
   },
   {
    "duration": 494,
    "start_time": "2021-12-26T08:43:41.043Z"
   },
   {
    "duration": 383,
    "start_time": "2021-12-26T08:44:01.183Z"
   },
   {
    "duration": 355,
    "start_time": "2021-12-26T08:44:10.635Z"
   },
   {
    "duration": 340,
    "start_time": "2021-12-26T08:44:35.414Z"
   },
   {
    "duration": 322,
    "start_time": "2021-12-26T08:47:06.402Z"
   },
   {
    "duration": 340,
    "start_time": "2021-12-26T08:53:19.504Z"
   },
   {
    "duration": 324,
    "start_time": "2021-12-26T08:54:22.459Z"
   },
   {
    "duration": 656,
    "start_time": "2021-12-26T08:57:38.464Z"
   },
   {
    "duration": 663,
    "start_time": "2021-12-26T08:58:17.053Z"
   },
   {
    "duration": 656,
    "start_time": "2021-12-26T08:58:30.962Z"
   },
   {
    "duration": 627,
    "start_time": "2021-12-26T08:59:39.487Z"
   },
   {
    "duration": 795,
    "start_time": "2021-12-26T08:59:42.234Z"
   },
   {
    "duration": 677,
    "start_time": "2021-12-26T08:59:49.675Z"
   },
   {
    "duration": 592,
    "start_time": "2021-12-26T09:07:23.728Z"
   },
   {
    "duration": 615,
    "start_time": "2021-12-26T09:07:45.492Z"
   },
   {
    "duration": 655,
    "start_time": "2021-12-26T09:07:56.743Z"
   },
   {
    "duration": 235,
    "start_time": "2021-12-26T09:10:52.439Z"
   },
   {
    "duration": 40,
    "start_time": "2021-12-26T09:12:54.144Z"
   },
   {
    "duration": 42,
    "start_time": "2021-12-26T09:13:14.242Z"
   },
   {
    "duration": 41,
    "start_time": "2021-12-26T09:13:20.857Z"
   },
   {
    "duration": 32,
    "start_time": "2021-12-26T09:16:21.139Z"
   },
   {
    "duration": 562,
    "start_time": "2021-12-26T09:19:15.672Z"
   },
   {
    "duration": 14,
    "start_time": "2021-12-26T09:19:39.974Z"
   },
   {
    "duration": 339,
    "start_time": "2021-12-26T09:19:45.306Z"
   },
   {
    "duration": 1167,
    "start_time": "2021-12-26T09:20:09.432Z"
   },
   {
    "duration": 391,
    "start_time": "2021-12-26T09:20:10.601Z"
   },
   {
    "duration": 13,
    "start_time": "2021-12-26T09:20:10.994Z"
   },
   {
    "duration": 846,
    "start_time": "2021-12-26T09:20:11.009Z"
   },
   {
    "duration": 22,
    "start_time": "2021-12-26T09:20:11.857Z"
   },
   {
    "duration": 2780,
    "start_time": "2021-12-26T09:20:11.880Z"
   },
   {
    "duration": 2,
    "start_time": "2021-12-26T09:20:14.662Z"
   },
   {
    "duration": 36,
    "start_time": "2021-12-26T09:20:14.666Z"
   },
   {
    "duration": 2004,
    "start_time": "2021-12-26T09:20:14.704Z"
   },
   {
    "duration": 98,
    "start_time": "2021-12-26T09:20:16.710Z"
   },
   {
    "duration": 129,
    "start_time": "2021-12-26T09:20:16.810Z"
   },
   {
    "duration": 595,
    "start_time": "2021-12-26T09:20:16.941Z"
   },
   {
    "duration": 29,
    "start_time": "2021-12-26T09:20:17.538Z"
   },
   {
    "duration": 2671,
    "start_time": "2021-12-26T09:20:17.569Z"
   },
   {
    "duration": 383,
    "start_time": "2021-12-26T09:20:20.242Z"
   },
   {
    "duration": 322,
    "start_time": "2021-12-26T09:20:20.626Z"
   },
   {
    "duration": 10,
    "start_time": "2021-12-26T09:20:20.950Z"
   },
   {
    "duration": 295,
    "start_time": "2021-12-26T09:20:20.962Z"
   },
   {
    "duration": 313,
    "start_time": "2021-12-26T09:20:21.260Z"
   },
   {
    "duration": 115,
    "start_time": "2021-12-26T09:20:21.576Z"
   },
   {
    "duration": 89,
    "start_time": "2021-12-26T09:20:21.693Z"
   },
   {
    "duration": 470,
    "start_time": "2021-12-26T09:20:21.784Z"
   },
   {
    "duration": 55,
    "start_time": "2021-12-26T09:20:22.262Z"
   },
   {
    "duration": 898,
    "start_time": "2021-12-26T09:20:22.319Z"
   },
   {
    "duration": 159,
    "start_time": "2021-12-26T09:20:23.219Z"
   },
   {
    "duration": 36,
    "start_time": "2021-12-26T09:20:23.380Z"
   },
   {
    "duration": 79,
    "start_time": "2021-12-26T09:20:23.418Z"
   },
   {
    "duration": 63,
    "start_time": "2021-12-26T09:20:23.499Z"
   },
   {
    "duration": 706,
    "start_time": "2021-12-26T09:20:23.564Z"
   },
   {
    "duration": 43,
    "start_time": "2021-12-26T09:20:24.272Z"
   },
   {
    "duration": 14,
    "start_time": "2021-12-26T09:20:24.317Z"
   },
   {
    "duration": 6952,
    "start_time": "2021-12-26T09:20:24.333Z"
   },
   {
    "duration": 6,
    "start_time": "2021-12-26T10:27:49.296Z"
   },
   {
    "duration": 1113,
    "start_time": "2021-12-26T10:38:06.009Z"
   },
   {
    "duration": 365,
    "start_time": "2021-12-26T10:38:07.124Z"
   },
   {
    "duration": 19,
    "start_time": "2021-12-26T10:38:07.492Z"
   },
   {
    "duration": 563,
    "start_time": "2021-12-26T10:38:07.514Z"
   },
   {
    "duration": 20,
    "start_time": "2021-12-26T10:38:08.080Z"
   },
   {
    "duration": 2909,
    "start_time": "2021-12-26T10:38:08.102Z"
   },
   {
    "duration": 2,
    "start_time": "2021-12-26T10:38:11.013Z"
   },
   {
    "duration": 51,
    "start_time": "2021-12-26T10:38:11.018Z"
   },
   {
    "duration": 1933,
    "start_time": "2021-12-26T10:38:11.072Z"
   },
   {
    "duration": 112,
    "start_time": "2021-12-26T10:38:13.007Z"
   },
   {
    "duration": 140,
    "start_time": "2021-12-26T10:38:13.121Z"
   },
   {
    "duration": 628,
    "start_time": "2021-12-26T10:38:13.263Z"
   },
   {
    "duration": 20,
    "start_time": "2021-12-26T10:38:13.893Z"
   },
   {
    "duration": 2706,
    "start_time": "2021-12-26T10:38:13.915Z"
   },
   {
    "duration": 350,
    "start_time": "2021-12-26T10:38:16.623Z"
   },
   {
    "duration": 321,
    "start_time": "2021-12-26T10:38:16.975Z"
   },
   {
    "duration": 2,
    "start_time": "2021-12-26T10:38:17.298Z"
   },
   {
    "duration": 293,
    "start_time": "2021-12-26T10:38:17.302Z"
   },
   {
    "duration": 301,
    "start_time": "2021-12-26T10:38:17.598Z"
   },
   {
    "duration": 104,
    "start_time": "2021-12-26T10:38:17.900Z"
   },
   {
    "duration": 74,
    "start_time": "2021-12-26T10:38:18.006Z"
   },
   {
    "duration": 439,
    "start_time": "2021-12-26T10:38:18.082Z"
   },
   {
    "duration": 59,
    "start_time": "2021-12-26T10:38:18.524Z"
   },
   {
    "duration": 855,
    "start_time": "2021-12-26T10:38:18.585Z"
   },
   {
    "duration": 141,
    "start_time": "2021-12-26T10:38:19.442Z"
   },
   {
    "duration": 33,
    "start_time": "2021-12-26T10:38:19.585Z"
   },
   {
    "duration": 81,
    "start_time": "2021-12-26T10:38:19.619Z"
   },
   {
    "duration": 58,
    "start_time": "2021-12-26T10:38:19.702Z"
   },
   {
    "duration": 680,
    "start_time": "2021-12-26T10:38:19.762Z"
   },
   {
    "duration": 47,
    "start_time": "2021-12-26T10:38:20.444Z"
   },
   {
    "duration": 13,
    "start_time": "2021-12-26T10:38:20.493Z"
   },
   {
    "duration": 71,
    "start_time": "2021-12-26T10:38:20.507Z"
   },
   {
    "duration": 1134,
    "start_time": "2021-12-26T11:10:15.084Z"
   },
   {
    "duration": 8,
    "start_time": "2021-12-26T11:10:34.188Z"
   },
   {
    "duration": 73,
    "start_time": "2021-12-26T11:11:12.551Z"
   },
   {
    "duration": 8,
    "start_time": "2021-12-26T11:11:31.797Z"
   },
   {
    "duration": 1356,
    "start_time": "2021-12-26T11:12:20.533Z"
   },
   {
    "duration": 5443,
    "start_time": "2021-12-26T11:13:10.458Z"
   },
   {
    "duration": 6,
    "start_time": "2021-12-26T11:13:39.281Z"
   },
   {
    "duration": 929,
    "start_time": "2021-12-26T11:13:47.777Z"
   },
   {
    "duration": 275,
    "start_time": "2021-12-26T11:31:02.010Z"
   },
   {
    "duration": 8,
    "start_time": "2021-12-26T11:31:23.455Z"
   },
   {
    "duration": 11,
    "start_time": "2021-12-26T11:31:38.629Z"
   },
   {
    "duration": 37,
    "start_time": "2021-12-26T11:31:53.314Z"
   },
   {
    "duration": 46,
    "start_time": "2021-12-26T11:33:11.570Z"
   },
   {
    "duration": 41,
    "start_time": "2021-12-26T11:33:59.368Z"
   },
   {
    "duration": 16,
    "start_time": "2021-12-26T11:37:39.714Z"
   },
   {
    "duration": 46,
    "start_time": "2021-12-26T11:42:03.892Z"
   },
   {
    "duration": 2977,
    "start_time": "2021-12-26T11:44:10.879Z"
   },
   {
    "duration": 2297,
    "start_time": "2021-12-26T11:44:26.838Z"
   },
   {
    "duration": 1132,
    "start_time": "2021-12-26T11:44:36.964Z"
   },
   {
    "duration": 348,
    "start_time": "2021-12-26T11:44:38.098Z"
   },
   {
    "duration": 13,
    "start_time": "2021-12-26T11:44:38.449Z"
   },
   {
    "duration": 541,
    "start_time": "2021-12-26T11:44:38.464Z"
   },
   {
    "duration": 18,
    "start_time": "2021-12-26T11:44:39.006Z"
   },
   {
    "duration": 3016,
    "start_time": "2021-12-26T11:44:39.026Z"
   },
   {
    "duration": 2,
    "start_time": "2021-12-26T11:44:42.044Z"
   },
   {
    "duration": 48,
    "start_time": "2021-12-26T11:44:42.062Z"
   },
   {
    "duration": 1934,
    "start_time": "2021-12-26T11:44:42.112Z"
   },
   {
    "duration": 98,
    "start_time": "2021-12-26T11:44:44.048Z"
   },
   {
    "duration": 134,
    "start_time": "2021-12-26T11:44:44.148Z"
   },
   {
    "duration": 594,
    "start_time": "2021-12-26T11:44:44.284Z"
   },
   {
    "duration": 19,
    "start_time": "2021-12-26T11:44:44.880Z"
   },
   {
    "duration": 3014,
    "start_time": "2021-12-26T11:44:44.901Z"
   },
   {
    "duration": 344,
    "start_time": "2021-12-26T11:44:47.916Z"
   },
   {
    "duration": 278,
    "start_time": "2021-12-26T11:44:48.262Z"
   },
   {
    "duration": 2,
    "start_time": "2021-12-26T11:44:48.542Z"
   },
   {
    "duration": 290,
    "start_time": "2021-12-26T11:44:48.546Z"
   },
   {
    "duration": 288,
    "start_time": "2021-12-26T11:44:48.838Z"
   },
   {
    "duration": 104,
    "start_time": "2021-12-26T11:44:49.128Z"
   },
   {
    "duration": 72,
    "start_time": "2021-12-26T11:44:49.234Z"
   },
   {
    "duration": 435,
    "start_time": "2021-12-26T11:44:49.308Z"
   },
   {
    "duration": 58,
    "start_time": "2021-12-26T11:44:49.746Z"
   },
   {
    "duration": 842,
    "start_time": "2021-12-26T11:44:49.806Z"
   },
   {
    "duration": 154,
    "start_time": "2021-12-26T11:44:50.650Z"
   },
   {
    "duration": 30,
    "start_time": "2021-12-26T11:44:50.806Z"
   },
   {
    "duration": 77,
    "start_time": "2021-12-26T11:44:50.837Z"
   },
   {
    "duration": 65,
    "start_time": "2021-12-26T11:44:50.916Z"
   },
   {
    "duration": 639,
    "start_time": "2021-12-26T11:44:50.983Z"
   },
   {
    "duration": 47,
    "start_time": "2021-12-26T11:44:51.624Z"
   },
   {
    "duration": 13,
    "start_time": "2021-12-26T11:44:51.673Z"
   },
   {
    "duration": 44,
    "start_time": "2021-12-26T11:44:51.688Z"
   },
   {
    "duration": 70,
    "start_time": "2021-12-26T11:44:51.734Z"
   },
   {
    "duration": 5,
    "start_time": "2021-12-26T11:50:57.437Z"
   },
   {
    "duration": 321,
    "start_time": "2021-12-26T11:53:40.681Z"
   },
   {
    "duration": 524,
    "start_time": "2021-12-26T11:56:16.840Z"
   },
   {
    "duration": 211,
    "start_time": "2021-12-26T11:57:31.055Z"
   },
   {
    "duration": 9,
    "start_time": "2021-12-26T11:57:40.027Z"
   },
   {
    "duration": 8,
    "start_time": "2021-12-26T11:58:11.562Z"
   },
   {
    "duration": 215,
    "start_time": "2021-12-26T12:00:18.252Z"
   },
   {
    "duration": 8,
    "start_time": "2021-12-26T12:00:31.320Z"
   },
   {
    "duration": 325,
    "start_time": "2021-12-26T12:00:39.151Z"
   },
   {
    "duration": 256,
    "start_time": "2021-12-26T12:00:42.079Z"
   },
   {
    "duration": 263,
    "start_time": "2021-12-26T12:01:25.417Z"
   },
   {
    "duration": 71,
    "start_time": "2021-12-26T12:03:05.754Z"
   },
   {
    "duration": 6,
    "start_time": "2021-12-26T12:03:23.867Z"
   },
   {
    "duration": 273,
    "start_time": "2021-12-26T12:03:34.558Z"
   },
   {
    "duration": 7,
    "start_time": "2021-12-26T12:06:14.587Z"
   },
   {
    "duration": 263,
    "start_time": "2021-12-26T12:06:20.113Z"
   },
   {
    "duration": 13,
    "start_time": "2021-12-26T12:16:37.861Z"
   },
   {
    "duration": 76,
    "start_time": "2021-12-26T12:18:36.166Z"
   },
   {
    "duration": 29,
    "start_time": "2021-12-26T12:19:13.950Z"
   },
   {
    "duration": 36,
    "start_time": "2021-12-26T12:20:36.620Z"
   },
   {
    "duration": 218,
    "start_time": "2021-12-26T12:21:07.572Z"
   },
   {
    "duration": 604,
    "start_time": "2021-12-26T12:21:13.648Z"
   },
   {
    "duration": 385,
    "start_time": "2021-12-26T12:26:15.052Z"
   },
   {
    "duration": 441,
    "start_time": "2021-12-26T12:26:47.503Z"
   },
   {
    "duration": 389,
    "start_time": "2021-12-26T12:26:56.508Z"
   },
   {
    "duration": 5439,
    "start_time": "2021-12-26T12:28:45.934Z"
   },
   {
    "duration": 449,
    "start_time": "2021-12-26T12:28:55.573Z"
   },
   {
    "duration": 759,
    "start_time": "2021-12-26T12:29:27.716Z"
   },
   {
    "duration": 320,
    "start_time": "2021-12-26T12:31:36.493Z"
   },
   {
    "duration": 605,
    "start_time": "2021-12-26T12:32:08.474Z"
   },
   {
    "duration": 311,
    "start_time": "2021-12-26T12:33:46.585Z"
   },
   {
    "duration": 326,
    "start_time": "2021-12-26T12:34:01.472Z"
   },
   {
    "duration": 322,
    "start_time": "2021-12-26T12:34:46.488Z"
   },
   {
    "duration": 300,
    "start_time": "2021-12-26T12:37:13.828Z"
   },
   {
    "duration": 23,
    "start_time": "2021-12-26T12:37:29.895Z"
   },
   {
    "duration": 298,
    "start_time": "2021-12-26T12:38:38.938Z"
   },
   {
    "duration": 305,
    "start_time": "2021-12-26T12:41:03.676Z"
   },
   {
    "duration": 214,
    "start_time": "2021-12-26T12:51:12.498Z"
   },
   {
    "duration": 31,
    "start_time": "2021-12-26T12:51:33.982Z"
   },
   {
    "duration": 22,
    "start_time": "2021-12-26T12:52:14.460Z"
   },
   {
    "duration": 20,
    "start_time": "2021-12-26T12:52:23.073Z"
   },
   {
    "duration": 7,
    "start_time": "2021-12-26T12:53:02.553Z"
   },
   {
    "duration": 175,
    "start_time": "2021-12-26T12:54:18.283Z"
   },
   {
    "duration": 356,
    "start_time": "2021-12-26T12:56:40.933Z"
   },
   {
    "duration": 83,
    "start_time": "2021-12-26T12:56:49.179Z"
   },
   {
    "duration": 13,
    "start_time": "2021-12-26T12:57:14.557Z"
   },
   {
    "duration": 212,
    "start_time": "2021-12-26T12:57:37.027Z"
   },
   {
    "duration": 14,
    "start_time": "2021-12-26T12:57:49.914Z"
   },
   {
    "duration": 62,
    "start_time": "2021-12-26T12:58:28.751Z"
   },
   {
    "duration": 219,
    "start_time": "2021-12-26T12:58:48.157Z"
   },
   {
    "duration": 58,
    "start_time": "2021-12-26T12:58:53.987Z"
   },
   {
    "duration": 14,
    "start_time": "2021-12-26T13:00:33.033Z"
   },
   {
    "duration": 14,
    "start_time": "2021-12-26T13:00:38.951Z"
   },
   {
    "duration": 22,
    "start_time": "2021-12-26T13:01:02.575Z"
   },
   {
    "duration": 19,
    "start_time": "2021-12-26T13:01:36.411Z"
   },
   {
    "duration": 21,
    "start_time": "2021-12-26T13:01:46.116Z"
   },
   {
    "duration": 209,
    "start_time": "2021-12-26T13:06:22.589Z"
   },
   {
    "duration": 45,
    "start_time": "2021-12-26T13:06:27.374Z"
   },
   {
    "duration": 31,
    "start_time": "2021-12-26T13:07:05.721Z"
   },
   {
    "duration": 255,
    "start_time": "2021-12-26T13:09:12.732Z"
   },
   {
    "duration": 310,
    "start_time": "2021-12-26T13:09:29.298Z"
   },
   {
    "duration": 1129,
    "start_time": "2021-12-26T13:14:10.765Z"
   },
   {
    "duration": 361,
    "start_time": "2021-12-26T13:14:11.896Z"
   },
   {
    "duration": 13,
    "start_time": "2021-12-26T13:14:12.259Z"
   },
   {
    "duration": 885,
    "start_time": "2021-12-26T13:14:12.274Z"
   },
   {
    "duration": 20,
    "start_time": "2021-12-26T13:14:13.161Z"
   },
   {
    "duration": 2903,
    "start_time": "2021-12-26T13:14:13.183Z"
   },
   {
    "duration": 2,
    "start_time": "2021-12-26T13:14:16.088Z"
   },
   {
    "duration": 45,
    "start_time": "2021-12-26T13:14:16.092Z"
   },
   {
    "duration": 2173,
    "start_time": "2021-12-26T13:14:16.139Z"
   },
   {
    "duration": 103,
    "start_time": "2021-12-26T13:14:18.314Z"
   },
   {
    "duration": 133,
    "start_time": "2021-12-26T13:14:18.418Z"
   },
   {
    "duration": 534,
    "start_time": "2021-12-26T13:14:18.561Z"
   },
   {
    "duration": 20,
    "start_time": "2021-12-26T13:14:19.097Z"
   },
   {
    "duration": 2822,
    "start_time": "2021-12-26T13:14:19.119Z"
   },
   {
    "duration": 309,
    "start_time": "2021-12-26T13:14:21.943Z"
   },
   {
    "duration": 300,
    "start_time": "2021-12-26T13:14:22.254Z"
   },
   {
    "duration": 4,
    "start_time": "2021-12-26T13:14:22.557Z"
   },
   {
    "duration": 281,
    "start_time": "2021-12-26T13:14:22.562Z"
   },
   {
    "duration": 293,
    "start_time": "2021-12-26T13:14:22.844Z"
   },
   {
    "duration": 103,
    "start_time": "2021-12-26T13:14:23.139Z"
   },
   {
    "duration": 80,
    "start_time": "2021-12-26T13:14:23.243Z"
   },
   {
    "duration": 430,
    "start_time": "2021-12-26T13:14:23.325Z"
   },
   {
    "duration": 57,
    "start_time": "2021-12-26T13:14:23.761Z"
   },
   {
    "duration": 866,
    "start_time": "2021-12-26T13:14:23.820Z"
   },
   {
    "duration": 158,
    "start_time": "2021-12-26T13:14:24.688Z"
   },
   {
    "duration": 35,
    "start_time": "2021-12-26T13:14:24.847Z"
   },
   {
    "duration": 58,
    "start_time": "2021-12-26T13:14:24.884Z"
   },
   {
    "duration": 66,
    "start_time": "2021-12-26T13:14:24.944Z"
   },
   {
    "duration": 670,
    "start_time": "2021-12-26T13:14:25.012Z"
   },
   {
    "duration": 38,
    "start_time": "2021-12-26T13:14:25.684Z"
   },
   {
    "duration": 12,
    "start_time": "2021-12-26T13:14:25.723Z"
   },
   {
    "duration": 64,
    "start_time": "2021-12-26T13:14:25.737Z"
   },
   {
    "duration": 11,
    "start_time": "2021-12-26T13:14:25.803Z"
   },
   {
    "duration": 362,
    "start_time": "2021-12-26T13:14:25.816Z"
   },
   {
    "duration": 384,
    "start_time": "2021-12-26T13:14:26.180Z"
   },
   {
    "duration": 745,
    "start_time": "2021-12-26T13:14:26.565Z"
   },
   {
    "duration": 599,
    "start_time": "2021-12-26T13:14:27.313Z"
   },
   {
    "duration": 329,
    "start_time": "2021-12-26T13:14:27.913Z"
   },
   {
    "duration": 186,
    "start_time": "2021-12-26T13:14:28.244Z"
   },
   {
    "duration": 34,
    "start_time": "2021-12-26T13:14:28.432Z"
   },
   {
    "duration": 297,
    "start_time": "2021-12-26T13:14:28.468Z"
   },
   {
    "duration": 293,
    "start_time": "2021-12-26T13:15:42.551Z"
   },
   {
    "duration": 124,
    "start_time": "2021-12-26T13:17:13.397Z"
   },
   {
    "duration": 316,
    "start_time": "2021-12-26T13:17:26.355Z"
   },
   {
    "duration": 2583,
    "start_time": "2021-12-26T13:17:33.882Z"
   },
   {
    "duration": 303,
    "start_time": "2021-12-26T13:17:36.467Z"
   },
   {
    "duration": 13,
    "start_time": "2021-12-26T13:17:36.772Z"
   },
   {
    "duration": 974,
    "start_time": "2021-12-26T13:17:36.787Z"
   },
   {
    "duration": 19,
    "start_time": "2021-12-26T13:17:37.763Z"
   },
   {
    "duration": 2483,
    "start_time": "2021-12-26T13:17:37.784Z"
   },
   {
    "duration": 2,
    "start_time": "2021-12-26T13:17:40.269Z"
   },
   {
    "duration": 37,
    "start_time": "2021-12-26T13:17:40.274Z"
   },
   {
    "duration": 2136,
    "start_time": "2021-12-26T13:17:40.313Z"
   },
   {
    "duration": 96,
    "start_time": "2021-12-26T13:17:42.451Z"
   },
   {
    "duration": 170,
    "start_time": "2021-12-26T13:17:42.549Z"
   },
   {
    "duration": 568,
    "start_time": "2021-12-26T13:17:42.721Z"
   },
   {
    "duration": 20,
    "start_time": "2021-12-26T13:17:43.292Z"
   },
   {
    "duration": 2645,
    "start_time": "2021-12-26T13:17:43.314Z"
   },
   {
    "duration": 348,
    "start_time": "2021-12-26T13:17:45.961Z"
   },
   {
    "duration": 283,
    "start_time": "2021-12-26T13:17:46.311Z"
   },
   {
    "duration": 3,
    "start_time": "2021-12-26T13:17:46.596Z"
   },
   {
    "duration": 286,
    "start_time": "2021-12-26T13:17:46.600Z"
   },
   {
    "duration": 315,
    "start_time": "2021-12-26T13:17:46.888Z"
   },
   {
    "duration": 107,
    "start_time": "2021-12-26T13:17:47.205Z"
   },
   {
    "duration": 86,
    "start_time": "2021-12-26T13:17:47.314Z"
   },
   {
    "duration": 424,
    "start_time": "2021-12-26T13:17:47.402Z"
   },
   {
    "duration": 52,
    "start_time": "2021-12-26T13:17:47.829Z"
   },
   {
    "duration": 867,
    "start_time": "2021-12-26T13:17:47.884Z"
   },
   {
    "duration": 221,
    "start_time": "2021-12-26T13:17:48.753Z"
   },
   {
    "duration": 33,
    "start_time": "2021-12-26T13:17:48.976Z"
   },
   {
    "duration": 88,
    "start_time": "2021-12-26T13:17:49.010Z"
   },
   {
    "duration": 60,
    "start_time": "2021-12-26T13:17:49.101Z"
   },
   {
    "duration": 654,
    "start_time": "2021-12-26T13:17:49.163Z"
   },
   {
    "duration": 61,
    "start_time": "2021-12-26T13:17:49.819Z"
   },
   {
    "duration": 12,
    "start_time": "2021-12-26T13:17:49.882Z"
   },
   {
    "duration": 42,
    "start_time": "2021-12-26T13:17:49.897Z"
   },
   {
    "duration": 10,
    "start_time": "2021-12-26T13:17:49.961Z"
   },
   {
    "duration": 312,
    "start_time": "2021-12-26T13:17:49.973Z"
   },
   {
    "duration": 395,
    "start_time": "2021-12-26T13:17:50.287Z"
   },
   {
    "duration": 724,
    "start_time": "2021-12-26T13:17:50.684Z"
   },
   {
    "duration": 632,
    "start_time": "2021-12-26T13:17:51.410Z"
   },
   {
    "duration": 325,
    "start_time": "2021-12-26T13:17:52.044Z"
   },
   {
    "duration": 192,
    "start_time": "2021-12-26T13:17:52.370Z"
   },
   {
    "duration": 20,
    "start_time": "2021-12-26T13:17:52.564Z"
   },
   {
    "duration": 277,
    "start_time": "2021-12-26T13:17:52.586Z"
   },
   {
    "duration": 344,
    "start_time": "2021-12-26T14:21:12.356Z"
   },
   {
    "duration": 342,
    "start_time": "2021-12-26T14:24:53.104Z"
   },
   {
    "duration": 721,
    "start_time": "2021-12-26T14:30:44.578Z"
   },
   {
    "duration": 70,
    "start_time": "2021-12-26T14:32:23.094Z"
   },
   {
    "duration": 1133,
    "start_time": "2021-12-26T14:32:27.431Z"
   },
   {
    "duration": 67,
    "start_time": "2021-12-26T14:32:52.466Z"
   },
   {
    "duration": 707,
    "start_time": "2021-12-26T14:32:56.767Z"
   },
   {
    "duration": 902,
    "start_time": "2021-12-26T14:33:16.531Z"
   },
   {
    "duration": 4,
    "start_time": "2021-12-26T14:46:16.854Z"
   },
   {
    "duration": 222,
    "start_time": "2021-12-26T14:47:16.942Z"
   },
   {
    "duration": 240,
    "start_time": "2021-12-26T14:47:32.852Z"
   },
   {
    "duration": 15,
    "start_time": "2021-12-26T14:47:47.726Z"
   },
   {
    "duration": 263,
    "start_time": "2021-12-26T14:47:58.576Z"
   },
   {
    "duration": 37,
    "start_time": "2021-12-26T14:48:01.674Z"
   },
   {
    "duration": 43,
    "start_time": "2021-12-26T14:48:19.524Z"
   },
   {
    "duration": 42,
    "start_time": "2021-12-26T14:49:25.612Z"
   },
   {
    "duration": 20,
    "start_time": "2021-12-26T14:50:50.667Z"
   },
   {
    "duration": 13,
    "start_time": "2021-12-26T14:51:05.945Z"
   },
   {
    "duration": 19,
    "start_time": "2021-12-26T14:55:09.792Z"
   },
   {
    "duration": 29,
    "start_time": "2021-12-26T14:55:41.353Z"
   },
   {
    "duration": 66,
    "start_time": "2021-12-26T14:58:12.386Z"
   },
   {
    "duration": 276,
    "start_time": "2021-12-26T14:58:16.080Z"
   },
   {
    "duration": 301,
    "start_time": "2021-12-26T14:58:23.530Z"
   },
   {
    "duration": 49,
    "start_time": "2021-12-26T14:58:44.489Z"
   },
   {
    "duration": 116,
    "start_time": "2021-12-26T14:59:24.722Z"
   },
   {
    "duration": 90,
    "start_time": "2021-12-26T15:01:18.762Z"
   },
   {
    "duration": 70,
    "start_time": "2021-12-26T15:01:53.386Z"
   },
   {
    "duration": 366,
    "start_time": "2021-12-26T15:02:17.094Z"
   },
   {
    "duration": 5,
    "start_time": "2021-12-26T15:04:34.263Z"
   },
   {
    "duration": 5,
    "start_time": "2021-12-26T15:05:43.056Z"
   },
   {
    "duration": 9,
    "start_time": "2021-12-26T15:07:42.905Z"
   },
   {
    "duration": 5403,
    "start_time": "2021-12-26T15:08:50.610Z"
   },
   {
    "duration": 8,
    "start_time": "2021-12-26T15:08:58.368Z"
   },
   {
    "duration": 266,
    "start_time": "2021-12-26T15:09:18.696Z"
   },
   {
    "duration": 983,
    "start_time": "2021-12-26T15:09:27.112Z"
   },
   {
    "duration": 51,
    "start_time": "2021-12-26T15:11:27.596Z"
   },
   {
    "duration": 45,
    "start_time": "2021-12-26T15:11:43.789Z"
   },
   {
    "duration": 8,
    "start_time": "2021-12-26T15:11:45.069Z"
   },
   {
    "duration": 318,
    "start_time": "2021-12-26T15:11:46.587Z"
   },
   {
    "duration": 267,
    "start_time": "2021-12-26T15:11:47.233Z"
   },
   {
    "duration": 721,
    "start_time": "2021-12-26T15:11:49.873Z"
   },
   {
    "duration": 583,
    "start_time": "2021-12-26T15:11:50.786Z"
   },
   {
    "duration": 303,
    "start_time": "2021-12-26T15:11:51.724Z"
   },
   {
    "duration": 168,
    "start_time": "2021-12-26T15:11:52.634Z"
   },
   {
    "duration": 21,
    "start_time": "2021-12-26T15:11:53.985Z"
   },
   {
    "duration": 734,
    "start_time": "2021-12-26T15:11:55.577Z"
   },
   {
    "duration": 11,
    "start_time": "2021-12-26T15:12:21.335Z"
   },
   {
    "duration": 10,
    "start_time": "2021-12-26T15:13:49.517Z"
   },
   {
    "duration": 14,
    "start_time": "2021-12-26T15:14:34.368Z"
   },
   {
    "duration": 13,
    "start_time": "2021-12-26T15:15:09.211Z"
   },
   {
    "duration": 14,
    "start_time": "2021-12-26T15:21:06.121Z"
   },
   {
    "duration": 18,
    "start_time": "2021-12-26T15:22:55.462Z"
   },
   {
    "duration": 14,
    "start_time": "2021-12-26T15:23:44.067Z"
   },
   {
    "duration": 15,
    "start_time": "2021-12-26T15:24:23.966Z"
   },
   {
    "duration": 91,
    "start_time": "2021-12-26T15:25:11.838Z"
   },
   {
    "duration": 15,
    "start_time": "2021-12-26T15:25:25.897Z"
   },
   {
    "duration": 325,
    "start_time": "2021-12-26T15:25:35.630Z"
   },
   {
    "duration": 14,
    "start_time": "2021-12-26T15:25:46.645Z"
   },
   {
    "duration": 14,
    "start_time": "2021-12-26T15:25:55.792Z"
   },
   {
    "duration": 15,
    "start_time": "2021-12-26T15:26:30.643Z"
   },
   {
    "duration": 16,
    "start_time": "2021-12-26T15:26:43.306Z"
   },
   {
    "duration": 70,
    "start_time": "2021-12-26T15:28:26.717Z"
   },
   {
    "duration": 68,
    "start_time": "2021-12-26T15:28:58.872Z"
   },
   {
    "duration": 99,
    "start_time": "2021-12-26T15:29:14.730Z"
   },
   {
    "duration": 19,
    "start_time": "2021-12-26T15:30:07.441Z"
   },
   {
    "duration": 15,
    "start_time": "2021-12-26T15:30:38.780Z"
   },
   {
    "duration": 17,
    "start_time": "2021-12-26T15:54:00.149Z"
   },
   {
    "duration": 18,
    "start_time": "2021-12-26T15:54:39.743Z"
   },
   {
    "duration": 18,
    "start_time": "2021-12-26T15:58:16.453Z"
   },
   {
    "duration": 18,
    "start_time": "2021-12-26T15:58:39.967Z"
   },
   {
    "duration": 18,
    "start_time": "2021-12-26T15:59:00.422Z"
   },
   {
    "duration": 18,
    "start_time": "2021-12-26T15:59:22.545Z"
   },
   {
    "duration": 18,
    "start_time": "2021-12-26T15:59:44.572Z"
   },
   {
    "duration": 22,
    "start_time": "2021-12-26T16:00:15.009Z"
   },
   {
    "duration": 23,
    "start_time": "2021-12-26T16:03:00.370Z"
   },
   {
    "duration": 22,
    "start_time": "2021-12-26T16:03:16.551Z"
   },
   {
    "duration": 24,
    "start_time": "2021-12-26T16:18:23.553Z"
   },
   {
    "duration": 25,
    "start_time": "2021-12-26T16:18:39.462Z"
   },
   {
    "duration": 60,
    "start_time": "2021-12-26T16:23:22.887Z"
   },
   {
    "duration": 2429,
    "start_time": "2021-12-26T16:24:14.916Z"
   },
   {
    "duration": 3412,
    "start_time": "2021-12-26T16:24:44.553Z"
   },
   {
    "duration": 3502,
    "start_time": "2021-12-26T16:25:08.750Z"
   },
   {
    "duration": 59,
    "start_time": "2021-12-26T16:26:01.277Z"
   },
   {
    "duration": 1155,
    "start_time": "2021-12-26T16:26:17.807Z"
   },
   {
    "duration": 351,
    "start_time": "2021-12-26T16:26:18.964Z"
   },
   {
    "duration": 14,
    "start_time": "2021-12-26T16:26:19.316Z"
   },
   {
    "duration": 652,
    "start_time": "2021-12-26T16:26:19.331Z"
   },
   {
    "duration": 22,
    "start_time": "2021-12-26T16:26:19.985Z"
   },
   {
    "duration": 2723,
    "start_time": "2021-12-26T16:26:20.009Z"
   },
   {
    "duration": 2,
    "start_time": "2021-12-26T16:26:22.734Z"
   },
   {
    "duration": 42,
    "start_time": "2021-12-26T16:26:22.738Z"
   },
   {
    "duration": 1735,
    "start_time": "2021-12-26T16:26:22.783Z"
   },
   {
    "duration": 99,
    "start_time": "2021-12-26T16:26:24.519Z"
   },
   {
    "duration": 192,
    "start_time": "2021-12-26T16:26:24.620Z"
   },
   {
    "duration": 540,
    "start_time": "2021-12-26T16:26:24.814Z"
   },
   {
    "duration": 22,
    "start_time": "2021-12-26T16:26:25.360Z"
   },
   {
    "duration": 2837,
    "start_time": "2021-12-26T16:26:25.384Z"
   },
   {
    "duration": 377,
    "start_time": "2021-12-26T16:26:28.224Z"
   },
   {
    "duration": 288,
    "start_time": "2021-12-26T16:26:28.603Z"
   },
   {
    "duration": 3,
    "start_time": "2021-12-26T16:26:28.893Z"
   },
   {
    "duration": 324,
    "start_time": "2021-12-26T16:26:28.898Z"
   },
   {
    "duration": 322,
    "start_time": "2021-12-26T16:26:29.225Z"
   },
   {
    "duration": 103,
    "start_time": "2021-12-26T16:26:29.549Z"
   },
   {
    "duration": 70,
    "start_time": "2021-12-26T16:26:29.653Z"
   },
   {
    "duration": 444,
    "start_time": "2021-12-26T16:26:29.725Z"
   },
   {
    "duration": 51,
    "start_time": "2021-12-26T16:26:30.172Z"
   },
   {
    "duration": 920,
    "start_time": "2021-12-26T16:26:30.225Z"
   },
   {
    "duration": 215,
    "start_time": "2021-12-26T16:26:31.147Z"
   },
   {
    "duration": 34,
    "start_time": "2021-12-26T16:26:31.363Z"
   },
   {
    "duration": 84,
    "start_time": "2021-12-26T16:26:31.399Z"
   },
   {
    "duration": 55,
    "start_time": "2021-12-26T16:26:31.484Z"
   },
   {
    "duration": 833,
    "start_time": "2021-12-26T16:26:31.541Z"
   },
   {
    "duration": 44,
    "start_time": "2021-12-26T16:26:32.376Z"
   },
   {
    "duration": 14,
    "start_time": "2021-12-26T16:26:32.423Z"
   },
   {
    "duration": 72,
    "start_time": "2021-12-26T16:26:32.439Z"
   },
   {
    "duration": 9,
    "start_time": "2021-12-26T16:26:32.512Z"
   },
   {
    "duration": 370,
    "start_time": "2021-12-26T16:26:32.523Z"
   },
   {
    "duration": 402,
    "start_time": "2021-12-26T16:26:32.894Z"
   },
   {
    "duration": 765,
    "start_time": "2021-12-26T16:26:33.298Z"
   },
   {
    "duration": 620,
    "start_time": "2021-12-26T16:26:34.065Z"
   },
   {
    "duration": 351,
    "start_time": "2021-12-26T16:26:34.686Z"
   },
   {
    "duration": 184,
    "start_time": "2021-12-26T16:26:35.039Z"
   },
   {
    "duration": 20,
    "start_time": "2021-12-26T16:26:35.225Z"
   },
   {
    "duration": 738,
    "start_time": "2021-12-26T16:26:35.246Z"
   },
   {
    "duration": 25,
    "start_time": "2021-12-26T16:26:35.985Z"
   },
   {
    "duration": 4004,
    "start_time": "2021-12-26T16:26:36.012Z"
   },
   {
    "duration": 451,
    "start_time": "2021-12-26T16:26:39.567Z"
   },
   {
    "duration": 299,
    "start_time": "2021-12-26T17:47:00.301Z"
   },
   {
    "duration": 31,
    "start_time": "2021-12-26T17:47:09.034Z"
   },
   {
    "duration": 28,
    "start_time": "2021-12-26T17:48:35.655Z"
   },
   {
    "duration": 31,
    "start_time": "2021-12-26T17:48:58.182Z"
   },
   {
    "duration": 2075,
    "start_time": "2021-12-26T17:49:11.353Z"
   },
   {
    "duration": 5494,
    "start_time": "2021-12-26T17:49:24.364Z"
   },
   {
    "duration": 70,
    "start_time": "2021-12-26T17:50:31.142Z"
   },
   {
    "duration": 1012,
    "start_time": "2021-12-26T17:50:37.832Z"
   },
   {
    "duration": 217,
    "start_time": "2021-12-26T17:52:05.207Z"
   },
   {
    "duration": 247,
    "start_time": "2021-12-26T17:52:15.682Z"
   },
   {
    "duration": 317,
    "start_time": "2021-12-26T17:52:39.678Z"
   },
   {
    "duration": 66,
    "start_time": "2021-12-26T17:52:59.947Z"
   },
   {
    "duration": 12,
    "start_time": "2021-12-26T17:53:05.800Z"
   },
   {
    "duration": 49,
    "start_time": "2021-12-26T17:53:47.451Z"
   },
   {
    "duration": 30,
    "start_time": "2021-12-26T17:54:12.955Z"
   },
   {
    "duration": 224,
    "start_time": "2021-12-26T17:54:35.084Z"
   },
   {
    "duration": 30,
    "start_time": "2021-12-26T17:54:47.486Z"
   },
   {
    "duration": 218,
    "start_time": "2021-12-26T17:59:50.409Z"
   },
   {
    "duration": 29,
    "start_time": "2021-12-26T18:00:47.149Z"
   },
   {
    "duration": 33,
    "start_time": "2021-12-26T18:03:13.511Z"
   },
   {
    "duration": 22,
    "start_time": "2021-12-26T18:04:01.537Z"
   },
   {
    "duration": 20,
    "start_time": "2021-12-26T18:04:09.396Z"
   },
   {
    "duration": 21,
    "start_time": "2021-12-26T18:05:03.812Z"
   },
   {
    "duration": 22,
    "start_time": "2021-12-26T18:07:25.388Z"
   },
   {
    "duration": 228,
    "start_time": "2021-12-26T18:07:48.019Z"
   },
   {
    "duration": 41,
    "start_time": "2021-12-26T18:08:21.955Z"
   },
   {
    "duration": 24,
    "start_time": "2021-12-26T18:08:48.821Z"
   },
   {
    "duration": 27,
    "start_time": "2021-12-26T18:10:24.964Z"
   },
   {
    "duration": 25,
    "start_time": "2021-12-26T18:13:42.904Z"
   },
   {
    "duration": 49,
    "start_time": "2021-12-26T18:18:45.042Z"
   },
   {
    "duration": 45,
    "start_time": "2021-12-26T18:19:04.343Z"
   },
   {
    "duration": 26,
    "start_time": "2021-12-26T18:19:36.378Z"
   },
   {
    "duration": 18,
    "start_time": "2021-12-26T18:20:11.538Z"
   },
   {
    "duration": 19,
    "start_time": "2021-12-26T18:20:51.948Z"
   },
   {
    "duration": 77,
    "start_time": "2021-12-26T18:21:06.147Z"
   },
   {
    "duration": 16,
    "start_time": "2021-12-26T18:21:18.816Z"
   },
   {
    "duration": 254,
    "start_time": "2021-12-26T18:23:13.015Z"
   },
   {
    "duration": 18,
    "start_time": "2021-12-26T18:23:24.733Z"
   },
   {
    "duration": 23,
    "start_time": "2021-12-26T18:23:35.040Z"
   },
   {
    "duration": 19,
    "start_time": "2021-12-26T18:23:43.608Z"
   },
   {
    "duration": 392,
    "start_time": "2021-12-26T18:25:49.804Z"
   },
   {
    "duration": 297,
    "start_time": "2021-12-26T18:26:09.200Z"
   },
   {
    "duration": 41,
    "start_time": "2021-12-26T18:26:23.086Z"
   },
   {
    "duration": 1110,
    "start_time": "2021-12-26T18:27:46.939Z"
   },
   {
    "duration": 25,
    "start_time": "2021-12-26T18:28:01.913Z"
   },
   {
    "duration": 1696,
    "start_time": "2021-12-27T16:55:44.804Z"
   },
   {
    "duration": 757,
    "start_time": "2021-12-27T16:55:46.504Z"
   },
   {
    "duration": 32,
    "start_time": "2021-12-27T16:55:47.265Z"
   },
   {
    "duration": 1442,
    "start_time": "2021-12-27T16:55:47.301Z"
   },
   {
    "duration": 42,
    "start_time": "2021-12-27T16:55:48.747Z"
   },
   {
    "duration": 6098,
    "start_time": "2021-12-27T16:55:48.792Z"
   },
   {
    "duration": 4,
    "start_time": "2021-12-27T16:55:54.893Z"
   },
   {
    "duration": 214,
    "start_time": "2021-12-27T16:55:54.902Z"
   },
   {
    "duration": 4774,
    "start_time": "2021-12-27T16:55:55.119Z"
   },
   {
    "duration": 135,
    "start_time": "2021-12-27T16:55:59.896Z"
   },
   {
    "duration": 387,
    "start_time": "2021-12-27T16:56:00.034Z"
   },
   {
    "duration": 882,
    "start_time": "2021-12-27T16:56:00.425Z"
   },
   {
    "duration": 29,
    "start_time": "2021-12-27T16:56:01.310Z"
   },
   {
    "duration": 5727,
    "start_time": "2021-12-27T16:56:01.342Z"
   },
   {
    "duration": 636,
    "start_time": "2021-12-27T16:56:07.072Z"
   },
   {
    "duration": 415,
    "start_time": "2021-12-27T16:56:07.711Z"
   },
   {
    "duration": 3,
    "start_time": "2021-12-27T16:56:08.129Z"
   },
   {
    "duration": 533,
    "start_time": "2021-12-27T16:56:08.134Z"
   },
   {
    "duration": 510,
    "start_time": "2021-12-27T16:56:08.671Z"
   },
   {
    "duration": 167,
    "start_time": "2021-12-27T16:56:09.183Z"
   },
   {
    "duration": 130,
    "start_time": "2021-12-27T16:56:09.352Z"
   },
   {
    "duration": 827,
    "start_time": "2021-12-27T16:56:09.484Z"
   },
   {
    "duration": 97,
    "start_time": "2021-12-27T16:56:10.316Z"
   },
   {
    "duration": 1328,
    "start_time": "2021-12-27T16:56:10.417Z"
   },
   {
    "duration": 426,
    "start_time": "2021-12-27T16:56:11.747Z"
   },
   {
    "duration": 43,
    "start_time": "2021-12-27T16:56:12.177Z"
   },
   {
    "duration": 221,
    "start_time": "2021-12-27T16:56:12.222Z"
   },
   {
    "duration": 139,
    "start_time": "2021-12-27T16:56:12.446Z"
   },
   {
    "duration": 1628,
    "start_time": "2021-12-27T16:56:12.588Z"
   },
   {
    "duration": 109,
    "start_time": "2021-12-27T16:56:14.218Z"
   },
   {
    "duration": 53,
    "start_time": "2021-12-27T16:56:14.330Z"
   },
   {
    "duration": 253,
    "start_time": "2021-12-27T16:56:14.386Z"
   },
   {
    "duration": 49,
    "start_time": "2021-12-27T16:56:14.642Z"
   },
   {
    "duration": 686,
    "start_time": "2021-12-27T16:56:14.694Z"
   },
   {
    "duration": 848,
    "start_time": "2021-12-27T16:56:15.384Z"
   },
   {
    "duration": 1947,
    "start_time": "2021-12-27T16:56:16.236Z"
   },
   {
    "duration": 1387,
    "start_time": "2021-12-27T16:56:18.186Z"
   },
   {
    "duration": 660,
    "start_time": "2021-12-27T16:56:19.576Z"
   },
   {
    "duration": 349,
    "start_time": "2021-12-27T16:56:20.239Z"
   },
   {
    "duration": 40,
    "start_time": "2021-12-27T16:56:20.591Z"
   },
   {
    "duration": 1445,
    "start_time": "2021-12-27T16:56:20.634Z"
   },
   {
    "duration": 45,
    "start_time": "2021-12-27T16:56:22.082Z"
   },
   {
    "duration": 237,
    "start_time": "2021-12-27T16:56:22.130Z"
   },
   {
    "duration": 307,
    "start_time": "2021-12-27T16:56:22.369Z"
   },
   {
    "duration": 138,
    "start_time": "2021-12-27T16:56:22.541Z"
   },
   {
    "duration": 75,
    "start_time": "2021-12-27T16:56:22.605Z"
   },
   {
    "duration": 43,
    "start_time": "2021-12-27T16:58:56.385Z"
   },
   {
    "duration": 95,
    "start_time": "2021-12-27T16:58:59.167Z"
   },
   {
    "duration": 8756,
    "start_time": "2021-12-27T16:59:13.648Z"
   },
   {
    "duration": 5,
    "start_time": "2021-12-27T17:01:28.734Z"
   },
   {
    "duration": 1705,
    "start_time": "2021-12-27T17:01:58.920Z"
   },
   {
    "duration": 558,
    "start_time": "2021-12-27T17:02:00.630Z"
   },
   {
    "duration": 26,
    "start_time": "2021-12-27T17:02:01.192Z"
   },
   {
    "duration": 1347,
    "start_time": "2021-12-27T17:02:01.222Z"
   },
   {
    "duration": 38,
    "start_time": "2021-12-27T17:02:02.573Z"
   },
   {
    "duration": 8527,
    "start_time": "2021-12-27T17:02:02.614Z"
   },
   {
    "duration": 7,
    "start_time": "2021-12-27T17:02:11.144Z"
   },
   {
    "duration": 285,
    "start_time": "2021-12-27T17:02:11.171Z"
   },
   {
    "duration": 7798,
    "start_time": "2021-12-27T17:02:11.460Z"
   },
   {
    "duration": 210,
    "start_time": "2021-12-27T17:02:19.261Z"
   },
   {
    "duration": 407,
    "start_time": "2021-12-27T17:02:19.473Z"
   },
   {
    "duration": 918,
    "start_time": "2021-12-27T17:02:19.883Z"
   },
   {
    "duration": 33,
    "start_time": "2021-12-27T17:02:20.804Z"
   },
   {
    "duration": 5757,
    "start_time": "2021-12-27T17:02:20.841Z"
   },
   {
    "duration": 562,
    "start_time": "2021-12-27T17:02:26.601Z"
   },
   {
    "duration": 438,
    "start_time": "2021-12-27T17:02:27.165Z"
   },
   {
    "duration": 4,
    "start_time": "2021-12-27T17:02:27.605Z"
   },
   {
    "duration": 823,
    "start_time": "2021-12-27T17:02:27.612Z"
   },
   {
    "duration": 516,
    "start_time": "2021-12-27T17:02:28.438Z"
   },
   {
    "duration": 220,
    "start_time": "2021-12-27T17:02:28.956Z"
   },
   {
    "duration": 111,
    "start_time": "2021-12-27T17:02:29.179Z"
   },
   {
    "duration": 754,
    "start_time": "2021-12-27T17:02:29.294Z"
   },
   {
    "duration": 91,
    "start_time": "2021-12-27T17:02:30.057Z"
   },
   {
    "duration": 1402,
    "start_time": "2021-12-27T17:02:30.167Z"
   },
   {
    "duration": 402,
    "start_time": "2021-12-27T17:02:31.571Z"
   },
   {
    "duration": 45,
    "start_time": "2021-12-27T17:02:31.976Z"
   },
   {
    "duration": 253,
    "start_time": "2021-12-27T17:02:32.029Z"
   },
   {
    "duration": 134,
    "start_time": "2021-12-27T17:02:32.285Z"
   },
   {
    "duration": 1374,
    "start_time": "2021-12-27T17:02:32.422Z"
   },
   {
    "duration": 88,
    "start_time": "2021-12-27T17:02:33.799Z"
   },
   {
    "duration": 112,
    "start_time": "2021-12-27T17:02:33.890Z"
   },
   {
    "duration": 238,
    "start_time": "2021-12-27T17:02:34.005Z"
   },
   {
    "duration": 141,
    "start_time": "2021-12-27T17:02:34.246Z"
   },
   {
    "duration": 787,
    "start_time": "2021-12-27T17:02:34.390Z"
   },
   {
    "duration": 864,
    "start_time": "2021-12-27T17:02:35.180Z"
   },
   {
    "duration": 1881,
    "start_time": "2021-12-27T17:02:36.048Z"
   },
   {
    "duration": 1325,
    "start_time": "2021-12-27T17:02:37.932Z"
   },
   {
    "duration": 661,
    "start_time": "2021-12-27T17:02:39.260Z"
   },
   {
    "duration": 367,
    "start_time": "2021-12-27T17:02:39.923Z"
   },
   {
    "duration": 34,
    "start_time": "2021-12-27T17:02:40.292Z"
   },
   {
    "duration": 1622,
    "start_time": "2021-12-27T17:02:40.329Z"
   },
   {
    "duration": 55,
    "start_time": "2021-12-27T17:02:41.954Z"
   },
   {
    "duration": 236,
    "start_time": "2021-12-27T17:02:42.012Z"
   },
   {
    "duration": 248,
    "start_time": "2021-12-27T17:02:42.251Z"
   },
   {
    "duration": 8560,
    "start_time": "2021-12-27T17:02:42.502Z"
   },
   {
    "duration": 7919,
    "start_time": "2021-12-27T17:10:46.242Z"
   },
   {
    "duration": 5119,
    "start_time": "2021-12-27T17:11:39.277Z"
   },
   {
    "duration": 44,
    "start_time": "2021-12-27T17:12:03.696Z"
   },
   {
    "duration": 42,
    "start_time": "2021-12-27T17:12:05.610Z"
   },
   {
    "duration": 5229,
    "start_time": "2021-12-27T17:13:21.773Z"
   },
   {
    "duration": 107,
    "start_time": "2021-12-27T17:13:48.792Z"
   },
   {
    "duration": 5854,
    "start_time": "2021-12-27T17:13:54.830Z"
   },
   {
    "duration": 59,
    "start_time": "2021-12-27T17:14:22.193Z"
   },
   {
    "duration": 117,
    "start_time": "2021-12-27T17:14:29.865Z"
   },
   {
    "duration": 33,
    "start_time": "2021-12-27T17:14:36.278Z"
   },
   {
    "duration": 1193,
    "start_time": "2021-12-27T17:17:02.009Z"
   },
   {
    "duration": 955,
    "start_time": "2021-12-27T17:17:31.603Z"
   },
   {
    "duration": 100,
    "start_time": "2021-12-27T17:18:04.109Z"
   },
   {
    "duration": 1152,
    "start_time": "2021-12-27T17:18:09.704Z"
   },
   {
    "duration": 1167,
    "start_time": "2021-12-27T17:18:22.861Z"
   },
   {
    "duration": 1180,
    "start_time": "2021-12-27T17:18:34.497Z"
   },
   {
    "duration": 1128,
    "start_time": "2021-12-27T17:18:47.519Z"
   },
   {
    "duration": 1242,
    "start_time": "2021-12-27T17:19:09.029Z"
   },
   {
    "duration": 1133,
    "start_time": "2021-12-27T17:19:18.027Z"
   },
   {
    "duration": 1284,
    "start_time": "2021-12-27T17:20:28.886Z"
   },
   {
    "duration": 10527,
    "start_time": "2021-12-27T17:21:14.547Z"
   },
   {
    "duration": 931,
    "start_time": "2021-12-27T17:21:31.291Z"
   },
   {
    "duration": 16060,
    "start_time": "2021-12-27T17:22:16.821Z"
   },
   {
    "duration": 105,
    "start_time": "2021-12-27T17:23:15.283Z"
   },
   {
    "duration": 1273,
    "start_time": "2021-12-27T17:23:21.156Z"
   },
   {
    "duration": 1287,
    "start_time": "2021-12-27T17:23:34.669Z"
   },
   {
    "duration": 1012,
    "start_time": "2021-12-27T17:25:00.394Z"
   },
   {
    "duration": 937,
    "start_time": "2021-12-27T17:25:27.559Z"
   },
   {
    "duration": 871,
    "start_time": "2021-12-27T17:25:40.209Z"
   },
   {
    "duration": 45,
    "start_time": "2021-12-27T17:26:28.116Z"
   },
   {
    "duration": 47,
    "start_time": "2021-12-27T17:27:18.786Z"
   },
   {
    "duration": 44,
    "start_time": "2021-12-27T17:27:23.924Z"
   },
   {
    "duration": 38,
    "start_time": "2021-12-27T17:27:40.691Z"
   },
   {
    "duration": 10288,
    "start_time": "2021-12-27T17:27:47.342Z"
   },
   {
    "duration": 12136,
    "start_time": "2021-12-27T17:28:44.332Z"
   },
   {
    "duration": 990,
    "start_time": "2021-12-27T17:29:14.779Z"
   },
   {
    "duration": 1230,
    "start_time": "2021-12-27T17:29:41.763Z"
   },
   {
    "duration": 1235,
    "start_time": "2021-12-27T17:29:56.519Z"
   },
   {
    "duration": 1728,
    "start_time": "2021-12-27T17:30:58.347Z"
   },
   {
    "duration": 1414,
    "start_time": "2021-12-27T17:31:15.380Z"
   },
   {
    "duration": 1147,
    "start_time": "2021-12-27T17:33:27.260Z"
   },
   {
    "duration": 1164,
    "start_time": "2021-12-27T17:33:38.754Z"
   },
   {
    "duration": 1925,
    "start_time": "2021-12-27T17:35:47.491Z"
   },
   {
    "duration": 1380,
    "start_time": "2021-12-27T17:36:02.512Z"
   },
   {
    "duration": 1923,
    "start_time": "2021-12-27T17:36:35.163Z"
   },
   {
    "duration": 1348,
    "start_time": "2021-12-27T17:37:18.214Z"
   },
   {
    "duration": 1305,
    "start_time": "2021-12-27T17:38:09.997Z"
   },
   {
    "duration": 1596,
    "start_time": "2021-12-27T17:38:25.709Z"
   },
   {
    "duration": 1209,
    "start_time": "2021-12-27T17:38:40.976Z"
   },
   {
    "duration": 1178,
    "start_time": "2021-12-27T17:38:52.643Z"
   },
   {
    "duration": 1090,
    "start_time": "2021-12-27T17:39:27.078Z"
   },
   {
    "duration": 8558,
    "start_time": "2021-12-27T17:39:40.003Z"
   },
   {
    "duration": 1167,
    "start_time": "2021-12-27T17:39:53.800Z"
   },
   {
    "duration": 1624,
    "start_time": "2021-12-27T17:50:36.470Z"
   },
   {
    "duration": 1710,
    "start_time": "2021-12-27T17:50:40.230Z"
   },
   {
    "duration": 2027,
    "start_time": "2021-12-27T17:53:10.149Z"
   },
   {
    "duration": 1152,
    "start_time": "2021-12-27T17:53:38.427Z"
   },
   {
    "duration": 1710,
    "start_time": "2021-12-27T17:54:07.267Z"
   },
   {
    "duration": 1164,
    "start_time": "2021-12-27T17:57:55.704Z"
   },
   {
    "duration": 1646,
    "start_time": "2021-12-27T18:01:14.125Z"
   },
   {
    "duration": 1159,
    "start_time": "2021-12-27T18:02:08.811Z"
   },
   {
    "duration": 107,
    "start_time": "2021-12-27T18:02:19.507Z"
   },
   {
    "duration": 1164,
    "start_time": "2021-12-27T18:02:23.889Z"
   },
   {
    "duration": 2418,
    "start_time": "2021-12-27T18:02:48.938Z"
   },
   {
    "duration": 2746,
    "start_time": "2021-12-27T18:03:12.724Z"
   },
   {
    "duration": 2243,
    "start_time": "2021-12-27T18:07:57.482Z"
   },
   {
    "duration": 2407,
    "start_time": "2021-12-27T18:09:07.967Z"
   },
   {
    "duration": 2905,
    "start_time": "2021-12-27T18:25:15.042Z"
   },
   {
    "duration": 2498,
    "start_time": "2021-12-27T18:25:45.455Z"
   },
   {
    "duration": 2309,
    "start_time": "2021-12-27T18:25:51.626Z"
   },
   {
    "duration": 426,
    "start_time": "2021-12-27T18:45:34.053Z"
   },
   {
    "duration": 326,
    "start_time": "2021-12-27T18:46:12.085Z"
   },
   {
    "duration": 461,
    "start_time": "2021-12-27T18:46:25.060Z"
   },
   {
    "duration": 490,
    "start_time": "2021-12-27T18:48:06.796Z"
   },
   {
    "duration": 451,
    "start_time": "2021-12-27T18:50:22.284Z"
   },
   {
    "duration": 4,
    "start_time": "2021-12-27T18:51:18.491Z"
   },
   {
    "duration": 66,
    "start_time": "2021-12-27T18:51:58.783Z"
   },
   {
    "duration": 478,
    "start_time": "2021-12-27T18:56:50.457Z"
   },
   {
    "duration": 140,
    "start_time": "2021-12-27T18:57:44.946Z"
   },
   {
    "duration": 2170,
    "start_time": "2021-12-27T18:59:38.820Z"
   },
   {
    "duration": 2034,
    "start_time": "2021-12-27T19:00:00.004Z"
   },
   {
    "duration": 2015,
    "start_time": "2021-12-27T19:00:10.255Z"
   },
   {
    "duration": 88,
    "start_time": "2021-12-27T19:00:21.156Z"
   },
   {
    "duration": 333,
    "start_time": "2021-12-27T19:01:03.281Z"
   },
   {
    "duration": 42,
    "start_time": "2021-12-27T19:01:19.167Z"
   },
   {
    "duration": 41,
    "start_time": "2021-12-27T19:01:40.319Z"
   },
   {
    "duration": 418,
    "start_time": "2021-12-27T19:01:46.448Z"
   },
   {
    "duration": 51,
    "start_time": "2021-12-27T19:01:51.314Z"
   },
   {
    "duration": 21,
    "start_time": "2021-12-27T19:02:00.444Z"
   },
   {
    "duration": 39,
    "start_time": "2021-12-27T19:02:10.889Z"
   },
   {
    "duration": 1178,
    "start_time": "2021-12-27T19:02:34.762Z"
   },
   {
    "duration": 50,
    "start_time": "2021-12-27T19:02:59.970Z"
   },
   {
    "duration": 321,
    "start_time": "2021-12-27T19:03:19.021Z"
   },
   {
    "duration": 319,
    "start_time": "2021-12-27T19:03:39.551Z"
   },
   {
    "duration": 352,
    "start_time": "2021-12-27T19:04:43.261Z"
   },
   {
    "duration": 397,
    "start_time": "2021-12-27T19:05:21.724Z"
   },
   {
    "duration": 1616,
    "start_time": "2021-12-27T19:07:24.836Z"
   },
   {
    "duration": 738,
    "start_time": "2021-12-27T19:08:04.547Z"
   },
   {
    "duration": 3152,
    "start_time": "2021-12-27T19:09:03.291Z"
   },
   {
    "duration": 1289,
    "start_time": "2021-12-27T19:09:10.968Z"
   },
   {
    "duration": 3179,
    "start_time": "2021-12-27T19:10:45.343Z"
   },
   {
    "duration": 3181,
    "start_time": "2021-12-27T19:11:06.714Z"
   },
   {
    "duration": 5443,
    "start_time": "2021-12-27T19:13:41.273Z"
   },
   {
    "duration": 3361,
    "start_time": "2021-12-27T19:13:59.731Z"
   },
   {
    "duration": 2597,
    "start_time": "2021-12-27T19:15:33.845Z"
   },
   {
    "duration": 2044,
    "start_time": "2021-12-27T19:16:47.613Z"
   },
   {
    "duration": 1819,
    "start_time": "2021-12-27T19:52:16.982Z"
   },
   {
    "duration": 1652,
    "start_time": "2021-12-27T19:53:30.291Z"
   },
   {
    "duration": 1691,
    "start_time": "2021-12-27T19:53:39.579Z"
   },
   {
    "duration": 1117,
    "start_time": "2021-12-27T19:53:52.635Z"
   },
   {
    "duration": 1104,
    "start_time": "2021-12-27T19:54:47.049Z"
   },
   {
    "duration": 999,
    "start_time": "2021-12-27T19:56:28.496Z"
   },
   {
    "duration": 1070,
    "start_time": "2021-12-27T19:56:43.352Z"
   },
   {
    "duration": 1155,
    "start_time": "2021-12-27T20:00:11.414Z"
   },
   {
    "duration": 1161,
    "start_time": "2021-12-27T20:00:27.246Z"
   },
   {
    "duration": 344,
    "start_time": "2021-12-28T15:03:26.841Z"
   },
   {
    "duration": 1564,
    "start_time": "2021-12-28T15:09:54.827Z"
   },
   {
    "duration": 620,
    "start_time": "2021-12-28T15:09:56.395Z"
   },
   {
    "duration": 18,
    "start_time": "2021-12-28T15:09:57.018Z"
   },
   {
    "duration": 839,
    "start_time": "2021-12-28T15:09:57.039Z"
   },
   {
    "duration": 86,
    "start_time": "2021-12-28T15:09:57.880Z"
   },
   {
    "duration": 3757,
    "start_time": "2021-12-28T15:09:57.969Z"
   },
   {
    "duration": 3,
    "start_time": "2021-12-28T15:10:01.728Z"
   },
   {
    "duration": 69,
    "start_time": "2021-12-28T15:10:01.736Z"
   },
   {
    "duration": 2728,
    "start_time": "2021-12-28T15:10:01.808Z"
   },
   {
    "duration": 49,
    "start_time": "2021-12-28T15:10:04.538Z"
   },
   {
    "duration": 218,
    "start_time": "2021-12-28T15:10:04.590Z"
   },
   {
    "duration": 808,
    "start_time": "2021-12-28T15:10:04.811Z"
   },
   {
    "duration": 26,
    "start_time": "2021-12-28T15:10:05.621Z"
   },
   {
    "duration": 4497,
    "start_time": "2021-12-28T15:10:05.663Z"
   },
   {
    "duration": 631,
    "start_time": "2021-12-28T15:10:10.162Z"
   },
   {
    "duration": 490,
    "start_time": "2021-12-28T15:10:10.795Z"
   },
   {
    "duration": 4,
    "start_time": "2021-12-28T15:10:11.287Z"
   },
   {
    "duration": 411,
    "start_time": "2021-12-28T15:10:11.293Z"
   },
   {
    "duration": 426,
    "start_time": "2021-12-28T15:10:11.707Z"
   },
   {
    "duration": 155,
    "start_time": "2021-12-28T15:10:12.136Z"
   },
   {
    "duration": 101,
    "start_time": "2021-12-28T15:10:12.294Z"
   },
   {
    "duration": 612,
    "start_time": "2021-12-28T15:10:12.398Z"
   },
   {
    "duration": 93,
    "start_time": "2021-12-28T15:10:13.013Z"
   },
   {
    "duration": 1160,
    "start_time": "2021-12-28T15:10:13.108Z"
   },
   {
    "duration": 239,
    "start_time": "2021-12-28T15:10:14.271Z"
   },
   {
    "duration": 55,
    "start_time": "2021-12-28T15:10:14.515Z"
   },
   {
    "duration": 18,
    "start_time": "2021-12-28T15:10:14.573Z"
   },
   {
    "duration": 111,
    "start_time": "2021-12-28T15:10:14.593Z"
   },
   {
    "duration": 1026,
    "start_time": "2021-12-28T15:10:14.707Z"
   },
   {
    "duration": 82,
    "start_time": "2021-12-28T15:10:15.736Z"
   },
   {
    "duration": 468,
    "start_time": "2021-12-28T15:10:15.821Z"
   },
   {
    "duration": 76,
    "start_time": "2021-12-28T15:10:16.292Z"
   },
   {
    "duration": 11,
    "start_time": "2021-12-28T15:10:16.370Z"
   },
   {
    "duration": 663,
    "start_time": "2021-12-28T15:10:16.383Z"
   },
   {
    "duration": 490,
    "start_time": "2021-12-28T15:10:17.049Z"
   },
   {
    "duration": 1271,
    "start_time": "2021-12-28T15:10:17.541Z"
   },
   {
    "duration": 1041,
    "start_time": "2021-12-28T15:10:18.814Z"
   },
   {
    "duration": 547,
    "start_time": "2021-12-28T15:10:19.858Z"
   },
   {
    "duration": 302,
    "start_time": "2021-12-28T15:10:20.408Z"
   },
   {
    "duration": 49,
    "start_time": "2021-12-28T15:10:20.713Z"
   },
   {
    "duration": 1198,
    "start_time": "2021-12-28T15:10:20.765Z"
   },
   {
    "duration": 1012,
    "start_time": "2021-12-28T15:10:21.965Z"
   },
   {
    "duration": 35,
    "start_time": "2021-12-28T15:10:22.979Z"
   },
   {
    "duration": 54,
    "start_time": "2021-12-28T15:10:23.017Z"
   },
   {
    "duration": 34,
    "start_time": "2021-12-28T15:10:23.073Z"
   },
   {
    "duration": 858,
    "start_time": "2021-12-28T15:10:23.110Z"
   },
   {
    "duration": 2251,
    "start_time": "2021-12-28T15:10:23.971Z"
   },
   {
    "duration": 2000,
    "start_time": "2021-12-28T15:10:26.224Z"
   },
   {
    "duration": 1187,
    "start_time": "2021-12-28T15:14:40.255Z"
   },
   {
    "duration": 42,
    "start_time": "2021-12-28T15:26:24.542Z"
   },
   {
    "duration": 1211,
    "start_time": "2021-12-31T13:07:11.447Z"
   },
   {
    "duration": 318,
    "start_time": "2021-12-31T13:07:12.659Z"
   },
   {
    "duration": 12,
    "start_time": "2021-12-31T13:07:12.979Z"
   },
   {
    "duration": 619,
    "start_time": "2021-12-31T13:07:12.993Z"
   },
   {
    "duration": 18,
    "start_time": "2021-12-31T13:07:13.613Z"
   },
   {
    "duration": 2751,
    "start_time": "2021-12-31T13:07:13.632Z"
   },
   {
    "duration": 2,
    "start_time": "2021-12-31T13:07:16.385Z"
   },
   {
    "duration": 36,
    "start_time": "2021-12-31T13:07:16.389Z"
   },
   {
    "duration": 1655,
    "start_time": "2021-12-31T13:07:16.426Z"
   },
   {
    "duration": 32,
    "start_time": "2021-12-31T13:07:18.083Z"
   },
   {
    "duration": 111,
    "start_time": "2021-12-31T13:07:18.117Z"
   },
   {
    "duration": 557,
    "start_time": "2021-12-31T13:07:18.230Z"
   },
   {
    "duration": 20,
    "start_time": "2021-12-31T13:07:18.789Z"
   },
   {
    "duration": 2501,
    "start_time": "2021-12-31T13:07:18.811Z"
   },
   {
    "duration": 435,
    "start_time": "2021-12-31T13:07:21.313Z"
   },
   {
    "duration": 292,
    "start_time": "2021-12-31T13:07:21.750Z"
   },
   {
    "duration": 2,
    "start_time": "2021-12-31T13:07:22.044Z"
   },
   {
    "duration": 282,
    "start_time": "2021-12-31T13:07:22.047Z"
   },
   {
    "duration": 295,
    "start_time": "2021-12-31T13:07:22.331Z"
   },
   {
    "duration": 104,
    "start_time": "2021-12-31T13:07:22.628Z"
   },
   {
    "duration": 69,
    "start_time": "2021-12-31T13:07:22.734Z"
   },
   {
    "duration": 426,
    "start_time": "2021-12-31T13:07:22.805Z"
   },
   {
    "duration": 54,
    "start_time": "2021-12-31T13:07:23.235Z"
   },
   {
    "duration": 877,
    "start_time": "2021-12-31T13:07:23.291Z"
   },
   {
    "duration": 142,
    "start_time": "2021-12-31T13:07:24.170Z"
   },
   {
    "duration": 43,
    "start_time": "2021-12-31T13:07:24.313Z"
   },
   {
    "duration": 11,
    "start_time": "2021-12-31T13:07:24.358Z"
   },
   {
    "duration": 61,
    "start_time": "2021-12-31T13:07:24.370Z"
   },
   {
    "duration": 618,
    "start_time": "2021-12-31T13:07:24.432Z"
   },
   {
    "duration": 37,
    "start_time": "2021-12-31T13:07:25.051Z"
   },
   {
    "duration": 284,
    "start_time": "2021-12-31T13:07:25.089Z"
   },
   {
    "duration": 39,
    "start_time": "2021-12-31T13:07:25.374Z"
   },
   {
    "duration": 6,
    "start_time": "2021-12-31T13:07:25.415Z"
   },
   {
    "duration": 431,
    "start_time": "2021-12-31T13:07:25.422Z"
   },
   {
    "duration": 66,
    "start_time": "2021-12-31T13:07:25.855Z"
   },
   {
    "duration": -388,
    "start_time": "2021-12-31T13:07:26.311Z"
   },
   {
    "duration": -403,
    "start_time": "2021-12-31T13:07:26.326Z"
   },
   {
    "duration": -417,
    "start_time": "2021-12-31T13:07:26.341Z"
   },
   {
    "duration": -438,
    "start_time": "2021-12-31T13:07:26.363Z"
   },
   {
    "duration": -474,
    "start_time": "2021-12-31T13:07:26.400Z"
   },
   {
    "duration": -488,
    "start_time": "2021-12-31T13:07:26.415Z"
   },
   {
    "duration": -524,
    "start_time": "2021-12-31T13:07:26.452Z"
   },
   {
    "duration": -537,
    "start_time": "2021-12-31T13:07:26.466Z"
   },
   {
    "duration": -551,
    "start_time": "2021-12-31T13:07:26.481Z"
   },
   {
    "duration": -635,
    "start_time": "2021-12-31T13:07:26.566Z"
   },
   {
    "duration": -673,
    "start_time": "2021-12-31T13:07:26.605Z"
   },
   {
    "duration": -686,
    "start_time": "2021-12-31T13:07:26.619Z"
   },
   {
    "duration": -730,
    "start_time": "2021-12-31T13:07:26.664Z"
   },
   {
    "duration": 1163,
    "start_time": "2022-01-01T08:02:48.290Z"
   },
   {
    "duration": 590,
    "start_time": "2022-01-01T08:02:49.455Z"
   },
   {
    "duration": 13,
    "start_time": "2022-01-01T08:02:50.047Z"
   },
   {
    "duration": 442,
    "start_time": "2022-01-01T08:02:50.062Z"
   },
   {
    "duration": 20,
    "start_time": "2022-01-01T08:02:50.507Z"
   },
   {
    "duration": 3508,
    "start_time": "2022-01-01T08:02:50.529Z"
   },
   {
    "duration": 2,
    "start_time": "2022-01-01T08:02:54.038Z"
   },
   {
    "duration": 34,
    "start_time": "2022-01-01T08:02:54.043Z"
   },
   {
    "duration": 3538,
    "start_time": "2022-01-01T08:02:54.079Z"
   },
   {
    "duration": 33,
    "start_time": "2022-01-01T08:02:57.619Z"
   },
   {
    "duration": 126,
    "start_time": "2022-01-01T08:02:57.654Z"
   },
   {
    "duration": 593,
    "start_time": "2022-01-01T08:02:57.782Z"
   },
   {
    "duration": 31,
    "start_time": "2022-01-01T08:02:58.377Z"
   },
   {
    "duration": 2685,
    "start_time": "2022-01-01T08:02:58.410Z"
   },
   {
    "duration": 375,
    "start_time": "2022-01-01T08:03:01.097Z"
   },
   {
    "duration": 309,
    "start_time": "2022-01-01T08:03:01.473Z"
   },
   {
    "duration": 9,
    "start_time": "2022-01-01T08:03:01.783Z"
   },
   {
    "duration": 286,
    "start_time": "2022-01-01T08:03:01.794Z"
   },
   {
    "duration": 321,
    "start_time": "2022-01-01T08:03:02.082Z"
   },
   {
    "duration": 108,
    "start_time": "2022-01-01T08:03:02.405Z"
   },
   {
    "duration": 63,
    "start_time": "2022-01-01T08:03:02.515Z"
   },
   {
    "duration": 449,
    "start_time": "2022-01-01T08:03:02.592Z"
   },
   {
    "duration": 63,
    "start_time": "2022-01-01T08:03:03.044Z"
   },
   {
    "duration": 895,
    "start_time": "2022-01-01T08:03:03.110Z"
   },
   {
    "duration": 156,
    "start_time": "2022-01-01T08:03:04.008Z"
   },
   {
    "duration": 46,
    "start_time": "2022-01-01T08:03:04.166Z"
   },
   {
    "duration": 12,
    "start_time": "2022-01-01T08:03:04.214Z"
   },
   {
    "duration": 79,
    "start_time": "2022-01-01T08:03:04.228Z"
   },
   {
    "duration": 708,
    "start_time": "2022-01-01T08:03:04.309Z"
   },
   {
    "duration": 41,
    "start_time": "2022-01-01T08:03:05.018Z"
   },
   {
    "duration": 355,
    "start_time": "2022-01-01T08:03:05.061Z"
   },
   {
    "duration": 37,
    "start_time": "2022-01-01T08:03:05.417Z"
   },
   {
    "duration": 6,
    "start_time": "2022-01-01T08:03:05.456Z"
   },
   {
    "duration": 490,
    "start_time": "2022-01-01T08:03:05.463Z"
   },
   {
    "duration": 285,
    "start_time": "2022-01-01T08:03:05.954Z"
   },
   {
    "duration": 818,
    "start_time": "2022-01-01T08:03:06.240Z"
   },
   {
    "duration": 682,
    "start_time": "2022-01-01T08:03:07.060Z"
   },
   {
    "duration": 375,
    "start_time": "2022-01-01T08:03:07.744Z"
   },
   {
    "duration": 203,
    "start_time": "2022-01-01T08:03:08.121Z"
   },
   {
    "duration": 22,
    "start_time": "2022-01-01T08:03:08.325Z"
   },
   {
    "duration": 837,
    "start_time": "2022-01-01T08:03:08.349Z"
   },
   {
    "duration": 666,
    "start_time": "2022-01-01T08:03:09.192Z"
   },
   {
    "duration": 38,
    "start_time": "2022-01-01T08:03:09.859Z"
   },
   {
    "duration": 25,
    "start_time": "2022-01-01T08:03:09.899Z"
   },
   {
    "duration": 19,
    "start_time": "2022-01-01T08:03:09.925Z"
   },
   {
    "duration": 461,
    "start_time": "2022-01-01T08:03:09.946Z"
   },
   {
    "duration": 1167,
    "start_time": "2022-01-01T08:03:10.410Z"
   },
   {
    "duration": 294,
    "start_time": "2022-01-01T08:08:02.703Z"
   },
   {
    "duration": 297,
    "start_time": "2022-01-01T08:10:13.712Z"
   },
   {
    "duration": 307,
    "start_time": "2022-01-01T08:10:24.289Z"
   },
   {
    "duration": 261,
    "start_time": "2022-01-01T08:11:56.108Z"
   },
   {
    "duration": 220,
    "start_time": "2022-01-01T08:12:30.019Z"
   },
   {
    "duration": 200,
    "start_time": "2022-01-01T08:12:44.314Z"
   },
   {
    "duration": 194,
    "start_time": "2022-01-01T08:14:44.018Z"
   },
   {
    "duration": 207,
    "start_time": "2022-01-01T08:14:50.373Z"
   },
   {
    "duration": 210,
    "start_time": "2022-01-01T08:15:28.172Z"
   },
   {
    "duration": 197,
    "start_time": "2022-01-01T08:15:45.521Z"
   },
   {
    "duration": 227,
    "start_time": "2022-01-01T08:15:51.505Z"
   },
   {
    "duration": 199,
    "start_time": "2022-01-01T08:16:17.536Z"
   },
   {
    "duration": 140,
    "start_time": "2022-01-01T08:17:00.837Z"
   },
   {
    "duration": 285,
    "start_time": "2022-01-01T08:18:15.269Z"
   },
   {
    "duration": 312,
    "start_time": "2022-01-01T08:28:02.142Z"
   },
   {
    "duration": 1096,
    "start_time": "2022-01-01T08:30:55.603Z"
   },
   {
    "duration": 22,
    "start_time": "2022-01-01T08:57:50.318Z"
   },
   {
    "duration": 22,
    "start_time": "2022-01-01T08:59:02.616Z"
   },
   {
    "duration": 88,
    "start_time": "2022-01-01T09:06:32.836Z"
   },
   {
    "duration": 878,
    "start_time": "2022-01-01T09:11:07.993Z"
   },
   {
    "duration": 734,
    "start_time": "2022-01-01T09:12:31.861Z"
   },
   {
    "duration": 723,
    "start_time": "2022-01-01T09:12:46.586Z"
   },
   {
    "duration": 665,
    "start_time": "2022-01-01T09:13:05.012Z"
   },
   {
    "duration": 770,
    "start_time": "2022-01-01T09:14:24.299Z"
   },
   {
    "duration": 681,
    "start_time": "2022-01-01T09:15:08.231Z"
   },
   {
    "duration": 53,
    "start_time": "2022-01-01T09:19:55.612Z"
   },
   {
    "duration": 1013,
    "start_time": "2022-01-01T09:20:00.306Z"
   },
   {
    "duration": -168,
    "start_time": "2022-01-02T17:11:41.020Z"
   },
   {
    "duration": -187,
    "start_time": "2022-01-02T17:11:41.040Z"
   },
   {
    "duration": -202,
    "start_time": "2022-01-02T17:11:41.056Z"
   },
   {
    "duration": -219,
    "start_time": "2022-01-02T17:11:41.073Z"
   },
   {
    "duration": -235,
    "start_time": "2022-01-02T17:11:41.090Z"
   },
   {
    "duration": -252,
    "start_time": "2022-01-02T17:11:41.108Z"
   },
   {
    "duration": -298,
    "start_time": "2022-01-02T17:11:41.155Z"
   },
   {
    "duration": -318,
    "start_time": "2022-01-02T17:11:41.175Z"
   },
   {
    "duration": -335,
    "start_time": "2022-01-02T17:11:41.193Z"
   },
   {
    "duration": -352,
    "start_time": "2022-01-02T17:11:41.211Z"
   },
   {
    "duration": -366,
    "start_time": "2022-01-02T17:11:41.226Z"
   },
   {
    "duration": -383,
    "start_time": "2022-01-02T17:11:41.244Z"
   },
   {
    "duration": -420,
    "start_time": "2022-01-02T17:11:41.282Z"
   },
   {
    "duration": -436,
    "start_time": "2022-01-02T17:11:41.298Z"
   },
   {
    "duration": -448,
    "start_time": "2022-01-02T17:11:41.311Z"
   },
   {
    "duration": -461,
    "start_time": "2022-01-02T17:11:41.326Z"
   },
   {
    "duration": -472,
    "start_time": "2022-01-02T17:11:41.338Z"
   },
   {
    "duration": -484,
    "start_time": "2022-01-02T17:11:41.351Z"
   },
   {
    "duration": -494,
    "start_time": "2022-01-02T17:11:41.362Z"
   },
   {
    "duration": -508,
    "start_time": "2022-01-02T17:11:41.376Z"
   },
   {
    "duration": -534,
    "start_time": "2022-01-02T17:11:41.403Z"
   },
   {
    "duration": -546,
    "start_time": "2022-01-02T17:11:41.416Z"
   },
   {
    "duration": -557,
    "start_time": "2022-01-02T17:11:41.428Z"
   },
   {
    "duration": -573,
    "start_time": "2022-01-02T17:11:41.445Z"
   },
   {
    "duration": -584,
    "start_time": "2022-01-02T17:11:41.457Z"
   },
   {
    "duration": -596,
    "start_time": "2022-01-02T17:11:41.470Z"
   },
   {
    "duration": -608,
    "start_time": "2022-01-02T17:11:41.482Z"
   },
   {
    "duration": -621,
    "start_time": "2022-01-02T17:11:41.496Z"
   },
   {
    "duration": -647,
    "start_time": "2022-01-02T17:11:41.523Z"
   },
   {
    "duration": -659,
    "start_time": "2022-01-02T17:11:41.536Z"
   },
   {
    "duration": -670,
    "start_time": "2022-01-02T17:11:41.548Z"
   },
   {
    "duration": -682,
    "start_time": "2022-01-02T17:11:41.561Z"
   },
   {
    "duration": -631,
    "start_time": "2022-01-02T17:11:41.572Z"
   },
   {
    "duration": -643,
    "start_time": "2022-01-02T17:11:41.585Z"
   },
   {
    "duration": -653,
    "start_time": "2022-01-02T17:11:41.596Z"
   },
   {
    "duration": -665,
    "start_time": "2022-01-02T17:11:41.609Z"
   },
   {
    "duration": -693,
    "start_time": "2022-01-02T17:11:41.638Z"
   },
   {
    "duration": -705,
    "start_time": "2022-01-02T17:11:41.651Z"
   },
   {
    "duration": -715,
    "start_time": "2022-01-02T17:11:41.662Z"
   },
   {
    "duration": -727,
    "start_time": "2022-01-02T17:11:41.675Z"
   },
   {
    "duration": -738,
    "start_time": "2022-01-02T17:11:41.687Z"
   },
   {
    "duration": -750,
    "start_time": "2022-01-02T17:11:41.700Z"
   },
   {
    "duration": -760,
    "start_time": "2022-01-02T17:11:41.711Z"
   },
   {
    "duration": -773,
    "start_time": "2022-01-02T17:11:41.725Z"
   },
   {
    "duration": -799,
    "start_time": "2022-01-02T17:11:41.752Z"
   },
   {
    "duration": -811,
    "start_time": "2022-01-02T17:11:41.765Z"
   },
   {
    "duration": -822,
    "start_time": "2022-01-02T17:11:41.777Z"
   },
   {
    "duration": -834,
    "start_time": "2022-01-02T17:11:41.790Z"
   },
   {
    "duration": -844,
    "start_time": "2022-01-02T17:11:41.801Z"
   },
   {
    "duration": 1238,
    "start_time": "2022-01-02T17:12:31.732Z"
   },
   {
    "duration": 322,
    "start_time": "2022-01-02T17:12:32.972Z"
   },
   {
    "duration": 13,
    "start_time": "2022-01-02T17:12:33.296Z"
   },
   {
    "duration": 3974,
    "start_time": "2022-01-02T17:12:33.310Z"
   },
   {
    "duration": -140,
    "start_time": "2022-01-02T17:12:37.428Z"
   },
   {
    "duration": -162,
    "start_time": "2022-01-02T17:12:37.451Z"
   },
   {
    "duration": -180,
    "start_time": "2022-01-02T17:12:37.470Z"
   },
   {
    "duration": -214,
    "start_time": "2022-01-02T17:12:37.505Z"
   },
   {
    "duration": -243,
    "start_time": "2022-01-02T17:12:37.535Z"
   },
   {
    "duration": -254,
    "start_time": "2022-01-02T17:12:37.548Z"
   },
   {
    "duration": -264,
    "start_time": "2022-01-02T17:12:37.559Z"
   },
   {
    "duration": -276,
    "start_time": "2022-01-02T17:12:37.572Z"
   },
   {
    "duration": -286,
    "start_time": "2022-01-02T17:12:37.583Z"
   },
   {
    "duration": -298,
    "start_time": "2022-01-02T17:12:37.596Z"
   },
   {
    "duration": -323,
    "start_time": "2022-01-02T17:12:37.622Z"
   },
   {
    "duration": -334,
    "start_time": "2022-01-02T17:12:37.634Z"
   },
   {
    "duration": -348,
    "start_time": "2022-01-02T17:12:37.649Z"
   },
   {
    "duration": -359,
    "start_time": "2022-01-02T17:12:37.661Z"
   },
   {
    "duration": -369,
    "start_time": "2022-01-02T17:12:37.672Z"
   },
   {
    "duration": -380,
    "start_time": "2022-01-02T17:12:37.684Z"
   },
   {
    "duration": -389,
    "start_time": "2022-01-02T17:12:37.694Z"
   },
   {
    "duration": -400,
    "start_time": "2022-01-02T17:12:37.706Z"
   },
   {
    "duration": -409,
    "start_time": "2022-01-02T17:12:37.717Z"
   },
   {
    "duration": -467,
    "start_time": "2022-01-02T17:12:37.776Z"
   },
   {
    "duration": -588,
    "start_time": "2022-01-02T17:12:37.899Z"
   },
   {
    "duration": -779,
    "start_time": "2022-01-02T17:12:38.091Z"
   },
   {
    "duration": -849,
    "start_time": "2022-01-02T17:12:38.163Z"
   },
   {
    "duration": -899,
    "start_time": "2022-01-02T17:12:38.214Z"
   },
   {
    "duration": -933,
    "start_time": "2022-01-02T17:12:38.249Z"
   },
   {
    "duration": -945,
    "start_time": "2022-01-02T17:12:38.262Z"
   },
   {
    "duration": -956,
    "start_time": "2022-01-02T17:12:38.274Z"
   },
   {
    "duration": -967,
    "start_time": "2022-01-02T17:12:38.286Z"
   },
   {
    "duration": -977,
    "start_time": "2022-01-02T17:12:38.297Z"
   },
   {
    "duration": -988,
    "start_time": "2022-01-02T17:12:38.309Z"
   },
   {
    "duration": -997,
    "start_time": "2022-01-02T17:12:38.319Z"
   },
   {
    "duration": -1008,
    "start_time": "2022-01-02T17:12:38.331Z"
   },
   {
    "duration": -1030,
    "start_time": "2022-01-02T17:12:38.370Z"
   },
   {
    "duration": -1041,
    "start_time": "2022-01-02T17:12:38.382Z"
   },
   {
    "duration": -1051,
    "start_time": "2022-01-02T17:12:38.394Z"
   },
   {
    "duration": -1060,
    "start_time": "2022-01-02T17:12:38.404Z"
   },
   {
    "duration": -1072,
    "start_time": "2022-01-02T17:12:38.417Z"
   },
   {
    "duration": -1082,
    "start_time": "2022-01-02T17:12:38.428Z"
   },
   {
    "duration": -1093,
    "start_time": "2022-01-02T17:12:38.440Z"
   },
   {
    "duration": -1101,
    "start_time": "2022-01-02T17:12:38.450Z"
   },
   {
    "duration": -1112,
    "start_time": "2022-01-02T17:12:38.462Z"
   },
   {
    "duration": -1149,
    "start_time": "2022-01-02T17:12:38.500Z"
   },
   {
    "duration": -1339,
    "start_time": "2022-01-02T17:12:38.691Z"
   },
   {
    "duration": -1457,
    "start_time": "2022-01-02T17:12:38.810Z"
   },
   {
    "duration": -1501,
    "start_time": "2022-01-02T17:12:38.856Z"
   },
   {
    "duration": 3316,
    "start_time": "2022-01-02T17:20:44.055Z"
   },
   {
    "duration": 3572,
    "start_time": "2022-01-02T17:26:17.123Z"
   },
   {
    "duration": 4013,
    "start_time": "2022-01-02T17:27:32.062Z"
   },
   {
    "duration": 4406,
    "start_time": "2022-01-02T17:27:58.662Z"
   },
   {
    "duration": 3343,
    "start_time": "2022-01-02T17:28:22.128Z"
   },
   {
    "duration": 1107,
    "start_time": "2022-01-02T17:29:06.532Z"
   },
   {
    "duration": 3904,
    "start_time": "2022-01-02T17:32:03.111Z"
   },
   {
    "duration": 1055,
    "start_time": "2022-01-02T17:35:00.519Z"
   },
   {
    "duration": 3591,
    "start_time": "2022-01-02T17:36:34.649Z"
   },
   {
    "duration": 810,
    "start_time": "2022-01-02T17:39:01.147Z"
   },
   {
    "duration": 1312,
    "start_time": "2022-01-02T17:39:21.275Z"
   },
   {
    "duration": 786,
    "start_time": "2022-01-02T17:45:00.117Z"
   },
   {
    "duration": 870,
    "start_time": "2022-01-02T17:48:01.508Z"
   },
   {
    "duration": 1098,
    "start_time": "2022-01-02T17:48:06.972Z"
   },
   {
    "duration": 932,
    "start_time": "2022-01-02T17:48:43.820Z"
   },
   {
    "duration": 940,
    "start_time": "2022-01-02T17:49:01.122Z"
   },
   {
    "duration": 707,
    "start_time": "2022-01-02T17:49:03.824Z"
   },
   {
    "duration": 1237,
    "start_time": "2022-01-02T17:52:06.095Z"
   },
   {
    "duration": 1277,
    "start_time": "2022-01-02T17:53:02.692Z"
   },
   {
    "duration": 1206,
    "start_time": "2022-01-02T17:53:18.443Z"
   },
   {
    "duration": 1250,
    "start_time": "2022-01-02T17:53:33.943Z"
   },
   {
    "duration": 795,
    "start_time": "2022-01-02T18:01:15.273Z"
   },
   {
    "duration": 56,
    "start_time": "2022-01-02T18:03:27.856Z"
   },
   {
    "duration": 13528,
    "start_time": "2022-01-02T18:43:46.615Z"
   },
   {
    "duration": 79,
    "start_time": "2022-01-02T18:44:51.775Z"
   },
   {
    "duration": 78,
    "start_time": "2022-01-02T18:44:59.963Z"
   },
   {
    "duration": 12526,
    "start_time": "2022-01-02T18:45:47.924Z"
   },
   {
    "duration": 1130,
    "start_time": "2022-01-02T18:47:27.981Z"
   },
   {
    "duration": 297,
    "start_time": "2022-01-02T18:47:29.113Z"
   },
   {
    "duration": 14,
    "start_time": "2022-01-02T18:47:29.412Z"
   },
   {
    "duration": 849,
    "start_time": "2022-01-02T18:47:29.428Z"
   },
   {
    "duration": 815,
    "start_time": "2022-01-02T18:47:30.279Z"
   },
   {
    "duration": 759,
    "start_time": "2022-01-02T18:47:31.095Z"
   },
   {
    "duration": 1193,
    "start_time": "2022-01-02T18:47:31.855Z"
   },
   {
    "duration": 963,
    "start_time": "2022-01-02T18:47:33.050Z"
   },
   {
    "duration": 57,
    "start_time": "2022-01-02T18:47:34.015Z"
   },
   {
    "duration": 17,
    "start_time": "2022-01-02T18:47:34.074Z"
   },
   {
    "duration": 13300,
    "start_time": "2022-01-02T18:47:34.093Z"
   },
   {
    "duration": 2,
    "start_time": "2022-01-02T18:47:47.394Z"
   },
   {
    "duration": 45,
    "start_time": "2022-01-02T18:47:47.397Z"
   },
   {
    "duration": 12522,
    "start_time": "2022-01-02T18:47:47.443Z"
   },
   {
    "duration": 30,
    "start_time": "2022-01-02T18:47:59.966Z"
   },
   {
    "duration": 76,
    "start_time": "2022-01-02T18:47:59.997Z"
   },
   {
    "duration": 582,
    "start_time": "2022-01-02T18:48:00.074Z"
   },
   {
    "duration": 40,
    "start_time": "2022-01-02T18:48:00.659Z"
   },
   {
    "duration": 3029,
    "start_time": "2022-01-02T18:48:00.702Z"
   },
   {
    "duration": 336,
    "start_time": "2022-01-02T18:48:03.733Z"
   },
   {
    "duration": 273,
    "start_time": "2022-01-02T18:48:04.070Z"
   },
   {
    "duration": 2,
    "start_time": "2022-01-02T18:48:04.345Z"
   },
   {
    "duration": 260,
    "start_time": "2022-01-02T18:48:04.350Z"
   },
   {
    "duration": 276,
    "start_time": "2022-01-02T18:48:04.613Z"
   },
   {
    "duration": 97,
    "start_time": "2022-01-02T18:48:04.891Z"
   },
   {
    "duration": 70,
    "start_time": "2022-01-02T18:48:04.989Z"
   },
   {
    "duration": 401,
    "start_time": "2022-01-02T18:48:05.060Z"
   },
   {
    "duration": 47,
    "start_time": "2022-01-02T18:48:05.462Z"
   },
   {
    "duration": 912,
    "start_time": "2022-01-02T18:48:05.511Z"
   },
   {
    "duration": 134,
    "start_time": "2022-01-02T18:48:06.424Z"
   },
   {
    "duration": 29,
    "start_time": "2022-01-02T18:48:06.560Z"
   },
   {
    "duration": 12,
    "start_time": "2022-01-02T18:48:06.590Z"
   },
   {
    "duration": 71,
    "start_time": "2022-01-02T18:48:06.604Z"
   },
   {
    "duration": 613,
    "start_time": "2022-01-02T18:48:06.677Z"
   },
   {
    "duration": 37,
    "start_time": "2022-01-02T18:48:07.291Z"
   },
   {
    "duration": 324,
    "start_time": "2022-01-02T18:48:07.330Z"
   },
   {
    "duration": 270,
    "start_time": "2022-01-02T18:48:07.656Z"
   },
   {
    "duration": 41,
    "start_time": "2022-01-02T18:48:07.928Z"
   },
   {
    "duration": 6,
    "start_time": "2022-01-02T18:48:07.970Z"
   },
   {
    "duration": 302,
    "start_time": "2022-01-02T18:48:07.977Z"
   },
   {
    "duration": 228,
    "start_time": "2022-01-02T18:48:08.281Z"
   },
   {
    "duration": 706,
    "start_time": "2022-01-02T18:48:08.510Z"
   },
   {
    "duration": 592,
    "start_time": "2022-01-02T18:48:09.218Z"
   },
   {
    "duration": 289,
    "start_time": "2022-01-02T18:48:09.812Z"
   },
   {
    "duration": 164,
    "start_time": "2022-01-02T18:48:10.102Z"
   },
   {
    "duration": 18,
    "start_time": "2022-01-02T18:48:10.268Z"
   },
   {
    "duration": 729,
    "start_time": "2022-01-02T18:48:10.287Z"
   },
   {
    "duration": 597,
    "start_time": "2022-01-02T18:48:11.017Z"
   },
   {
    "duration": 30,
    "start_time": "2022-01-02T18:48:11.615Z"
   },
   {
    "duration": 24,
    "start_time": "2022-01-02T18:48:11.647Z"
   },
   {
    "duration": 33,
    "start_time": "2022-01-02T18:48:11.673Z"
   },
   {
    "duration": 398,
    "start_time": "2022-01-02T18:48:11.707Z"
   },
   {
    "duration": 1027,
    "start_time": "2022-01-02T18:48:12.107Z"
   },
   {
    "duration": 1623,
    "start_time": "2022-01-03T16:30:45.566Z"
   },
   {
    "duration": 357,
    "start_time": "2022-01-03T16:30:47.192Z"
   },
   {
    "duration": 28,
    "start_time": "2022-01-03T16:30:47.553Z"
   },
   {
    "duration": 1003,
    "start_time": "2022-01-03T16:30:47.585Z"
   },
   {
    "duration": 896,
    "start_time": "2022-01-03T16:30:48.591Z"
   },
   {
    "duration": 909,
    "start_time": "2022-01-03T16:30:49.490Z"
   },
   {
    "duration": 1364,
    "start_time": "2022-01-03T16:30:50.401Z"
   },
   {
    "duration": 998,
    "start_time": "2022-01-03T16:30:51.768Z"
   },
   {
    "duration": 117,
    "start_time": "2022-01-03T16:30:52.769Z"
   },
   {
    "duration": 29,
    "start_time": "2022-01-03T16:30:52.888Z"
   },
   {
    "duration": 23656,
    "start_time": "2022-01-03T16:30:52.919Z"
   },
   {
    "duration": 3,
    "start_time": "2022-01-03T16:31:16.577Z"
   },
   {
    "duration": 92,
    "start_time": "2022-01-03T16:31:16.583Z"
   },
   {
    "duration": 18557,
    "start_time": "2022-01-03T16:31:16.678Z"
   },
   {
    "duration": 54,
    "start_time": "2022-01-03T16:31:35.238Z"
   },
   {
    "duration": 108,
    "start_time": "2022-01-03T16:31:35.294Z"
   },
   {
    "duration": 847,
    "start_time": "2022-01-03T16:31:35.405Z"
   },
   {
    "duration": 32,
    "start_time": "2022-01-03T16:31:36.254Z"
   },
   {
    "duration": 4442,
    "start_time": "2022-01-03T16:31:36.288Z"
   },
   {
    "duration": 505,
    "start_time": "2022-01-03T16:31:40.732Z"
   },
   {
    "duration": 395,
    "start_time": "2022-01-03T16:31:41.239Z"
   },
   {
    "duration": 3,
    "start_time": "2022-01-03T16:31:41.636Z"
   },
   {
    "duration": 399,
    "start_time": "2022-01-03T16:31:41.644Z"
   },
   {
    "duration": 424,
    "start_time": "2022-01-03T16:31:42.046Z"
   },
   {
    "duration": 151,
    "start_time": "2022-01-03T16:31:42.473Z"
   },
   {
    "duration": 106,
    "start_time": "2022-01-03T16:31:42.626Z"
   },
   {
    "duration": 706,
    "start_time": "2022-01-03T16:31:42.734Z"
   },
   {
    "duration": 89,
    "start_time": "2022-01-03T16:31:43.443Z"
   },
   {
    "duration": 1290,
    "start_time": "2022-01-03T16:31:43.534Z"
   },
   {
    "duration": 215,
    "start_time": "2022-01-03T16:31:44.827Z"
   },
   {
    "duration": 56,
    "start_time": "2022-01-03T16:31:45.044Z"
   },
   {
    "duration": 19,
    "start_time": "2022-01-03T16:31:45.102Z"
   },
   {
    "duration": 114,
    "start_time": "2022-01-03T16:31:45.123Z"
   },
   {
    "duration": 1015,
    "start_time": "2022-01-03T16:31:45.239Z"
   },
   {
    "duration": 70,
    "start_time": "2022-01-03T16:31:46.256Z"
   },
   {
    "duration": 654,
    "start_time": "2022-01-03T16:31:46.329Z"
   },
   {
    "duration": 662,
    "start_time": "2022-01-03T16:31:46.986Z"
   },
   {
    "duration": 61,
    "start_time": "2022-01-03T16:31:47.662Z"
   },
   {
    "duration": 10,
    "start_time": "2022-01-03T16:31:47.725Z"
   },
   {
    "duration": 479,
    "start_time": "2022-01-03T16:31:47.762Z"
   },
   {
    "duration": 458,
    "start_time": "2022-01-03T16:31:48.244Z"
   },
   {
    "duration": 1349,
    "start_time": "2022-01-03T16:31:48.704Z"
   },
   {
    "duration": 1077,
    "start_time": "2022-01-03T16:31:50.063Z"
   },
   {
    "duration": 607,
    "start_time": "2022-01-03T16:31:51.142Z"
   },
   {
    "duration": 305,
    "start_time": "2022-01-03T16:31:51.752Z"
   },
   {
    "duration": 32,
    "start_time": "2022-01-03T16:31:52.063Z"
   },
   {
    "duration": 1179,
    "start_time": "2022-01-03T16:31:52.098Z"
   },
   {
    "duration": 989,
    "start_time": "2022-01-03T16:31:53.280Z"
   },
   {
    "duration": 38,
    "start_time": "2022-01-03T16:31:54.271Z"
   },
   {
    "duration": 64,
    "start_time": "2022-01-03T16:31:54.312Z"
   },
   {
    "duration": 45,
    "start_time": "2022-01-03T16:31:54.379Z"
   },
   {
    "duration": 842,
    "start_time": "2022-01-03T16:31:54.427Z"
   },
   {
    "duration": 2144,
    "start_time": "2022-01-03T16:31:55.271Z"
   },
   {
    "duration": 26,
    "start_time": "2022-01-03T16:33:26.373Z"
   },
   {
    "duration": 1306,
    "start_time": "2022-01-03T16:47:57.904Z"
   },
   {
    "duration": 1332,
    "start_time": "2022-01-03T16:48:09.512Z"
   },
   {
    "duration": 1277,
    "start_time": "2022-01-03T16:48:42.274Z"
   },
   {
    "duration": 1919,
    "start_time": "2022-01-03T16:48:58.857Z"
   },
   {
    "duration": 396,
    "start_time": "2022-01-03T16:49:00.779Z"
   },
   {
    "duration": 19,
    "start_time": "2022-01-03T16:49:01.178Z"
   },
   {
    "duration": 980,
    "start_time": "2022-01-03T16:49:01.200Z"
   },
   {
    "duration": 1082,
    "start_time": "2022-01-03T16:49:02.183Z"
   },
   {
    "duration": 823,
    "start_time": "2022-01-03T16:49:03.267Z"
   },
   {
    "duration": 1247,
    "start_time": "2022-01-03T16:49:04.093Z"
   },
   {
    "duration": 884,
    "start_time": "2022-01-03T16:49:05.344Z"
   },
   {
    "duration": 107,
    "start_time": "2022-01-03T16:49:06.232Z"
   },
   {
    "duration": 31,
    "start_time": "2022-01-03T16:49:06.342Z"
   },
   {
    "duration": 21961,
    "start_time": "2022-01-03T16:49:06.376Z"
   },
   {
    "duration": 3,
    "start_time": "2022-01-03T16:49:28.340Z"
   },
   {
    "duration": 70,
    "start_time": "2022-01-03T16:49:28.346Z"
   },
   {
    "duration": 19585,
    "start_time": "2022-01-03T16:49:28.419Z"
   },
   {
    "duration": 41,
    "start_time": "2022-01-03T16:49:48.007Z"
   },
   {
    "duration": 108,
    "start_time": "2022-01-03T16:49:48.064Z"
   },
   {
    "duration": 825,
    "start_time": "2022-01-03T16:49:48.175Z"
   },
   {
    "duration": 25,
    "start_time": "2022-01-03T16:49:49.002Z"
   },
   {
    "duration": 1310,
    "start_time": "2022-01-03T16:49:49.029Z"
   },
   {
    "duration": 514,
    "start_time": "2022-01-03T16:49:50.342Z"
   },
   {
    "duration": 416,
    "start_time": "2022-01-03T16:49:50.862Z"
   },
   {
    "duration": 4,
    "start_time": "2022-01-03T16:49:51.281Z"
   },
   {
    "duration": 492,
    "start_time": "2022-01-03T16:49:51.291Z"
   },
   {
    "duration": 434,
    "start_time": "2022-01-03T16:49:51.788Z"
   },
   {
    "duration": 146,
    "start_time": "2022-01-03T16:49:52.224Z"
   },
   {
    "duration": 112,
    "start_time": "2022-01-03T16:49:52.372Z"
   },
   {
    "duration": 631,
    "start_time": "2022-01-03T16:49:52.486Z"
   },
   {
    "duration": 83,
    "start_time": "2022-01-03T16:49:53.120Z"
   },
   {
    "duration": 1238,
    "start_time": "2022-01-03T16:49:53.205Z"
   },
   {
    "duration": 220,
    "start_time": "2022-01-03T16:49:54.447Z"
   },
   {
    "duration": 41,
    "start_time": "2022-01-03T16:49:54.670Z"
   },
   {
    "duration": 51,
    "start_time": "2022-01-03T16:49:54.714Z"
   },
   {
    "duration": 96,
    "start_time": "2022-01-03T16:49:54.768Z"
   },
   {
    "duration": 1017,
    "start_time": "2022-01-03T16:49:54.867Z"
   },
   {
    "duration": 87,
    "start_time": "2022-01-03T16:49:55.887Z"
   },
   {
    "duration": 410,
    "start_time": "2022-01-03T16:49:55.977Z"
   },
   {
    "duration": 492,
    "start_time": "2022-01-03T16:49:56.390Z"
   },
   {
    "duration": 62,
    "start_time": "2022-01-03T16:49:56.885Z"
   },
   {
    "duration": 10,
    "start_time": "2022-01-03T16:49:56.963Z"
   },
   {
    "duration": 451,
    "start_time": "2022-01-03T16:49:56.975Z"
   },
   {
    "duration": 440,
    "start_time": "2022-01-03T16:49:57.429Z"
   },
   {
    "duration": 1436,
    "start_time": "2022-01-03T16:49:57.872Z"
   },
   {
    "duration": 1238,
    "start_time": "2022-01-03T16:49:59.310Z"
   },
   {
    "duration": 555,
    "start_time": "2022-01-03T16:50:00.551Z"
   },
   {
    "duration": 300,
    "start_time": "2022-01-03T16:50:01.109Z"
   },
   {
    "duration": 34,
    "start_time": "2022-01-03T16:50:01.411Z"
   },
   {
    "duration": 1177,
    "start_time": "2022-01-03T16:50:01.464Z"
   },
   {
    "duration": 973,
    "start_time": "2022-01-03T16:50:02.643Z"
   },
   {
    "duration": 45,
    "start_time": "2022-01-03T16:50:03.618Z"
   },
   {
    "duration": 32,
    "start_time": "2022-01-03T16:50:03.666Z"
   },
   {
    "duration": 63,
    "start_time": "2022-01-03T16:50:03.701Z"
   },
   {
    "duration": 838,
    "start_time": "2022-01-03T16:50:03.767Z"
   },
   {
    "duration": 2208,
    "start_time": "2022-01-03T16:50:04.608Z"
   },
   {
    "duration": 1857,
    "start_time": "2022-01-03T16:54:31.880Z"
   },
   {
    "duration": 1660,
    "start_time": "2022-01-03T16:55:13.036Z"
   },
   {
    "duration": 1797,
    "start_time": "2022-01-03T16:55:48.829Z"
   },
   {
    "duration": 1647,
    "start_time": "2022-01-03T16:56:13.619Z"
   },
   {
    "duration": 347,
    "start_time": "2022-01-03T16:56:15.268Z"
   },
   {
    "duration": 18,
    "start_time": "2022-01-03T16:56:15.618Z"
   },
   {
    "duration": 1131,
    "start_time": "2022-01-03T16:56:15.638Z"
   },
   {
    "duration": 1128,
    "start_time": "2022-01-03T16:56:16.771Z"
   },
   {
    "duration": 837,
    "start_time": "2022-01-03T16:56:17.901Z"
   },
   {
    "duration": 1098,
    "start_time": "2022-01-03T16:56:18.741Z"
   },
   {
    "duration": 1018,
    "start_time": "2022-01-03T16:56:19.843Z"
   },
   {
    "duration": 120,
    "start_time": "2022-01-03T16:56:20.864Z"
   },
   {
    "duration": 29,
    "start_time": "2022-01-03T16:56:20.987Z"
   },
   {
    "duration": 23312,
    "start_time": "2022-01-03T16:56:21.019Z"
   },
   {
    "duration": 3,
    "start_time": "2022-01-03T16:56:44.334Z"
   },
   {
    "duration": 100,
    "start_time": "2022-01-03T16:56:44.340Z"
   },
   {
    "duration": 23267,
    "start_time": "2022-01-03T16:56:44.462Z"
   },
   {
    "duration": 54,
    "start_time": "2022-01-03T16:57:07.731Z"
   },
   {
    "duration": 101,
    "start_time": "2022-01-03T16:57:07.788Z"
   },
   {
    "duration": 810,
    "start_time": "2022-01-03T16:57:07.892Z"
   },
   {
    "duration": 25,
    "start_time": "2022-01-03T16:57:08.704Z"
   },
   {
    "duration": 1715,
    "start_time": "2022-01-03T16:57:08.731Z"
   },
   {
    "duration": 524,
    "start_time": "2022-01-03T16:57:10.449Z"
   },
   {
    "duration": 425,
    "start_time": "2022-01-03T16:57:10.976Z"
   },
   {
    "duration": 4,
    "start_time": "2022-01-03T16:57:11.404Z"
   },
   {
    "duration": 424,
    "start_time": "2022-01-03T16:57:11.413Z"
   },
   {
    "duration": 444,
    "start_time": "2022-01-03T16:57:11.842Z"
   },
   {
    "duration": 146,
    "start_time": "2022-01-03T16:57:12.289Z"
   },
   {
    "duration": 94,
    "start_time": "2022-01-03T16:57:12.438Z"
   },
   {
    "duration": 580,
    "start_time": "2022-01-03T16:57:12.535Z"
   },
   {
    "duration": 83,
    "start_time": "2022-01-03T16:57:13.117Z"
   },
   {
    "duration": 1362,
    "start_time": "2022-01-03T16:57:13.202Z"
   },
   {
    "duration": 179,
    "start_time": "2022-01-03T16:57:14.567Z"
   },
   {
    "duration": 51,
    "start_time": "2022-01-03T16:57:14.748Z"
   },
   {
    "duration": 15,
    "start_time": "2022-01-03T16:57:14.802Z"
   },
   {
    "duration": 102,
    "start_time": "2022-01-03T16:57:14.819Z"
   },
   {
    "duration": 986,
    "start_time": "2022-01-03T16:57:14.923Z"
   },
   {
    "duration": 78,
    "start_time": "2022-01-03T16:57:15.911Z"
   },
   {
    "duration": 424,
    "start_time": "2022-01-03T16:57:15.991Z"
   },
   {
    "duration": 474,
    "start_time": "2022-01-03T16:57:16.417Z"
   },
   {
    "duration": 74,
    "start_time": "2022-01-03T16:57:16.894Z"
   },
   {
    "duration": 9,
    "start_time": "2022-01-03T16:57:16.971Z"
   },
   {
    "duration": 524,
    "start_time": "2022-01-03T16:57:16.982Z"
   },
   {
    "duration": 435,
    "start_time": "2022-01-03T16:57:17.508Z"
   },
   {
    "duration": 1465,
    "start_time": "2022-01-03T16:57:17.945Z"
   },
   {
    "duration": 1131,
    "start_time": "2022-01-03T16:57:19.413Z"
   },
   {
    "duration": 530,
    "start_time": "2022-01-03T16:57:20.547Z"
   },
   {
    "duration": 301,
    "start_time": "2022-01-03T16:57:21.080Z"
   },
   {
    "duration": 30,
    "start_time": "2022-01-03T16:57:21.384Z"
   },
   {
    "duration": 1156,
    "start_time": "2022-01-03T16:57:21.416Z"
   },
   {
    "duration": 990,
    "start_time": "2022-01-03T16:57:22.575Z"
   },
   {
    "duration": 34,
    "start_time": "2022-01-03T16:57:23.568Z"
   },
   {
    "duration": 60,
    "start_time": "2022-01-03T16:57:23.604Z"
   },
   {
    "duration": 30,
    "start_time": "2022-01-03T16:57:23.666Z"
   },
   {
    "duration": 822,
    "start_time": "2022-01-03T16:57:23.698Z"
   },
   {
    "duration": 2159,
    "start_time": "2022-01-03T16:57:24.522Z"
   },
   {
    "duration": 1597,
    "start_time": "2022-01-04T16:29:57.308Z"
   },
   {
    "duration": 402,
    "start_time": "2022-01-04T16:29:58.909Z"
   },
   {
    "duration": 21,
    "start_time": "2022-01-04T16:29:59.317Z"
   },
   {
    "duration": 1185,
    "start_time": "2022-01-04T16:29:59.340Z"
   },
   {
    "duration": 1003,
    "start_time": "2022-01-04T16:30:00.527Z"
   },
   {
    "duration": 927,
    "start_time": "2022-01-04T16:30:01.533Z"
   },
   {
    "duration": 1338,
    "start_time": "2022-01-04T16:30:02.463Z"
   },
   {
    "duration": 1289,
    "start_time": "2022-01-04T16:30:03.804Z"
   },
   {
    "duration": 95,
    "start_time": "2022-01-04T16:30:05.095Z"
   },
   {
    "duration": 41,
    "start_time": "2022-01-04T16:30:05.192Z"
   },
   {
    "duration": 34903,
    "start_time": "2022-01-04T16:30:05.235Z"
   },
   {
    "duration": 3,
    "start_time": "2022-01-04T16:30:40.140Z"
   },
   {
    "duration": 72,
    "start_time": "2022-01-04T16:30:40.145Z"
   },
   {
    "duration": 18784,
    "start_time": "2022-01-04T16:30:40.219Z"
   },
   {
    "duration": 49,
    "start_time": "2022-01-04T16:30:59.006Z"
   },
   {
    "duration": 99,
    "start_time": "2022-01-04T16:30:59.057Z"
   },
   {
    "duration": 872,
    "start_time": "2022-01-04T16:30:59.158Z"
   },
   {
    "duration": 27,
    "start_time": "2022-01-04T16:31:00.033Z"
   },
   {
    "duration": 1300,
    "start_time": "2022-01-04T16:31:00.062Z"
   },
   {
    "duration": 483,
    "start_time": "2022-01-04T16:31:01.365Z"
   },
   {
    "duration": 412,
    "start_time": "2022-01-04T16:31:01.851Z"
   },
   {
    "duration": 3,
    "start_time": "2022-01-04T16:31:02.269Z"
   },
   {
    "duration": 414,
    "start_time": "2022-01-04T16:31:02.276Z"
   },
   {
    "duration": 451,
    "start_time": "2022-01-04T16:31:02.693Z"
   },
   {
    "duration": 154,
    "start_time": "2022-01-04T16:31:03.147Z"
   },
   {
    "duration": 98,
    "start_time": "2022-01-04T16:31:03.303Z"
   },
   {
    "duration": 597,
    "start_time": "2022-01-04T16:31:03.403Z"
   },
   {
    "duration": 78,
    "start_time": "2022-01-04T16:31:04.002Z"
   },
   {
    "duration": 1140,
    "start_time": "2022-01-04T16:31:04.082Z"
   },
   {
    "duration": 196,
    "start_time": "2022-01-04T16:31:05.225Z"
   },
   {
    "duration": 40,
    "start_time": "2022-01-04T16:31:05.424Z"
   },
   {
    "duration": 51,
    "start_time": "2022-01-04T16:31:05.467Z"
   },
   {
    "duration": 80,
    "start_time": "2022-01-04T16:31:05.521Z"
   },
   {
    "duration": 977,
    "start_time": "2022-01-04T16:31:05.617Z"
   },
   {
    "duration": 76,
    "start_time": "2022-01-04T16:31:06.596Z"
   },
   {
    "duration": 443,
    "start_time": "2022-01-04T16:31:06.674Z"
   },
   {
    "duration": 491,
    "start_time": "2022-01-04T16:31:07.119Z"
   },
   {
    "duration": 60,
    "start_time": "2022-01-04T16:31:07.612Z"
   },
   {
    "duration": 9,
    "start_time": "2022-01-04T16:31:07.675Z"
   },
   {
    "duration": 473,
    "start_time": "2022-01-04T16:31:07.687Z"
   },
   {
    "duration": 616,
    "start_time": "2022-01-04T16:31:08.163Z"
   },
   {
    "duration": 1541,
    "start_time": "2022-01-04T16:31:08.781Z"
   },
   {
    "duration": 1252,
    "start_time": "2022-01-04T16:31:10.324Z"
   },
   {
    "duration": 587,
    "start_time": "2022-01-04T16:31:11.578Z"
   },
   {
    "duration": 314,
    "start_time": "2022-01-04T16:31:12.168Z"
   },
   {
    "duration": 49,
    "start_time": "2022-01-04T16:31:12.484Z"
   },
   {
    "duration": 1130,
    "start_time": "2022-01-04T16:31:12.536Z"
   },
   {
    "duration": 948,
    "start_time": "2022-01-04T16:31:13.669Z"
   },
   {
    "duration": 36,
    "start_time": "2022-01-04T16:31:14.619Z"
   },
   {
    "duration": 69,
    "start_time": "2022-01-04T16:31:14.658Z"
   },
   {
    "duration": 31,
    "start_time": "2022-01-04T16:31:14.729Z"
   },
   {
    "duration": 862,
    "start_time": "2022-01-04T16:31:14.762Z"
   },
   {
    "duration": 2262,
    "start_time": "2022-01-04T16:31:15.626Z"
   },
   {
    "duration": 2214,
    "start_time": "2022-01-04T17:26:33.552Z"
   },
   {
    "duration": 1132,
    "start_time": "2022-01-04T19:36:10.755Z"
   },
   {
    "duration": 4,
    "start_time": "2022-01-04T19:36:16.111Z"
   },
   {
    "duration": 275,
    "start_time": "2022-01-04T19:36:17.899Z"
   },
   {
    "duration": 1205,
    "start_time": "2022-01-04T19:56:28.708Z"
   },
   {
    "duration": 256,
    "start_time": "2022-01-04T19:56:29.915Z"
   },
   {
    "duration": 17,
    "start_time": "2022-01-04T19:56:30.172Z"
   },
   {
    "duration": 903,
    "start_time": "2022-01-04T19:56:30.191Z"
   },
   {
    "duration": 969,
    "start_time": "2022-01-04T19:56:31.096Z"
   },
   {
    "duration": 1799,
    "start_time": "2022-01-04T19:56:32.067Z"
   },
   {
    "duration": 1410,
    "start_time": "2022-01-04T19:56:33.868Z"
   },
   {
    "duration": 954,
    "start_time": "2022-01-04T19:56:35.280Z"
   },
   {
    "duration": 58,
    "start_time": "2022-01-04T19:56:36.237Z"
   },
   {
    "duration": 19,
    "start_time": "2022-01-04T19:56:36.297Z"
   },
   {
    "duration": 33692,
    "start_time": "2022-01-04T19:56:36.317Z"
   },
   {
    "duration": 2,
    "start_time": "2022-01-04T19:57:10.011Z"
   },
   {
    "duration": 38,
    "start_time": "2022-01-04T19:57:10.015Z"
   },
   {
    "duration": 20194,
    "start_time": "2022-01-04T19:57:10.055Z"
   },
   {
    "duration": 47,
    "start_time": "2022-01-04T19:57:30.252Z"
   },
   {
    "duration": 62,
    "start_time": "2022-01-04T19:57:30.301Z"
   },
   {
    "duration": 581,
    "start_time": "2022-01-04T19:57:30.365Z"
   },
   {
    "duration": 21,
    "start_time": "2022-01-04T19:57:30.947Z"
   },
   {
    "duration": 1360,
    "start_time": "2022-01-04T19:57:30.969Z"
   },
   {
    "duration": 361,
    "start_time": "2022-01-04T19:57:32.330Z"
   },
   {
    "duration": 284,
    "start_time": "2022-01-04T19:57:32.693Z"
   },
   {
    "duration": 2,
    "start_time": "2022-01-04T19:57:32.979Z"
   },
   {
    "duration": 280,
    "start_time": "2022-01-04T19:57:32.985Z"
   },
   {
    "duration": 284,
    "start_time": "2022-01-04T19:57:33.267Z"
   },
   {
    "duration": 104,
    "start_time": "2022-01-04T19:57:33.553Z"
   },
   {
    "duration": 75,
    "start_time": "2022-01-04T19:57:33.658Z"
   },
   {
    "duration": 411,
    "start_time": "2022-01-04T19:57:33.734Z"
   },
   {
    "duration": 63,
    "start_time": "2022-01-04T19:57:34.148Z"
   },
   {
    "duration": 856,
    "start_time": "2022-01-04T19:57:34.213Z"
   },
   {
    "duration": 130,
    "start_time": "2022-01-04T19:57:35.071Z"
   },
   {
    "duration": 31,
    "start_time": "2022-01-04T19:57:35.203Z"
   },
   {
    "duration": 13,
    "start_time": "2022-01-04T19:57:35.236Z"
   },
   {
    "duration": 75,
    "start_time": "2022-01-04T19:57:35.250Z"
   },
   {
    "duration": 692,
    "start_time": "2022-01-04T19:57:35.327Z"
   },
   {
    "duration": 40,
    "start_time": "2022-01-04T19:57:36.020Z"
   },
   {
    "duration": 343,
    "start_time": "2022-01-04T19:57:36.061Z"
   },
   {
    "duration": 311,
    "start_time": "2022-01-04T19:57:36.407Z"
   },
   {
    "duration": 37,
    "start_time": "2022-01-04T19:57:36.720Z"
   },
   {
    "duration": 7,
    "start_time": "2022-01-04T19:57:36.759Z"
   },
   {
    "duration": 366,
    "start_time": "2022-01-04T19:57:36.768Z"
   },
   {
    "duration": 286,
    "start_time": "2022-01-04T19:57:37.136Z"
   },
   {
    "duration": 848,
    "start_time": "2022-01-04T19:57:37.424Z"
   },
   {
    "duration": 662,
    "start_time": "2022-01-04T19:57:38.275Z"
   },
   {
    "duration": 352,
    "start_time": "2022-01-04T19:57:38.939Z"
   },
   {
    "duration": 194,
    "start_time": "2022-01-04T19:57:39.293Z"
   },
   {
    "duration": 19,
    "start_time": "2022-01-04T19:57:39.491Z"
   },
   {
    "duration": 764,
    "start_time": "2022-01-04T19:57:39.512Z"
   },
   {
    "duration": 649,
    "start_time": "2022-01-04T19:57:40.277Z"
   },
   {
    "duration": 23,
    "start_time": "2022-01-04T19:57:40.928Z"
   },
   {
    "duration": 38,
    "start_time": "2022-01-04T19:57:40.953Z"
   },
   {
    "duration": 20,
    "start_time": "2022-01-04T19:57:40.993Z"
   },
   {
    "duration": 425,
    "start_time": "2022-01-04T19:57:41.015Z"
   },
   {
    "duration": 1082,
    "start_time": "2022-01-04T19:57:41.441Z"
   },
   {
    "duration": 250,
    "start_time": "2022-01-04T20:04:21.039Z"
   },
   {
    "duration": 130,
    "start_time": "2022-01-04T20:04:32.779Z"
   },
   {
    "duration": 1720,
    "start_time": "2022-01-04T20:04:42.434Z"
   },
   {
    "duration": 3181,
    "start_time": "2022-01-04T20:05:16.054Z"
   },
   {
    "duration": 3340,
    "start_time": "2022-01-04T20:05:28.098Z"
   },
   {
    "duration": 3739,
    "start_time": "2022-01-04T20:05:56.251Z"
   },
   {
    "duration": 8,
    "start_time": "2022-01-04T20:06:10.840Z"
   },
   {
    "duration": 18,
    "start_time": "2022-01-04T20:07:07.637Z"
   },
   {
    "duration": 7,
    "start_time": "2022-01-04T20:08:00.154Z"
   },
   {
    "duration": 39,
    "start_time": "2022-01-04T20:09:33.571Z"
   },
   {
    "duration": 18,
    "start_time": "2022-01-04T20:10:44.114Z"
   },
   {
    "duration": 6,
    "start_time": "2022-01-04T20:14:29.397Z"
   },
   {
    "duration": 5,
    "start_time": "2022-01-04T20:14:35.159Z"
   },
   {
    "duration": 5,
    "start_time": "2022-01-04T20:15:24.507Z"
   },
   {
    "duration": 142,
    "start_time": "2022-01-04T20:16:05.121Z"
   },
   {
    "duration": 6,
    "start_time": "2022-01-04T20:16:22.645Z"
   },
   {
    "duration": 132,
    "start_time": "2022-01-04T20:16:48.192Z"
   },
   {
    "duration": 6,
    "start_time": "2022-01-04T20:16:56.720Z"
   },
   {
    "duration": 136,
    "start_time": "2022-01-04T20:17:24.028Z"
   },
   {
    "duration": 51,
    "start_time": "2022-01-04T20:18:11.642Z"
   },
   {
    "duration": 21,
    "start_time": "2022-01-04T20:19:51.096Z"
   },
   {
    "duration": 3377,
    "start_time": "2022-01-04T20:20:12.943Z"
   },
   {
    "duration": 8,
    "start_time": "2022-01-04T20:20:39.860Z"
   },
   {
    "duration": 15,
    "start_time": "2022-01-04T20:21:32.685Z"
   },
   {
    "duration": 50,
    "start_time": "2022-01-04T20:21:43.105Z"
   },
   {
    "duration": 10,
    "start_time": "2022-01-04T20:23:00.833Z"
   },
   {
    "duration": 11,
    "start_time": "2022-01-04T20:23:09.274Z"
   },
   {
    "duration": 6,
    "start_time": "2022-01-04T20:24:45.121Z"
   },
   {
    "duration": 14,
    "start_time": "2022-01-04T20:39:10.225Z"
   },
   {
    "duration": 4617,
    "start_time": "2022-01-04T20:39:31.995Z"
   },
   {
    "duration": 15,
    "start_time": "2022-01-04T20:40:35.916Z"
   },
   {
    "duration": 13,
    "start_time": "2022-01-04T20:40:59.710Z"
   },
   {
    "duration": 26,
    "start_time": "2022-01-04T20:49:59.882Z"
   },
   {
    "duration": 6,
    "start_time": "2022-01-04T20:50:17.534Z"
   },
   {
    "duration": 12,
    "start_time": "2022-01-04T20:50:20.057Z"
   },
   {
    "duration": 144,
    "start_time": "2022-01-04T20:51:24.864Z"
   },
   {
    "duration": 445,
    "start_time": "2022-01-04T20:51:29.854Z"
   },
   {
    "duration": 774,
    "start_time": "2022-01-04T20:51:55.017Z"
   },
   {
    "duration": 1223,
    "start_time": "2022-01-05T04:09:48.150Z"
   },
   {
    "duration": 267,
    "start_time": "2022-01-05T04:09:49.375Z"
   },
   {
    "duration": 16,
    "start_time": "2022-01-05T04:09:49.644Z"
   },
   {
    "duration": 942,
    "start_time": "2022-01-05T04:09:49.662Z"
   },
   {
    "duration": 923,
    "start_time": "2022-01-05T04:09:50.605Z"
   },
   {
    "duration": 1081,
    "start_time": "2022-01-05T04:09:51.529Z"
   },
   {
    "duration": 1537,
    "start_time": "2022-01-05T04:09:52.612Z"
   },
   {
    "duration": 1046,
    "start_time": "2022-01-05T04:09:54.152Z"
   },
   {
    "duration": 60,
    "start_time": "2022-01-05T04:09:55.200Z"
   },
   {
    "duration": 19,
    "start_time": "2022-01-05T04:09:55.261Z"
   },
   {
    "duration": 25510,
    "start_time": "2022-01-05T04:09:55.282Z"
   },
   {
    "duration": 2,
    "start_time": "2022-01-05T04:10:20.794Z"
   },
   {
    "duration": 34,
    "start_time": "2022-01-05T04:10:20.798Z"
   },
   {
    "duration": 15499,
    "start_time": "2022-01-05T04:10:20.833Z"
   },
   {
    "duration": 38,
    "start_time": "2022-01-05T04:10:36.334Z"
   },
   {
    "duration": 70,
    "start_time": "2022-01-05T04:10:36.374Z"
   },
   {
    "duration": 751,
    "start_time": "2022-01-05T04:10:36.446Z"
   },
   {
    "duration": 22,
    "start_time": "2022-01-05T04:10:37.199Z"
   },
   {
    "duration": 1281,
    "start_time": "2022-01-05T04:10:37.223Z"
   },
   {
    "duration": 376,
    "start_time": "2022-01-05T04:10:38.505Z"
   },
   {
    "duration": 300,
    "start_time": "2022-01-05T04:10:38.883Z"
   },
   {
    "duration": 2,
    "start_time": "2022-01-05T04:10:39.185Z"
   },
   {
    "duration": 293,
    "start_time": "2022-01-05T04:10:39.191Z"
   },
   {
    "duration": 319,
    "start_time": "2022-01-05T04:10:39.486Z"
   },
   {
    "duration": 108,
    "start_time": "2022-01-05T04:10:39.806Z"
   },
   {
    "duration": 80,
    "start_time": "2022-01-05T04:10:39.916Z"
   },
   {
    "duration": 415,
    "start_time": "2022-01-05T04:10:39.998Z"
   },
   {
    "duration": 58,
    "start_time": "2022-01-05T04:10:40.415Z"
   },
   {
    "duration": 914,
    "start_time": "2022-01-05T04:10:40.474Z"
   },
   {
    "duration": 139,
    "start_time": "2022-01-05T04:10:41.389Z"
   },
   {
    "duration": 42,
    "start_time": "2022-01-05T04:10:41.530Z"
   },
   {
    "duration": 12,
    "start_time": "2022-01-05T04:10:41.574Z"
   },
   {
    "duration": 51,
    "start_time": "2022-01-05T04:10:41.588Z"
   },
   {
    "duration": 679,
    "start_time": "2022-01-05T04:10:41.641Z"
   },
   {
    "duration": 44,
    "start_time": "2022-01-05T04:10:42.321Z"
   },
   {
    "duration": 295,
    "start_time": "2022-01-05T04:10:42.367Z"
   },
   {
    "duration": 281,
    "start_time": "2022-01-05T04:10:42.664Z"
   },
   {
    "duration": 26,
    "start_time": "2022-01-05T04:10:42.947Z"
   },
   {
    "duration": 5,
    "start_time": "2022-01-05T04:10:42.975Z"
   },
   {
    "duration": 22,
    "start_time": "2022-01-05T04:10:42.981Z"
   },
   {
    "duration": 685,
    "start_time": "2022-01-05T04:10:43.005Z"
   },
   {
    "duration": 38,
    "start_time": "2022-01-05T04:10:43.692Z"
   },
   {
    "duration": 7,
    "start_time": "2022-01-05T04:10:43.732Z"
   },
   {
    "duration": 340,
    "start_time": "2022-01-05T04:10:43.740Z"
   },
   {
    "duration": 242,
    "start_time": "2022-01-05T04:10:44.081Z"
   },
   {
    "duration": 754,
    "start_time": "2022-01-05T04:10:44.325Z"
   },
   {
    "duration": 583,
    "start_time": "2022-01-05T04:10:45.080Z"
   },
   {
    "duration": 317,
    "start_time": "2022-01-05T04:10:45.665Z"
   },
   {
    "duration": 176,
    "start_time": "2022-01-05T04:10:45.984Z"
   },
   {
    "duration": 17,
    "start_time": "2022-01-05T04:10:46.162Z"
   },
   {
    "duration": 1023,
    "start_time": "2022-01-05T04:10:46.181Z"
   },
   {
    "duration": 696,
    "start_time": "2022-01-05T04:10:47.206Z"
   },
   {
    "duration": 24,
    "start_time": "2022-01-05T04:10:47.903Z"
   },
   {
    "duration": 41,
    "start_time": "2022-01-05T04:10:47.929Z"
   },
   {
    "duration": 36,
    "start_time": "2022-01-05T04:10:47.972Z"
   },
   {
    "duration": 425,
    "start_time": "2022-01-05T04:10:48.010Z"
   },
   {
    "duration": 1218,
    "start_time": "2022-01-05T04:10:48.438Z"
   },
   {
    "duration": 680,
    "start_time": "2022-01-05T04:16:51.689Z"
   },
   {
    "duration": 679,
    "start_time": "2022-01-05T04:17:04.285Z"
   },
   {
    "duration": 673,
    "start_time": "2022-01-05T04:20:34.043Z"
   },
   {
    "duration": 799,
    "start_time": "2022-01-05T04:20:44.402Z"
   },
   {
    "duration": 755,
    "start_time": "2022-01-05T04:21:06.567Z"
   },
   {
    "duration": 35,
    "start_time": "2022-01-05T04:21:52.006Z"
   },
   {
    "duration": 54,
    "start_time": "2022-01-05T04:22:27.660Z"
   },
   {
    "duration": 673,
    "start_time": "2022-01-05T04:23:47.635Z"
   },
   {
    "duration": 1104,
    "start_time": "2022-01-05T04:24:37.251Z"
   },
   {
    "duration": 703,
    "start_time": "2022-01-05T04:25:19.378Z"
   },
   {
    "duration": 716,
    "start_time": "2022-01-05T04:25:59.885Z"
   },
   {
    "duration": 909,
    "start_time": "2022-01-05T04:26:14.457Z"
   },
   {
    "duration": 12,
    "start_time": "2022-01-05T04:32:00.199Z"
   },
   {
    "duration": 11,
    "start_time": "2022-01-05T04:32:06.238Z"
   },
   {
    "duration": 11,
    "start_time": "2022-01-05T04:32:25.641Z"
   },
   {
    "duration": 13,
    "start_time": "2022-01-05T04:32:49.124Z"
   },
   {
    "duration": 16,
    "start_time": "2022-01-05T04:32:51.348Z"
   },
   {
    "duration": 13,
    "start_time": "2022-01-05T04:35:15.117Z"
   },
   {
    "duration": 13,
    "start_time": "2022-01-05T04:35:20.602Z"
   },
   {
    "duration": 38,
    "start_time": "2022-01-05T04:35:40.394Z"
   },
   {
    "duration": 30,
    "start_time": "2022-01-05T04:36:58.112Z"
   },
   {
    "duration": 12,
    "start_time": "2022-01-05T04:37:02.562Z"
   },
   {
    "duration": 13,
    "start_time": "2022-01-05T04:38:20.225Z"
   },
   {
    "duration": 11,
    "start_time": "2022-01-05T04:40:18.459Z"
   },
   {
    "duration": 17,
    "start_time": "2022-01-05T04:40:50.014Z"
   },
   {
    "duration": 20,
    "start_time": "2022-01-05T04:41:35.186Z"
   },
   {
    "duration": 5,
    "start_time": "2022-01-05T04:58:29.332Z"
   },
   {
    "duration": 5,
    "start_time": "2022-01-05T04:58:42.375Z"
   },
   {
    "duration": 5,
    "start_time": "2022-01-05T04:59:59.573Z"
   },
   {
    "duration": 70,
    "start_time": "2022-01-05T05:01:29.220Z"
   },
   {
    "duration": 306,
    "start_time": "2022-01-05T05:01:33.969Z"
   },
   {
    "duration": 5,
    "start_time": "2022-01-05T05:01:51.439Z"
   },
   {
    "duration": 754,
    "start_time": "2022-01-05T05:17:00.111Z"
   },
   {
    "duration": 911,
    "start_time": "2022-01-05T05:18:03.937Z"
   },
   {
    "duration": 1104,
    "start_time": "2022-01-05T05:18:18.737Z"
   },
   {
    "duration": 912,
    "start_time": "2022-01-05T05:18:27.489Z"
   },
   {
    "duration": 707,
    "start_time": "2022-01-05T05:21:04.787Z"
   },
   {
    "duration": 670,
    "start_time": "2022-01-05T05:21:35.049Z"
   },
   {
    "duration": 700,
    "start_time": "2022-01-05T05:31:23.496Z"
   },
   {
    "duration": 733,
    "start_time": "2022-01-05T05:31:41.702Z"
   },
   {
    "duration": 981,
    "start_time": "2022-01-05T05:50:00.817Z"
   },
   {
    "duration": 716,
    "start_time": "2022-01-05T05:50:04.557Z"
   },
   {
    "duration": 745,
    "start_time": "2022-01-05T05:50:19.302Z"
   },
   {
    "duration": 955,
    "start_time": "2022-01-05T05:51:19.198Z"
   },
   {
    "duration": 691,
    "start_time": "2022-01-05T05:51:28.346Z"
   },
   {
    "duration": 720,
    "start_time": "2022-01-05T05:51:56.842Z"
   },
   {
    "duration": 1254,
    "start_time": "2022-01-05T05:52:10.909Z"
   },
   {
    "duration": 715,
    "start_time": "2022-01-05T05:54:17.560Z"
   },
   {
    "duration": 1574,
    "start_time": "2022-01-05T05:55:51.749Z"
   },
   {
    "duration": 1492,
    "start_time": "2022-01-05T05:55:58.343Z"
   },
   {
    "duration": 1505,
    "start_time": "2022-01-05T05:56:08.572Z"
   },
   {
    "duration": 832,
    "start_time": "2022-01-05T05:56:35.405Z"
   },
   {
    "duration": 700,
    "start_time": "2022-01-05T05:56:44.339Z"
   },
   {
    "duration": 741,
    "start_time": "2022-01-05T05:57:09.586Z"
   },
   {
    "duration": 722,
    "start_time": "2022-01-05T05:57:17.093Z"
   },
   {
    "duration": 722,
    "start_time": "2022-01-05T05:57:26.429Z"
   },
   {
    "duration": 735,
    "start_time": "2022-01-05T05:57:31.619Z"
   },
   {
    "duration": 707,
    "start_time": "2022-01-05T05:58:32.621Z"
   },
   {
    "duration": 647,
    "start_time": "2022-01-05T05:59:24.075Z"
   },
   {
    "duration": 602,
    "start_time": "2022-01-05T06:00:04.350Z"
   },
   {
    "duration": 659,
    "start_time": "2022-01-05T06:00:11.662Z"
   },
   {
    "duration": 716,
    "start_time": "2022-01-05T06:00:35.825Z"
   },
   {
    "duration": 705,
    "start_time": "2022-01-05T06:00:57.067Z"
   },
   {
    "duration": 632,
    "start_time": "2022-01-05T06:01:05.909Z"
   },
   {
    "duration": 645,
    "start_time": "2022-01-05T06:02:27.083Z"
   },
   {
    "duration": 734,
    "start_time": "2022-01-05T10:55:42.194Z"
   },
   {
    "duration": 706,
    "start_time": "2022-01-05T10:56:03.766Z"
   },
   {
    "duration": 761,
    "start_time": "2022-01-05T10:56:30.617Z"
   },
   {
    "duration": 67,
    "start_time": "2022-01-05T10:56:43.161Z"
   },
   {
    "duration": 774,
    "start_time": "2022-01-05T10:56:49.408Z"
   },
   {
    "duration": 713,
    "start_time": "2022-01-05T10:56:59.404Z"
   },
   {
    "duration": 1270,
    "start_time": "2022-01-05T10:58:56.224Z"
   },
   {
    "duration": 716,
    "start_time": "2022-01-05T11:04:30.355Z"
   },
   {
    "duration": 72,
    "start_time": "2022-01-05T11:04:41.806Z"
   },
   {
    "duration": 764,
    "start_time": "2022-01-05T11:04:48.984Z"
   },
   {
    "duration": 808,
    "start_time": "2022-01-05T11:05:01.363Z"
   },
   {
    "duration": 680,
    "start_time": "2022-01-05T11:05:13.874Z"
   },
   {
    "duration": 736,
    "start_time": "2022-01-05T11:07:01.114Z"
   },
   {
    "duration": 587,
    "start_time": "2022-01-05T11:07:27.358Z"
   },
   {
    "duration": 748,
    "start_time": "2022-01-05T11:07:36.520Z"
   },
   {
    "duration": 799,
    "start_time": "2022-01-05T11:07:58.457Z"
   },
   {
    "duration": 803,
    "start_time": "2022-01-05T11:08:40.596Z"
   },
   {
    "duration": 839,
    "start_time": "2022-01-05T11:09:11.571Z"
   },
   {
    "duration": 833,
    "start_time": "2022-01-05T11:10:02.401Z"
   },
   {
    "duration": 917,
    "start_time": "2022-01-05T11:10:15.394Z"
   },
   {
    "duration": 798,
    "start_time": "2022-01-05T11:11:04.528Z"
   },
   {
    "duration": 760,
    "start_time": "2022-01-05T11:11:39.271Z"
   },
   {
    "duration": 775,
    "start_time": "2022-01-05T11:11:53.272Z"
   },
   {
    "duration": 762,
    "start_time": "2022-01-05T14:19:54.571Z"
   },
   {
    "duration": 778,
    "start_time": "2022-01-05T14:20:06.999Z"
   },
   {
    "duration": 745,
    "start_time": "2022-01-05T14:20:24.075Z"
   },
   {
    "duration": 848,
    "start_time": "2022-01-05T14:21:03.786Z"
   },
   {
    "duration": 650,
    "start_time": "2022-01-05T14:28:33.019Z"
   },
   {
    "duration": 589,
    "start_time": "2022-01-05T14:29:54.389Z"
   },
   {
    "duration": 1205,
    "start_time": "2022-01-05T14:30:11.297Z"
   },
   {
    "duration": 756,
    "start_time": "2022-01-05T14:33:59.198Z"
   },
   {
    "duration": 1004,
    "start_time": "2022-01-05T14:34:18.822Z"
   },
   {
    "duration": 1033,
    "start_time": "2022-01-05T14:36:49.005Z"
   },
   {
    "duration": 1789,
    "start_time": "2022-01-05T14:38:07.925Z"
   },
   {
    "duration": 1167,
    "start_time": "2022-01-05T14:38:40.145Z"
   },
   {
    "duration": 1175,
    "start_time": "2022-01-05T14:39:51.247Z"
   },
   {
    "duration": 1378,
    "start_time": "2022-01-05T14:40:01.743Z"
   },
   {
    "duration": 896,
    "start_time": "2022-01-05T14:40:21.044Z"
   },
   {
    "duration": 964,
    "start_time": "2022-01-05T14:40:27.848Z"
   },
   {
    "duration": 827,
    "start_time": "2022-01-05T14:43:39.412Z"
   },
   {
    "duration": 755,
    "start_time": "2022-01-05T14:44:06.327Z"
   },
   {
    "duration": 646,
    "start_time": "2022-01-05T14:44:38.147Z"
   },
   {
    "duration": 69,
    "start_time": "2022-01-05T14:46:17.445Z"
   },
   {
    "duration": 4,
    "start_time": "2022-01-05T14:46:28.839Z"
   },
   {
    "duration": 788,
    "start_time": "2022-01-05T14:47:02.172Z"
   },
   {
    "duration": 5,
    "start_time": "2022-01-05T14:47:03.507Z"
   },
   {
    "duration": 621,
    "start_time": "2022-01-05T14:47:05.110Z"
   },
   {
    "duration": 329,
    "start_time": "2022-01-05T14:47:09.497Z"
   },
   {
    "duration": 169,
    "start_time": "2022-01-05T14:47:10.859Z"
   },
   {
    "duration": 21,
    "start_time": "2022-01-05T14:47:13.000Z"
   },
   {
    "duration": 674,
    "start_time": "2022-01-05T14:47:14.436Z"
   },
   {
    "duration": 697,
    "start_time": "2022-01-05T14:47:17.226Z"
   },
   {
    "duration": 6,
    "start_time": "2022-01-05T14:50:44.579Z"
   },
   {
    "duration": 4,
    "start_time": "2022-01-05T14:50:59.290Z"
   },
   {
    "duration": 774,
    "start_time": "2022-01-05T15:45:47.408Z"
   },
   {
    "duration": 5,
    "start_time": "2022-01-05T15:48:36.348Z"
   },
   {
    "duration": 1227,
    "start_time": "2022-01-05T15:53:32.637Z"
   },
   {
    "duration": 259,
    "start_time": "2022-01-05T15:53:33.866Z"
   },
   {
    "duration": 14,
    "start_time": "2022-01-05T15:53:34.127Z"
   },
   {
    "duration": 1001,
    "start_time": "2022-01-05T15:53:34.143Z"
   },
   {
    "duration": 1148,
    "start_time": "2022-01-05T15:53:35.145Z"
   },
   {
    "duration": 1214,
    "start_time": "2022-01-05T15:53:36.294Z"
   },
   {
    "duration": 1380,
    "start_time": "2022-01-05T15:53:37.510Z"
   },
   {
    "duration": 1014,
    "start_time": "2022-01-05T15:53:38.892Z"
   },
   {
    "duration": 60,
    "start_time": "2022-01-05T15:53:39.908Z"
   },
   {
    "duration": 18,
    "start_time": "2022-01-05T15:53:39.970Z"
   },
   {
    "duration": 33505,
    "start_time": "2022-01-05T15:53:39.990Z"
   },
   {
    "duration": 2,
    "start_time": "2022-01-05T15:54:13.497Z"
   },
   {
    "duration": 51,
    "start_time": "2022-01-05T15:54:13.500Z"
   },
   {
    "duration": 22900,
    "start_time": "2022-01-05T15:54:13.553Z"
   },
   {
    "duration": 37,
    "start_time": "2022-01-05T15:54:36.454Z"
   },
   {
    "duration": 73,
    "start_time": "2022-01-05T15:54:36.493Z"
   },
   {
    "duration": 592,
    "start_time": "2022-01-05T15:54:36.568Z"
   },
   {
    "duration": 20,
    "start_time": "2022-01-05T15:54:37.162Z"
   },
   {
    "duration": 1271,
    "start_time": "2022-01-05T15:54:37.183Z"
   },
   {
    "duration": 340,
    "start_time": "2022-01-05T15:54:38.455Z"
   },
   {
    "duration": 276,
    "start_time": "2022-01-05T15:54:38.797Z"
   },
   {
    "duration": 3,
    "start_time": "2022-01-05T15:54:39.075Z"
   },
   {
    "duration": 279,
    "start_time": "2022-01-05T15:54:39.081Z"
   },
   {
    "duration": 322,
    "start_time": "2022-01-05T15:54:39.363Z"
   },
   {
    "duration": 105,
    "start_time": "2022-01-05T15:54:39.688Z"
   },
   {
    "duration": 81,
    "start_time": "2022-01-05T15:54:39.794Z"
   },
   {
    "duration": 435,
    "start_time": "2022-01-05T15:54:39.877Z"
   },
   {
    "duration": 65,
    "start_time": "2022-01-05T15:54:40.314Z"
   },
   {
    "duration": 930,
    "start_time": "2022-01-05T15:54:40.381Z"
   },
   {
    "duration": 128,
    "start_time": "2022-01-05T15:54:41.313Z"
   },
   {
    "duration": 48,
    "start_time": "2022-01-05T15:54:41.442Z"
   },
   {
    "duration": 13,
    "start_time": "2022-01-05T15:54:41.491Z"
   },
   {
    "duration": 68,
    "start_time": "2022-01-05T15:54:41.505Z"
   },
   {
    "duration": 644,
    "start_time": "2022-01-05T15:54:41.575Z"
   },
   {
    "duration": 51,
    "start_time": "2022-01-05T15:54:42.221Z"
   },
   {
    "duration": 316,
    "start_time": "2022-01-05T15:54:42.274Z"
   },
   {
    "duration": 301,
    "start_time": "2022-01-05T15:54:42.592Z"
   },
   {
    "duration": 25,
    "start_time": "2022-01-05T15:54:42.895Z"
   },
   {
    "duration": 15,
    "start_time": "2022-01-05T15:54:42.922Z"
   },
   {
    "duration": 23,
    "start_time": "2022-01-05T15:54:42.938Z"
   },
   {
    "duration": 990,
    "start_time": "2022-01-05T15:54:42.963Z"
   },
   {
    "duration": 22,
    "start_time": "2022-01-05T15:54:43.959Z"
   },
   {
    "duration": 36,
    "start_time": "2022-01-05T15:54:43.983Z"
   },
   {
    "duration": 6,
    "start_time": "2022-01-05T15:54:44.020Z"
   },
   {
    "duration": 358,
    "start_time": "2022-01-05T15:54:44.028Z"
   },
   {
    "duration": 255,
    "start_time": "2022-01-05T15:54:44.388Z"
   },
   {
    "duration": 770,
    "start_time": "2022-01-05T15:54:44.645Z"
   },
   {
    "duration": 4,
    "start_time": "2022-01-05T15:54:45.417Z"
   },
   {
    "duration": 783,
    "start_time": "2022-01-05T15:54:45.422Z"
   },
   {
    "duration": 324,
    "start_time": "2022-01-05T15:54:46.207Z"
   },
   {
    "duration": 181,
    "start_time": "2022-01-05T15:54:46.532Z"
   },
   {
    "duration": 21,
    "start_time": "2022-01-05T15:54:46.715Z"
   },
   {
    "duration": 675,
    "start_time": "2022-01-05T15:54:46.738Z"
   },
   {
    "duration": 709,
    "start_time": "2022-01-05T15:54:47.414Z"
   },
   {
    "duration": 35,
    "start_time": "2022-01-05T15:54:48.125Z"
   },
   {
    "duration": 25,
    "start_time": "2022-01-05T15:54:48.162Z"
   },
   {
    "duration": 22,
    "start_time": "2022-01-05T15:54:48.190Z"
   },
   {
    "duration": 459,
    "start_time": "2022-01-05T15:54:48.214Z"
   },
   {
    "duration": 1150,
    "start_time": "2022-01-05T15:54:48.675Z"
   },
   {
    "duration": 522,
    "start_time": "2022-01-05T15:58:50.674Z"
   },
   {
    "duration": 165,
    "start_time": "2022-01-05T15:58:58.844Z"
   },
   {
    "duration": 613,
    "start_time": "2022-01-05T16:12:27.487Z"
   },
   {
    "duration": 655,
    "start_time": "2022-01-05T16:13:11.156Z"
   },
   {
    "duration": 1232,
    "start_time": "2022-01-05T16:40:09.976Z"
   },
   {
    "duration": 278,
    "start_time": "2022-01-05T16:40:11.213Z"
   },
   {
    "duration": 15,
    "start_time": "2022-01-05T16:40:11.493Z"
   },
   {
    "duration": 946,
    "start_time": "2022-01-05T16:40:11.510Z"
   },
   {
    "duration": 1932,
    "start_time": "2022-01-05T16:40:12.458Z"
   },
   {
    "duration": 706,
    "start_time": "2022-01-05T16:40:14.392Z"
   },
   {
    "duration": 1192,
    "start_time": "2022-01-05T16:40:15.100Z"
   },
   {
    "duration": 964,
    "start_time": "2022-01-05T16:40:16.295Z"
   },
   {
    "duration": 63,
    "start_time": "2022-01-05T16:40:17.262Z"
   },
   {
    "duration": 34,
    "start_time": "2022-01-05T16:40:17.327Z"
   },
   {
    "duration": 104782,
    "start_time": "2022-01-05T16:40:17.363Z"
   },
   {
    "duration": 3,
    "start_time": "2022-01-05T16:42:02.146Z"
   },
   {
    "duration": 32,
    "start_time": "2022-01-05T16:42:02.161Z"
   },
   {
    "duration": 1440,
    "start_time": "2022-01-05T16:42:16.241Z"
   },
   {
    "duration": 274,
    "start_time": "2022-01-05T16:42:17.685Z"
   },
   {
    "duration": 15,
    "start_time": "2022-01-05T16:42:17.961Z"
   },
   {
    "duration": 723,
    "start_time": "2022-01-05T16:42:17.978Z"
   },
   {
    "duration": 687,
    "start_time": "2022-01-05T16:42:18.703Z"
   },
   {
    "duration": 649,
    "start_time": "2022-01-05T16:42:19.392Z"
   },
   {
    "duration": 1032,
    "start_time": "2022-01-05T16:42:20.044Z"
   },
   {
    "duration": 668,
    "start_time": "2022-01-05T16:42:21.079Z"
   },
   {
    "duration": 61,
    "start_time": "2022-01-05T16:42:21.749Z"
   },
   {
    "duration": 19,
    "start_time": "2022-01-05T16:42:21.812Z"
   },
   {
    "duration": 29792,
    "start_time": "2022-01-05T16:42:21.833Z"
   },
   {
    "duration": 3,
    "start_time": "2022-01-05T16:42:51.627Z"
   },
   {
    "duration": 44,
    "start_time": "2022-01-05T16:42:51.631Z"
   },
   {
    "duration": 1555,
    "start_time": "2022-01-09T14:50:32.149Z"
   },
   {
    "duration": 445,
    "start_time": "2022-01-09T14:50:33.707Z"
   },
   {
    "duration": 21,
    "start_time": "2022-01-09T14:50:34.158Z"
   },
   {
    "duration": 1155,
    "start_time": "2022-01-09T14:50:34.181Z"
   },
   {
    "duration": 871,
    "start_time": "2022-01-09T14:50:35.339Z"
   },
   {
    "duration": 876,
    "start_time": "2022-01-09T14:50:36.213Z"
   },
   {
    "duration": 1016,
    "start_time": "2022-01-09T14:50:37.094Z"
   },
   {
    "duration": 998,
    "start_time": "2022-01-09T14:50:38.115Z"
   },
   {
    "duration": 107,
    "start_time": "2022-01-09T14:50:39.116Z"
   },
   {
    "duration": 26,
    "start_time": "2022-01-09T14:50:39.225Z"
   },
   {
    "duration": 17722,
    "start_time": "2022-01-09T14:50:39.253Z"
   },
   {
    "duration": 3,
    "start_time": "2022-01-09T14:50:56.977Z"
   },
   {
    "duration": 74,
    "start_time": "2022-01-09T14:50:56.983Z"
   },
   {
    "duration": 11189,
    "start_time": "2022-01-09T14:50:57.059Z"
   },
   {
    "duration": 39,
    "start_time": "2022-01-09T14:51:08.251Z"
   },
   {
    "duration": 125,
    "start_time": "2022-01-09T14:51:08.293Z"
   },
   {
    "duration": 766,
    "start_time": "2022-01-09T14:51:08.423Z"
   },
   {
    "duration": 36,
    "start_time": "2022-01-09T14:51:09.191Z"
   },
   {
    "duration": 1289,
    "start_time": "2022-01-09T14:51:09.230Z"
   },
   {
    "duration": 472,
    "start_time": "2022-01-09T14:51:10.524Z"
   },
   {
    "duration": 381,
    "start_time": "2022-01-09T14:51:10.998Z"
   },
   {
    "duration": 3,
    "start_time": "2022-01-09T14:51:11.385Z"
   },
   {
    "duration": 389,
    "start_time": "2022-01-09T14:51:11.391Z"
   },
   {
    "duration": 392,
    "start_time": "2022-01-09T14:51:11.783Z"
   },
   {
    "duration": 203,
    "start_time": "2022-01-09T14:51:12.179Z"
   },
   {
    "duration": 133,
    "start_time": "2022-01-09T14:51:12.385Z"
   },
   {
    "duration": 835,
    "start_time": "2022-01-09T14:51:12.524Z"
   },
   {
    "duration": 124,
    "start_time": "2022-01-09T14:51:13.362Z"
   },
   {
    "duration": 1642,
    "start_time": "2022-01-09T14:51:13.490Z"
   },
   {
    "duration": 217,
    "start_time": "2022-01-09T14:51:15.135Z"
   },
   {
    "duration": 40,
    "start_time": "2022-01-09T14:51:15.355Z"
   },
   {
    "duration": 40,
    "start_time": "2022-01-09T14:51:15.397Z"
   },
   {
    "duration": 91,
    "start_time": "2022-01-09T14:51:15.439Z"
   },
   {
    "duration": 1041,
    "start_time": "2022-01-09T14:51:15.532Z"
   },
   {
    "duration": 75,
    "start_time": "2022-01-09T14:51:16.576Z"
   },
   {
    "duration": 424,
    "start_time": "2022-01-09T14:51:16.653Z"
   },
   {
    "duration": 579,
    "start_time": "2022-01-09T14:51:17.080Z"
   },
   {
    "duration": 30,
    "start_time": "2022-01-09T14:51:17.662Z"
   },
   {
    "duration": 29,
    "start_time": "2022-01-09T14:51:17.695Z"
   },
   {
    "duration": 15,
    "start_time": "2022-01-09T14:51:17.727Z"
   },
   {
    "duration": 1769,
    "start_time": "2022-01-09T14:51:17.744Z"
   },
   {
    "duration": 40,
    "start_time": "2022-01-09T14:51:19.516Z"
   },
   {
    "duration": 55,
    "start_time": "2022-01-09T14:51:19.558Z"
   },
   {
    "duration": 13,
    "start_time": "2022-01-09T14:51:19.615Z"
   },
   {
    "duration": 465,
    "start_time": "2022-01-09T14:51:19.631Z"
   },
   {
    "duration": 441,
    "start_time": "2022-01-09T14:51:20.099Z"
   },
   {
    "duration": 1715,
    "start_time": "2022-01-09T14:51:20.543Z"
   },
   {
    "duration": 10,
    "start_time": "2022-01-09T14:51:22.261Z"
   },
   {
    "duration": 1276,
    "start_time": "2022-01-09T14:51:22.274Z"
   },
   {
    "duration": 590,
    "start_time": "2022-01-09T14:51:23.553Z"
   },
   {
    "duration": 336,
    "start_time": "2022-01-09T14:51:24.145Z"
   },
   {
    "duration": 43,
    "start_time": "2022-01-09T14:51:24.484Z"
   },
   {
    "duration": 1120,
    "start_time": "2022-01-09T14:51:24.530Z"
   },
   {
    "duration": 1097,
    "start_time": "2022-01-09T14:51:25.653Z"
   },
   {
    "duration": 34,
    "start_time": "2022-01-09T14:51:26.753Z"
   },
   {
    "duration": 57,
    "start_time": "2022-01-09T14:51:26.790Z"
   },
   {
    "duration": 33,
    "start_time": "2022-01-09T14:51:26.849Z"
   },
   {
    "duration": 938,
    "start_time": "2022-01-09T14:51:26.885Z"
   },
   {
    "duration": 2186,
    "start_time": "2022-01-09T14:51:27.825Z"
   }
  ],
  "celltoolbar": "Raw Cell Format",
  "colab": {
   "name": "DA+. Сборный проект 1. Шаблон (1).ipynb",
   "provenance": []
  },
  "kernelspec": {
   "display_name": "Python 3",
   "language": "python",
   "name": "python3"
  },
  "language_info": {
   "codemirror_mode": {
    "name": "ipython",
    "version": 3
   },
   "file_extension": ".py",
   "mimetype": "text/x-python",
   "name": "python",
   "nbconvert_exporter": "python",
   "pygments_lexer": "ipython3",
   "version": "3.7.8"
  },
  "toc": {
   "base_numbering": 1,
   "nav_menu": {},
   "number_sections": false,
   "sideBar": true,
   "skip_h1_title": false,
   "title_cell": "Table of Contents",
   "title_sidebar": "Contents",
   "toc_cell": false,
   "toc_position": {
    "height": "calc(100% - 180px)",
    "left": "10px",
    "top": "150px",
    "width": "323px"
   },
   "toc_section_display": true,
   "toc_window_display": true
  }
 },
 "nbformat": 4,
 "nbformat_minor": 1
}
